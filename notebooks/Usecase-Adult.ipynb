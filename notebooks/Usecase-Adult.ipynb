{
 "cells": [
  {
   "cell_type": "code",
   "execution_count": 77,
   "id": "f0f6ac49",
   "metadata": {},
   "outputs": [],
   "source": [
    "import numpy as np\n",
    "import pandas as pd\n",
    "import seaborn as sns\n",
    "import networkx as nx\n",
    "\n",
    "import sys; sys.path.insert(0, '..') # add parent folder path where discrepancies folder is\n",
    "\n",
    "from discrepancies import datasets, pool, pool2graph, evaluation, discrepancies_intervals, pool2graph_cat_FJ2_2, pool2graph_BootstrapInit, pool2graph_RandomSplit\n",
    "\n",
    "RANDOM_STATE = 42\n",
    "\n",
    "import matplotlib.pyplot as plt\n",
    "%matplotlib inline"
   ]
  },
  {
   "cell_type": "code",
   "execution_count": 87,
   "id": "3f8d9b7e",
   "metadata": {},
   "outputs": [
    {
     "name": "stdout",
     "output_type": "stream",
     "text": [
      "taking only 3000 instances\n",
      "(2010, 96) 0.25024875621890547\n"
     ]
    }
   ],
   "source": [
    "### Get data and fit a pool of classifiers on it\n",
    "\n",
    "#X_train, X_test, yLe_train, y_test, scaler, feature_names, target_names, cat_names = datasets.get_dataset(dataset='adult-cat')\n",
    "X_train, X_test, y_train, y_test, scaler, feature_names, target_names, cat_names = datasets.get_dataset(dataset='adult-cat', test_size=0.33, RANDOM_STATE=None)\n",
    "\n",
    "print(X_train.shape, y_train.mean())\n",
    "cont_names = list(set(feature_names) - set(cat_names))"
   ]
  },
  {
   "cell_type": "code",
   "execution_count": 89,
   "id": "d10b7aaa",
   "metadata": {
    "scrolled": true
   },
   "outputs": [
    {
     "name": "stdout",
     "output_type": "stream",
     "text": [
      "[15:27:08] WARNING: /Users/travis/build/dmlc/xgboost/src/learner.cc:1095: Starting in XGBoost 1.3.0, the default evaluation metric used with the objective 'binary:logistic' was changed from 'error' to 'logloss'. Explicitly set eval_metric if you'd like to restore the old behavior.\n",
      "Accuracies (F1):  {'RF200': 0.6512820512820513, 'XGB': 0.6879271070615034, 'LR': 0.6474820143884892, 'GB': 0.6792452830188679}\n",
      "Discrepancies on train: 0.15323383084577114\n",
      "Discrepancies on test: 0.1383838383838384\n"
     ]
    },
    {
     "ename": "ValueError",
     "evalue": "X.shape[1] = 96 should be equal to 13, the number of features at training time",
     "output_type": "error",
     "traceback": [
      "\u001b[0;31m---------------------------------------------------------------------------\u001b[0m",
      "\u001b[0;31mValueError\u001b[0m                                Traceback (most recent call last)",
      "\u001b[0;32m/var/folders/yk/z4rr9hd95kl7lwp6502rfxcm0000gn/T/ipykernel_14705/3421691718.py\u001b[0m in \u001b[0;36m<module>\u001b[0;34m\u001b[0m\n\u001b[1;32m     16\u001b[0m \u001b[0max\u001b[0m \u001b[0;34m=\u001b[0m \u001b[0mplt\u001b[0m\u001b[0;34m.\u001b[0m\u001b[0mgca\u001b[0m\u001b[0;34m(\u001b[0m\u001b[0;34m)\u001b[0m\u001b[0;34m\u001b[0m\u001b[0;34m\u001b[0m\u001b[0m\n\u001b[1;32m     17\u001b[0m \u001b[0;32mfor\u001b[0m \u001b[0mi\u001b[0m \u001b[0;32min\u001b[0m \u001b[0mclassifiers\u001b[0m\u001b[0;34m:\u001b[0m\u001b[0;34m\u001b[0m\u001b[0;34m\u001b[0m\u001b[0m\n\u001b[0;32m---> 18\u001b[0;31m     \u001b[0mplot_roc_curve\u001b[0m\u001b[0;34m(\u001b[0m\u001b[0mi\u001b[0m\u001b[0;34m,\u001b[0m \u001b[0mX_test\u001b[0m\u001b[0;34m,\u001b[0m \u001b[0my_test\u001b[0m\u001b[0;34m,\u001b[0m \u001b[0max\u001b[0m\u001b[0;34m=\u001b[0m\u001b[0max\u001b[0m\u001b[0;34m)\u001b[0m\u001b[0;34m\u001b[0m\u001b[0;34m\u001b[0m\u001b[0m\n\u001b[0m\u001b[1;32m     19\u001b[0m \u001b[0;34m\u001b[0m\u001b[0m\n\u001b[1;32m     20\u001b[0m \u001b[0;34m\u001b[0m\u001b[0m\n",
      "\u001b[0;32m~/opt/anaconda3/envs/python_env/lib/python3.9/site-packages/sklearn/utils/validation.py\u001b[0m in \u001b[0;36minner_f\u001b[0;34m(*args, **kwargs)\u001b[0m\n\u001b[1;32m     61\u001b[0m             \u001b[0mextra_args\u001b[0m \u001b[0;34m=\u001b[0m \u001b[0mlen\u001b[0m\u001b[0;34m(\u001b[0m\u001b[0margs\u001b[0m\u001b[0;34m)\u001b[0m \u001b[0;34m-\u001b[0m \u001b[0mlen\u001b[0m\u001b[0;34m(\u001b[0m\u001b[0mall_args\u001b[0m\u001b[0;34m)\u001b[0m\u001b[0;34m\u001b[0m\u001b[0;34m\u001b[0m\u001b[0m\n\u001b[1;32m     62\u001b[0m             \u001b[0;32mif\u001b[0m \u001b[0mextra_args\u001b[0m \u001b[0;34m<=\u001b[0m \u001b[0;36m0\u001b[0m\u001b[0;34m:\u001b[0m\u001b[0;34m\u001b[0m\u001b[0;34m\u001b[0m\u001b[0m\n\u001b[0;32m---> 63\u001b[0;31m                 \u001b[0;32mreturn\u001b[0m \u001b[0mf\u001b[0m\u001b[0;34m(\u001b[0m\u001b[0;34m*\u001b[0m\u001b[0margs\u001b[0m\u001b[0;34m,\u001b[0m \u001b[0;34m**\u001b[0m\u001b[0mkwargs\u001b[0m\u001b[0;34m)\u001b[0m\u001b[0;34m\u001b[0m\u001b[0;34m\u001b[0m\u001b[0m\n\u001b[0m\u001b[1;32m     64\u001b[0m \u001b[0;34m\u001b[0m\u001b[0m\n\u001b[1;32m     65\u001b[0m             \u001b[0;31m# extra_args > 0\u001b[0m\u001b[0;34m\u001b[0m\u001b[0;34m\u001b[0m\u001b[0m\n",
      "\u001b[0;32m~/opt/anaconda3/envs/python_env/lib/python3.9/site-packages/sklearn/metrics/_plot/roc_curve.py\u001b[0m in \u001b[0;36mplot_roc_curve\u001b[0;34m(estimator, X, y, sample_weight, drop_intermediate, response_method, name, ax, pos_label, **kwargs)\u001b[0m\n\u001b[1;32m    210\u001b[0m     \u001b[0mcheck_matplotlib_support\u001b[0m\u001b[0;34m(\u001b[0m\u001b[0;34m'plot_roc_curve'\u001b[0m\u001b[0;34m)\u001b[0m\u001b[0;34m\u001b[0m\u001b[0;34m\u001b[0m\u001b[0m\n\u001b[1;32m    211\u001b[0m \u001b[0;34m\u001b[0m\u001b[0m\n\u001b[0;32m--> 212\u001b[0;31m     y_pred, pos_label = _get_response(\n\u001b[0m\u001b[1;32m    213\u001b[0m         X, estimator, response_method, pos_label=pos_label)\n\u001b[1;32m    214\u001b[0m \u001b[0;34m\u001b[0m\u001b[0m\n",
      "\u001b[0;32m~/opt/anaconda3/envs/python_env/lib/python3.9/site-packages/sklearn/metrics/_plot/base.py\u001b[0m in \u001b[0;36m_get_response\u001b[0;34m(X, estimator, response_method, pos_label)\u001b[0m\n\u001b[1;32m     89\u001b[0m         estimator, response_method)\n\u001b[1;32m     90\u001b[0m \u001b[0;34m\u001b[0m\u001b[0m\n\u001b[0;32m---> 91\u001b[0;31m     \u001b[0my_pred\u001b[0m \u001b[0;34m=\u001b[0m \u001b[0mprediction_method\u001b[0m\u001b[0;34m(\u001b[0m\u001b[0mX\u001b[0m\u001b[0;34m)\u001b[0m\u001b[0;34m\u001b[0m\u001b[0;34m\u001b[0m\u001b[0m\n\u001b[0m\u001b[1;32m     92\u001b[0m \u001b[0;34m\u001b[0m\u001b[0m\n\u001b[1;32m     93\u001b[0m     \u001b[0;32mif\u001b[0m \u001b[0mpos_label\u001b[0m \u001b[0;32mis\u001b[0m \u001b[0;32mnot\u001b[0m \u001b[0;32mNone\u001b[0m \u001b[0;32mand\u001b[0m \u001b[0mpos_label\u001b[0m \u001b[0;32mnot\u001b[0m \u001b[0;32min\u001b[0m \u001b[0mestimator\u001b[0m\u001b[0;34m.\u001b[0m\u001b[0mclasses_\u001b[0m\u001b[0;34m:\u001b[0m\u001b[0;34m\u001b[0m\u001b[0;34m\u001b[0m\u001b[0m\n",
      "\u001b[0;32m~/opt/anaconda3/envs/python_env/lib/python3.9/site-packages/sklearn/svm/_base.py\u001b[0m in \u001b[0;36m_predict_proba\u001b[0;34m(self, X)\u001b[0m\n\u001b[1;32m    668\u001b[0m \u001b[0;34m\u001b[0m\u001b[0m\n\u001b[1;32m    669\u001b[0m     \u001b[0;32mdef\u001b[0m \u001b[0m_predict_proba\u001b[0m\u001b[0;34m(\u001b[0m\u001b[0mself\u001b[0m\u001b[0;34m,\u001b[0m \u001b[0mX\u001b[0m\u001b[0;34m)\u001b[0m\u001b[0;34m:\u001b[0m\u001b[0;34m\u001b[0m\u001b[0;34m\u001b[0m\u001b[0m\n\u001b[0;32m--> 670\u001b[0;31m         \u001b[0mX\u001b[0m \u001b[0;34m=\u001b[0m \u001b[0mself\u001b[0m\u001b[0;34m.\u001b[0m\u001b[0m_validate_for_predict\u001b[0m\u001b[0;34m(\u001b[0m\u001b[0mX\u001b[0m\u001b[0;34m)\u001b[0m\u001b[0;34m\u001b[0m\u001b[0;34m\u001b[0m\u001b[0m\n\u001b[0m\u001b[1;32m    671\u001b[0m         \u001b[0;32mif\u001b[0m \u001b[0mself\u001b[0m\u001b[0;34m.\u001b[0m\u001b[0mprobA_\u001b[0m\u001b[0;34m.\u001b[0m\u001b[0msize\u001b[0m \u001b[0;34m==\u001b[0m \u001b[0;36m0\u001b[0m \u001b[0;32mor\u001b[0m \u001b[0mself\u001b[0m\u001b[0;34m.\u001b[0m\u001b[0mprobB_\u001b[0m\u001b[0;34m.\u001b[0m\u001b[0msize\u001b[0m \u001b[0;34m==\u001b[0m \u001b[0;36m0\u001b[0m\u001b[0;34m:\u001b[0m\u001b[0;34m\u001b[0m\u001b[0;34m\u001b[0m\u001b[0m\n\u001b[1;32m    672\u001b[0m             raise NotFittedError(\"predict_proba is not available when fitted \"\n",
      "\u001b[0;32m~/opt/anaconda3/envs/python_env/lib/python3.9/site-packages/sklearn/svm/_base.py\u001b[0m in \u001b[0;36m_validate_for_predict\u001b[0;34m(self, X)\u001b[0m\n\u001b[1;32m    491\u001b[0m                                  (X.shape[1], self.shape_fit_[0]))\n\u001b[1;32m    492\u001b[0m         \u001b[0;32melif\u001b[0m \u001b[0;32mnot\u001b[0m \u001b[0mcallable\u001b[0m\u001b[0;34m(\u001b[0m\u001b[0mself\u001b[0m\u001b[0;34m.\u001b[0m\u001b[0mkernel\u001b[0m\u001b[0;34m)\u001b[0m \u001b[0;32mand\u001b[0m \u001b[0mX\u001b[0m\u001b[0;34m.\u001b[0m\u001b[0mshape\u001b[0m\u001b[0;34m[\u001b[0m\u001b[0;36m1\u001b[0m\u001b[0;34m]\u001b[0m \u001b[0;34m!=\u001b[0m \u001b[0mself\u001b[0m\u001b[0;34m.\u001b[0m\u001b[0mshape_fit_\u001b[0m\u001b[0;34m[\u001b[0m\u001b[0;36m1\u001b[0m\u001b[0;34m]\u001b[0m\u001b[0;34m:\u001b[0m\u001b[0;34m\u001b[0m\u001b[0;34m\u001b[0m\u001b[0m\n\u001b[0;32m--> 493\u001b[0;31m             raise ValueError(\"X.shape[1] = %d should be equal to %d, \"\n\u001b[0m\u001b[1;32m    494\u001b[0m                              \u001b[0;34m\"the number of features at training time\"\u001b[0m \u001b[0;34m%\u001b[0m\u001b[0;34m\u001b[0m\u001b[0;34m\u001b[0m\u001b[0m\n\u001b[1;32m    495\u001b[0m                              (X.shape[1], self.shape_fit_[1]))\n",
      "\u001b[0;31mValueError\u001b[0m: X.shape[1] = 96 should be equal to 13, the number of features at training time"
     ]
    },
    {
     "data": {
      "image/png": "[encoded data removed]",
      "text/plain": [
       "<Figure size 432x288 with 1 Axes>"
      ]
     },
     "metadata": {
      "needs_background": "light"
     },
     "output_type": "display_data"
    }
   ],
   "source": [
    "pool1 = pool.BasicPool()\n",
    "pool1 = pool1.fit(X_train, y_train)\n",
    "pool1 = pool1.filter_accuracies(X_test, y_test, 0.05)\n",
    "\n",
    "preds = pool1.predict(X_test)\n",
    "from sklearn.metrics import f1_score\n",
    "\n",
    "print(\"Accuracies (F1): \", {c: f1_score(y_test, preds[c]) for c in preds.columns})\n",
    "print(\"Discrepancies on train:\", pool1.predict_discrepancies(X_train).mean())\n",
    "print(\"Discrepancies on test:\", pool1.predict_discrepancies(X_test).mean())\n",
    "\n",
    "from sklearn.metrics import plot_precision_recall_curve, plot_roc_curve, plot_confusion_matrix\n",
    "\n",
    "\n",
    "#classifiers = [pool1.models[\"SVMrbf\"], pool1.models[\"XGB\"]]\n",
    "ax = plt.gca()\n",
    "for i in classifiers:\n",
    "    plot_roc_curve(i, X_test, y_test, ax=ax)\n",
    "\n",
    "    \n",
    "#plot_roc_curve(pool1.models[\"SVMrbf\"], X_test, y_test)\n",
    "#plot_roc_curve(pool1.models[\"RF200\"], X_test, y_test)\n",
    "\n",
    "\"\"\"plot_confusion_matrix(classifiers[0], X_test, y_test, normalize='all')\n",
    "plt.show()\n",
    "plot_confusion_matrix(classifiers[1], X_test, y_test, normalize='all')\n",
    "plt.show()\n",
    "\"\"\"\n"
   ]
  },
  {
   "cell_type": "code",
   "execution_count": 90,
   "id": "55882ef0",
   "metadata": {},
   "outputs": [
    {
     "name": "stderr",
     "output_type": "stream",
     "text": [
      "INFO:root:### EPOCH #1\n",
      "INFO:root:### EPOCH #2\n",
      "INFO:root:### EPOCH #3\n",
      "INFO:root:### EPOCH #4\n",
      "INFO:root:### EPOCH #5\n"
     ]
    },
    {
     "name": "stdout",
     "output_type": "stream",
     "text": [
      "6143\n",
      "CPU times: user 13.8 s, sys: 2.93 s, total: 16.7 s\n",
      "Wall time: 2.69 s\n"
     ]
    }
   ],
   "source": [
    "%%time \n",
    "\n",
    "K_INIT = 1\n",
    "MAX_EPOCHS = 5\n",
    "\n",
    "#p2g = pool2graphBorders.pool2graph(X_train, y_train, pool1, k_init=10)\n",
    "p2g = pool2graph.pool2graph(X_train, y_train, pool1, k_init=K_INIT)\n",
    "#p2gR = pool2graph_RandomSplit.pool2graph(X_train, y_train, pool1, k_init=K_INIT)\n",
    "\n",
    "p2g.fit(max_epochs=MAX_EPOCHS)\n",
    "#p2gR.fit(max_epochs=MAX_EPOCHS)\n",
    "print(len(p2g.G.nodes))#, len(p2gR.G.nodes))"
   ]
  },
  {
   "cell_type": "code",
   "execution_count": 91,
   "id": "04a6d08d",
   "metadata": {},
   "outputs": [
    {
     "name": "stdout",
     "output_type": "stream",
     "text": [
      "2705\n"
     ]
    }
   ],
   "source": [
    "from discrepancies import discrepancies_intervals\n",
    "intervals = discrepancies_intervals.get_discrepancies_intervals(p2g.G)\n",
    "print(len(intervals))\n"
   ]
  },
  {
   "cell_type": "code",
   "execution_count": 99,
   "id": "ecaea02d",
   "metadata": {},
   "outputs": [
    {
     "name": "stdout",
     "output_type": "stream",
     "text": [
      "Intervals amplitude dataset (self.amplitude_dataset): shape (2705, 96)\n",
      "Input data preprocessed (self.X): shape (2010, 97)\n",
      "Discrepancy nodes dataset (self.nodes_dataset): shape (1782, 96)\n",
      "Nodes dataset (self.nodes_dataset): shape (6143, 97)\n"
     ]
    }
   ],
   "source": [
    "\n",
    "from discrepancies import analysis_global\n",
    "gda = analysis_global.GlobalDiscrepancyAnalyzer(p2g, pool1, intervals, X_train, cat_names)"
   ]
  },
  {
   "cell_type": "code",
   "execution_count": 108,
   "id": "7050f57e",
   "metadata": {},
   "outputs": [
    {
     "name": "stdout",
     "output_type": "stream",
     "text": [
      "84\n",
      "[186] [1.73205081]\n"
     ]
    }
   ],
   "source": [
    "from sklearn.metrics import pairwise_distances_argmin\n",
    "\n",
    "idx = 219\n",
    "\n",
    "instance = X_test.iloc[idx, :]\n",
    "instance[cat_names] = (instance[cat_names] > 0.0).astype(\"int\")\n",
    "from sklearn.metrics import pairwise_distances_argmin_min\n",
    "\n",
    "idx_closest = pairwise_distances_argmin(instance.values.reshape(1, -1), gda.disc_nodes_dataset)\n",
    "idx_closest = gda.disc_nodes_dataset.iloc[idx_closest].index\n",
    "print((instance[cat_names] == gda.disc_nodes_dataset[cat_names].loc[idx_closest, :]).sum().sum())\n",
    "\n",
    "##on tente ici de faire filtre categorielles\n",
    "idx_closest, min_ = pairwise_distances_argmin_min(instance[cat_names].values.reshape(1, -1), gda.disc_nodes_dataset[cat_names])\n",
    "print(idx_closest, min_)\n",
    "idx_closest = gda.disc_nodes_dataset.iloc[idx_closest].index\n",
    "\n",
    "for ci in intervals:\n",
    "    if idx_closest in list(ci.border_features.index):\n",
    "        interval_relevant = ci.border_features\n",
    "        break"
   ]
  },
  {
   "cell_type": "code",
   "execution_count": 109,
   "id": "e9cd1275",
   "metadata": {},
   "outputs": [
    {
     "name": "stdout",
     "output_type": "stream",
     "text": [
      "0\n",
      "capital-gain\n",
      "0.0\n",
      "1\n",
      "capital-loss\n",
      "0.0\n",
      "2\n",
      "age\n",
      "-0.7263974112879139\n",
      "3\n",
      "education-num\n",
      "-0.3848715240436934\n",
      "4\n",
      "hours-per-week\n",
      "2.9826089406684924\n"
     ]
    },
    {
     "data": {
      "image/png": "[encoded data removed]",
      "text/plain": [
       "<Figure size 640x480 with 2 Axes>"
      ]
     },
     "metadata": {},
     "output_type": "display_data"
    }
   ],
   "source": [
    "interval_to_plot = pd.DataFrame(scaler.inverse_transform(interval_relevant))\n",
    "interval_to_plot.columns = X_train.columns\n",
    "amplitude = pd.DataFrame(interval_to_plot.iloc[0, :] - interval_to_plot.iloc[1, :])\n",
    "amplitude_normalized = interval_relevant.iloc[0, :] - interval_relevant.iloc[1, :]\n",
    "\n",
    "interval_relevant2 = interval_relevant - instance\n",
    "\n",
    "instance_orig_space = pd.DataFrame(scaler.inverse_transform(instance).reshape(1, -1))\n",
    "instance_orig_space.columns = X_train.columns\n",
    "\n",
    "\n",
    "\n",
    "\n",
    "fig, (ax1, ax2) = plt.subplots(1,2)\n",
    "for i in range(len(cont_names)):\n",
    "    print(i)\n",
    "    print(cont_names[i])\n",
    "    print(float(interval_relevant2.min()[cont_names[i]]))\n",
    "    ax1.barh(y=i,left=float(interval_relevant2.min()[cont_names[i]]), height=1.1, width=float(amplitude_normalized[cont_names[i]]), color=\"orange\")\n",
    "    ax1.text(x=-3, y=i, s=10)\n",
    "ax1.set_yticks(ticks=range(len(cont_names)))   \n",
    "contlabels = cont_names\n",
    "ax1.set_yticklabels(labels=contlabels)\n",
    "ax1.vlines(x=0, ymin=-0.5, ymax = i+0.5, color='red')\n",
    "\n",
    "ax2.table(np.array(list(zip(cat_names, instance[cat_names]))).reshape(-1, 2), loc=\"center\", fontsize=100)\n",
    "ax2.axis(\"off\")\n",
    "plt.show()"
   ]
  },
  {
   "cell_type": "code",
   "execution_count": 110,
   "id": "ffb01639",
   "metadata": {},
   "outputs": [
    {
     "ename": "NameError",
     "evalue": "name 'get_discrepancy_intervals_from_x' is not defined",
     "output_type": "error",
     "traceback": [
      "\u001b[0;31m---------------------------------------------------------------------------\u001b[0m",
      "\u001b[0;31mNameError\u001b[0m                                 Traceback (most recent call last)",
      "\u001b[0;32m/var/folders/yk/z4rr9hd95kl7lwp6502rfxcm0000gn/T/ipykernel_14705/3301272972.py\u001b[0m in \u001b[0;36m<module>\u001b[0;34m\u001b[0m\n\u001b[1;32m      5\u001b[0m \u001b[0mk\u001b[0m \u001b[0;34m=\u001b[0m \u001b[0;36m1\u001b[0m\u001b[0;34m\u001b[0m\u001b[0;34m\u001b[0m\u001b[0m\n\u001b[1;32m      6\u001b[0m \u001b[0;34m\u001b[0m\u001b[0m\n\u001b[0;32m----> 7\u001b[0;31m \u001b[0mborders\u001b[0m\u001b[0;34m,\u001b[0m \u001b[0mtrain\u001b[0m \u001b[0;34m=\u001b[0m \u001b[0mget_discrepancy_intervals_from_x\u001b[0m\u001b[0;34m(\u001b[0m\u001b[0mp2g\u001b[0m\u001b[0;34m.\u001b[0m\u001b[0mG\u001b[0m\u001b[0;34m,\u001b[0m \u001b[0mx\u001b[0m\u001b[0;34m,\u001b[0m \u001b[0mk\u001b[0m\u001b[0;34m=\u001b[0m\u001b[0mk\u001b[0m\u001b[0;34m)\u001b[0m\u001b[0;34m\u001b[0m\u001b[0;34m\u001b[0m\u001b[0m\n\u001b[0m\u001b[1;32m      8\u001b[0m \u001b[0;31m#fi = borders[1]\u001b[0m\u001b[0;34m\u001b[0m\u001b[0;34m\u001b[0m\u001b[0m\n\u001b[1;32m      9\u001b[0m \u001b[0mfi\u001b[0m \u001b[0;34m=\u001b[0m \u001b[0;34m{\u001b[0m\u001b[0;34m}\u001b[0m\u001b[0;34m\u001b[0m\u001b[0;34m\u001b[0m\u001b[0m\n",
      "\u001b[0;31mNameError\u001b[0m: name 'get_discrepancy_intervals_from_x' is not defined"
     ]
    }
   ],
   "source": [
    "def normalize(x):\n",
    "    return ((x-X_test[cont_names].min())/(X_test[cont_names].max()-X_test[cont_names].min()))\n",
    "\n",
    "x = X_test.iloc[0]\n",
    "k = 1\n",
    "\n",
    "borders, train = get_discrepancy_intervals_from_x(p2g.G, x, k=k)\n",
    "#fi = borders[1]\n",
    "fi = {}\n",
    "for interval in range(k):\n",
    "    fi[interval] = borders[interval].iloc[1,:]\n",
    "    fi[-(k+1)] = borders[interval].iloc[0,:]\n",
    "fi = pd.DataFrame(fi).T\n",
    "\n",
    "tmp = normalize(fi.max())"
   ]
  },
  {
   "cell_type": "code",
   "execution_count": null,
   "id": "17ce481d",
   "metadata": {},
   "outputs": [],
   "source": []
  },
  {
   "cell_type": "code",
   "execution_count": null,
   "id": "f41ab034",
   "metadata": {},
   "outputs": [],
   "source": []
  },
  {
   "cell_type": "code",
   "execution_count": null,
   "id": "72468bd1",
   "metadata": {},
   "outputs": [],
   "source": []
  },
  {
   "cell_type": "code",
   "execution_count": null,
   "id": "4778144c",
   "metadata": {},
   "outputs": [],
   "source": []
  },
  {
   "cell_type": "markdown",
   "id": "e1fef40f",
   "metadata": {},
   "source": [
    "# Comparing dichotomic and random split"
   ]
  },
  {
   "cell_type": "code",
   "execution_count": 72,
   "id": "1e1c9e9c",
   "metadata": {
    "scrolled": true
   },
   "outputs": [
    {
     "name": "stdout",
     "output_type": "stream",
     "text": [
      ">>>>>>>>>>>>>>>>>> ITERATION 0\n",
      "[14:56:21] WARNING: /Users/travis/build/dmlc/xgboost/src/learner.cc:1095: Starting in XGBoost 1.3.0, the default evaluation metric used with the objective 'binary:logistic' was changed from 'error' to 'logloss'. Explicitly set eval_metric if you'd like to restore the old behavior.\n",
      "============K 1\n",
      "====EP 0\n",
      "====EP 1\n"
     ]
    },
    {
     "name": "stderr",
     "output_type": "stream",
     "text": [
      "INFO:root:### EPOCH #1\n",
      "INFO:root:### EPOCH #1\n"
     ]
    },
    {
     "name": "stdout",
     "output_type": "stream",
     "text": [
      "====EP 2\n"
     ]
    },
    {
     "name": "stderr",
     "output_type": "stream",
     "text": [
      "INFO:root:### EPOCH #1\n",
      "INFO:root:### EPOCH #2\n",
      "INFO:root:### EPOCH #1\n",
      "INFO:root:### EPOCH #2\n"
     ]
    },
    {
     "name": "stdout",
     "output_type": "stream",
     "text": [
      "====EP 3\n"
     ]
    },
    {
     "name": "stderr",
     "output_type": "stream",
     "text": [
      "INFO:root:### EPOCH #1\n",
      "INFO:root:### EPOCH #2\n",
      "INFO:root:### EPOCH #3\n",
      "INFO:root:### EPOCH #1\n",
      "INFO:root:### EPOCH #2\n",
      "INFO:root:### EPOCH #3\n"
     ]
    },
    {
     "name": "stdout",
     "output_type": "stream",
     "text": [
      "====EP 4\n"
     ]
    },
    {
     "name": "stderr",
     "output_type": "stream",
     "text": [
      "INFO:root:### EPOCH #1\n",
      "INFO:root:### EPOCH #2\n",
      "INFO:root:### EPOCH #3\n",
      "INFO:root:### EPOCH #4\n",
      "INFO:root:### EPOCH #1\n",
      "INFO:root:### EPOCH #2\n",
      "INFO:root:### EPOCH #3\n",
      "INFO:root:### EPOCH #4\n"
     ]
    },
    {
     "name": "stdout",
     "output_type": "stream",
     "text": [
      "====EP 5\n"
     ]
    },
    {
     "name": "stderr",
     "output_type": "stream",
     "text": [
      "INFO:root:### EPOCH #1\n",
      "INFO:root:### EPOCH #2\n",
      "INFO:root:### EPOCH #3\n",
      "INFO:root:### EPOCH #4\n",
      "INFO:root:### EPOCH #5\n",
      "INFO:root:### EPOCH #1\n",
      "INFO:root:### EPOCH #2\n",
      "INFO:root:### EPOCH #3\n",
      "INFO:root:### EPOCH #4\n",
      "INFO:root:### EPOCH #5\n"
     ]
    },
    {
     "name": "stdout",
     "output_type": "stream",
     "text": [
      "====EP 6\n"
     ]
    },
    {
     "name": "stderr",
     "output_type": "stream",
     "text": [
      "INFO:root:### EPOCH #1\n",
      "INFO:root:### EPOCH #2\n",
      "INFO:root:### EPOCH #3\n",
      "INFO:root:### EPOCH #4\n",
      "INFO:root:### EPOCH #5\n",
      "INFO:root:### EPOCH #6\n",
      "INFO:root:### EPOCH #1\n",
      "INFO:root:### EPOCH #2\n",
      "INFO:root:### EPOCH #3\n",
      "INFO:root:### EPOCH #4\n",
      "INFO:root:### EPOCH #5\n",
      "INFO:root:### EPOCH #6\n"
     ]
    },
    {
     "name": "stdout",
     "output_type": "stream",
     "text": [
      "====EP 7\n"
     ]
    },
    {
     "name": "stderr",
     "output_type": "stream",
     "text": [
      "INFO:root:### EPOCH #1\n",
      "INFO:root:### EPOCH #2\n",
      "INFO:root:### EPOCH #3\n",
      "INFO:root:### EPOCH #4\n",
      "INFO:root:### EPOCH #5\n",
      "INFO:root:### EPOCH #6\n",
      "INFO:root:### EPOCH #7\n",
      "INFO:root:### EPOCH #1\n",
      "INFO:root:### EPOCH #2\n",
      "INFO:root:### EPOCH #3\n",
      "INFO:root:### EPOCH #4\n",
      "INFO:root:### EPOCH #5\n",
      "INFO:root:### EPOCH #6\n",
      "INFO:root:### EPOCH #7\n"
     ]
    },
    {
     "name": "stdout",
     "output_type": "stream",
     "text": [
      "====EP 8\n"
     ]
    },
    {
     "name": "stderr",
     "output_type": "stream",
     "text": [
      "INFO:root:### EPOCH #1\n",
      "INFO:root:### EPOCH #2\n",
      "INFO:root:### EPOCH #3\n",
      "INFO:root:### EPOCH #4\n",
      "INFO:root:### EPOCH #5\n",
      "INFO:root:### EPOCH #6\n",
      "INFO:root:### EPOCH #7\n",
      "INFO:root:### EPOCH #8\n",
      "INFO:root:### EPOCH #1\n",
      "INFO:root:### EPOCH #2\n",
      "INFO:root:### EPOCH #3\n",
      "INFO:root:### EPOCH #4\n",
      "INFO:root:### EPOCH #5\n",
      "INFO:root:### EPOCH #6\n",
      "INFO:root:### EPOCH #7\n",
      "INFO:root:### EPOCH #8\n"
     ]
    },
    {
     "name": "stdout",
     "output_type": "stream",
     "text": [
      "====EP 9\n"
     ]
    },
    {
     "name": "stderr",
     "output_type": "stream",
     "text": [
      "INFO:root:### EPOCH #1\n",
      "INFO:root:### EPOCH #2\n",
      "INFO:root:### EPOCH #3\n",
      "INFO:root:### EPOCH #4\n",
      "INFO:root:### EPOCH #5\n",
      "INFO:root:### EPOCH #6\n",
      "INFO:root:### EPOCH #7\n",
      "INFO:root:### EPOCH #8\n",
      "INFO:root:### EPOCH #9\n",
      "INFO:root:### EPOCH #1\n",
      "INFO:root:### EPOCH #2\n",
      "INFO:root:### EPOCH #3\n",
      "INFO:root:### EPOCH #4\n",
      "INFO:root:### EPOCH #5\n",
      "INFO:root:### EPOCH #6\n",
      "INFO:root:### EPOCH #7\n",
      "INFO:root:### EPOCH #8\n",
      "INFO:root:### EPOCH #9\n"
     ]
    },
    {
     "name": "stdout",
     "output_type": "stream",
     "text": [
      "====EP 10\n"
     ]
    },
    {
     "name": "stderr",
     "output_type": "stream",
     "text": [
      "INFO:root:### EPOCH #1\n",
      "INFO:root:### EPOCH #2\n",
      "INFO:root:### EPOCH #3\n",
      "INFO:root:### EPOCH #4\n",
      "INFO:root:### EPOCH #5\n",
      "INFO:root:### EPOCH #6\n",
      "INFO:root:### EPOCH #7\n",
      "INFO:root:### EPOCH #8\n",
      "INFO:root:### EPOCH #9\n",
      "INFO:root:### EPOCH #10\n",
      "INFO:root:### EPOCH #1\n",
      "INFO:root:### EPOCH #2\n",
      "INFO:root:### EPOCH #3\n",
      "INFO:root:### EPOCH #4\n",
      "INFO:root:### EPOCH #5\n",
      "INFO:root:### EPOCH #6\n",
      "INFO:root:### EPOCH #7\n",
      "INFO:root:### EPOCH #8\n",
      "INFO:root:### EPOCH #9\n",
      "INFO:root:### EPOCH #10\n"
     ]
    },
    {
     "name": "stdout",
     "output_type": "stream",
     "text": [
      "====EP 11\n"
     ]
    },
    {
     "name": "stderr",
     "output_type": "stream",
     "text": [
      "INFO:root:### EPOCH #1\n",
      "INFO:root:### EPOCH #2\n",
      "INFO:root:### EPOCH #3\n",
      "INFO:root:### EPOCH #4\n",
      "INFO:root:### EPOCH #5\n",
      "INFO:root:### EPOCH #6\n",
      "INFO:root:### EPOCH #7\n",
      "INFO:root:### EPOCH #8\n",
      "INFO:root:### EPOCH #9\n",
      "INFO:root:### EPOCH #10\n",
      "INFO:root:### EPOCH #11\n"
     ]
    },
    {
     "name": "stdout",
     "output_type": "stream",
     "text": [
      "====EP 12\n"
     ]
    },
    {
     "name": "stderr",
     "output_type": "stream",
     "text": [
      "INFO:root:### EPOCH #1\n",
      "INFO:root:### EPOCH #2\n",
      "INFO:root:### EPOCH #3\n",
      "INFO:root:### EPOCH #4\n",
      "INFO:root:### EPOCH #5\n",
      "INFO:root:### EPOCH #6\n",
      "INFO:root:### EPOCH #7\n",
      "INFO:root:### EPOCH #8\n",
      "INFO:root:### EPOCH #9\n",
      "INFO:root:### EPOCH #10\n",
      "INFO:root:### EPOCH #11\n",
      "INFO:root:### EPOCH #12\n"
     ]
    },
    {
     "name": "stdout",
     "output_type": "stream",
     "text": [
      "====EP 13\n"
     ]
    },
    {
     "name": "stderr",
     "output_type": "stream",
     "text": [
      "INFO:root:### EPOCH #1\n",
      "INFO:root:### EPOCH #2\n",
      "INFO:root:### EPOCH #3\n",
      "INFO:root:### EPOCH #4\n",
      "INFO:root:### EPOCH #5\n",
      "INFO:root:### EPOCH #6\n",
      "INFO:root:### EPOCH #7\n",
      "INFO:root:### EPOCH #8\n",
      "INFO:root:### EPOCH #9\n",
      "INFO:root:### EPOCH #10\n",
      "INFO:root:### EPOCH #11\n",
      "INFO:root:### EPOCH #12\n",
      "INFO:root:### EPOCH #13\n"
     ]
    },
    {
     "name": "stdout",
     "output_type": "stream",
     "text": [
      "====EP 14\n"
     ]
    },
    {
     "name": "stderr",
     "output_type": "stream",
     "text": [
      "INFO:root:### EPOCH #1\n",
      "INFO:root:### EPOCH #2\n",
      "INFO:root:### EPOCH #3\n",
      "INFO:root:### EPOCH #4\n",
      "INFO:root:### EPOCH #5\n",
      "INFO:root:### EPOCH #6\n",
      "INFO:root:### EPOCH #7\n",
      "INFO:root:### EPOCH #8\n",
      "INFO:root:### EPOCH #9\n",
      "INFO:root:### EPOCH #10\n",
      "INFO:root:### EPOCH #11\n",
      "INFO:root:### EPOCH #12\n",
      "INFO:root:### EPOCH #13\n",
      "INFO:root:### EPOCH #14\n"
     ]
    },
    {
     "name": "stdout",
     "output_type": "stream",
     "text": [
      "====EP 15\n"
     ]
    },
    {
     "name": "stderr",
     "output_type": "stream",
     "text": [
      "INFO:root:### EPOCH #1\n",
      "INFO:root:### EPOCH #2\n",
      "INFO:root:### EPOCH #3\n",
      "INFO:root:### EPOCH #4\n",
      "INFO:root:### EPOCH #5\n",
      "INFO:root:### EPOCH #6\n",
      "INFO:root:### EPOCH #7\n",
      "INFO:root:### EPOCH #8\n",
      "INFO:root:### EPOCH #9\n",
      "INFO:root:### EPOCH #10\n",
      "INFO:root:### EPOCH #11\n",
      "INFO:root:### EPOCH #12\n",
      "INFO:root:### EPOCH #13\n",
      "INFO:root:### EPOCH #14\n",
      "INFO:root:### EPOCH #15\n"
     ]
    },
    {
     "name": "stdout",
     "output_type": "stream",
     "text": [
      "====EP 16\n"
     ]
    },
    {
     "name": "stderr",
     "output_type": "stream",
     "text": [
      "INFO:root:### EPOCH #1\n",
      "INFO:root:### EPOCH #2\n",
      "INFO:root:### EPOCH #3\n",
      "INFO:root:### EPOCH #4\n",
      "INFO:root:### EPOCH #5\n",
      "INFO:root:### EPOCH #6\n",
      "INFO:root:### EPOCH #7\n",
      "INFO:root:### EPOCH #8\n",
      "INFO:root:### EPOCH #9\n",
      "INFO:root:### EPOCH #10\n",
      "INFO:root:### EPOCH #11\n",
      "INFO:root:### EPOCH #12\n",
      "INFO:root:### EPOCH #13\n",
      "INFO:root:### EPOCH #14\n",
      "INFO:root:### EPOCH #15\n",
      "INFO:root:### EPOCH #16\n"
     ]
    },
    {
     "name": "stdout",
     "output_type": "stream",
     "text": [
      "====EP 17\n"
     ]
    },
    {
     "name": "stderr",
     "output_type": "stream",
     "text": [
      "INFO:root:### EPOCH #1\n",
      "INFO:root:### EPOCH #2\n",
      "INFO:root:### EPOCH #3\n",
      "INFO:root:### EPOCH #4\n",
      "INFO:root:### EPOCH #5\n",
      "INFO:root:### EPOCH #6\n",
      "INFO:root:### EPOCH #7\n",
      "INFO:root:### EPOCH #8\n",
      "INFO:root:### EPOCH #9\n",
      "INFO:root:### EPOCH #10\n",
      "INFO:root:### EPOCH #11\n",
      "INFO:root:### EPOCH #12\n",
      "INFO:root:### EPOCH #13\n",
      "INFO:root:### EPOCH #14\n",
      "INFO:root:### EPOCH #15\n",
      "INFO:root:### EPOCH #16\n",
      "INFO:root:### EPOCH #17\n"
     ]
    },
    {
     "name": "stdout",
     "output_type": "stream",
     "text": [
      "====EP 18\n"
     ]
    },
    {
     "name": "stderr",
     "output_type": "stream",
     "text": [
      "INFO:root:### EPOCH #1\n",
      "INFO:root:### EPOCH #2\n",
      "INFO:root:### EPOCH #3\n",
      "INFO:root:### EPOCH #4\n",
      "INFO:root:### EPOCH #5\n",
      "INFO:root:### EPOCH #6\n",
      "INFO:root:### EPOCH #7\n",
      "INFO:root:### EPOCH #8\n",
      "INFO:root:### EPOCH #9\n",
      "INFO:root:### EPOCH #10\n",
      "INFO:root:### EPOCH #11\n",
      "INFO:root:### EPOCH #12\n",
      "INFO:root:### EPOCH #13\n",
      "INFO:root:### EPOCH #14\n",
      "INFO:root:### EPOCH #15\n",
      "INFO:root:### EPOCH #16\n",
      "INFO:root:### EPOCH #17\n",
      "INFO:root:### EPOCH #18\n"
     ]
    },
    {
     "name": "stdout",
     "output_type": "stream",
     "text": [
      "====EP 19\n"
     ]
    },
    {
     "name": "stderr",
     "output_type": "stream",
     "text": [
      "INFO:root:### EPOCH #1\n",
      "INFO:root:### EPOCH #2\n",
      "INFO:root:### EPOCH #3\n",
      "INFO:root:### EPOCH #4\n",
      "INFO:root:### EPOCH #5\n",
      "INFO:root:### EPOCH #6\n",
      "INFO:root:### EPOCH #7\n",
      "INFO:root:### EPOCH #8\n",
      "INFO:root:### EPOCH #9\n",
      "INFO:root:### EPOCH #10\n",
      "INFO:root:### EPOCH #11\n",
      "INFO:root:### EPOCH #12\n",
      "INFO:root:### EPOCH #13\n",
      "INFO:root:### EPOCH #14\n",
      "INFO:root:### EPOCH #15\n",
      "INFO:root:### EPOCH #16\n",
      "INFO:root:### EPOCH #17\n",
      "INFO:root:### EPOCH #18\n",
      "INFO:root:### EPOCH #19\n"
     ]
    },
    {
     "name": "stdout",
     "output_type": "stream",
     "text": [
      "====EP 20\n"
     ]
    },
    {
     "name": "stderr",
     "output_type": "stream",
     "text": [
      "INFO:root:### EPOCH #1\n",
      "INFO:root:### EPOCH #2\n",
      "INFO:root:### EPOCH #3\n",
      "INFO:root:### EPOCH #4\n",
      "INFO:root:### EPOCH #5\n",
      "INFO:root:### EPOCH #6\n",
      "INFO:root:### EPOCH #7\n",
      "INFO:root:### EPOCH #8\n",
      "INFO:root:### EPOCH #9\n",
      "INFO:root:### EPOCH #10\n",
      "INFO:root:### EPOCH #11\n",
      "INFO:root:### EPOCH #12\n",
      "INFO:root:### EPOCH #13\n",
      "INFO:root:### EPOCH #14\n",
      "INFO:root:### EPOCH #15\n",
      "INFO:root:### EPOCH #16\n",
      "INFO:root:### EPOCH #17\n",
      "INFO:root:### EPOCH #18\n",
      "INFO:root:### EPOCH #19\n",
      "INFO:root:### EPOCH #20\n"
     ]
    },
    {
     "name": "stdout",
     "output_type": "stream",
     "text": [
      "====EP 21\n"
     ]
    },
    {
     "name": "stderr",
     "output_type": "stream",
     "text": [
      "INFO:root:### EPOCH #1\n",
      "INFO:root:### EPOCH #2\n",
      "INFO:root:### EPOCH #3\n",
      "INFO:root:### EPOCH #4\n",
      "INFO:root:### EPOCH #5\n",
      "INFO:root:### EPOCH #6\n",
      "INFO:root:### EPOCH #7\n",
      "INFO:root:### EPOCH #8\n",
      "INFO:root:### EPOCH #9\n",
      "INFO:root:### EPOCH #10\n",
      "INFO:root:### EPOCH #11\n",
      "INFO:root:### EPOCH #12\n",
      "INFO:root:### EPOCH #13\n",
      "INFO:root:### EPOCH #14\n",
      "INFO:root:### EPOCH #15\n",
      "INFO:root:### EPOCH #16\n",
      "INFO:root:### EPOCH #17\n",
      "INFO:root:### EPOCH #18\n",
      "INFO:root:### EPOCH #19\n",
      "INFO:root:### EPOCH #20\n",
      "INFO:root:### EPOCH #21\n"
     ]
    },
    {
     "name": "stdout",
     "output_type": "stream",
     "text": [
      "====EP 22\n"
     ]
    },
    {
     "name": "stderr",
     "output_type": "stream",
     "text": [
      "INFO:root:### EPOCH #1\n",
      "INFO:root:### EPOCH #2\n",
      "INFO:root:### EPOCH #3\n",
      "INFO:root:### EPOCH #4\n",
      "INFO:root:### EPOCH #5\n",
      "INFO:root:### EPOCH #6\n",
      "INFO:root:### EPOCH #7\n",
      "INFO:root:### EPOCH #8\n",
      "INFO:root:### EPOCH #9\n",
      "INFO:root:### EPOCH #10\n",
      "INFO:root:### EPOCH #11\n",
      "INFO:root:### EPOCH #12\n",
      "INFO:root:### EPOCH #13\n",
      "INFO:root:### EPOCH #14\n",
      "INFO:root:### EPOCH #15\n",
      "INFO:root:### EPOCH #16\n",
      "INFO:root:### EPOCH #17\n",
      "INFO:root:### EPOCH #18\n",
      "INFO:root:### EPOCH #19\n",
      "INFO:root:### EPOCH #20\n",
      "INFO:root:### EPOCH #21\n",
      "INFO:root:### EPOCH #22\n"
     ]
    },
    {
     "name": "stdout",
     "output_type": "stream",
     "text": [
      "====EP 23\n"
     ]
    },
    {
     "name": "stderr",
     "output_type": "stream",
     "text": [
      "INFO:root:### EPOCH #1\n",
      "INFO:root:### EPOCH #2\n",
      "INFO:root:### EPOCH #3\n",
      "INFO:root:### EPOCH #4\n",
      "INFO:root:### EPOCH #5\n",
      "INFO:root:### EPOCH #6\n",
      "INFO:root:### EPOCH #7\n",
      "INFO:root:### EPOCH #8\n",
      "INFO:root:### EPOCH #9\n",
      "INFO:root:### EPOCH #10\n",
      "INFO:root:### EPOCH #11\n",
      "INFO:root:### EPOCH #12\n",
      "INFO:root:### EPOCH #13\n",
      "INFO:root:### EPOCH #14\n",
      "INFO:root:### EPOCH #15\n",
      "INFO:root:### EPOCH #16\n",
      "INFO:root:### EPOCH #17\n",
      "INFO:root:### EPOCH #18\n",
      "INFO:root:### EPOCH #19\n",
      "INFO:root:### EPOCH #20\n",
      "INFO:root:### EPOCH #21\n",
      "INFO:root:### EPOCH #22\n",
      "INFO:root:### EPOCH #23\n"
     ]
    },
    {
     "name": "stdout",
     "output_type": "stream",
     "text": [
      "====EP 24\n"
     ]
    },
    {
     "name": "stderr",
     "output_type": "stream",
     "text": [
      "INFO:root:### EPOCH #1\n",
      "INFO:root:### EPOCH #2\n",
      "INFO:root:### EPOCH #3\n",
      "INFO:root:### EPOCH #4\n",
      "INFO:root:### EPOCH #5\n",
      "INFO:root:### EPOCH #6\n",
      "INFO:root:### EPOCH #7\n",
      "INFO:root:### EPOCH #8\n",
      "INFO:root:### EPOCH #9\n",
      "INFO:root:### EPOCH #10\n",
      "INFO:root:### EPOCH #11\n",
      "INFO:root:### EPOCH #12\n",
      "INFO:root:### EPOCH #13\n",
      "INFO:root:### EPOCH #14\n",
      "INFO:root:### EPOCH #15\n",
      "INFO:root:### EPOCH #16\n",
      "INFO:root:### EPOCH #17\n",
      "INFO:root:### EPOCH #18\n",
      "INFO:root:### EPOCH #19\n",
      "INFO:root:### EPOCH #20\n",
      "INFO:root:### EPOCH #21\n",
      "INFO:root:### EPOCH #22\n",
      "INFO:root:### EPOCH #23\n",
      "INFO:root:### EPOCH #24\n"
     ]
    },
    {
     "name": "stdout",
     "output_type": "stream",
     "text": [
      "====EP 25\n"
     ]
    },
    {
     "name": "stderr",
     "output_type": "stream",
     "text": [
      "INFO:root:### EPOCH #1\n",
      "INFO:root:### EPOCH #2\n",
      "INFO:root:### EPOCH #3\n",
      "INFO:root:### EPOCH #4\n",
      "INFO:root:### EPOCH #5\n",
      "INFO:root:### EPOCH #6\n",
      "INFO:root:### EPOCH #7\n",
      "INFO:root:### EPOCH #8\n",
      "INFO:root:### EPOCH #9\n",
      "INFO:root:### EPOCH #10\n",
      "INFO:root:### EPOCH #11\n",
      "INFO:root:### EPOCH #12\n",
      "INFO:root:### EPOCH #13\n",
      "INFO:root:### EPOCH #14\n",
      "INFO:root:### EPOCH #15\n",
      "INFO:root:### EPOCH #16\n",
      "INFO:root:### EPOCH #17\n",
      "INFO:root:### EPOCH #18\n",
      "INFO:root:### EPOCH #19\n",
      "INFO:root:### EPOCH #20\n",
      "INFO:root:### EPOCH #21\n",
      "INFO:root:### EPOCH #22\n",
      "INFO:root:### EPOCH #23\n",
      "INFO:root:### EPOCH #24\n",
      "INFO:root:### EPOCH #25\n"
     ]
    },
    {
     "name": "stdout",
     "output_type": "stream",
     "text": [
      "====EP 26\n"
     ]
    },
    {
     "name": "stderr",
     "output_type": "stream",
     "text": [
      "INFO:root:### EPOCH #1\n",
      "INFO:root:### EPOCH #2\n",
      "INFO:root:### EPOCH #3\n",
      "INFO:root:### EPOCH #4\n",
      "INFO:root:### EPOCH #5\n",
      "INFO:root:### EPOCH #6\n",
      "INFO:root:### EPOCH #7\n",
      "INFO:root:### EPOCH #8\n",
      "INFO:root:### EPOCH #9\n",
      "INFO:root:### EPOCH #10\n",
      "INFO:root:### EPOCH #11\n",
      "INFO:root:### EPOCH #12\n",
      "INFO:root:### EPOCH #13\n",
      "INFO:root:### EPOCH #14\n",
      "INFO:root:### EPOCH #15\n",
      "INFO:root:### EPOCH #16\n",
      "INFO:root:### EPOCH #17\n",
      "INFO:root:### EPOCH #18\n",
      "INFO:root:### EPOCH #19\n",
      "INFO:root:### EPOCH #20\n",
      "INFO:root:### EPOCH #21\n",
      "INFO:root:### EPOCH #22\n",
      "INFO:root:### EPOCH #23\n",
      "INFO:root:### EPOCH #24\n",
      "INFO:root:### EPOCH #25\n",
      "INFO:root:### EPOCH #26\n"
     ]
    },
    {
     "name": "stdout",
     "output_type": "stream",
     "text": [
      "====EP 27\n"
     ]
    },
    {
     "name": "stderr",
     "output_type": "stream",
     "text": [
      "INFO:root:### EPOCH #1\n",
      "INFO:root:### EPOCH #2\n",
      "INFO:root:### EPOCH #3\n",
      "INFO:root:### EPOCH #4\n",
      "INFO:root:### EPOCH #5\n",
      "INFO:root:### EPOCH #6\n",
      "INFO:root:### EPOCH #7\n",
      "INFO:root:### EPOCH #8\n",
      "INFO:root:### EPOCH #9\n",
      "INFO:root:### EPOCH #10\n",
      "INFO:root:### EPOCH #11\n",
      "INFO:root:### EPOCH #12\n",
      "INFO:root:### EPOCH #13\n",
      "INFO:root:### EPOCH #14\n",
      "INFO:root:### EPOCH #15\n",
      "INFO:root:### EPOCH #16\n",
      "INFO:root:### EPOCH #17\n",
      "INFO:root:### EPOCH #18\n",
      "INFO:root:### EPOCH #19\n",
      "INFO:root:### EPOCH #20\n",
      "INFO:root:### EPOCH #21\n",
      "INFO:root:### EPOCH #22\n",
      "INFO:root:### EPOCH #23\n",
      "INFO:root:### EPOCH #24\n",
      "INFO:root:### EPOCH #25\n",
      "INFO:root:### EPOCH #26\n",
      "INFO:root:### EPOCH #27\n"
     ]
    },
    {
     "name": "stdout",
     "output_type": "stream",
     "text": [
      "====EP 28\n"
     ]
    },
    {
     "name": "stderr",
     "output_type": "stream",
     "text": [
      "INFO:root:### EPOCH #1\n",
      "INFO:root:### EPOCH #2\n",
      "INFO:root:### EPOCH #3\n",
      "INFO:root:### EPOCH #4\n",
      "INFO:root:### EPOCH #5\n",
      "INFO:root:### EPOCH #6\n",
      "INFO:root:### EPOCH #7\n",
      "INFO:root:### EPOCH #8\n",
      "INFO:root:### EPOCH #9\n",
      "INFO:root:### EPOCH #10\n",
      "INFO:root:### EPOCH #11\n",
      "INFO:root:### EPOCH #12\n",
      "INFO:root:### EPOCH #13\n",
      "INFO:root:### EPOCH #14\n",
      "INFO:root:### EPOCH #15\n",
      "INFO:root:### EPOCH #16\n",
      "INFO:root:### EPOCH #17\n",
      "INFO:root:### EPOCH #18\n",
      "INFO:root:### EPOCH #19\n",
      "INFO:root:### EPOCH #20\n",
      "INFO:root:### EPOCH #21\n",
      "INFO:root:### EPOCH #22\n",
      "INFO:root:### EPOCH #23\n",
      "INFO:root:### EPOCH #24\n",
      "INFO:root:### EPOCH #25\n",
      "INFO:root:### EPOCH #26\n",
      "INFO:root:### EPOCH #27\n",
      "INFO:root:### EPOCH #28\n"
     ]
    },
    {
     "name": "stdout",
     "output_type": "stream",
     "text": [
      ">>>>>>>>>>>>>>>>>> ITERATION 1\n",
      "[14:59:53] WARNING: /Users/travis/build/dmlc/xgboost/src/learner.cc:1095: Starting in XGBoost 1.3.0, the default evaluation metric used with the objective 'binary:logistic' was changed from 'error' to 'logloss'. Explicitly set eval_metric if you'd like to restore the old behavior.\n",
      "============K 1\n",
      "====EP 0\n",
      "====EP 1\n"
     ]
    },
    {
     "name": "stderr",
     "output_type": "stream",
     "text": [
      "INFO:root:### EPOCH #1\n",
      "INFO:root:### EPOCH #1\n"
     ]
    },
    {
     "name": "stdout",
     "output_type": "stream",
     "text": [
      "====EP 2\n"
     ]
    },
    {
     "name": "stderr",
     "output_type": "stream",
     "text": [
      "INFO:root:### EPOCH #1\n",
      "INFO:root:### EPOCH #2\n",
      "INFO:root:### EPOCH #1\n",
      "INFO:root:### EPOCH #2\n"
     ]
    },
    {
     "name": "stdout",
     "output_type": "stream",
     "text": [
      "====EP 3\n"
     ]
    },
    {
     "name": "stderr",
     "output_type": "stream",
     "text": [
      "INFO:root:### EPOCH #1\n",
      "INFO:root:### EPOCH #2\n",
      "INFO:root:### EPOCH #3\n",
      "INFO:root:### EPOCH #1\n",
      "INFO:root:### EPOCH #2\n",
      "INFO:root:### EPOCH #3\n"
     ]
    },
    {
     "name": "stdout",
     "output_type": "stream",
     "text": [
      "====EP 4\n"
     ]
    },
    {
     "name": "stderr",
     "output_type": "stream",
     "text": [
      "INFO:root:### EPOCH #1\n",
      "INFO:root:### EPOCH #2\n",
      "INFO:root:### EPOCH #3\n",
      "INFO:root:### EPOCH #4\n",
      "INFO:root:### EPOCH #1\n",
      "INFO:root:### EPOCH #2\n",
      "INFO:root:### EPOCH #3\n",
      "INFO:root:### EPOCH #4\n"
     ]
    },
    {
     "name": "stdout",
     "output_type": "stream",
     "text": [
      "====EP 5\n"
     ]
    },
    {
     "name": "stderr",
     "output_type": "stream",
     "text": [
      "INFO:root:### EPOCH #1\n",
      "INFO:root:### EPOCH #2\n",
      "INFO:root:### EPOCH #3\n",
      "INFO:root:### EPOCH #4\n",
      "INFO:root:### EPOCH #5\n",
      "INFO:root:### EPOCH #1\n",
      "INFO:root:### EPOCH #2\n",
      "INFO:root:### EPOCH #3\n",
      "INFO:root:### EPOCH #4\n",
      "INFO:root:### EPOCH #5\n"
     ]
    },
    {
     "name": "stdout",
     "output_type": "stream",
     "text": [
      "====EP 6\n"
     ]
    },
    {
     "name": "stderr",
     "output_type": "stream",
     "text": [
      "INFO:root:### EPOCH #1\n",
      "INFO:root:### EPOCH #2\n",
      "INFO:root:### EPOCH #3\n",
      "INFO:root:### EPOCH #4\n",
      "INFO:root:### EPOCH #5\n",
      "INFO:root:### EPOCH #6\n",
      "INFO:root:### EPOCH #1\n",
      "INFO:root:### EPOCH #2\n",
      "INFO:root:### EPOCH #3\n",
      "INFO:root:### EPOCH #4\n",
      "INFO:root:### EPOCH #5\n",
      "INFO:root:### EPOCH #6\n"
     ]
    },
    {
     "name": "stdout",
     "output_type": "stream",
     "text": [
      "====EP 7\n"
     ]
    },
    {
     "name": "stderr",
     "output_type": "stream",
     "text": [
      "INFO:root:### EPOCH #1\n",
      "INFO:root:### EPOCH #2\n",
      "INFO:root:### EPOCH #3\n",
      "INFO:root:### EPOCH #4\n",
      "INFO:root:### EPOCH #5\n",
      "INFO:root:### EPOCH #6\n",
      "INFO:root:### EPOCH #7\n",
      "INFO:root:### EPOCH #1\n",
      "INFO:root:### EPOCH #2\n",
      "INFO:root:### EPOCH #3\n",
      "INFO:root:### EPOCH #4\n",
      "INFO:root:### EPOCH #5\n",
      "INFO:root:### EPOCH #6\n",
      "INFO:root:### EPOCH #7\n"
     ]
    },
    {
     "name": "stdout",
     "output_type": "stream",
     "text": [
      "====EP 8\n"
     ]
    },
    {
     "name": "stderr",
     "output_type": "stream",
     "text": [
      "INFO:root:### EPOCH #1\n",
      "INFO:root:### EPOCH #2\n",
      "INFO:root:### EPOCH #3\n",
      "INFO:root:### EPOCH #4\n",
      "INFO:root:### EPOCH #5\n",
      "INFO:root:### EPOCH #6\n",
      "INFO:root:### EPOCH #7\n",
      "INFO:root:### EPOCH #8\n",
      "INFO:root:### EPOCH #1\n",
      "INFO:root:### EPOCH #2\n",
      "INFO:root:### EPOCH #3\n",
      "INFO:root:### EPOCH #4\n",
      "INFO:root:### EPOCH #5\n",
      "INFO:root:### EPOCH #6\n",
      "INFO:root:### EPOCH #7\n",
      "INFO:root:### EPOCH #8\n"
     ]
    },
    {
     "name": "stdout",
     "output_type": "stream",
     "text": [
      "====EP 9\n"
     ]
    },
    {
     "name": "stderr",
     "output_type": "stream",
     "text": [
      "INFO:root:### EPOCH #1\n",
      "INFO:root:### EPOCH #2\n",
      "INFO:root:### EPOCH #3\n",
      "INFO:root:### EPOCH #4\n",
      "INFO:root:### EPOCH #5\n",
      "INFO:root:### EPOCH #6\n",
      "INFO:root:### EPOCH #7\n",
      "INFO:root:### EPOCH #8\n",
      "INFO:root:### EPOCH #9\n",
      "INFO:root:### EPOCH #1\n",
      "INFO:root:### EPOCH #2\n",
      "INFO:root:### EPOCH #3\n",
      "INFO:root:### EPOCH #4\n",
      "INFO:root:### EPOCH #5\n",
      "INFO:root:### EPOCH #6\n",
      "INFO:root:### EPOCH #7\n",
      "INFO:root:### EPOCH #8\n",
      "INFO:root:### EPOCH #9\n"
     ]
    },
    {
     "name": "stdout",
     "output_type": "stream",
     "text": [
      "====EP 10\n"
     ]
    },
    {
     "name": "stderr",
     "output_type": "stream",
     "text": [
      "INFO:root:### EPOCH #1\n",
      "INFO:root:### EPOCH #2\n",
      "INFO:root:### EPOCH #3\n",
      "INFO:root:### EPOCH #4\n",
      "INFO:root:### EPOCH #5\n",
      "INFO:root:### EPOCH #6\n",
      "INFO:root:### EPOCH #7\n",
      "INFO:root:### EPOCH #8\n",
      "INFO:root:### EPOCH #9\n",
      "INFO:root:### EPOCH #10\n",
      "INFO:root:### EPOCH #1\n",
      "INFO:root:### EPOCH #2\n",
      "INFO:root:### EPOCH #3\n",
      "INFO:root:### EPOCH #4\n",
      "INFO:root:### EPOCH #5\n",
      "INFO:root:### EPOCH #6\n",
      "INFO:root:### EPOCH #7\n",
      "INFO:root:### EPOCH #8\n",
      "INFO:root:### EPOCH #9\n",
      "INFO:root:### EPOCH #10\n"
     ]
    },
    {
     "name": "stdout",
     "output_type": "stream",
     "text": [
      "====EP 11\n"
     ]
    },
    {
     "name": "stderr",
     "output_type": "stream",
     "text": [
      "INFO:root:### EPOCH #1\n",
      "INFO:root:### EPOCH #2\n",
      "INFO:root:### EPOCH #3\n",
      "INFO:root:### EPOCH #4\n",
      "INFO:root:### EPOCH #5\n",
      "INFO:root:### EPOCH #6\n",
      "INFO:root:### EPOCH #7\n",
      "INFO:root:### EPOCH #8\n",
      "INFO:root:### EPOCH #9\n",
      "INFO:root:### EPOCH #10\n",
      "INFO:root:### EPOCH #11\n"
     ]
    },
    {
     "name": "stdout",
     "output_type": "stream",
     "text": [
      "====EP 12\n"
     ]
    },
    {
     "name": "stderr",
     "output_type": "stream",
     "text": [
      "INFO:root:### EPOCH #1\n",
      "INFO:root:### EPOCH #2\n",
      "INFO:root:### EPOCH #3\n",
      "INFO:root:### EPOCH #4\n",
      "INFO:root:### EPOCH #5\n",
      "INFO:root:### EPOCH #6\n",
      "INFO:root:### EPOCH #7\n",
      "INFO:root:### EPOCH #8\n",
      "INFO:root:### EPOCH #9\n",
      "INFO:root:### EPOCH #10\n",
      "INFO:root:### EPOCH #11\n",
      "INFO:root:### EPOCH #12\n"
     ]
    },
    {
     "name": "stdout",
     "output_type": "stream",
     "text": [
      "====EP 13\n"
     ]
    },
    {
     "name": "stderr",
     "output_type": "stream",
     "text": [
      "INFO:root:### EPOCH #1\n",
      "INFO:root:### EPOCH #2\n",
      "INFO:root:### EPOCH #3\n",
      "INFO:root:### EPOCH #4\n",
      "INFO:root:### EPOCH #5\n",
      "INFO:root:### EPOCH #6\n",
      "INFO:root:### EPOCH #7\n",
      "INFO:root:### EPOCH #8\n",
      "INFO:root:### EPOCH #9\n",
      "INFO:root:### EPOCH #10\n",
      "INFO:root:### EPOCH #11\n",
      "INFO:root:### EPOCH #12\n",
      "INFO:root:### EPOCH #13\n"
     ]
    },
    {
     "name": "stdout",
     "output_type": "stream",
     "text": [
      "====EP 14\n"
     ]
    },
    {
     "name": "stderr",
     "output_type": "stream",
     "text": [
      "INFO:root:### EPOCH #1\n",
      "INFO:root:### EPOCH #2\n",
      "INFO:root:### EPOCH #3\n",
      "INFO:root:### EPOCH #4\n",
      "INFO:root:### EPOCH #5\n",
      "INFO:root:### EPOCH #6\n",
      "INFO:root:### EPOCH #7\n",
      "INFO:root:### EPOCH #8\n",
      "INFO:root:### EPOCH #9\n",
      "INFO:root:### EPOCH #10\n",
      "INFO:root:### EPOCH #11\n",
      "INFO:root:### EPOCH #12\n",
      "INFO:root:### EPOCH #13\n",
      "INFO:root:### EPOCH #14\n"
     ]
    },
    {
     "name": "stdout",
     "output_type": "stream",
     "text": [
      "====EP 15\n"
     ]
    },
    {
     "name": "stderr",
     "output_type": "stream",
     "text": [
      "INFO:root:### EPOCH #1\n",
      "INFO:root:### EPOCH #2\n",
      "INFO:root:### EPOCH #3\n",
      "INFO:root:### EPOCH #4\n",
      "INFO:root:### EPOCH #5\n",
      "INFO:root:### EPOCH #6\n",
      "INFO:root:### EPOCH #7\n",
      "INFO:root:### EPOCH #8\n",
      "INFO:root:### EPOCH #9\n",
      "INFO:root:### EPOCH #10\n",
      "INFO:root:### EPOCH #11\n",
      "INFO:root:### EPOCH #12\n",
      "INFO:root:### EPOCH #13\n",
      "INFO:root:### EPOCH #14\n",
      "INFO:root:### EPOCH #15\n"
     ]
    },
    {
     "name": "stdout",
     "output_type": "stream",
     "text": [
      "====EP 16\n"
     ]
    },
    {
     "name": "stderr",
     "output_type": "stream",
     "text": [
      "INFO:root:### EPOCH #1\n",
      "INFO:root:### EPOCH #2\n",
      "INFO:root:### EPOCH #3\n",
      "INFO:root:### EPOCH #4\n",
      "INFO:root:### EPOCH #5\n",
      "INFO:root:### EPOCH #6\n",
      "INFO:root:### EPOCH #7\n",
      "INFO:root:### EPOCH #8\n",
      "INFO:root:### EPOCH #9\n",
      "INFO:root:### EPOCH #10\n",
      "INFO:root:### EPOCH #11\n",
      "INFO:root:### EPOCH #12\n",
      "INFO:root:### EPOCH #13\n",
      "INFO:root:### EPOCH #14\n",
      "INFO:root:### EPOCH #15\n",
      "INFO:root:### EPOCH #16\n"
     ]
    },
    {
     "name": "stdout",
     "output_type": "stream",
     "text": [
      "====EP 17\n"
     ]
    },
    {
     "name": "stderr",
     "output_type": "stream",
     "text": [
      "INFO:root:### EPOCH #1\n",
      "INFO:root:### EPOCH #2\n",
      "INFO:root:### EPOCH #3\n",
      "INFO:root:### EPOCH #4\n",
      "INFO:root:### EPOCH #5\n",
      "INFO:root:### EPOCH #6\n",
      "INFO:root:### EPOCH #7\n",
      "INFO:root:### EPOCH #8\n",
      "INFO:root:### EPOCH #9\n",
      "INFO:root:### EPOCH #10\n",
      "INFO:root:### EPOCH #11\n",
      "INFO:root:### EPOCH #12\n",
      "INFO:root:### EPOCH #13\n",
      "INFO:root:### EPOCH #14\n",
      "INFO:root:### EPOCH #15\n",
      "INFO:root:### EPOCH #16\n",
      "INFO:root:### EPOCH #17\n"
     ]
    },
    {
     "name": "stdout",
     "output_type": "stream",
     "text": [
      "====EP 18\n"
     ]
    },
    {
     "name": "stderr",
     "output_type": "stream",
     "text": [
      "INFO:root:### EPOCH #1\n",
      "INFO:root:### EPOCH #2\n",
      "INFO:root:### EPOCH #3\n",
      "INFO:root:### EPOCH #4\n",
      "INFO:root:### EPOCH #5\n",
      "INFO:root:### EPOCH #6\n",
      "INFO:root:### EPOCH #7\n",
      "INFO:root:### EPOCH #8\n",
      "INFO:root:### EPOCH #9\n",
      "INFO:root:### EPOCH #10\n",
      "INFO:root:### EPOCH #11\n",
      "INFO:root:### EPOCH #12\n",
      "INFO:root:### EPOCH #13\n",
      "INFO:root:### EPOCH #14\n",
      "INFO:root:### EPOCH #15\n",
      "INFO:root:### EPOCH #16\n",
      "INFO:root:### EPOCH #17\n",
      "INFO:root:### EPOCH #18\n"
     ]
    },
    {
     "name": "stdout",
     "output_type": "stream",
     "text": [
      "====EP 19\n"
     ]
    },
    {
     "name": "stderr",
     "output_type": "stream",
     "text": [
      "INFO:root:### EPOCH #1\n",
      "INFO:root:### EPOCH #2\n",
      "INFO:root:### EPOCH #3\n",
      "INFO:root:### EPOCH #4\n",
      "INFO:root:### EPOCH #5\n",
      "INFO:root:### EPOCH #6\n",
      "INFO:root:### EPOCH #7\n",
      "INFO:root:### EPOCH #8\n",
      "INFO:root:### EPOCH #9\n",
      "INFO:root:### EPOCH #10\n",
      "INFO:root:### EPOCH #11\n",
      "INFO:root:### EPOCH #12\n",
      "INFO:root:### EPOCH #13\n",
      "INFO:root:### EPOCH #14\n",
      "INFO:root:### EPOCH #15\n",
      "INFO:root:### EPOCH #16\n",
      "INFO:root:### EPOCH #17\n",
      "INFO:root:### EPOCH #18\n",
      "INFO:root:### EPOCH #19\n"
     ]
    },
    {
     "name": "stdout",
     "output_type": "stream",
     "text": [
      "====EP 20\n"
     ]
    },
    {
     "name": "stderr",
     "output_type": "stream",
     "text": [
      "INFO:root:### EPOCH #1\n",
      "INFO:root:### EPOCH #2\n",
      "INFO:root:### EPOCH #3\n",
      "INFO:root:### EPOCH #4\n",
      "INFO:root:### EPOCH #5\n",
      "INFO:root:### EPOCH #6\n",
      "INFO:root:### EPOCH #7\n",
      "INFO:root:### EPOCH #8\n",
      "INFO:root:### EPOCH #9\n",
      "INFO:root:### EPOCH #10\n",
      "INFO:root:### EPOCH #11\n",
      "INFO:root:### EPOCH #12\n",
      "INFO:root:### EPOCH #13\n",
      "INFO:root:### EPOCH #14\n",
      "INFO:root:### EPOCH #15\n",
      "INFO:root:### EPOCH #16\n",
      "INFO:root:### EPOCH #17\n",
      "INFO:root:### EPOCH #18\n",
      "INFO:root:### EPOCH #19\n",
      "INFO:root:### EPOCH #20\n"
     ]
    },
    {
     "name": "stdout",
     "output_type": "stream",
     "text": [
      "====EP 21\n"
     ]
    },
    {
     "name": "stderr",
     "output_type": "stream",
     "text": [
      "INFO:root:### EPOCH #1\n",
      "INFO:root:### EPOCH #2\n",
      "INFO:root:### EPOCH #3\n",
      "INFO:root:### EPOCH #4\n",
      "INFO:root:### EPOCH #5\n",
      "INFO:root:### EPOCH #6\n",
      "INFO:root:### EPOCH #7\n",
      "INFO:root:### EPOCH #8\n",
      "INFO:root:### EPOCH #9\n",
      "INFO:root:### EPOCH #10\n",
      "INFO:root:### EPOCH #11\n",
      "INFO:root:### EPOCH #12\n",
      "INFO:root:### EPOCH #13\n",
      "INFO:root:### EPOCH #14\n",
      "INFO:root:### EPOCH #15\n",
      "INFO:root:### EPOCH #16\n",
      "INFO:root:### EPOCH #17\n",
      "INFO:root:### EPOCH #18\n",
      "INFO:root:### EPOCH #19\n",
      "INFO:root:### EPOCH #20\n",
      "INFO:root:### EPOCH #21\n"
     ]
    },
    {
     "name": "stdout",
     "output_type": "stream",
     "text": [
      "====EP 22\n"
     ]
    },
    {
     "name": "stderr",
     "output_type": "stream",
     "text": [
      "INFO:root:### EPOCH #1\n",
      "INFO:root:### EPOCH #2\n",
      "INFO:root:### EPOCH #3\n",
      "INFO:root:### EPOCH #4\n",
      "INFO:root:### EPOCH #5\n",
      "INFO:root:### EPOCH #6\n",
      "INFO:root:### EPOCH #7\n",
      "INFO:root:### EPOCH #8\n",
      "INFO:root:### EPOCH #9\n",
      "INFO:root:### EPOCH #10\n",
      "INFO:root:### EPOCH #11\n",
      "INFO:root:### EPOCH #12\n",
      "INFO:root:### EPOCH #13\n",
      "INFO:root:### EPOCH #14\n",
      "INFO:root:### EPOCH #15\n",
      "INFO:root:### EPOCH #16\n",
      "INFO:root:### EPOCH #17\n",
      "INFO:root:### EPOCH #18\n",
      "INFO:root:### EPOCH #19\n",
      "INFO:root:### EPOCH #20\n",
      "INFO:root:### EPOCH #21\n",
      "INFO:root:### EPOCH #22\n"
     ]
    },
    {
     "name": "stdout",
     "output_type": "stream",
     "text": [
      "====EP 23\n"
     ]
    },
    {
     "name": "stderr",
     "output_type": "stream",
     "text": [
      "INFO:root:### EPOCH #1\n",
      "INFO:root:### EPOCH #2\n",
      "INFO:root:### EPOCH #3\n",
      "INFO:root:### EPOCH #4\n",
      "INFO:root:### EPOCH #5\n",
      "INFO:root:### EPOCH #6\n",
      "INFO:root:### EPOCH #7\n",
      "INFO:root:### EPOCH #8\n",
      "INFO:root:### EPOCH #9\n",
      "INFO:root:### EPOCH #10\n",
      "INFO:root:### EPOCH #11\n",
      "INFO:root:### EPOCH #12\n",
      "INFO:root:### EPOCH #13\n",
      "INFO:root:### EPOCH #14\n",
      "INFO:root:### EPOCH #15\n",
      "INFO:root:### EPOCH #16\n",
      "INFO:root:### EPOCH #17\n",
      "INFO:root:### EPOCH #18\n",
      "INFO:root:### EPOCH #19\n",
      "INFO:root:### EPOCH #20\n",
      "INFO:root:### EPOCH #21\n",
      "INFO:root:### EPOCH #22\n",
      "INFO:root:### EPOCH #23\n"
     ]
    },
    {
     "name": "stdout",
     "output_type": "stream",
     "text": [
      "====EP 24\n"
     ]
    },
    {
     "name": "stderr",
     "output_type": "stream",
     "text": [
      "INFO:root:### EPOCH #1\n",
      "INFO:root:### EPOCH #2\n",
      "INFO:root:### EPOCH #3\n",
      "INFO:root:### EPOCH #4\n",
      "INFO:root:### EPOCH #5\n",
      "INFO:root:### EPOCH #6\n",
      "INFO:root:### EPOCH #7\n",
      "INFO:root:### EPOCH #8\n",
      "INFO:root:### EPOCH #9\n",
      "INFO:root:### EPOCH #10\n",
      "INFO:root:### EPOCH #11\n",
      "INFO:root:### EPOCH #12\n",
      "INFO:root:### EPOCH #13\n",
      "INFO:root:### EPOCH #14\n",
      "INFO:root:### EPOCH #15\n",
      "INFO:root:### EPOCH #16\n",
      "INFO:root:### EPOCH #17\n",
      "INFO:root:### EPOCH #18\n",
      "INFO:root:### EPOCH #19\n",
      "INFO:root:### EPOCH #20\n",
      "INFO:root:### EPOCH #21\n",
      "INFO:root:### EPOCH #22\n",
      "INFO:root:### EPOCH #23\n",
      "INFO:root:### EPOCH #24\n"
     ]
    },
    {
     "name": "stdout",
     "output_type": "stream",
     "text": [
      "====EP 25\n"
     ]
    },
    {
     "name": "stderr",
     "output_type": "stream",
     "text": [
      "INFO:root:### EPOCH #1\n",
      "INFO:root:### EPOCH #2\n",
      "INFO:root:### EPOCH #3\n",
      "INFO:root:### EPOCH #4\n",
      "INFO:root:### EPOCH #5\n",
      "INFO:root:### EPOCH #6\n",
      "INFO:root:### EPOCH #7\n",
      "INFO:root:### EPOCH #8\n",
      "INFO:root:### EPOCH #9\n",
      "INFO:root:### EPOCH #10\n",
      "INFO:root:### EPOCH #11\n",
      "INFO:root:### EPOCH #12\n",
      "INFO:root:### EPOCH #13\n",
      "INFO:root:### EPOCH #14\n",
      "INFO:root:### EPOCH #15\n",
      "INFO:root:### EPOCH #16\n",
      "INFO:root:### EPOCH #17\n",
      "INFO:root:### EPOCH #18\n",
      "INFO:root:### EPOCH #19\n",
      "INFO:root:### EPOCH #20\n",
      "INFO:root:### EPOCH #21\n",
      "INFO:root:### EPOCH #22\n",
      "INFO:root:### EPOCH #23\n",
      "INFO:root:### EPOCH #24\n",
      "INFO:root:### EPOCH #25\n"
     ]
    },
    {
     "name": "stdout",
     "output_type": "stream",
     "text": [
      "====EP 26\n"
     ]
    },
    {
     "name": "stderr",
     "output_type": "stream",
     "text": [
      "INFO:root:### EPOCH #1\n",
      "INFO:root:### EPOCH #2\n",
      "INFO:root:### EPOCH #3\n",
      "INFO:root:### EPOCH #4\n",
      "INFO:root:### EPOCH #5\n",
      "INFO:root:### EPOCH #6\n",
      "INFO:root:### EPOCH #7\n",
      "INFO:root:### EPOCH #8\n",
      "INFO:root:### EPOCH #9\n",
      "INFO:root:### EPOCH #10\n",
      "INFO:root:### EPOCH #11\n",
      "INFO:root:### EPOCH #12\n",
      "INFO:root:### EPOCH #13\n",
      "INFO:root:### EPOCH #14\n",
      "INFO:root:### EPOCH #15\n",
      "INFO:root:### EPOCH #16\n",
      "INFO:root:### EPOCH #17\n",
      "INFO:root:### EPOCH #18\n",
      "INFO:root:### EPOCH #19\n",
      "INFO:root:### EPOCH #20\n",
      "INFO:root:### EPOCH #21\n",
      "INFO:root:### EPOCH #22\n",
      "INFO:root:### EPOCH #23\n",
      "INFO:root:### EPOCH #24\n",
      "INFO:root:### EPOCH #25\n",
      "INFO:root:### EPOCH #26\n"
     ]
    },
    {
     "name": "stdout",
     "output_type": "stream",
     "text": [
      "====EP 27\n"
     ]
    },
    {
     "name": "stderr",
     "output_type": "stream",
     "text": [
      "INFO:root:### EPOCH #1\n",
      "INFO:root:### EPOCH #2\n",
      "INFO:root:### EPOCH #3\n",
      "INFO:root:### EPOCH #4\n",
      "INFO:root:### EPOCH #5\n",
      "INFO:root:### EPOCH #6\n",
      "INFO:root:### EPOCH #7\n",
      "INFO:root:### EPOCH #8\n",
      "INFO:root:### EPOCH #9\n",
      "INFO:root:### EPOCH #10\n",
      "INFO:root:### EPOCH #11\n",
      "INFO:root:### EPOCH #12\n",
      "INFO:root:### EPOCH #13\n",
      "INFO:root:### EPOCH #14\n",
      "INFO:root:### EPOCH #15\n",
      "INFO:root:### EPOCH #16\n",
      "INFO:root:### EPOCH #17\n",
      "INFO:root:### EPOCH #18\n",
      "INFO:root:### EPOCH #19\n",
      "INFO:root:### EPOCH #20\n",
      "INFO:root:### EPOCH #21\n",
      "INFO:root:### EPOCH #22\n",
      "INFO:root:### EPOCH #23\n",
      "INFO:root:### EPOCH #24\n",
      "INFO:root:### EPOCH #25\n",
      "INFO:root:### EPOCH #26\n",
      "INFO:root:### EPOCH #27\n"
     ]
    },
    {
     "name": "stdout",
     "output_type": "stream",
     "text": [
      "====EP 28\n"
     ]
    },
    {
     "name": "stderr",
     "output_type": "stream",
     "text": [
      "INFO:root:### EPOCH #1\n",
      "INFO:root:### EPOCH #2\n",
      "INFO:root:### EPOCH #3\n",
      "INFO:root:### EPOCH #4\n",
      "INFO:root:### EPOCH #5\n",
      "INFO:root:### EPOCH #6\n",
      "INFO:root:### EPOCH #7\n",
      "INFO:root:### EPOCH #8\n",
      "INFO:root:### EPOCH #9\n",
      "INFO:root:### EPOCH #10\n",
      "INFO:root:### EPOCH #11\n",
      "INFO:root:### EPOCH #12\n",
      "INFO:root:### EPOCH #13\n",
      "INFO:root:### EPOCH #14\n",
      "INFO:root:### EPOCH #15\n",
      "INFO:root:### EPOCH #16\n",
      "INFO:root:### EPOCH #17\n",
      "INFO:root:### EPOCH #18\n",
      "INFO:root:### EPOCH #19\n",
      "INFO:root:### EPOCH #20\n",
      "INFO:root:### EPOCH #21\n",
      "INFO:root:### EPOCH #22\n",
      "INFO:root:### EPOCH #23\n",
      "INFO:root:### EPOCH #24\n",
      "INFO:root:### EPOCH #25\n",
      "INFO:root:### EPOCH #26\n",
      "INFO:root:### EPOCH #27\n",
      "INFO:root:### EPOCH #28\n"
     ]
    },
    {
     "name": "stdout",
     "output_type": "stream",
     "text": [
      ">>>>>>>>>>>>>>>>>> ITERATION 2\n",
      "[15:03:44] WARNING: /Users/travis/build/dmlc/xgboost/src/learner.cc:1095: Starting in XGBoost 1.3.0, the default evaluation metric used with the objective 'binary:logistic' was changed from 'error' to 'logloss'. Explicitly set eval_metric if you'd like to restore the old behavior.\n",
      "============K 1\n",
      "====EP 0\n",
      "====EP 1\n"
     ]
    },
    {
     "name": "stderr",
     "output_type": "stream",
     "text": [
      "INFO:root:### EPOCH #1\n",
      "INFO:root:### EPOCH #1\n"
     ]
    },
    {
     "name": "stdout",
     "output_type": "stream",
     "text": [
      "====EP 2\n"
     ]
    },
    {
     "name": "stderr",
     "output_type": "stream",
     "text": [
      "INFO:root:### EPOCH #1\n",
      "INFO:root:### EPOCH #2\n",
      "INFO:root:### EPOCH #1\n",
      "INFO:root:### EPOCH #2\n"
     ]
    },
    {
     "name": "stdout",
     "output_type": "stream",
     "text": [
      "====EP 3\n"
     ]
    },
    {
     "name": "stderr",
     "output_type": "stream",
     "text": [
      "INFO:root:### EPOCH #1\n",
      "INFO:root:### EPOCH #2\n",
      "INFO:root:### EPOCH #3\n",
      "INFO:root:### EPOCH #1\n",
      "INFO:root:### EPOCH #2\n",
      "INFO:root:### EPOCH #3\n"
     ]
    },
    {
     "name": "stdout",
     "output_type": "stream",
     "text": [
      "====EP 4\n"
     ]
    },
    {
     "name": "stderr",
     "output_type": "stream",
     "text": [
      "INFO:root:### EPOCH #1\n",
      "INFO:root:### EPOCH #2\n",
      "INFO:root:### EPOCH #3\n",
      "INFO:root:### EPOCH #4\n",
      "INFO:root:### EPOCH #1\n",
      "INFO:root:### EPOCH #2\n",
      "INFO:root:### EPOCH #3\n",
      "INFO:root:### EPOCH #4\n"
     ]
    },
    {
     "name": "stdout",
     "output_type": "stream",
     "text": [
      "====EP 5\n"
     ]
    },
    {
     "name": "stderr",
     "output_type": "stream",
     "text": [
      "INFO:root:### EPOCH #1\n",
      "INFO:root:### EPOCH #2\n",
      "INFO:root:### EPOCH #3\n",
      "INFO:root:### EPOCH #4\n",
      "INFO:root:### EPOCH #5\n",
      "INFO:root:### EPOCH #1\n",
      "INFO:root:### EPOCH #2\n",
      "INFO:root:### EPOCH #3\n",
      "INFO:root:### EPOCH #4\n",
      "INFO:root:### EPOCH #5\n"
     ]
    },
    {
     "name": "stdout",
     "output_type": "stream",
     "text": [
      "====EP 6\n"
     ]
    },
    {
     "name": "stderr",
     "output_type": "stream",
     "text": [
      "INFO:root:### EPOCH #1\n",
      "INFO:root:### EPOCH #2\n",
      "INFO:root:### EPOCH #3\n",
      "INFO:root:### EPOCH #4\n",
      "INFO:root:### EPOCH #5\n",
      "INFO:root:### EPOCH #6\n",
      "INFO:root:### EPOCH #1\n",
      "INFO:root:### EPOCH #2\n",
      "INFO:root:### EPOCH #3\n",
      "INFO:root:### EPOCH #4\n",
      "INFO:root:### EPOCH #5\n",
      "INFO:root:### EPOCH #6\n"
     ]
    },
    {
     "name": "stdout",
     "output_type": "stream",
     "text": [
      "====EP 7\n"
     ]
    },
    {
     "name": "stderr",
     "output_type": "stream",
     "text": [
      "INFO:root:### EPOCH #1\n",
      "INFO:root:### EPOCH #2\n",
      "INFO:root:### EPOCH #3\n",
      "INFO:root:### EPOCH #4\n",
      "INFO:root:### EPOCH #5\n",
      "INFO:root:### EPOCH #6\n",
      "INFO:root:### EPOCH #7\n",
      "INFO:root:### EPOCH #1\n",
      "INFO:root:### EPOCH #2\n",
      "INFO:root:### EPOCH #3\n",
      "INFO:root:### EPOCH #4\n",
      "INFO:root:### EPOCH #5\n",
      "INFO:root:### EPOCH #6\n",
      "INFO:root:### EPOCH #7\n"
     ]
    },
    {
     "name": "stdout",
     "output_type": "stream",
     "text": [
      "====EP 8\n"
     ]
    },
    {
     "name": "stderr",
     "output_type": "stream",
     "text": [
      "INFO:root:### EPOCH #1\n",
      "INFO:root:### EPOCH #2\n",
      "INFO:root:### EPOCH #3\n",
      "INFO:root:### EPOCH #4\n",
      "INFO:root:### EPOCH #5\n",
      "INFO:root:### EPOCH #6\n",
      "INFO:root:### EPOCH #7\n",
      "INFO:root:### EPOCH #8\n",
      "INFO:root:### EPOCH #1\n",
      "INFO:root:### EPOCH #2\n",
      "INFO:root:### EPOCH #3\n",
      "INFO:root:### EPOCH #4\n",
      "INFO:root:### EPOCH #5\n",
      "INFO:root:### EPOCH #6\n",
      "INFO:root:### EPOCH #7\n",
      "INFO:root:### EPOCH #8\n"
     ]
    },
    {
     "name": "stdout",
     "output_type": "stream",
     "text": [
      "====EP 9\n"
     ]
    },
    {
     "name": "stderr",
     "output_type": "stream",
     "text": [
      "INFO:root:### EPOCH #1\n",
      "INFO:root:### EPOCH #2\n",
      "INFO:root:### EPOCH #3\n",
      "INFO:root:### EPOCH #4\n",
      "INFO:root:### EPOCH #5\n",
      "INFO:root:### EPOCH #6\n",
      "INFO:root:### EPOCH #7\n",
      "INFO:root:### EPOCH #8\n",
      "INFO:root:### EPOCH #9\n",
      "INFO:root:### EPOCH #1\n",
      "INFO:root:### EPOCH #2\n",
      "INFO:root:### EPOCH #3\n",
      "INFO:root:### EPOCH #4\n",
      "INFO:root:### EPOCH #5\n",
      "INFO:root:### EPOCH #6\n",
      "INFO:root:### EPOCH #7\n",
      "INFO:root:### EPOCH #8\n",
      "INFO:root:### EPOCH #9\n"
     ]
    },
    {
     "name": "stdout",
     "output_type": "stream",
     "text": [
      "====EP 10\n"
     ]
    },
    {
     "name": "stderr",
     "output_type": "stream",
     "text": [
      "INFO:root:### EPOCH #1\n",
      "INFO:root:### EPOCH #2\n",
      "INFO:root:### EPOCH #3\n",
      "INFO:root:### EPOCH #4\n",
      "INFO:root:### EPOCH #5\n",
      "INFO:root:### EPOCH #6\n",
      "INFO:root:### EPOCH #7\n",
      "INFO:root:### EPOCH #8\n",
      "INFO:root:### EPOCH #9\n",
      "INFO:root:### EPOCH #10\n",
      "INFO:root:### EPOCH #1\n",
      "INFO:root:### EPOCH #2\n",
      "INFO:root:### EPOCH #3\n",
      "INFO:root:### EPOCH #4\n",
      "INFO:root:### EPOCH #5\n",
      "INFO:root:### EPOCH #6\n",
      "INFO:root:### EPOCH #7\n",
      "INFO:root:### EPOCH #8\n",
      "INFO:root:### EPOCH #9\n",
      "INFO:root:### EPOCH #10\n"
     ]
    },
    {
     "name": "stdout",
     "output_type": "stream",
     "text": [
      "====EP 11\n"
     ]
    },
    {
     "name": "stderr",
     "output_type": "stream",
     "text": [
      "INFO:root:### EPOCH #1\n",
      "INFO:root:### EPOCH #2\n",
      "INFO:root:### EPOCH #3\n",
      "INFO:root:### EPOCH #4\n",
      "INFO:root:### EPOCH #5\n",
      "INFO:root:### EPOCH #6\n",
      "INFO:root:### EPOCH #7\n",
      "INFO:root:### EPOCH #8\n",
      "INFO:root:### EPOCH #9\n",
      "INFO:root:### EPOCH #10\n",
      "INFO:root:### EPOCH #11\n"
     ]
    },
    {
     "name": "stdout",
     "output_type": "stream",
     "text": [
      "====EP 12\n"
     ]
    },
    {
     "name": "stderr",
     "output_type": "stream",
     "text": [
      "INFO:root:### EPOCH #1\n",
      "INFO:root:### EPOCH #2\n",
      "INFO:root:### EPOCH #3\n",
      "INFO:root:### EPOCH #4\n",
      "INFO:root:### EPOCH #5\n",
      "INFO:root:### EPOCH #6\n",
      "INFO:root:### EPOCH #7\n",
      "INFO:root:### EPOCH #8\n",
      "INFO:root:### EPOCH #9\n",
      "INFO:root:### EPOCH #10\n",
      "INFO:root:### EPOCH #11\n",
      "INFO:root:### EPOCH #12\n"
     ]
    },
    {
     "name": "stdout",
     "output_type": "stream",
     "text": [
      "====EP 13\n"
     ]
    },
    {
     "name": "stderr",
     "output_type": "stream",
     "text": [
      "INFO:root:### EPOCH #1\n",
      "INFO:root:### EPOCH #2\n",
      "INFO:root:### EPOCH #3\n",
      "INFO:root:### EPOCH #4\n",
      "INFO:root:### EPOCH #5\n",
      "INFO:root:### EPOCH #6\n",
      "INFO:root:### EPOCH #7\n",
      "INFO:root:### EPOCH #8\n",
      "INFO:root:### EPOCH #9\n",
      "INFO:root:### EPOCH #10\n",
      "INFO:root:### EPOCH #11\n",
      "INFO:root:### EPOCH #12\n",
      "INFO:root:### EPOCH #13\n"
     ]
    },
    {
     "name": "stdout",
     "output_type": "stream",
     "text": [
      "====EP 14\n"
     ]
    },
    {
     "name": "stderr",
     "output_type": "stream",
     "text": [
      "INFO:root:### EPOCH #1\n",
      "INFO:root:### EPOCH #2\n",
      "INFO:root:### EPOCH #3\n",
      "INFO:root:### EPOCH #4\n",
      "INFO:root:### EPOCH #5\n",
      "INFO:root:### EPOCH #6\n",
      "INFO:root:### EPOCH #7\n",
      "INFO:root:### EPOCH #8\n",
      "INFO:root:### EPOCH #9\n",
      "INFO:root:### EPOCH #10\n",
      "INFO:root:### EPOCH #11\n",
      "INFO:root:### EPOCH #12\n",
      "INFO:root:### EPOCH #13\n",
      "INFO:root:### EPOCH #14\n"
     ]
    },
    {
     "name": "stdout",
     "output_type": "stream",
     "text": [
      "====EP 15\n"
     ]
    },
    {
     "name": "stderr",
     "output_type": "stream",
     "text": [
      "INFO:root:### EPOCH #1\n",
      "INFO:root:### EPOCH #2\n",
      "INFO:root:### EPOCH #3\n",
      "INFO:root:### EPOCH #4\n",
      "INFO:root:### EPOCH #5\n",
      "INFO:root:### EPOCH #6\n",
      "INFO:root:### EPOCH #7\n",
      "INFO:root:### EPOCH #8\n",
      "INFO:root:### EPOCH #9\n",
      "INFO:root:### EPOCH #10\n",
      "INFO:root:### EPOCH #11\n",
      "INFO:root:### EPOCH #12\n",
      "INFO:root:### EPOCH #13\n",
      "INFO:root:### EPOCH #14\n",
      "INFO:root:### EPOCH #15\n"
     ]
    },
    {
     "name": "stdout",
     "output_type": "stream",
     "text": [
      "====EP 16\n"
     ]
    },
    {
     "name": "stderr",
     "output_type": "stream",
     "text": [
      "INFO:root:### EPOCH #1\n",
      "INFO:root:### EPOCH #2\n",
      "INFO:root:### EPOCH #3\n",
      "INFO:root:### EPOCH #4\n",
      "INFO:root:### EPOCH #5\n",
      "INFO:root:### EPOCH #6\n",
      "INFO:root:### EPOCH #7\n",
      "INFO:root:### EPOCH #8\n",
      "INFO:root:### EPOCH #9\n",
      "INFO:root:### EPOCH #10\n",
      "INFO:root:### EPOCH #11\n",
      "INFO:root:### EPOCH #12\n",
      "INFO:root:### EPOCH #13\n",
      "INFO:root:### EPOCH #14\n",
      "INFO:root:### EPOCH #15\n",
      "INFO:root:### EPOCH #16\n"
     ]
    },
    {
     "name": "stdout",
     "output_type": "stream",
     "text": [
      "====EP 17\n"
     ]
    },
    {
     "name": "stderr",
     "output_type": "stream",
     "text": [
      "INFO:root:### EPOCH #1\n",
      "INFO:root:### EPOCH #2\n",
      "INFO:root:### EPOCH #3\n",
      "INFO:root:### EPOCH #4\n",
      "INFO:root:### EPOCH #5\n",
      "INFO:root:### EPOCH #6\n",
      "INFO:root:### EPOCH #7\n",
      "INFO:root:### EPOCH #8\n",
      "INFO:root:### EPOCH #9\n",
      "INFO:root:### EPOCH #10\n",
      "INFO:root:### EPOCH #11\n",
      "INFO:root:### EPOCH #12\n",
      "INFO:root:### EPOCH #13\n",
      "INFO:root:### EPOCH #14\n",
      "INFO:root:### EPOCH #15\n",
      "INFO:root:### EPOCH #16\n",
      "INFO:root:### EPOCH #17\n"
     ]
    },
    {
     "name": "stdout",
     "output_type": "stream",
     "text": [
      "====EP 18\n"
     ]
    },
    {
     "name": "stderr",
     "output_type": "stream",
     "text": [
      "INFO:root:### EPOCH #1\n",
      "INFO:root:### EPOCH #2\n",
      "INFO:root:### EPOCH #3\n",
      "INFO:root:### EPOCH #4\n",
      "INFO:root:### EPOCH #5\n",
      "INFO:root:### EPOCH #6\n",
      "INFO:root:### EPOCH #7\n",
      "INFO:root:### EPOCH #8\n",
      "INFO:root:### EPOCH #9\n",
      "INFO:root:### EPOCH #10\n",
      "INFO:root:### EPOCH #11\n",
      "INFO:root:### EPOCH #12\n",
      "INFO:root:### EPOCH #13\n",
      "INFO:root:### EPOCH #14\n",
      "INFO:root:### EPOCH #15\n",
      "INFO:root:### EPOCH #16\n",
      "INFO:root:### EPOCH #17\n",
      "INFO:root:### EPOCH #18\n"
     ]
    },
    {
     "name": "stdout",
     "output_type": "stream",
     "text": [
      "====EP 19\n"
     ]
    },
    {
     "name": "stderr",
     "output_type": "stream",
     "text": [
      "INFO:root:### EPOCH #1\n",
      "INFO:root:### EPOCH #2\n",
      "INFO:root:### EPOCH #3\n",
      "INFO:root:### EPOCH #4\n",
      "INFO:root:### EPOCH #5\n",
      "INFO:root:### EPOCH #6\n",
      "INFO:root:### EPOCH #7\n",
      "INFO:root:### EPOCH #8\n",
      "INFO:root:### EPOCH #9\n",
      "INFO:root:### EPOCH #10\n",
      "INFO:root:### EPOCH #11\n",
      "INFO:root:### EPOCH #12\n",
      "INFO:root:### EPOCH #13\n",
      "INFO:root:### EPOCH #14\n",
      "INFO:root:### EPOCH #15\n",
      "INFO:root:### EPOCH #16\n",
      "INFO:root:### EPOCH #17\n",
      "INFO:root:### EPOCH #18\n",
      "INFO:root:### EPOCH #19\n"
     ]
    },
    {
     "name": "stdout",
     "output_type": "stream",
     "text": [
      "====EP 20\n"
     ]
    },
    {
     "name": "stderr",
     "output_type": "stream",
     "text": [
      "INFO:root:### EPOCH #1\n",
      "INFO:root:### EPOCH #2\n",
      "INFO:root:### EPOCH #3\n",
      "INFO:root:### EPOCH #4\n",
      "INFO:root:### EPOCH #5\n",
      "INFO:root:### EPOCH #6\n",
      "INFO:root:### EPOCH #7\n",
      "INFO:root:### EPOCH #8\n",
      "INFO:root:### EPOCH #9\n",
      "INFO:root:### EPOCH #10\n",
      "INFO:root:### EPOCH #11\n",
      "INFO:root:### EPOCH #12\n",
      "INFO:root:### EPOCH #13\n",
      "INFO:root:### EPOCH #14\n",
      "INFO:root:### EPOCH #15\n",
      "INFO:root:### EPOCH #16\n",
      "INFO:root:### EPOCH #17\n",
      "INFO:root:### EPOCH #18\n",
      "INFO:root:### EPOCH #19\n",
      "INFO:root:### EPOCH #20\n"
     ]
    },
    {
     "name": "stdout",
     "output_type": "stream",
     "text": [
      "====EP 21\n"
     ]
    },
    {
     "name": "stderr",
     "output_type": "stream",
     "text": [
      "INFO:root:### EPOCH #1\n",
      "INFO:root:### EPOCH #2\n",
      "INFO:root:### EPOCH #3\n",
      "INFO:root:### EPOCH #4\n",
      "INFO:root:### EPOCH #5\n",
      "INFO:root:### EPOCH #6\n",
      "INFO:root:### EPOCH #7\n",
      "INFO:root:### EPOCH #8\n",
      "INFO:root:### EPOCH #9\n",
      "INFO:root:### EPOCH #10\n",
      "INFO:root:### EPOCH #11\n",
      "INFO:root:### EPOCH #12\n",
      "INFO:root:### EPOCH #13\n",
      "INFO:root:### EPOCH #14\n",
      "INFO:root:### EPOCH #15\n",
      "INFO:root:### EPOCH #16\n",
      "INFO:root:### EPOCH #17\n",
      "INFO:root:### EPOCH #18\n",
      "INFO:root:### EPOCH #19\n",
      "INFO:root:### EPOCH #20\n",
      "INFO:root:### EPOCH #21\n"
     ]
    },
    {
     "name": "stdout",
     "output_type": "stream",
     "text": [
      "====EP 22\n"
     ]
    },
    {
     "name": "stderr",
     "output_type": "stream",
     "text": [
      "INFO:root:### EPOCH #1\n",
      "INFO:root:### EPOCH #2\n",
      "INFO:root:### EPOCH #3\n",
      "INFO:root:### EPOCH #4\n",
      "INFO:root:### EPOCH #5\n",
      "INFO:root:### EPOCH #6\n",
      "INFO:root:### EPOCH #7\n",
      "INFO:root:### EPOCH #8\n",
      "INFO:root:### EPOCH #9\n",
      "INFO:root:### EPOCH #10\n",
      "INFO:root:### EPOCH #11\n",
      "INFO:root:### EPOCH #12\n",
      "INFO:root:### EPOCH #13\n",
      "INFO:root:### EPOCH #14\n",
      "INFO:root:### EPOCH #15\n",
      "INFO:root:### EPOCH #16\n",
      "INFO:root:### EPOCH #17\n",
      "INFO:root:### EPOCH #18\n",
      "INFO:root:### EPOCH #19\n",
      "INFO:root:### EPOCH #20\n",
      "INFO:root:### EPOCH #21\n",
      "INFO:root:### EPOCH #22\n"
     ]
    },
    {
     "name": "stdout",
     "output_type": "stream",
     "text": [
      "====EP 23\n"
     ]
    },
    {
     "name": "stderr",
     "output_type": "stream",
     "text": [
      "INFO:root:### EPOCH #1\n",
      "INFO:root:### EPOCH #2\n",
      "INFO:root:### EPOCH #3\n",
      "INFO:root:### EPOCH #4\n",
      "INFO:root:### EPOCH #5\n",
      "INFO:root:### EPOCH #6\n",
      "INFO:root:### EPOCH #7\n",
      "INFO:root:### EPOCH #8\n",
      "INFO:root:### EPOCH #9\n",
      "INFO:root:### EPOCH #10\n",
      "INFO:root:### EPOCH #11\n",
      "INFO:root:### EPOCH #12\n",
      "INFO:root:### EPOCH #13\n",
      "INFO:root:### EPOCH #14\n",
      "INFO:root:### EPOCH #15\n",
      "INFO:root:### EPOCH #16\n",
      "INFO:root:### EPOCH #17\n",
      "INFO:root:### EPOCH #18\n",
      "INFO:root:### EPOCH #19\n",
      "INFO:root:### EPOCH #20\n",
      "INFO:root:### EPOCH #21\n",
      "INFO:root:### EPOCH #22\n",
      "INFO:root:### EPOCH #23\n"
     ]
    },
    {
     "name": "stdout",
     "output_type": "stream",
     "text": [
      "====EP 24\n"
     ]
    },
    {
     "name": "stderr",
     "output_type": "stream",
     "text": [
      "INFO:root:### EPOCH #1\n",
      "INFO:root:### EPOCH #2\n",
      "INFO:root:### EPOCH #3\n",
      "INFO:root:### EPOCH #4\n",
      "INFO:root:### EPOCH #5\n",
      "INFO:root:### EPOCH #6\n",
      "INFO:root:### EPOCH #7\n",
      "INFO:root:### EPOCH #8\n",
      "INFO:root:### EPOCH #9\n",
      "INFO:root:### EPOCH #10\n",
      "INFO:root:### EPOCH #11\n",
      "INFO:root:### EPOCH #12\n",
      "INFO:root:### EPOCH #13\n",
      "INFO:root:### EPOCH #14\n",
      "INFO:root:### EPOCH #15\n",
      "INFO:root:### EPOCH #16\n",
      "INFO:root:### EPOCH #17\n",
      "INFO:root:### EPOCH #18\n",
      "INFO:root:### EPOCH #19\n",
      "INFO:root:### EPOCH #20\n",
      "INFO:root:### EPOCH #21\n",
      "INFO:root:### EPOCH #22\n",
      "INFO:root:### EPOCH #23\n",
      "INFO:root:### EPOCH #24\n"
     ]
    },
    {
     "name": "stdout",
     "output_type": "stream",
     "text": [
      "====EP 25\n"
     ]
    },
    {
     "name": "stderr",
     "output_type": "stream",
     "text": [
      "INFO:root:### EPOCH #1\n",
      "INFO:root:### EPOCH #2\n",
      "INFO:root:### EPOCH #3\n",
      "INFO:root:### EPOCH #4\n",
      "INFO:root:### EPOCH #5\n",
      "INFO:root:### EPOCH #6\n",
      "INFO:root:### EPOCH #7\n",
      "INFO:root:### EPOCH #8\n",
      "INFO:root:### EPOCH #9\n",
      "INFO:root:### EPOCH #10\n",
      "INFO:root:### EPOCH #11\n",
      "INFO:root:### EPOCH #12\n",
      "INFO:root:### EPOCH #13\n",
      "INFO:root:### EPOCH #14\n",
      "INFO:root:### EPOCH #15\n",
      "INFO:root:### EPOCH #16\n",
      "INFO:root:### EPOCH #17\n",
      "INFO:root:### EPOCH #18\n",
      "INFO:root:### EPOCH #19\n",
      "INFO:root:### EPOCH #20\n",
      "INFO:root:### EPOCH #21\n",
      "INFO:root:### EPOCH #22\n",
      "INFO:root:### EPOCH #23\n",
      "INFO:root:### EPOCH #24\n",
      "INFO:root:### EPOCH #25\n"
     ]
    },
    {
     "name": "stdout",
     "output_type": "stream",
     "text": [
      "====EP 26\n"
     ]
    },
    {
     "name": "stderr",
     "output_type": "stream",
     "text": [
      "INFO:root:### EPOCH #1\n",
      "INFO:root:### EPOCH #2\n",
      "INFO:root:### EPOCH #3\n",
      "INFO:root:### EPOCH #4\n",
      "INFO:root:### EPOCH #5\n",
      "INFO:root:### EPOCH #6\n",
      "INFO:root:### EPOCH #7\n",
      "INFO:root:### EPOCH #8\n",
      "INFO:root:### EPOCH #9\n",
      "INFO:root:### EPOCH #10\n",
      "INFO:root:### EPOCH #11\n",
      "INFO:root:### EPOCH #12\n",
      "INFO:root:### EPOCH #13\n",
      "INFO:root:### EPOCH #14\n",
      "INFO:root:### EPOCH #15\n",
      "INFO:root:### EPOCH #16\n",
      "INFO:root:### EPOCH #17\n",
      "INFO:root:### EPOCH #18\n",
      "INFO:root:### EPOCH #19\n",
      "INFO:root:### EPOCH #20\n",
      "INFO:root:### EPOCH #21\n",
      "INFO:root:### EPOCH #22\n",
      "INFO:root:### EPOCH #23\n",
      "INFO:root:### EPOCH #24\n",
      "INFO:root:### EPOCH #25\n",
      "INFO:root:### EPOCH #26\n"
     ]
    },
    {
     "name": "stdout",
     "output_type": "stream",
     "text": [
      "====EP 27\n"
     ]
    },
    {
     "name": "stderr",
     "output_type": "stream",
     "text": [
      "INFO:root:### EPOCH #1\n",
      "INFO:root:### EPOCH #2\n",
      "INFO:root:### EPOCH #3\n",
      "INFO:root:### EPOCH #4\n",
      "INFO:root:### EPOCH #5\n",
      "INFO:root:### EPOCH #6\n",
      "INFO:root:### EPOCH #7\n",
      "INFO:root:### EPOCH #8\n",
      "INFO:root:### EPOCH #9\n",
      "INFO:root:### EPOCH #10\n",
      "INFO:root:### EPOCH #11\n",
      "INFO:root:### EPOCH #12\n",
      "INFO:root:### EPOCH #13\n",
      "INFO:root:### EPOCH #14\n",
      "INFO:root:### EPOCH #15\n",
      "INFO:root:### EPOCH #16\n",
      "INFO:root:### EPOCH #17\n",
      "INFO:root:### EPOCH #18\n",
      "INFO:root:### EPOCH #19\n",
      "INFO:root:### EPOCH #20\n",
      "INFO:root:### EPOCH #21\n",
      "INFO:root:### EPOCH #22\n",
      "INFO:root:### EPOCH #23\n",
      "INFO:root:### EPOCH #24\n",
      "INFO:root:### EPOCH #25\n",
      "INFO:root:### EPOCH #26\n",
      "INFO:root:### EPOCH #27\n"
     ]
    },
    {
     "name": "stdout",
     "output_type": "stream",
     "text": [
      "====EP 28\n"
     ]
    },
    {
     "name": "stderr",
     "output_type": "stream",
     "text": [
      "INFO:root:### EPOCH #1\n",
      "INFO:root:### EPOCH #2\n",
      "INFO:root:### EPOCH #3\n",
      "INFO:root:### EPOCH #4\n",
      "INFO:root:### EPOCH #5\n",
      "INFO:root:### EPOCH #6\n",
      "INFO:root:### EPOCH #7\n",
      "INFO:root:### EPOCH #8\n",
      "INFO:root:### EPOCH #9\n",
      "INFO:root:### EPOCH #10\n",
      "INFO:root:### EPOCH #11\n",
      "INFO:root:### EPOCH #12\n",
      "INFO:root:### EPOCH #13\n",
      "INFO:root:### EPOCH #14\n",
      "INFO:root:### EPOCH #15\n",
      "INFO:root:### EPOCH #16\n",
      "INFO:root:### EPOCH #17\n",
      "INFO:root:### EPOCH #18\n",
      "INFO:root:### EPOCH #19\n",
      "INFO:root:### EPOCH #20\n",
      "INFO:root:### EPOCH #21\n",
      "INFO:root:### EPOCH #22\n",
      "INFO:root:### EPOCH #23\n",
      "INFO:root:### EPOCH #24\n",
      "INFO:root:### EPOCH #25\n",
      "INFO:root:### EPOCH #26\n",
      "INFO:root:### EPOCH #27\n",
      "INFO:root:### EPOCH #28\n"
     ]
    },
    {
     "name": "stdout",
     "output_type": "stream",
     "text": [
      ">>>>>>>>>>>>>>>>>> ITERATION 3\n",
      "[15:07:25] WARNING: /Users/travis/build/dmlc/xgboost/src/learner.cc:1095: Starting in XGBoost 1.3.0, the default evaluation metric used with the objective 'binary:logistic' was changed from 'error' to 'logloss'. Explicitly set eval_metric if you'd like to restore the old behavior.\n",
      "============K 1\n",
      "====EP 0\n",
      "====EP 1\n"
     ]
    },
    {
     "name": "stderr",
     "output_type": "stream",
     "text": [
      "INFO:root:### EPOCH #1\n",
      "INFO:root:### EPOCH #1\n"
     ]
    },
    {
     "name": "stdout",
     "output_type": "stream",
     "text": [
      "====EP 2\n"
     ]
    },
    {
     "name": "stderr",
     "output_type": "stream",
     "text": [
      "INFO:root:### EPOCH #1\n",
      "INFO:root:### EPOCH #2\n",
      "INFO:root:### EPOCH #1\n",
      "INFO:root:### EPOCH #2\n"
     ]
    },
    {
     "name": "stdout",
     "output_type": "stream",
     "text": [
      "====EP 3\n"
     ]
    },
    {
     "name": "stderr",
     "output_type": "stream",
     "text": [
      "INFO:root:### EPOCH #1\n",
      "INFO:root:### EPOCH #2\n",
      "INFO:root:### EPOCH #3\n",
      "INFO:root:### EPOCH #1\n",
      "INFO:root:### EPOCH #2\n",
      "INFO:root:### EPOCH #3\n"
     ]
    },
    {
     "name": "stdout",
     "output_type": "stream",
     "text": [
      "====EP 4\n"
     ]
    },
    {
     "name": "stderr",
     "output_type": "stream",
     "text": [
      "INFO:root:### EPOCH #1\n",
      "INFO:root:### EPOCH #2\n",
      "INFO:root:### EPOCH #3\n",
      "INFO:root:### EPOCH #4\n",
      "INFO:root:### EPOCH #1\n",
      "INFO:root:### EPOCH #2\n",
      "INFO:root:### EPOCH #3\n",
      "INFO:root:### EPOCH #4\n"
     ]
    },
    {
     "name": "stdout",
     "output_type": "stream",
     "text": [
      "====EP 5\n"
     ]
    },
    {
     "name": "stderr",
     "output_type": "stream",
     "text": [
      "INFO:root:### EPOCH #1\n",
      "INFO:root:### EPOCH #2\n",
      "INFO:root:### EPOCH #3\n",
      "INFO:root:### EPOCH #4\n",
      "INFO:root:### EPOCH #5\n",
      "INFO:root:### EPOCH #1\n",
      "INFO:root:### EPOCH #2\n",
      "INFO:root:### EPOCH #3\n",
      "INFO:root:### EPOCH #4\n",
      "INFO:root:### EPOCH #5\n"
     ]
    },
    {
     "name": "stdout",
     "output_type": "stream",
     "text": [
      "====EP 6\n"
     ]
    },
    {
     "name": "stderr",
     "output_type": "stream",
     "text": [
      "INFO:root:### EPOCH #1\n",
      "INFO:root:### EPOCH #2\n",
      "INFO:root:### EPOCH #3\n",
      "INFO:root:### EPOCH #4\n",
      "INFO:root:### EPOCH #5\n",
      "INFO:root:### EPOCH #6\n",
      "INFO:root:### EPOCH #1\n",
      "INFO:root:### EPOCH #2\n",
      "INFO:root:### EPOCH #3\n",
      "INFO:root:### EPOCH #4\n",
      "INFO:root:### EPOCH #5\n",
      "INFO:root:### EPOCH #6\n"
     ]
    },
    {
     "name": "stdout",
     "output_type": "stream",
     "text": [
      "====EP 7\n"
     ]
    },
    {
     "name": "stderr",
     "output_type": "stream",
     "text": [
      "INFO:root:### EPOCH #1\n",
      "INFO:root:### EPOCH #2\n",
      "INFO:root:### EPOCH #3\n",
      "INFO:root:### EPOCH #4\n",
      "INFO:root:### EPOCH #5\n",
      "INFO:root:### EPOCH #6\n",
      "INFO:root:### EPOCH #7\n",
      "INFO:root:### EPOCH #1\n",
      "INFO:root:### EPOCH #2\n",
      "INFO:root:### EPOCH #3\n",
      "INFO:root:### EPOCH #4\n",
      "INFO:root:### EPOCH #5\n",
      "INFO:root:### EPOCH #6\n",
      "INFO:root:### EPOCH #7\n"
     ]
    },
    {
     "name": "stdout",
     "output_type": "stream",
     "text": [
      "====EP 8\n"
     ]
    },
    {
     "name": "stderr",
     "output_type": "stream",
     "text": [
      "INFO:root:### EPOCH #1\n",
      "INFO:root:### EPOCH #2\n",
      "INFO:root:### EPOCH #3\n",
      "INFO:root:### EPOCH #4\n",
      "INFO:root:### EPOCH #5\n",
      "INFO:root:### EPOCH #6\n",
      "INFO:root:### EPOCH #7\n",
      "INFO:root:### EPOCH #8\n",
      "INFO:root:### EPOCH #1\n",
      "INFO:root:### EPOCH #2\n",
      "INFO:root:### EPOCH #3\n",
      "INFO:root:### EPOCH #4\n",
      "INFO:root:### EPOCH #5\n",
      "INFO:root:### EPOCH #6\n",
      "INFO:root:### EPOCH #7\n",
      "INFO:root:### EPOCH #8\n"
     ]
    },
    {
     "name": "stdout",
     "output_type": "stream",
     "text": [
      "====EP 9\n"
     ]
    },
    {
     "name": "stderr",
     "output_type": "stream",
     "text": [
      "INFO:root:### EPOCH #1\n",
      "INFO:root:### EPOCH #2\n",
      "INFO:root:### EPOCH #3\n",
      "INFO:root:### EPOCH #4\n",
      "INFO:root:### EPOCH #5\n",
      "INFO:root:### EPOCH #6\n",
      "INFO:root:### EPOCH #7\n",
      "INFO:root:### EPOCH #8\n",
      "INFO:root:### EPOCH #9\n",
      "INFO:root:### EPOCH #1\n",
      "INFO:root:### EPOCH #2\n",
      "INFO:root:### EPOCH #3\n",
      "INFO:root:### EPOCH #4\n",
      "INFO:root:### EPOCH #5\n",
      "INFO:root:### EPOCH #6\n",
      "INFO:root:### EPOCH #7\n",
      "INFO:root:### EPOCH #8\n",
      "INFO:root:### EPOCH #9\n"
     ]
    },
    {
     "name": "stdout",
     "output_type": "stream",
     "text": [
      "====EP 10\n"
     ]
    },
    {
     "name": "stderr",
     "output_type": "stream",
     "text": [
      "INFO:root:### EPOCH #1\n",
      "INFO:root:### EPOCH #2\n",
      "INFO:root:### EPOCH #3\n",
      "INFO:root:### EPOCH #4\n",
      "INFO:root:### EPOCH #5\n",
      "INFO:root:### EPOCH #6\n",
      "INFO:root:### EPOCH #7\n",
      "INFO:root:### EPOCH #8\n",
      "INFO:root:### EPOCH #9\n",
      "INFO:root:### EPOCH #10\n",
      "INFO:root:### EPOCH #1\n",
      "INFO:root:### EPOCH #2\n",
      "INFO:root:### EPOCH #3\n",
      "INFO:root:### EPOCH #4\n",
      "INFO:root:### EPOCH #5\n",
      "INFO:root:### EPOCH #6\n",
      "INFO:root:### EPOCH #7\n",
      "INFO:root:### EPOCH #8\n",
      "INFO:root:### EPOCH #9\n",
      "INFO:root:### EPOCH #10\n"
     ]
    },
    {
     "name": "stdout",
     "output_type": "stream",
     "text": [
      "====EP 11\n"
     ]
    },
    {
     "name": "stderr",
     "output_type": "stream",
     "text": [
      "INFO:root:### EPOCH #1\n",
      "INFO:root:### EPOCH #2\n",
      "INFO:root:### EPOCH #3\n",
      "INFO:root:### EPOCH #4\n",
      "INFO:root:### EPOCH #5\n",
      "INFO:root:### EPOCH #6\n",
      "INFO:root:### EPOCH #7\n",
      "INFO:root:### EPOCH #8\n",
      "INFO:root:### EPOCH #9\n",
      "INFO:root:### EPOCH #10\n",
      "INFO:root:### EPOCH #11\n"
     ]
    },
    {
     "name": "stdout",
     "output_type": "stream",
     "text": [
      "====EP 12\n"
     ]
    },
    {
     "name": "stderr",
     "output_type": "stream",
     "text": [
      "INFO:root:### EPOCH #1\n",
      "INFO:root:### EPOCH #2\n",
      "INFO:root:### EPOCH #3\n",
      "INFO:root:### EPOCH #4\n",
      "INFO:root:### EPOCH #5\n",
      "INFO:root:### EPOCH #6\n",
      "INFO:root:### EPOCH #7\n",
      "INFO:root:### EPOCH #8\n",
      "INFO:root:### EPOCH #9\n",
      "INFO:root:### EPOCH #10\n",
      "INFO:root:### EPOCH #11\n",
      "INFO:root:### EPOCH #12\n"
     ]
    },
    {
     "name": "stdout",
     "output_type": "stream",
     "text": [
      "====EP 13\n"
     ]
    },
    {
     "name": "stderr",
     "output_type": "stream",
     "text": [
      "INFO:root:### EPOCH #1\n",
      "INFO:root:### EPOCH #2\n",
      "INFO:root:### EPOCH #3\n",
      "INFO:root:### EPOCH #4\n",
      "INFO:root:### EPOCH #5\n",
      "INFO:root:### EPOCH #6\n",
      "INFO:root:### EPOCH #7\n",
      "INFO:root:### EPOCH #8\n",
      "INFO:root:### EPOCH #9\n",
      "INFO:root:### EPOCH #10\n",
      "INFO:root:### EPOCH #11\n",
      "INFO:root:### EPOCH #12\n",
      "INFO:root:### EPOCH #13\n"
     ]
    },
    {
     "name": "stdout",
     "output_type": "stream",
     "text": [
      "====EP 14\n"
     ]
    },
    {
     "name": "stderr",
     "output_type": "stream",
     "text": [
      "INFO:root:### EPOCH #1\n",
      "INFO:root:### EPOCH #2\n",
      "INFO:root:### EPOCH #3\n",
      "INFO:root:### EPOCH #4\n",
      "INFO:root:### EPOCH #5\n",
      "INFO:root:### EPOCH #6\n",
      "INFO:root:### EPOCH #7\n",
      "INFO:root:### EPOCH #8\n",
      "INFO:root:### EPOCH #9\n",
      "INFO:root:### EPOCH #10\n",
      "INFO:root:### EPOCH #11\n",
      "INFO:root:### EPOCH #12\n",
      "INFO:root:### EPOCH #13\n",
      "INFO:root:### EPOCH #14\n"
     ]
    },
    {
     "name": "stdout",
     "output_type": "stream",
     "text": [
      "====EP 15\n"
     ]
    },
    {
     "name": "stderr",
     "output_type": "stream",
     "text": [
      "INFO:root:### EPOCH #1\n",
      "INFO:root:### EPOCH #2\n",
      "INFO:root:### EPOCH #3\n",
      "INFO:root:### EPOCH #4\n",
      "INFO:root:### EPOCH #5\n",
      "INFO:root:### EPOCH #6\n",
      "INFO:root:### EPOCH #7\n",
      "INFO:root:### EPOCH #8\n",
      "INFO:root:### EPOCH #9\n",
      "INFO:root:### EPOCH #10\n",
      "INFO:root:### EPOCH #11\n",
      "INFO:root:### EPOCH #12\n",
      "INFO:root:### EPOCH #13\n",
      "INFO:root:### EPOCH #14\n",
      "INFO:root:### EPOCH #15\n"
     ]
    },
    {
     "name": "stdout",
     "output_type": "stream",
     "text": [
      "====EP 16\n"
     ]
    },
    {
     "name": "stderr",
     "output_type": "stream",
     "text": [
      "INFO:root:### EPOCH #1\n",
      "INFO:root:### EPOCH #2\n",
      "INFO:root:### EPOCH #3\n",
      "INFO:root:### EPOCH #4\n",
      "INFO:root:### EPOCH #5\n",
      "INFO:root:### EPOCH #6\n",
      "INFO:root:### EPOCH #7\n",
      "INFO:root:### EPOCH #8\n",
      "INFO:root:### EPOCH #9\n",
      "INFO:root:### EPOCH #10\n",
      "INFO:root:### EPOCH #11\n",
      "INFO:root:### EPOCH #12\n",
      "INFO:root:### EPOCH #13\n",
      "INFO:root:### EPOCH #14\n",
      "INFO:root:### EPOCH #15\n",
      "INFO:root:### EPOCH #16\n"
     ]
    },
    {
     "name": "stdout",
     "output_type": "stream",
     "text": [
      "====EP 17\n"
     ]
    },
    {
     "name": "stderr",
     "output_type": "stream",
     "text": [
      "INFO:root:### EPOCH #1\n",
      "INFO:root:### EPOCH #2\n",
      "INFO:root:### EPOCH #3\n",
      "INFO:root:### EPOCH #4\n",
      "INFO:root:### EPOCH #5\n",
      "INFO:root:### EPOCH #6\n",
      "INFO:root:### EPOCH #7\n",
      "INFO:root:### EPOCH #8\n",
      "INFO:root:### EPOCH #9\n",
      "INFO:root:### EPOCH #10\n",
      "INFO:root:### EPOCH #11\n",
      "INFO:root:### EPOCH #12\n",
      "INFO:root:### EPOCH #13\n",
      "INFO:root:### EPOCH #14\n",
      "INFO:root:### EPOCH #15\n",
      "INFO:root:### EPOCH #16\n",
      "INFO:root:### EPOCH #17\n"
     ]
    },
    {
     "name": "stdout",
     "output_type": "stream",
     "text": [
      "====EP 18\n"
     ]
    },
    {
     "name": "stderr",
     "output_type": "stream",
     "text": [
      "INFO:root:### EPOCH #1\n",
      "INFO:root:### EPOCH #2\n",
      "INFO:root:### EPOCH #3\n",
      "INFO:root:### EPOCH #4\n",
      "INFO:root:### EPOCH #5\n",
      "INFO:root:### EPOCH #6\n",
      "INFO:root:### EPOCH #7\n",
      "INFO:root:### EPOCH #8\n",
      "INFO:root:### EPOCH #9\n",
      "INFO:root:### EPOCH #10\n",
      "INFO:root:### EPOCH #11\n",
      "INFO:root:### EPOCH #12\n",
      "INFO:root:### EPOCH #13\n",
      "INFO:root:### EPOCH #14\n",
      "INFO:root:### EPOCH #15\n",
      "INFO:root:### EPOCH #16\n",
      "INFO:root:### EPOCH #17\n",
      "INFO:root:### EPOCH #18\n"
     ]
    },
    {
     "name": "stdout",
     "output_type": "stream",
     "text": [
      "====EP 19\n"
     ]
    },
    {
     "name": "stderr",
     "output_type": "stream",
     "text": [
      "INFO:root:### EPOCH #1\n",
      "INFO:root:### EPOCH #2\n",
      "INFO:root:### EPOCH #3\n",
      "INFO:root:### EPOCH #4\n",
      "INFO:root:### EPOCH #5\n",
      "INFO:root:### EPOCH #6\n",
      "INFO:root:### EPOCH #7\n",
      "INFO:root:### EPOCH #8\n",
      "INFO:root:### EPOCH #9\n",
      "INFO:root:### EPOCH #10\n",
      "INFO:root:### EPOCH #11\n",
      "INFO:root:### EPOCH #12\n",
      "INFO:root:### EPOCH #13\n",
      "INFO:root:### EPOCH #14\n",
      "INFO:root:### EPOCH #15\n",
      "INFO:root:### EPOCH #16\n",
      "INFO:root:### EPOCH #17\n",
      "INFO:root:### EPOCH #18\n",
      "INFO:root:### EPOCH #19\n"
     ]
    },
    {
     "name": "stdout",
     "output_type": "stream",
     "text": [
      "====EP 20\n"
     ]
    },
    {
     "name": "stderr",
     "output_type": "stream",
     "text": [
      "INFO:root:### EPOCH #1\n",
      "INFO:root:### EPOCH #2\n",
      "INFO:root:### EPOCH #3\n",
      "INFO:root:### EPOCH #4\n",
      "INFO:root:### EPOCH #5\n",
      "INFO:root:### EPOCH #6\n",
      "INFO:root:### EPOCH #7\n",
      "INFO:root:### EPOCH #8\n",
      "INFO:root:### EPOCH #9\n",
      "INFO:root:### EPOCH #10\n",
      "INFO:root:### EPOCH #11\n",
      "INFO:root:### EPOCH #12\n",
      "INFO:root:### EPOCH #13\n",
      "INFO:root:### EPOCH #14\n",
      "INFO:root:### EPOCH #15\n",
      "INFO:root:### EPOCH #16\n",
      "INFO:root:### EPOCH #17\n",
      "INFO:root:### EPOCH #18\n",
      "INFO:root:### EPOCH #19\n",
      "INFO:root:### EPOCH #20\n"
     ]
    },
    {
     "name": "stdout",
     "output_type": "stream",
     "text": [
      "====EP 21\n"
     ]
    },
    {
     "name": "stderr",
     "output_type": "stream",
     "text": [
      "INFO:root:### EPOCH #1\n",
      "INFO:root:### EPOCH #2\n",
      "INFO:root:### EPOCH #3\n",
      "INFO:root:### EPOCH #4\n",
      "INFO:root:### EPOCH #5\n",
      "INFO:root:### EPOCH #6\n",
      "INFO:root:### EPOCH #7\n",
      "INFO:root:### EPOCH #8\n",
      "INFO:root:### EPOCH #9\n",
      "INFO:root:### EPOCH #10\n",
      "INFO:root:### EPOCH #11\n",
      "INFO:root:### EPOCH #12\n",
      "INFO:root:### EPOCH #13\n",
      "INFO:root:### EPOCH #14\n",
      "INFO:root:### EPOCH #15\n",
      "INFO:root:### EPOCH #16\n",
      "INFO:root:### EPOCH #17\n",
      "INFO:root:### EPOCH #18\n",
      "INFO:root:### EPOCH #19\n",
      "INFO:root:### EPOCH #20\n",
      "INFO:root:### EPOCH #21\n"
     ]
    },
    {
     "name": "stdout",
     "output_type": "stream",
     "text": [
      "====EP 22\n"
     ]
    },
    {
     "name": "stderr",
     "output_type": "stream",
     "text": [
      "INFO:root:### EPOCH #1\n",
      "INFO:root:### EPOCH #2\n",
      "INFO:root:### EPOCH #3\n",
      "INFO:root:### EPOCH #4\n",
      "INFO:root:### EPOCH #5\n",
      "INFO:root:### EPOCH #6\n",
      "INFO:root:### EPOCH #7\n",
      "INFO:root:### EPOCH #8\n",
      "INFO:root:### EPOCH #9\n",
      "INFO:root:### EPOCH #10\n",
      "INFO:root:### EPOCH #11\n",
      "INFO:root:### EPOCH #12\n",
      "INFO:root:### EPOCH #13\n",
      "INFO:root:### EPOCH #14\n",
      "INFO:root:### EPOCH #15\n",
      "INFO:root:### EPOCH #16\n",
      "INFO:root:### EPOCH #17\n",
      "INFO:root:### EPOCH #18\n",
      "INFO:root:### EPOCH #19\n",
      "INFO:root:### EPOCH #20\n",
      "INFO:root:### EPOCH #21\n",
      "INFO:root:### EPOCH #22\n"
     ]
    },
    {
     "name": "stdout",
     "output_type": "stream",
     "text": [
      "====EP 23\n"
     ]
    },
    {
     "name": "stderr",
     "output_type": "stream",
     "text": [
      "INFO:root:### EPOCH #1\n",
      "INFO:root:### EPOCH #2\n",
      "INFO:root:### EPOCH #3\n",
      "INFO:root:### EPOCH #4\n",
      "INFO:root:### EPOCH #5\n",
      "INFO:root:### EPOCH #6\n",
      "INFO:root:### EPOCH #7\n",
      "INFO:root:### EPOCH #8\n",
      "INFO:root:### EPOCH #9\n",
      "INFO:root:### EPOCH #10\n",
      "INFO:root:### EPOCH #11\n",
      "INFO:root:### EPOCH #12\n",
      "INFO:root:### EPOCH #13\n",
      "INFO:root:### EPOCH #14\n",
      "INFO:root:### EPOCH #15\n",
      "INFO:root:### EPOCH #16\n",
      "INFO:root:### EPOCH #17\n",
      "INFO:root:### EPOCH #18\n",
      "INFO:root:### EPOCH #19\n",
      "INFO:root:### EPOCH #20\n",
      "INFO:root:### EPOCH #21\n",
      "INFO:root:### EPOCH #22\n",
      "INFO:root:### EPOCH #23\n"
     ]
    },
    {
     "name": "stdout",
     "output_type": "stream",
     "text": [
      "====EP 24\n"
     ]
    },
    {
     "name": "stderr",
     "output_type": "stream",
     "text": [
      "INFO:root:### EPOCH #1\n",
      "INFO:root:### EPOCH #2\n",
      "INFO:root:### EPOCH #3\n",
      "INFO:root:### EPOCH #4\n",
      "INFO:root:### EPOCH #5\n",
      "INFO:root:### EPOCH #6\n",
      "INFO:root:### EPOCH #7\n",
      "INFO:root:### EPOCH #8\n",
      "INFO:root:### EPOCH #9\n",
      "INFO:root:### EPOCH #10\n",
      "INFO:root:### EPOCH #11\n",
      "INFO:root:### EPOCH #12\n",
      "INFO:root:### EPOCH #13\n",
      "INFO:root:### EPOCH #14\n",
      "INFO:root:### EPOCH #15\n",
      "INFO:root:### EPOCH #16\n",
      "INFO:root:### EPOCH #17\n",
      "INFO:root:### EPOCH #18\n",
      "INFO:root:### EPOCH #19\n",
      "INFO:root:### EPOCH #20\n",
      "INFO:root:### EPOCH #21\n",
      "INFO:root:### EPOCH #22\n",
      "INFO:root:### EPOCH #23\n",
      "INFO:root:### EPOCH #24\n"
     ]
    },
    {
     "name": "stdout",
     "output_type": "stream",
     "text": [
      "====EP 25\n"
     ]
    },
    {
     "name": "stderr",
     "output_type": "stream",
     "text": [
      "INFO:root:### EPOCH #1\n",
      "INFO:root:### EPOCH #2\n",
      "INFO:root:### EPOCH #3\n",
      "INFO:root:### EPOCH #4\n",
      "INFO:root:### EPOCH #5\n",
      "INFO:root:### EPOCH #6\n",
      "INFO:root:### EPOCH #7\n",
      "INFO:root:### EPOCH #8\n",
      "INFO:root:### EPOCH #9\n",
      "INFO:root:### EPOCH #10\n",
      "INFO:root:### EPOCH #11\n",
      "INFO:root:### EPOCH #12\n",
      "INFO:root:### EPOCH #13\n",
      "INFO:root:### EPOCH #14\n",
      "INFO:root:### EPOCH #15\n",
      "INFO:root:### EPOCH #16\n",
      "INFO:root:### EPOCH #17\n",
      "INFO:root:### EPOCH #18\n",
      "INFO:root:### EPOCH #19\n",
      "INFO:root:### EPOCH #20\n",
      "INFO:root:### EPOCH #21\n",
      "INFO:root:### EPOCH #22\n",
      "INFO:root:### EPOCH #23\n",
      "INFO:root:### EPOCH #24\n",
      "INFO:root:### EPOCH #25\n"
     ]
    },
    {
     "name": "stdout",
     "output_type": "stream",
     "text": [
      "====EP 26\n"
     ]
    },
    {
     "name": "stderr",
     "output_type": "stream",
     "text": [
      "INFO:root:### EPOCH #1\n",
      "INFO:root:### EPOCH #2\n",
      "INFO:root:### EPOCH #3\n",
      "INFO:root:### EPOCH #4\n",
      "INFO:root:### EPOCH #5\n",
      "INFO:root:### EPOCH #6\n",
      "INFO:root:### EPOCH #7\n",
      "INFO:root:### EPOCH #8\n",
      "INFO:root:### EPOCH #9\n",
      "INFO:root:### EPOCH #10\n",
      "INFO:root:### EPOCH #11\n",
      "INFO:root:### EPOCH #12\n",
      "INFO:root:### EPOCH #13\n",
      "INFO:root:### EPOCH #14\n",
      "INFO:root:### EPOCH #15\n",
      "INFO:root:### EPOCH #16\n",
      "INFO:root:### EPOCH #17\n",
      "INFO:root:### EPOCH #18\n",
      "INFO:root:### EPOCH #19\n",
      "INFO:root:### EPOCH #20\n",
      "INFO:root:### EPOCH #21\n",
      "INFO:root:### EPOCH #22\n",
      "INFO:root:### EPOCH #23\n",
      "INFO:root:### EPOCH #24\n",
      "INFO:root:### EPOCH #25\n",
      "INFO:root:### EPOCH #26\n"
     ]
    },
    {
     "name": "stdout",
     "output_type": "stream",
     "text": [
      "====EP 27\n"
     ]
    },
    {
     "name": "stderr",
     "output_type": "stream",
     "text": [
      "INFO:root:### EPOCH #1\n",
      "INFO:root:### EPOCH #2\n",
      "INFO:root:### EPOCH #3\n",
      "INFO:root:### EPOCH #4\n",
      "INFO:root:### EPOCH #5\n",
      "INFO:root:### EPOCH #6\n",
      "INFO:root:### EPOCH #7\n",
      "INFO:root:### EPOCH #8\n",
      "INFO:root:### EPOCH #9\n",
      "INFO:root:### EPOCH #10\n",
      "INFO:root:### EPOCH #11\n",
      "INFO:root:### EPOCH #12\n",
      "INFO:root:### EPOCH #13\n",
      "INFO:root:### EPOCH #14\n",
      "INFO:root:### EPOCH #15\n",
      "INFO:root:### EPOCH #16\n",
      "INFO:root:### EPOCH #17\n",
      "INFO:root:### EPOCH #18\n",
      "INFO:root:### EPOCH #19\n",
      "INFO:root:### EPOCH #20\n",
      "INFO:root:### EPOCH #21\n",
      "INFO:root:### EPOCH #22\n",
      "INFO:root:### EPOCH #23\n",
      "INFO:root:### EPOCH #24\n",
      "INFO:root:### EPOCH #25\n",
      "INFO:root:### EPOCH #26\n",
      "INFO:root:### EPOCH #27\n"
     ]
    },
    {
     "name": "stdout",
     "output_type": "stream",
     "text": [
      "====EP 28\n"
     ]
    },
    {
     "name": "stderr",
     "output_type": "stream",
     "text": [
      "INFO:root:### EPOCH #1\n",
      "INFO:root:### EPOCH #2\n",
      "INFO:root:### EPOCH #3\n",
      "INFO:root:### EPOCH #4\n",
      "INFO:root:### EPOCH #5\n",
      "INFO:root:### EPOCH #6\n",
      "INFO:root:### EPOCH #7\n",
      "INFO:root:### EPOCH #8\n",
      "INFO:root:### EPOCH #9\n",
      "INFO:root:### EPOCH #10\n",
      "INFO:root:### EPOCH #11\n",
      "INFO:root:### EPOCH #12\n",
      "INFO:root:### EPOCH #13\n",
      "INFO:root:### EPOCH #14\n",
      "INFO:root:### EPOCH #15\n",
      "INFO:root:### EPOCH #16\n",
      "INFO:root:### EPOCH #17\n",
      "INFO:root:### EPOCH #18\n",
      "INFO:root:### EPOCH #19\n",
      "INFO:root:### EPOCH #20\n",
      "INFO:root:### EPOCH #21\n",
      "INFO:root:### EPOCH #22\n",
      "INFO:root:### EPOCH #23\n",
      "INFO:root:### EPOCH #24\n",
      "INFO:root:### EPOCH #25\n",
      "INFO:root:### EPOCH #26\n",
      "INFO:root:### EPOCH #27\n",
      "INFO:root:### EPOCH #28\n"
     ]
    },
    {
     "name": "stdout",
     "output_type": "stream",
     "text": [
      ">>>>>>>>>>>>>>>>>> ITERATION 4\n",
      "[15:11:12] WARNING: /Users/travis/build/dmlc/xgboost/src/learner.cc:1095: Starting in XGBoost 1.3.0, the default evaluation metric used with the objective 'binary:logistic' was changed from 'error' to 'logloss'. Explicitly set eval_metric if you'd like to restore the old behavior.\n",
      "============K 1\n",
      "====EP 0\n",
      "====EP 1\n"
     ]
    },
    {
     "name": "stderr",
     "output_type": "stream",
     "text": [
      "INFO:root:### EPOCH #1\n",
      "INFO:root:### EPOCH #1\n"
     ]
    },
    {
     "name": "stdout",
     "output_type": "stream",
     "text": [
      "====EP 2\n"
     ]
    },
    {
     "name": "stderr",
     "output_type": "stream",
     "text": [
      "INFO:root:### EPOCH #1\n",
      "INFO:root:### EPOCH #2\n",
      "INFO:root:### EPOCH #1\n",
      "INFO:root:### EPOCH #2\n"
     ]
    },
    {
     "name": "stdout",
     "output_type": "stream",
     "text": [
      "====EP 3\n"
     ]
    },
    {
     "name": "stderr",
     "output_type": "stream",
     "text": [
      "INFO:root:### EPOCH #1\n",
      "INFO:root:### EPOCH #2\n",
      "INFO:root:### EPOCH #3\n",
      "INFO:root:### EPOCH #1\n",
      "INFO:root:### EPOCH #2\n",
      "INFO:root:### EPOCH #3\n"
     ]
    },
    {
     "name": "stdout",
     "output_type": "stream",
     "text": [
      "====EP 4\n"
     ]
    },
    {
     "name": "stderr",
     "output_type": "stream",
     "text": [
      "INFO:root:### EPOCH #1\n",
      "INFO:root:### EPOCH #2\n",
      "INFO:root:### EPOCH #3\n",
      "INFO:root:### EPOCH #4\n",
      "INFO:root:### EPOCH #1\n",
      "INFO:root:### EPOCH #2\n",
      "INFO:root:### EPOCH #3\n",
      "INFO:root:### EPOCH #4\n"
     ]
    },
    {
     "name": "stdout",
     "output_type": "stream",
     "text": [
      "====EP 5\n"
     ]
    },
    {
     "name": "stderr",
     "output_type": "stream",
     "text": [
      "INFO:root:### EPOCH #1\n",
      "INFO:root:### EPOCH #2\n",
      "INFO:root:### EPOCH #3\n",
      "INFO:root:### EPOCH #4\n",
      "INFO:root:### EPOCH #5\n",
      "INFO:root:### EPOCH #1\n",
      "INFO:root:### EPOCH #2\n",
      "INFO:root:### EPOCH #3\n",
      "INFO:root:### EPOCH #4\n",
      "INFO:root:### EPOCH #5\n"
     ]
    },
    {
     "name": "stdout",
     "output_type": "stream",
     "text": [
      "====EP 6\n"
     ]
    },
    {
     "name": "stderr",
     "output_type": "stream",
     "text": [
      "INFO:root:### EPOCH #1\n",
      "INFO:root:### EPOCH #2\n",
      "INFO:root:### EPOCH #3\n",
      "INFO:root:### EPOCH #4\n",
      "INFO:root:### EPOCH #5\n",
      "INFO:root:### EPOCH #6\n",
      "INFO:root:### EPOCH #1\n",
      "INFO:root:### EPOCH #2\n",
      "INFO:root:### EPOCH #3\n",
      "INFO:root:### EPOCH #4\n",
      "INFO:root:### EPOCH #5\n",
      "INFO:root:### EPOCH #6\n"
     ]
    },
    {
     "name": "stdout",
     "output_type": "stream",
     "text": [
      "====EP 7\n"
     ]
    },
    {
     "name": "stderr",
     "output_type": "stream",
     "text": [
      "INFO:root:### EPOCH #1\n",
      "INFO:root:### EPOCH #2\n",
      "INFO:root:### EPOCH #3\n",
      "INFO:root:### EPOCH #4\n",
      "INFO:root:### EPOCH #5\n",
      "INFO:root:### EPOCH #6\n",
      "INFO:root:### EPOCH #7\n",
      "INFO:root:### EPOCH #1\n",
      "INFO:root:### EPOCH #2\n",
      "INFO:root:### EPOCH #3\n",
      "INFO:root:### EPOCH #4\n",
      "INFO:root:### EPOCH #5\n",
      "INFO:root:### EPOCH #6\n",
      "INFO:root:### EPOCH #7\n"
     ]
    },
    {
     "name": "stdout",
     "output_type": "stream",
     "text": [
      "====EP 8\n"
     ]
    },
    {
     "name": "stderr",
     "output_type": "stream",
     "text": [
      "INFO:root:### EPOCH #1\n",
      "INFO:root:### EPOCH #2\n",
      "INFO:root:### EPOCH #3\n",
      "INFO:root:### EPOCH #4\n",
      "INFO:root:### EPOCH #5\n",
      "INFO:root:### EPOCH #6\n",
      "INFO:root:### EPOCH #7\n",
      "INFO:root:### EPOCH #8\n",
      "INFO:root:### EPOCH #1\n",
      "INFO:root:### EPOCH #2\n",
      "INFO:root:### EPOCH #3\n",
      "INFO:root:### EPOCH #4\n",
      "INFO:root:### EPOCH #5\n",
      "INFO:root:### EPOCH #6\n",
      "INFO:root:### EPOCH #7\n",
      "INFO:root:### EPOCH #8\n"
     ]
    },
    {
     "name": "stdout",
     "output_type": "stream",
     "text": [
      "====EP 9\n"
     ]
    },
    {
     "name": "stderr",
     "output_type": "stream",
     "text": [
      "INFO:root:### EPOCH #1\n",
      "INFO:root:### EPOCH #2\n",
      "INFO:root:### EPOCH #3\n",
      "INFO:root:### EPOCH #4\n",
      "INFO:root:### EPOCH #5\n",
      "INFO:root:### EPOCH #6\n",
      "INFO:root:### EPOCH #7\n",
      "INFO:root:### EPOCH #8\n",
      "INFO:root:### EPOCH #9\n",
      "INFO:root:### EPOCH #1\n",
      "INFO:root:### EPOCH #2\n",
      "INFO:root:### EPOCH #3\n",
      "INFO:root:### EPOCH #4\n",
      "INFO:root:### EPOCH #5\n",
      "INFO:root:### EPOCH #6\n",
      "INFO:root:### EPOCH #7\n",
      "INFO:root:### EPOCH #8\n",
      "INFO:root:### EPOCH #9\n"
     ]
    },
    {
     "name": "stdout",
     "output_type": "stream",
     "text": [
      "====EP 10\n"
     ]
    },
    {
     "name": "stderr",
     "output_type": "stream",
     "text": [
      "INFO:root:### EPOCH #1\n",
      "INFO:root:### EPOCH #2\n",
      "INFO:root:### EPOCH #3\n",
      "INFO:root:### EPOCH #4\n",
      "INFO:root:### EPOCH #5\n",
      "INFO:root:### EPOCH #6\n",
      "INFO:root:### EPOCH #7\n",
      "INFO:root:### EPOCH #8\n",
      "INFO:root:### EPOCH #9\n",
      "INFO:root:### EPOCH #10\n",
      "INFO:root:### EPOCH #1\n",
      "INFO:root:### EPOCH #2\n",
      "INFO:root:### EPOCH #3\n",
      "INFO:root:### EPOCH #4\n",
      "INFO:root:### EPOCH #5\n",
      "INFO:root:### EPOCH #6\n",
      "INFO:root:### EPOCH #7\n",
      "INFO:root:### EPOCH #8\n",
      "INFO:root:### EPOCH #9\n",
      "INFO:root:### EPOCH #10\n"
     ]
    },
    {
     "name": "stdout",
     "output_type": "stream",
     "text": [
      "====EP 11\n"
     ]
    },
    {
     "name": "stderr",
     "output_type": "stream",
     "text": [
      "INFO:root:### EPOCH #1\n",
      "INFO:root:### EPOCH #2\n",
      "INFO:root:### EPOCH #3\n",
      "INFO:root:### EPOCH #4\n",
      "INFO:root:### EPOCH #5\n",
      "INFO:root:### EPOCH #6\n",
      "INFO:root:### EPOCH #7\n",
      "INFO:root:### EPOCH #8\n",
      "INFO:root:### EPOCH #9\n",
      "INFO:root:### EPOCH #10\n",
      "INFO:root:### EPOCH #11\n"
     ]
    },
    {
     "name": "stdout",
     "output_type": "stream",
     "text": [
      "====EP 12\n"
     ]
    },
    {
     "name": "stderr",
     "output_type": "stream",
     "text": [
      "INFO:root:### EPOCH #1\n",
      "INFO:root:### EPOCH #2\n",
      "INFO:root:### EPOCH #3\n",
      "INFO:root:### EPOCH #4\n",
      "INFO:root:### EPOCH #5\n",
      "INFO:root:### EPOCH #6\n",
      "INFO:root:### EPOCH #7\n",
      "INFO:root:### EPOCH #8\n",
      "INFO:root:### EPOCH #9\n",
      "INFO:root:### EPOCH #10\n",
      "INFO:root:### EPOCH #11\n",
      "INFO:root:### EPOCH #12\n"
     ]
    },
    {
     "name": "stdout",
     "output_type": "stream",
     "text": [
      "====EP 13\n"
     ]
    },
    {
     "name": "stderr",
     "output_type": "stream",
     "text": [
      "INFO:root:### EPOCH #1\n",
      "INFO:root:### EPOCH #2\n",
      "INFO:root:### EPOCH #3\n",
      "INFO:root:### EPOCH #4\n",
      "INFO:root:### EPOCH #5\n",
      "INFO:root:### EPOCH #6\n",
      "INFO:root:### EPOCH #7\n",
      "INFO:root:### EPOCH #8\n",
      "INFO:root:### EPOCH #9\n",
      "INFO:root:### EPOCH #10\n",
      "INFO:root:### EPOCH #11\n",
      "INFO:root:### EPOCH #12\n",
      "INFO:root:### EPOCH #13\n"
     ]
    },
    {
     "name": "stdout",
     "output_type": "stream",
     "text": [
      "====EP 14\n"
     ]
    },
    {
     "name": "stderr",
     "output_type": "stream",
     "text": [
      "INFO:root:### EPOCH #1\n",
      "INFO:root:### EPOCH #2\n",
      "INFO:root:### EPOCH #3\n",
      "INFO:root:### EPOCH #4\n",
      "INFO:root:### EPOCH #5\n",
      "INFO:root:### EPOCH #6\n",
      "INFO:root:### EPOCH #7\n",
      "INFO:root:### EPOCH #8\n",
      "INFO:root:### EPOCH #9\n",
      "INFO:root:### EPOCH #10\n",
      "INFO:root:### EPOCH #11\n",
      "INFO:root:### EPOCH #12\n",
      "INFO:root:### EPOCH #13\n",
      "INFO:root:### EPOCH #14\n"
     ]
    },
    {
     "name": "stdout",
     "output_type": "stream",
     "text": [
      "====EP 15\n"
     ]
    },
    {
     "name": "stderr",
     "output_type": "stream",
     "text": [
      "INFO:root:### EPOCH #1\n",
      "INFO:root:### EPOCH #2\n",
      "INFO:root:### EPOCH #3\n",
      "INFO:root:### EPOCH #4\n",
      "INFO:root:### EPOCH #5\n",
      "INFO:root:### EPOCH #6\n",
      "INFO:root:### EPOCH #7\n",
      "INFO:root:### EPOCH #8\n",
      "INFO:root:### EPOCH #9\n",
      "INFO:root:### EPOCH #10\n",
      "INFO:root:### EPOCH #11\n",
      "INFO:root:### EPOCH #12\n",
      "INFO:root:### EPOCH #13\n",
      "INFO:root:### EPOCH #14\n",
      "INFO:root:### EPOCH #15\n"
     ]
    },
    {
     "name": "stdout",
     "output_type": "stream",
     "text": [
      "====EP 16\n"
     ]
    },
    {
     "name": "stderr",
     "output_type": "stream",
     "text": [
      "INFO:root:### EPOCH #1\n",
      "INFO:root:### EPOCH #2\n",
      "INFO:root:### EPOCH #3\n",
      "INFO:root:### EPOCH #4\n",
      "INFO:root:### EPOCH #5\n",
      "INFO:root:### EPOCH #6\n",
      "INFO:root:### EPOCH #7\n",
      "INFO:root:### EPOCH #8\n",
      "INFO:root:### EPOCH #9\n",
      "INFO:root:### EPOCH #10\n",
      "INFO:root:### EPOCH #11\n",
      "INFO:root:### EPOCH #12\n",
      "INFO:root:### EPOCH #13\n",
      "INFO:root:### EPOCH #14\n",
      "INFO:root:### EPOCH #15\n",
      "INFO:root:### EPOCH #16\n"
     ]
    },
    {
     "name": "stdout",
     "output_type": "stream",
     "text": [
      "====EP 17\n"
     ]
    },
    {
     "name": "stderr",
     "output_type": "stream",
     "text": [
      "INFO:root:### EPOCH #1\n",
      "INFO:root:### EPOCH #2\n",
      "INFO:root:### EPOCH #3\n",
      "INFO:root:### EPOCH #4\n",
      "INFO:root:### EPOCH #5\n",
      "INFO:root:### EPOCH #6\n",
      "INFO:root:### EPOCH #7\n",
      "INFO:root:### EPOCH #8\n",
      "INFO:root:### EPOCH #9\n",
      "INFO:root:### EPOCH #10\n",
      "INFO:root:### EPOCH #11\n",
      "INFO:root:### EPOCH #12\n",
      "INFO:root:### EPOCH #13\n",
      "INFO:root:### EPOCH #14\n",
      "INFO:root:### EPOCH #15\n",
      "INFO:root:### EPOCH #16\n",
      "INFO:root:### EPOCH #17\n"
     ]
    },
    {
     "name": "stdout",
     "output_type": "stream",
     "text": [
      "====EP 18\n"
     ]
    },
    {
     "name": "stderr",
     "output_type": "stream",
     "text": [
      "INFO:root:### EPOCH #1\n",
      "INFO:root:### EPOCH #2\n",
      "INFO:root:### EPOCH #3\n",
      "INFO:root:### EPOCH #4\n",
      "INFO:root:### EPOCH #5\n",
      "INFO:root:### EPOCH #6\n",
      "INFO:root:### EPOCH #7\n",
      "INFO:root:### EPOCH #8\n",
      "INFO:root:### EPOCH #9\n",
      "INFO:root:### EPOCH #10\n",
      "INFO:root:### EPOCH #11\n",
      "INFO:root:### EPOCH #12\n",
      "INFO:root:### EPOCH #13\n",
      "INFO:root:### EPOCH #14\n",
      "INFO:root:### EPOCH #15\n",
      "INFO:root:### EPOCH #16\n",
      "INFO:root:### EPOCH #17\n",
      "INFO:root:### EPOCH #18\n"
     ]
    },
    {
     "name": "stdout",
     "output_type": "stream",
     "text": [
      "====EP 19\n"
     ]
    },
    {
     "name": "stderr",
     "output_type": "stream",
     "text": [
      "INFO:root:### EPOCH #1\n",
      "INFO:root:### EPOCH #2\n",
      "INFO:root:### EPOCH #3\n",
      "INFO:root:### EPOCH #4\n",
      "INFO:root:### EPOCH #5\n",
      "INFO:root:### EPOCH #6\n",
      "INFO:root:### EPOCH #7\n",
      "INFO:root:### EPOCH #8\n",
      "INFO:root:### EPOCH #9\n",
      "INFO:root:### EPOCH #10\n",
      "INFO:root:### EPOCH #11\n",
      "INFO:root:### EPOCH #12\n",
      "INFO:root:### EPOCH #13\n",
      "INFO:root:### EPOCH #14\n",
      "INFO:root:### EPOCH #15\n",
      "INFO:root:### EPOCH #16\n",
      "INFO:root:### EPOCH #17\n",
      "INFO:root:### EPOCH #18\n",
      "INFO:root:### EPOCH #19\n"
     ]
    },
    {
     "name": "stdout",
     "output_type": "stream",
     "text": [
      "====EP 20\n"
     ]
    },
    {
     "name": "stderr",
     "output_type": "stream",
     "text": [
      "INFO:root:### EPOCH #1\n",
      "INFO:root:### EPOCH #2\n",
      "INFO:root:### EPOCH #3\n",
      "INFO:root:### EPOCH #4\n",
      "INFO:root:### EPOCH #5\n",
      "INFO:root:### EPOCH #6\n",
      "INFO:root:### EPOCH #7\n",
      "INFO:root:### EPOCH #8\n",
      "INFO:root:### EPOCH #9\n",
      "INFO:root:### EPOCH #10\n",
      "INFO:root:### EPOCH #11\n",
      "INFO:root:### EPOCH #12\n",
      "INFO:root:### EPOCH #13\n",
      "INFO:root:### EPOCH #14\n",
      "INFO:root:### EPOCH #15\n",
      "INFO:root:### EPOCH #16\n",
      "INFO:root:### EPOCH #17\n",
      "INFO:root:### EPOCH #18\n",
      "INFO:root:### EPOCH #19\n",
      "INFO:root:### EPOCH #20\n"
     ]
    },
    {
     "name": "stdout",
     "output_type": "stream",
     "text": [
      "====EP 21\n"
     ]
    },
    {
     "name": "stderr",
     "output_type": "stream",
     "text": [
      "INFO:root:### EPOCH #1\n",
      "INFO:root:### EPOCH #2\n",
      "INFO:root:### EPOCH #3\n",
      "INFO:root:### EPOCH #4\n",
      "INFO:root:### EPOCH #5\n",
      "INFO:root:### EPOCH #6\n",
      "INFO:root:### EPOCH #7\n",
      "INFO:root:### EPOCH #8\n",
      "INFO:root:### EPOCH #9\n",
      "INFO:root:### EPOCH #10\n",
      "INFO:root:### EPOCH #11\n",
      "INFO:root:### EPOCH #12\n",
      "INFO:root:### EPOCH #13\n",
      "INFO:root:### EPOCH #14\n",
      "INFO:root:### EPOCH #15\n",
      "INFO:root:### EPOCH #16\n",
      "INFO:root:### EPOCH #17\n",
      "INFO:root:### EPOCH #18\n",
      "INFO:root:### EPOCH #19\n",
      "INFO:root:### EPOCH #20\n",
      "INFO:root:### EPOCH #21\n"
     ]
    },
    {
     "name": "stdout",
     "output_type": "stream",
     "text": [
      "====EP 22\n"
     ]
    },
    {
     "name": "stderr",
     "output_type": "stream",
     "text": [
      "INFO:root:### EPOCH #1\n",
      "INFO:root:### EPOCH #2\n",
      "INFO:root:### EPOCH #3\n",
      "INFO:root:### EPOCH #4\n",
      "INFO:root:### EPOCH #5\n",
      "INFO:root:### EPOCH #6\n",
      "INFO:root:### EPOCH #7\n",
      "INFO:root:### EPOCH #8\n",
      "INFO:root:### EPOCH #9\n",
      "INFO:root:### EPOCH #10\n",
      "INFO:root:### EPOCH #11\n",
      "INFO:root:### EPOCH #12\n",
      "INFO:root:### EPOCH #13\n",
      "INFO:root:### EPOCH #14\n",
      "INFO:root:### EPOCH #15\n",
      "INFO:root:### EPOCH #16\n",
      "INFO:root:### EPOCH #17\n",
      "INFO:root:### EPOCH #18\n",
      "INFO:root:### EPOCH #19\n",
      "INFO:root:### EPOCH #20\n",
      "INFO:root:### EPOCH #21\n",
      "INFO:root:### EPOCH #22\n"
     ]
    },
    {
     "name": "stdout",
     "output_type": "stream",
     "text": [
      "====EP 23\n"
     ]
    },
    {
     "name": "stderr",
     "output_type": "stream",
     "text": [
      "INFO:root:### EPOCH #1\n",
      "INFO:root:### EPOCH #2\n",
      "INFO:root:### EPOCH #3\n",
      "INFO:root:### EPOCH #4\n",
      "INFO:root:### EPOCH #5\n",
      "INFO:root:### EPOCH #6\n",
      "INFO:root:### EPOCH #7\n",
      "INFO:root:### EPOCH #8\n",
      "INFO:root:### EPOCH #9\n",
      "INFO:root:### EPOCH #10\n",
      "INFO:root:### EPOCH #11\n",
      "INFO:root:### EPOCH #12\n",
      "INFO:root:### EPOCH #13\n",
      "INFO:root:### EPOCH #14\n",
      "INFO:root:### EPOCH #15\n",
      "INFO:root:### EPOCH #16\n",
      "INFO:root:### EPOCH #17\n",
      "INFO:root:### EPOCH #18\n",
      "INFO:root:### EPOCH #19\n",
      "INFO:root:### EPOCH #20\n",
      "INFO:root:### EPOCH #21\n",
      "INFO:root:### EPOCH #22\n",
      "INFO:root:### EPOCH #23\n"
     ]
    },
    {
     "name": "stdout",
     "output_type": "stream",
     "text": [
      "====EP 24\n"
     ]
    },
    {
     "name": "stderr",
     "output_type": "stream",
     "text": [
      "INFO:root:### EPOCH #1\n",
      "INFO:root:### EPOCH #2\n",
      "INFO:root:### EPOCH #3\n",
      "INFO:root:### EPOCH #4\n",
      "INFO:root:### EPOCH #5\n",
      "INFO:root:### EPOCH #6\n",
      "INFO:root:### EPOCH #7\n",
      "INFO:root:### EPOCH #8\n",
      "INFO:root:### EPOCH #9\n",
      "INFO:root:### EPOCH #10\n",
      "INFO:root:### EPOCH #11\n",
      "INFO:root:### EPOCH #12\n",
      "INFO:root:### EPOCH #13\n",
      "INFO:root:### EPOCH #14\n",
      "INFO:root:### EPOCH #15\n",
      "INFO:root:### EPOCH #16\n",
      "INFO:root:### EPOCH #17\n",
      "INFO:root:### EPOCH #18\n",
      "INFO:root:### EPOCH #19\n",
      "INFO:root:### EPOCH #20\n",
      "INFO:root:### EPOCH #21\n",
      "INFO:root:### EPOCH #22\n",
      "INFO:root:### EPOCH #23\n",
      "INFO:root:### EPOCH #24\n"
     ]
    },
    {
     "name": "stdout",
     "output_type": "stream",
     "text": [
      "====EP 25\n"
     ]
    },
    {
     "name": "stderr",
     "output_type": "stream",
     "text": [
      "INFO:root:### EPOCH #1\n",
      "INFO:root:### EPOCH #2\n",
      "INFO:root:### EPOCH #3\n",
      "INFO:root:### EPOCH #4\n",
      "INFO:root:### EPOCH #5\n",
      "INFO:root:### EPOCH #6\n",
      "INFO:root:### EPOCH #7\n",
      "INFO:root:### EPOCH #8\n",
      "INFO:root:### EPOCH #9\n",
      "INFO:root:### EPOCH #10\n",
      "INFO:root:### EPOCH #11\n",
      "INFO:root:### EPOCH #12\n",
      "INFO:root:### EPOCH #13\n",
      "INFO:root:### EPOCH #14\n",
      "INFO:root:### EPOCH #15\n",
      "INFO:root:### EPOCH #16\n",
      "INFO:root:### EPOCH #17\n",
      "INFO:root:### EPOCH #18\n",
      "INFO:root:### EPOCH #19\n",
      "INFO:root:### EPOCH #20\n",
      "INFO:root:### EPOCH #21\n",
      "INFO:root:### EPOCH #22\n",
      "INFO:root:### EPOCH #23\n",
      "INFO:root:### EPOCH #24\n",
      "INFO:root:### EPOCH #25\n"
     ]
    },
    {
     "name": "stdout",
     "output_type": "stream",
     "text": [
      "====EP 26\n"
     ]
    },
    {
     "name": "stderr",
     "output_type": "stream",
     "text": [
      "INFO:root:### EPOCH #1\n",
      "INFO:root:### EPOCH #2\n",
      "INFO:root:### EPOCH #3\n",
      "INFO:root:### EPOCH #4\n",
      "INFO:root:### EPOCH #5\n",
      "INFO:root:### EPOCH #6\n",
      "INFO:root:### EPOCH #7\n",
      "INFO:root:### EPOCH #8\n",
      "INFO:root:### EPOCH #9\n",
      "INFO:root:### EPOCH #10\n",
      "INFO:root:### EPOCH #11\n",
      "INFO:root:### EPOCH #12\n",
      "INFO:root:### EPOCH #13\n",
      "INFO:root:### EPOCH #14\n",
      "INFO:root:### EPOCH #15\n",
      "INFO:root:### EPOCH #16\n",
      "INFO:root:### EPOCH #17\n",
      "INFO:root:### EPOCH #18\n",
      "INFO:root:### EPOCH #19\n",
      "INFO:root:### EPOCH #20\n",
      "INFO:root:### EPOCH #21\n",
      "INFO:root:### EPOCH #22\n",
      "INFO:root:### EPOCH #23\n",
      "INFO:root:### EPOCH #24\n",
      "INFO:root:### EPOCH #25\n",
      "INFO:root:### EPOCH #26\n"
     ]
    },
    {
     "name": "stdout",
     "output_type": "stream",
     "text": [
      "====EP 27\n"
     ]
    },
    {
     "name": "stderr",
     "output_type": "stream",
     "text": [
      "INFO:root:### EPOCH #1\n",
      "INFO:root:### EPOCH #2\n",
      "INFO:root:### EPOCH #3\n",
      "INFO:root:### EPOCH #4\n",
      "INFO:root:### EPOCH #5\n",
      "INFO:root:### EPOCH #6\n",
      "INFO:root:### EPOCH #7\n",
      "INFO:root:### EPOCH #8\n",
      "INFO:root:### EPOCH #9\n",
      "INFO:root:### EPOCH #10\n",
      "INFO:root:### EPOCH #11\n",
      "INFO:root:### EPOCH #12\n",
      "INFO:root:### EPOCH #13\n",
      "INFO:root:### EPOCH #14\n",
      "INFO:root:### EPOCH #15\n",
      "INFO:root:### EPOCH #16\n",
      "INFO:root:### EPOCH #17\n",
      "INFO:root:### EPOCH #18\n",
      "INFO:root:### EPOCH #19\n",
      "INFO:root:### EPOCH #20\n",
      "INFO:root:### EPOCH #21\n",
      "INFO:root:### EPOCH #22\n",
      "INFO:root:### EPOCH #23\n",
      "INFO:root:### EPOCH #24\n",
      "INFO:root:### EPOCH #25\n",
      "INFO:root:### EPOCH #26\n",
      "INFO:root:### EPOCH #27\n"
     ]
    },
    {
     "name": "stdout",
     "output_type": "stream",
     "text": [
      "====EP 28\n"
     ]
    },
    {
     "name": "stderr",
     "output_type": "stream",
     "text": [
      "INFO:root:### EPOCH #1\n",
      "INFO:root:### EPOCH #2\n",
      "INFO:root:### EPOCH #3\n",
      "INFO:root:### EPOCH #4\n",
      "INFO:root:### EPOCH #5\n",
      "INFO:root:### EPOCH #6\n",
      "INFO:root:### EPOCH #7\n",
      "INFO:root:### EPOCH #8\n",
      "INFO:root:### EPOCH #9\n",
      "INFO:root:### EPOCH #10\n",
      "INFO:root:### EPOCH #11\n",
      "INFO:root:### EPOCH #12\n",
      "INFO:root:### EPOCH #13\n",
      "INFO:root:### EPOCH #14\n",
      "INFO:root:### EPOCH #15\n",
      "INFO:root:### EPOCH #16\n",
      "INFO:root:### EPOCH #17\n",
      "INFO:root:### EPOCH #18\n",
      "INFO:root:### EPOCH #19\n",
      "INFO:root:### EPOCH #20\n",
      "INFO:root:### EPOCH #21\n",
      "INFO:root:### EPOCH #22\n",
      "INFO:root:### EPOCH #23\n",
      "INFO:root:### EPOCH #24\n",
      "INFO:root:### EPOCH #25\n",
      "INFO:root:### EPOCH #26\n",
      "INFO:root:### EPOCH #27\n",
      "INFO:root:### EPOCH #28\n"
     ]
    },
    {
     "name": "stdout",
     "output_type": "stream",
     "text": [
      "CPU times: user 2h 7min 17s, sys: 37min 24s, total: 2h 44min 42s\n",
      "Wall time: 18min 30s\n"
     ]
    }
   ],
   "source": [
    "%%time \n",
    "from sklearn.metrics import pairwise_distances\n",
    "\n",
    "N_SEGMENT = 10\n",
    "K_INIT = [1]\n",
    "EPOCHS = list(range(29))\n",
    "N_ITERATION = 5\n",
    "\n",
    "_alphas = list(np.random.random(N_SEGMENT))\n",
    "#_alphas = np.tile(_alphas.reshape(N_SEGMENT, -1), (1, X_train.shape[1]))\n",
    "\n",
    "\n",
    "\n",
    "out = {\"precision\": [], \"k\":[], \"n_epochs\":[], \"algorithm\":[], \"n_generated\":[], \"n_iteration\":[]}\n",
    "for i in range(N_ITERATION):\n",
    "    print(\">>>>>>>>>>>>>>>>>> ITERATION\", i)\n",
    "    X_train, X_test, y_train, y_test, scaler, feature_names, target_names, cat_names = datasets.get_dataset(dataset='breast-cancer', test_size=0.33, RANDOM_STATE=i)\n",
    "    cont_names = list(set(feature_names) - set(cat_names))\n",
    "    pool1 = pool.BasicPool()\n",
    "    pool1 = pool1.fit(X_train, y_train)\n",
    "\n",
    "    for k in K_INIT:\n",
    "        print('============K', k)\n",
    "        for epoch in EPOCHS:\n",
    "            print('====EP', epoch)\n",
    "            p2g = pool2graph.pool2graph(X_train, y_train, pool1, k_init=k)\n",
    "            p2gR = pool2graph_RandomSplit.pool2graph(X_train, y_train, pool1, k_init=k)\n",
    "            \n",
    "            \n",
    "            if epoch <= 10:\n",
    "                p2g.fit(max_epochs=epoch)\n",
    "                intervals = discrepancies_intervals.get_discrepancies_intervals(p2g.G)\n",
    "                dfU = pd.DataFrame(np.array([intervals[i].border_features.head(1) for i in range(len(intervals))]).reshape(-1, X_train.shape[1]))\n",
    "                dfV = pd.DataFrame(np.array([intervals[i].border_features.tail(1) for i in range(len(intervals))]).reshape(-1, X_train.shape[1]))\n",
    "            \n",
    "            p2gR.fit(max_epochs=epoch)\n",
    "            intervalsR = discrepancies_intervals.get_discrepancies_intervals(p2gR.G)\n",
    "            dfUR = pd.DataFrame(np.array([intervalsR[i].border_features.head(1) for i in range(len(intervalsR))]).reshape(-1, X_train.shape[1]))\n",
    "            dfVR = pd.DataFrame(np.array([intervalsR[i].border_features.tail(1) for i in range(len(intervalsR))]).reshape(-1, X_train.shape[1]))\n",
    "            somme, sommeR = 0, 0\n",
    "            for alpha in _alphas:\n",
    "                if epoch <= 10:\n",
    "                    newobs = alpha * dfU + (1 - alpha) * dfV\n",
    "                    _preds = pool1.predict_discrepancies(newobs.values)\n",
    "                    somme += _preds.mean()\n",
    "                else:\n",
    "                    somme += 0.99 * len(_alphas)\n",
    "\n",
    "                newobsR = alpha * dfUR + (1 - alpha) * dfVR\n",
    "                _predsR = pool1.predict_discrepancies(newobsR.values)\n",
    "                sommeR += _predsR.mean()\n",
    "            out[\"precision\"].append(somme / len(_alphas))\n",
    "            out[\"precision\"].append(sommeR / len(_alphas))\n",
    "            out[\"algorithm\"].append('DIG')\n",
    "            out[\"algorithm\"].append('Random')\n",
    "            out[\"n_generated\"].append(len([n for n in p2g.G.nodes if n < 0]))\n",
    "            out[\"n_generated\"].append(len([n for n in p2gR.G.nodes if n < 0]))\n",
    "\n",
    "            out[\"k\"].append(k)\n",
    "            out[\"n_epochs\"].append(epoch)\n",
    "            out[\"k\"].append(k)\n",
    "            out[\"n_epochs\"].append(epoch)\n",
    "            out[\"n_iteration\"].append(i)\n",
    "            out[\"n_iteration\"].append(i)\n",
    "\n"
   ]
  },
  {
   "cell_type": "code",
   "execution_count": 73,
   "id": "d351b667",
   "metadata": {},
   "outputs": [],
   "source": [
    "#IMPORTANT\n",
    "dfout = pd.DataFrame(out)\n",
    "dfout = dfout[~((dfout.algorithm=='DIG') & (dfout.n_epochs > 10))]"
   ]
  },
  {
   "cell_type": "code",
   "execution_count": 74,
   "id": "9d882bfe",
   "metadata": {},
   "outputs": [
    {
     "data": {
      "text/plain": [
       "Text(0.5, 1.0, 'Breast Cancer dataset')"
      ]
     },
     "execution_count": 74,
     "metadata": {},
     "output_type": "execute_result"
    },
    {
     "data": {
      "image/png": "[encoded data removed]",
      "text/plain": [
       "<Figure size 432x288 with 1 Axes>"
      ]
     },
     "metadata": {
      "needs_background": "light"
     },
     "output_type": "display_data"
    }
   ],
   "source": [
    "sns.lineplot(data=pd.DataFrame(dfout), x=\"n_epochs\", y=\"precision\", hue=\"algorithm\", palette=\"bright\",alpha=1)\n",
    "sns.set_context(\"paper\")\n",
    "#plt.tight_layout()\n",
    "plt.xlim((0.0, 30))\n",
    "plt.title(\"Breast Cancer dataset\")\n",
    "#plt.savefig('../../results/precisionvsrandom_epochs_breastcancefr.pdf')"
   ]
  },
  {
   "cell_type": "code",
   "execution_count": 76,
   "id": "083e9a9c",
   "metadata": {},
   "outputs": [
    {
     "name": "stderr",
     "output_type": "stream",
     "text": [
      "INFO:matplotlib.mathtext:Substituting symbol G from STIXNonUnicode\n",
      "INFO:matplotlib.mathtext:Substituting symbol G from STIXNonUnicode\n",
      "INFO:matplotlib.mathtext:Substituting symbol G from STIXNonUnicode\n"
     ]
    },
    {
     "data": {
      "image/png": "[encoded data removed]",
      "text/plain": [
       "<Figure size 432x288 with 1 Axes>"
      ]
     },
     "metadata": {
      "needs_background": "light"
     },
     "output_type": "display_data"
    }
   ],
   "source": [
    "sns.set_context('paper')\n",
    "dfout2 = dfout.copy()\n",
    "#dfout2.n_generated = dfout2.n_generated.apply(np.log)\n",
    "dfout2 = dfout2.groupby(['k', 'n_epochs', \"algorithm\"]).mean().reset_index()\n",
    "sns.lineplot(data=dfout2, x=\"n_generated\", y=\"precision\", hue=\"algorithm\", palette=\"Set2\",alpha=1, linewidth=4)\n",
    "#plt.tight_layout()\n",
    "plt.ylim((0.35, 1.0))\n",
    "plt.xlabel(\"$|\\mathcal{G}|$\", fontsize=30)\n",
    "plt.ylabel(\"precision\", fontsize=30)\n",
    "plt.xlim((0.0, 12000))\n",
    "plt.legend(fontsize=25)\n",
    "#plt.title(\"Adult dataset\", fontsize=20)\n",
    "#plt.savefig('../../results/precisionvsrandom_budget_breastcancer.pdf')"
   ]
  },
  {
   "cell_type": "code",
   "execution_count": 47,
   "id": "0698d0d2",
   "metadata": {},
   "outputs": [
    {
     "data": {
      "text/html": [
       "<div>\n",
       "<style scoped>\n",
       "    .dataframe tbody tr th:only-of-type {\n",
       "        vertical-align: middle;\n",
       "    }\n",
       "\n",
       "    .dataframe tbody tr th {\n",
       "        vertical-align: top;\n",
       "    }\n",
       "\n",
       "    .dataframe thead th {\n",
       "        text-align: right;\n",
       "    }\n",
       "</style>\n",
       "<table border=\"1\" class=\"dataframe\">\n",
       "  <thead>\n",
       "    <tr style=\"text-align: right;\">\n",
       "      <th></th>\n",
       "      <th>precision</th>\n",
       "      <th>k</th>\n",
       "      <th>n_epochs</th>\n",
       "      <th>algorithm</th>\n",
       "      <th>n_generated</th>\n",
       "      <th>n_iteration</th>\n",
       "    </tr>\n",
       "  </thead>\n",
       "  <tbody>\n",
       "    <tr>\n",
       "      <th>0</th>\n",
       "      <td>0.264187</td>\n",
       "      <td>1</td>\n",
       "      <td>0</td>\n",
       "      <td>DIG</td>\n",
       "      <td>0</td>\n",
       "      <td>0</td>\n",
       "    </tr>\n",
       "    <tr>\n",
       "      <th>1</th>\n",
       "      <td>0.264187</td>\n",
       "      <td>1</td>\n",
       "      <td>0</td>\n",
       "      <td>Random</td>\n",
       "      <td>0</td>\n",
       "      <td>0</td>\n",
       "    </tr>\n",
       "    <tr>\n",
       "      <th>2</th>\n",
       "      <td>0.267539</td>\n",
       "      <td>1</td>\n",
       "      <td>1</td>\n",
       "      <td>DIG</td>\n",
       "      <td>7</td>\n",
       "      <td>0</td>\n",
       "    </tr>\n",
       "    <tr>\n",
       "      <th>3</th>\n",
       "      <td>0.266028</td>\n",
       "      <td>1</td>\n",
       "      <td>1</td>\n",
       "      <td>Random</td>\n",
       "      <td>7</td>\n",
       "      <td>0</td>\n",
       "    </tr>\n",
       "    <tr>\n",
       "      <th>4</th>\n",
       "      <td>0.310626</td>\n",
       "      <td>1</td>\n",
       "      <td>2</td>\n",
       "      <td>DIG</td>\n",
       "      <td>86</td>\n",
       "      <td>0</td>\n",
       "    </tr>\n",
       "    <tr>\n",
       "      <th>...</th>\n",
       "      <td>...</td>\n",
       "      <td>...</td>\n",
       "      <td>...</td>\n",
       "      <td>...</td>\n",
       "      <td>...</td>\n",
       "      <td>...</td>\n",
       "    </tr>\n",
       "    <tr>\n",
       "      <th>281</th>\n",
       "      <td>0.903425</td>\n",
       "      <td>1</td>\n",
       "      <td>24</td>\n",
       "      <td>Random</td>\n",
       "      <td>6386</td>\n",
       "      <td>4</td>\n",
       "    </tr>\n",
       "    <tr>\n",
       "      <th>283</th>\n",
       "      <td>0.921136</td>\n",
       "      <td>1</td>\n",
       "      <td>25</td>\n",
       "      <td>Random</td>\n",
       "      <td>8356</td>\n",
       "      <td>4</td>\n",
       "    </tr>\n",
       "    <tr>\n",
       "      <th>285</th>\n",
       "      <td>0.916401</td>\n",
       "      <td>1</td>\n",
       "      <td>26</td>\n",
       "      <td>Random</td>\n",
       "      <td>7852</td>\n",
       "      <td>4</td>\n",
       "    </tr>\n",
       "    <tr>\n",
       "      <th>287</th>\n",
       "      <td>0.938073</td>\n",
       "      <td>1</td>\n",
       "      <td>27</td>\n",
       "      <td>Random</td>\n",
       "      <td>10408</td>\n",
       "      <td>4</td>\n",
       "    </tr>\n",
       "    <tr>\n",
       "      <th>289</th>\n",
       "      <td>0.935417</td>\n",
       "      <td>1</td>\n",
       "      <td>28</td>\n",
       "      <td>Random</td>\n",
       "      <td>9798</td>\n",
       "      <td>4</td>\n",
       "    </tr>\n",
       "  </tbody>\n",
       "</table>\n",
       "<p>200 rows × 6 columns</p>\n",
       "</div>"
      ],
      "text/plain": [
       "     precision  k  n_epochs algorithm  n_generated  n_iteration\n",
       "0     0.264187  1         0       DIG            0            0\n",
       "1     0.264187  1         0    Random            0            0\n",
       "2     0.267539  1         1       DIG            7            0\n",
       "3     0.266028  1         1    Random            7            0\n",
       "4     0.310626  1         2       DIG           86            0\n",
       "..         ... ..       ...       ...          ...          ...\n",
       "281   0.903425  1        24    Random         6386            4\n",
       "283   0.921136  1        25    Random         8356            4\n",
       "285   0.916401  1        26    Random         7852            4\n",
       "287   0.938073  1        27    Random        10408            4\n",
       "289   0.935417  1        28    Random         9798            4\n",
       "\n",
       "[200 rows x 6 columns]"
      ]
     },
     "execution_count": 47,
     "metadata": {},
     "output_type": "execute_result"
    }
   ],
   "source": [
    "dfout2"
   ]
  },
  {
   "cell_type": "code",
   "execution_count": null,
   "id": "ae434697",
   "metadata": {},
   "outputs": [],
   "source": [
    "%%time\n",
    "N_SEGMENT = 10\n",
    "\n",
    "moyenne = 0\n",
    "_alphas = np.random.random(N_SEGMENT)\n",
    "_alphas = np.tile(_alphas.reshape(N_SEGMENT, -1), (1, X_train.shape[1]))\n",
    "\n",
    "seui = 0.95\n",
    "moyenne = 0\n",
    "for ii in intervals:\n",
    "    a0, a1 = ii.border_features.iloc[0], ii.border_features.iloc[1]\n",
    "    new_obs = np.multiply(np.tile(a0, (N_SEGMENT, 1)), _alphas) + np.multiply(np.tile(a1, (N_SEGMENT, 1)), 1 - _alphas)\n",
    "    _preds = pool1.predict_discrepancies(np.array(new_obs))\n",
    "    moyenne += _preds.mean().mean()\n",
    "print('P2G classique', moyenne / len(intervals))\n",
    "\n",
    "moyenneR = 0\n",
    "for ii in intervalsR:\n",
    "    a0, a1 = ii.border_features.iloc[0], ii.border_features.iloc[1]\n",
    "    new_obs = np.multiply(np.tile(a0, (N_SEGMENT, 1)), _alphas) + np.multiply(np.tile(a1, (N_SEGMENT, 1)), 1 - _alphas)\n",
    "    _preds = pool1.predict_discrepancies(np.array(new_obs))\n",
    "    moyenneR += _preds.mean().mean()\n",
    "print('P2G classique', moyenneR / len(intervalsR))"
   ]
  },
  {
   "cell_type": "code",
   "execution_count": null,
   "id": "c8fcf615",
   "metadata": {},
   "outputs": [],
   "source": [
    "a0, a1 = intervals[1].border_features.iloc[0], intervals[1].border_features.iloc[1]\n",
    "new_obs = np.multiply(np.tile(a0, (100, 1)), _alphas) + np.multiply(np.tile(a1, (100, 1)), 1 - _alphas)\n",
    "_preds = pool1.predict_discrepancies(np.array(new_obs))"
   ]
  },
  {
   "cell_type": "code",
   "execution_count": null,
   "id": "a8c1d54a",
   "metadata": {},
   "outputs": [],
   "source": [
    "intervals[1].border_features"
   ]
  },
  {
   "cell_type": "code",
   "execution_count": null,
   "id": "cb7b3b44",
   "metadata": {},
   "outputs": [],
   "source": [
    "dff = pd.DataFrame(new_obs, columns=X_train.columns)\n",
    "pool1.predict_discrepancies(dff).mean()"
   ]
  },
  {
   "cell_type": "code",
   "execution_count": null,
   "id": "742dd6e7",
   "metadata": {
    "scrolled": true
   },
   "outputs": [],
   "source": [
    "%%time \n",
    "from sklearn.metrics import pairwise_distances\n",
    "\n",
    "\n",
    "K_INIT = [1, 10, 100]\n",
    "EPOCHS = [9]\n",
    "\n",
    "#out = {} # décommenté si updater simplement dico\n",
    "\n",
    "for k in K_INIT:\n",
    "    print('====K', k)\n",
    "    for epoch in EPOCHS:\n",
    "        print('====EP', epoch)\n",
    "        p2g = pool2graph.pool2graph(X_train, y_train, pool1, k_init=k)\n",
    "\n",
    "        p2g.fit(max_epochs=epoch)\n",
    "        intervals = discrepancies_intervals.get_discrepancies_intervals(p2g.G)\n",
    "        \n",
    "        out[str(k)+\"_\"+str(epoch)] = []\n",
    "        \n",
    "        for ii in intervals:\n",
    "            a, b = ii.border_features.iloc[0, :].values.reshape(1, -1), ii.border_features.iloc[1, :].values.reshape(1, -1)\n",
    "            out[str(k)+\"_\"+str(epoch)].append(pairwise_distances(a, b)[0][0])\n",
    "            ### --> pê inutile il y a p2g.G.edges.data() qui donne la distance des edges.\n"
   ]
  },
  {
   "cell_type": "code",
   "execution_count": null,
   "id": "b439f7f9",
   "metadata": {},
   "outputs": [],
   "source": [
    "BW = 0.2\n",
    "ALPHA = 0.2\n",
    "STAT = \"probability\" #\"density\"\n",
    "\n",
    "sns.set_context('paper')\n",
    "\n",
    "sns.histplot(out[\"1_2\"], stat=STAT, color=\"blue\", kde=False, element=\"step\", alpha=ALPHA, binwidth=BW)\n",
    "sns.histplot(out[\"1_5\"], stat=STAT, color=\"cyan\", kde=False, alpha=ALPHA, binwidth=BW, element=\"step\")\n",
    "#sns.distplot(out[\"1_9\"])\n",
    "sns.histplot(out[\"10_2\"], stat=STAT, color=\"red\", kde=False, element=\"step\", alpha=ALPHA, binwidth=BW)\n",
    "sns.histplot(out[\"10_5\"], stat=STAT, color=\"pink\", kde=False, element=\"step\", alpha=ALPHA, binwidth=BW)\n",
    "sns.histplot(out[\"100_2\"], stat=STAT, color=\"green\", kde=False, element=\"step\", alpha=ALPHA, binwidth=BW)\n",
    "sns.histplot(out[\"100_5\"], stat=STAT, color=\"lime\", kde=False, element=\"step\", alpha=ALPHA, binwidth=BW)\n",
    "\n",
    "plt.legend(labels=[\"$k=1, n_{epochs}=2$\", \"$k=1, n_{epochs}=5$\", \n",
    "                   \"$k=10, n_{epochs}=2$\", \"$k=10, n_{epochs}=5$\",\n",
    "                  \"$k=100, n_{epochs}=2$\", \"$k=100, n_{epochs}=5$\"], \n",
    "           loc='center left', bbox_to_anchor=(1, 0.5))\n",
    "plt.title(\"Boston dataset\")\n",
    "plt.tight_layout()\n",
    "#plt.savefig('../../results/clamps_distance_boston.pdf')"
   ]
  },
  {
   "cell_type": "code",
   "execution_count": null,
   "id": "0fdf1505",
   "metadata": {},
   "outputs": [],
   "source": [
    "from scipy.stats import ttest_ind\n",
    "\n",
    "print(ttest_ind(out[\"1_5\"], out[\"10_5\"], equal_var=False))\n",
    "\n",
    "np.array(out[\"1_5\"]).mean(), np.array(out[\"10_5\"]).mean(), np.array(out[\"100_5\"]).mean()"
   ]
  },
  {
   "cell_type": "markdown",
   "id": "459503e9",
   "metadata": {},
   "source": [
    "# Global analysis of the intervals"
   ]
  },
  {
   "cell_type": "code",
   "execution_count": null,
   "id": "a7310dc4",
   "metadata": {},
   "outputs": [],
   "source": [
    "%load_ext autoreload\n",
    "\n",
    "%autoreload 2\n",
    "from discrepancies import analysis_global"
   ]
  },
  {
   "cell_type": "code",
   "execution_count": null,
   "id": "511df85a",
   "metadata": {
    "scrolled": true
   },
   "outputs": [],
   "source": [
    "### we work with that    \n",
    "gda = analysis_global.GlobalDiscrepancyAnalyzer(p2g, pool1, intervals, X_train, cat_names)"
   ]
  },
  {
   "cell_type": "markdown",
   "id": "3d9524ce",
   "metadata": {},
   "source": [
    "### Most problematic features\n",
    "\n",
    "For now, we evaluate separately the uncertainty associated to each feature for continuous and categorical features.\n",
    "- For continuous features: Average range of the discrepancy interval along the feature\n",
    "- For categorical features: proportion of intervals generated along the feature, normalized by the exposition in Xtrain --> pas sûr qu'il faille normaliser par ça... car intercalle = 2 pts, X_train= chaque pt\n"
   ]
  },
  {
   "cell_type": "code",
   "execution_count": null,
   "id": "89d05823",
   "metadata": {
    "scrolled": false
   },
   "outputs": [],
   "source": [
    "import seaborn as sns\n",
    "from matplotlib import pyplot as plt\n",
    "\n",
    "feat_imp = gda.get_global_discrepancy_importances(min_expo=10)\n",
    "#fname = '../../results/feature_importances_adult.pdf'\n",
    "gda.plot_feature_importances(palettes=['mako', 'mako'])#, savefig='')"
   ]
  },
  {
   "cell_type": "code",
   "execution_count": null,
   "id": "b416053a",
   "metadata": {},
   "outputs": [],
   "source": [
    "plt.figure(figsize=(len(feat_imp['continuous_features'])/2,4))\n",
    "plt.xticks(rotation=70, fontsize=10)\n",
    "sns.barplot(data=pd.DataFrame(feat_imp['continuous_features']).T, palette=\"mako\")\n",
    "#plt.title(\" features\")\n",
    "plt.tight_layout()\n",
    "#plt.savefig(\"./../../results/usecase_boston_featimp_cont.pdf\")\n",
    "plt.show()"
   ]
  },
  {
   "cell_type": "code",
   "execution_count": null,
   "id": "6c79cc69",
   "metadata": {},
   "outputs": [],
   "source": [
    "9, 3, 1\n",
    "4.5, 3, 1\n",
    "2.25, 1.5, 1\n",
    "1.125, 0.75, 1\n",
    "0.625, 0.5, 0.325\n",
    "\n",
    "9, 3, 1\n",
    "3, 1, 1\n",
    "1, 0.33, 0.33\n",
    "\n"
   ]
  },
  {
   "cell_type": "markdown",
   "id": "dfb9dd20",
   "metadata": {},
   "source": [
    "## Important areas of discrepancy"
   ]
  },
  {
   "cell_type": "code",
   "execution_count": null,
   "id": "efb4caed",
   "metadata": {
    "scrolled": false
   },
   "outputs": [],
   "source": [
    "%%time\n",
    "gda.get_discrepancy_segments(X_exposition=X_train, y_exposition=y_train, min_expo=0.05, min_purity=0.5, min_purity_expo=0.0)\n",
    "\n"
   ]
  },
  {
   "cell_type": "code",
   "execution_count": null,
   "id": "737c08cb",
   "metadata": {},
   "outputs": [],
   "source": [
    "print(\"svm\", f1_score(y_test, pool1.predict(X_test).iloc[:, 0]))\n",
    "print(\"xgb\", f1_score(y_test, pool1.predict(X_test).iloc[:, 1]))\n",
    "\n",
    "def ensemble_segment(X, segments=[]):\n",
    "    leaves = gda.segments_tree.apply(X)\n",
    "    \n",
    "    for leaf_index in segments:\n",
    "        segments_index = np.where(leaves == leaf_index)\n",
    "        \n",
    "        \n",
    "        "
   ]
  },
  {
   "cell_type": "code",
   "execution_count": null,
   "id": "5dc0415f",
   "metadata": {},
   "outputs": [],
   "source": []
  },
  {
   "cell_type": "code",
   "execution_count": null,
   "id": "0b74ea89",
   "metadata": {},
   "outputs": [],
   "source": []
  },
  {
   "cell_type": "code",
   "execution_count": null,
   "id": "c7534bc3",
   "metadata": {},
   "outputs": [],
   "source": []
  },
  {
   "cell_type": "code",
   "execution_count": null,
   "id": "b8a6a976",
   "metadata": {},
   "outputs": [],
   "source": [
    "%%time\n",
    "\n",
    "LEAVES_SEGMENTS = (4,5)\n",
    "\n",
    "data = gda.disc_nodes_dataset.sample(n=5000)\n",
    "leaves_data = gda.segments_tree.apply(data)\n",
    "leaves_data_rearr = np.array([ld if ld in LEAVES_SEGMENTS else -1 for ld in leaves_data])\n",
    "\n",
    "colors = list(sns.color_palette(\"Set2\", n_colors=len(set(leaves_data))))\n",
    "\n",
    "from sklearn.manifold import TSNE\n",
    "tsne = TSNE(perplexity=10, n_jobs=-1).fit_transform(data)\n",
    "tsne = pd.DataFrame(tsne, columns=[\"Dim 0\", \"Dim 1\"])\n",
    "tsne['leaf'] = leaves_data_rearr\n",
    "#tsne[\"cluster\"] = clusters\n",
    "sns.scatterplot(x=\"Dim 0\", y=\"Dim 1\", data=tsne, hue=\"leaf\", palette=\"Set2\", alpha=0.7)#, c=[colors[i] for i in leaves_data_rearr.values])\n",
    "plt.title(\"t-SNE vizualisation of discrepancy nodes\")\n",
    "#plt.legend()\n",
    "plt.tight_layout()\n",
    "#plt.savefig(\"./../../results/discussion_tsne_boston.pdf\")"
   ]
  },
  {
   "cell_type": "code",
   "execution_count": null,
   "id": "76149735",
   "metadata": {},
   "outputs": [],
   "source": [
    "self"
   ]
  },
  {
   "cell_type": "code",
   "execution_count": null,
   "id": "fc9ce6d6",
   "metadata": {},
   "outputs": [],
   "source": [
    "plt.savefig(\"./../../results/discussion_tsne_boston.pdf\")"
   ]
  },
  {
   "cell_type": "code",
   "execution_count": null,
   "id": "41e4f861",
   "metadata": {},
   "outputs": [],
   "source": [
    "sns.scatterplot(x=\"Dim 0\", y=\"Dim 1\", data=tsne, hue=\"leaf\", palette=\"Set2\", alpha=0.1)#, c=[colors[i] for i in leaves_data_rearr.values])"
   ]
  },
  {
   "cell_type": "code",
   "execution_count": null,
   "id": "3854d2a4",
   "metadata": {},
   "outputs": [],
   "source": [
    "pool1.predict(X_test)\n",
    "\n"
   ]
  },
  {
   "cell_type": "code",
   "execution_count": null,
   "id": "f7021d69",
   "metadata": {},
   "outputs": [],
   "source": [
    "pool1.predict_discrepancies(X_test).mean"
   ]
  },
  {
   "cell_type": "markdown",
   "id": "f27eadf5",
   "metadata": {},
   "source": [
    "# TODO\n",
    "- Categorical: quand on génère les faux jumeaux, garder en mémoire les couples des modalités: blond-brun, et le changement associé?\n",
    "- TSNE: couleurs \n",
    "- relative size: devrait être nombre de noeuds de discrepancy dans la feuille sur le nombre de noeuds de discrepancy"
   ]
  }
 ],
 "metadata": {
  "kernelspec": {
   "display_name": "Python 3 (ipykernel)",
   "language": "python",
   "name": "python3"
  },
  "language_info": {
   "codemirror_mode": {
    "name": "ipython",
    "version": 3
   },
   "file_extension": ".py",
   "mimetype": "text/x-python",
   "name": "python",
   "nbconvert_exporter": "python",
   "pygments_lexer": "ipython3",
   "version": "3.9.7"
  }
 },
 "nbformat": 4,
 "nbformat_minor": 5
}
