{
 "cells": [
  {
   "cell_type": "code",
   "execution_count": 1,
   "id": "quiet-patent",
   "metadata": {},
   "outputs": [],
   "source": [
    "%load_ext autoreload\n",
    "%autoreload 2\n",
    "\n",
    "import warnings\n",
    "warnings.filterwarnings('ignore')\n",
    "\n",
    "import numpy as np\n",
    "import pandas as pd\n",
    "\n",
    "import sys, os\n",
    "sys.path.append(os.path.dirname(sys.path[0]))\n",
    "\n",
    "import numpy as np\n",
    "import pandas as pd\n",
    "\n",
    "import sys, os\n",
    "sys.path.append(os.path.dirname(sys.path[0]))\n",
    "\n",
    "from discrepancies import datasets, pool, pool2graph, evaluation"
   ]
  },
  {
   "cell_type": "code",
   "execution_count": 3,
   "id": "dutch-lending",
   "metadata": {},
   "outputs": [
    {
     "data": {
      "text/plain": [
       "<discrepancies.pool2graph.pool2graph at 0x7fa04c44acd0>"
      ]
     },
     "execution_count": 3,
     "metadata": {},
     "output_type": "execute_result"
    }
   ],
   "source": [
    "_DATASET = 'boston'\n",
    "_K_INIT = 25\n",
    "_K_REFINEMENT = 0\n",
    "_MAX_EPOCHS = 5\n",
    "\n",
    "X_train, X_test, y_train, y_test, scaler, feature_names, target_names = datasets.get_dataset(dataset=_DATASET, n_samples=1000, noise=0.3)\n",
    "\n",
    "pool1 = pool.BasicPool()\n",
    "#pool1 = pool.AutoSklearnPool(max_delta_accuracies=0.05, time_left_for_this_task=30, n_jobs=14)\n",
    "pool1 = pool1.fit(X_train, y_train)\n",
    "\n",
    "p2g = pool2graph.pool2graph(X_train,\n",
    "                            y_train,\n",
    "                            pool1,\n",
    "                            k_init=_K_INIT,\n",
    "                            k_refinement=_K_REFINEMENT)\n",
    "\n",
    "p2g.fit(max_epochs=_MAX_EPOCHS)"
   ]
  },
  {
   "cell_type": "code",
   "execution_count": null,
   "id": "judicial-planning",
   "metadata": {},
   "outputs": [],
   "source": []
  },
  {
   "cell_type": "code",
   "execution_count": null,
   "id": "selective-firewall",
   "metadata": {},
   "outputs": [],
   "source": []
  },
  {
   "cell_type": "code",
   "execution_count": null,
   "id": "healthy-kuwait",
   "metadata": {},
   "outputs": [],
   "source": []
  },
  {
   "cell_type": "code",
   "execution_count": 22,
   "id": "square-large",
   "metadata": {},
   "outputs": [],
   "source": [
    "tmp = {}\n",
    "for i,n in lnodes:\n",
    "    tmp[i] = n['features']\n",
    "    \n",
    "nodes_features = pd.DataFrame(tmp).T"
   ]
  },
  {
   "cell_type": "code",
   "execution_count": 8,
   "id": "photographic-communications",
   "metadata": {},
   "outputs": [],
   "source": [
    "from sklearn.neighbors import NearestNeighbors\n",
    "\n",
    "k = 10\n",
    "\n",
    "# (1) Process points with discrepancies: their nearest neighbors can be any points, no matter the discrepancies or the predicted labels\n",
    "\n",
    "lnodes_index = lnodes_DP[lnodes_DP.discrepancies==1].index\n",
    "\n",
    "_NN = NearestNeighbors(n_neighbors=k+1, algorithm='auto')\n",
    "_NN = _NN.fit(nodes_features)\n",
    "\n",
    "_distances, _indices = _NN.kneighbors(lnodes_features.loc[lnodes_index])\n",
    "\n",
    "# (2) Process points without discrepancies: their nearest neighbors can be points any points, EXCEPT points with the same predicted label\n",
    "\n",
    "for p in lnodes_DP.pred.unique():\n",
    "\n",
    "    _NN = NearestNeighbors(n_neighbors=k+1, algorithm='auto')\n",
    "    _NN = _NN.fit(nodes_features[~(lnodes_DP.pred==0)])\n",
    "    \n",
    "    lnodes_index = lnodes_DP[(lnodes_DP.discrepancies==0) & (lnodes_DP.pred==p)].index\n",
    "    _distances, _indices = _NN.kneighbors(nodes_features.loc[lnodes_index])\n"
   ]
  },
  {
   "cell_type": "code",
   "execution_count": 27,
   "id": "infinite-delight",
   "metadata": {},
   "outputs": [
    {
     "data": {
      "text/plain": [
       "(18764, 11)"
      ]
     },
     "execution_count": 27,
     "metadata": {},
     "output_type": "execute_result"
    }
   ],
   "source": [
    "np.concatenate((_distances,_distances),axis=0).shape"
   ]
  },
  {
   "cell_type": "code",
   "execution_count": 28,
   "id": "thermal-triangle",
   "metadata": {},
   "outputs": [
    {
     "data": {
      "text/plain": [
       "0"
      ]
     },
     "execution_count": 28,
     "metadata": {},
     "output_type": "execute_result"
    }
   ],
   "source": [
    "np.min([0,1])"
   ]
  },
  {
   "cell_type": "code",
   "execution_count": 13,
   "id": "computational-precipitation",
   "metadata": {},
   "outputs": [
    {
     "data": {
      "text/plain": [
       " 0         True\n",
       " 1         True\n",
       " 2        False\n",
       " 3         True\n",
       " 4         True\n",
       "          ...  \n",
       "-13890    False\n",
       "-13891    False\n",
       "-13892    False\n",
       "-13893     True\n",
       "-13894    False\n",
       "Name: discrepancies, Length: 14233, dtype: bool"
      ]
     },
     "execution_count": 13,
     "metadata": {},
     "output_type": "execute_result"
    }
   ],
   "source": [
    "lnodes_DP.discrepancies==0"
   ]
  },
  {
   "cell_type": "code",
   "execution_count": null,
   "id": "legendary-rainbow",
   "metadata": {},
   "outputs": [],
   "source": []
  }
 ],
 "metadata": {
  "kernelspec": {
   "display_name": "Python 3",
   "language": "python",
   "name": "python3"
  },
  "language_info": {
   "codemirror_mode": {
    "name": "ipython",
    "version": 3
   },
   "file_extension": ".py",
   "mimetype": "text/x-python",
   "name": "python",
   "nbconvert_exporter": "python",
   "pygments_lexer": "ipython3",
   "version": "3.9.1"
  }
 },
 "nbformat": 4,
 "nbformat_minor": 5
}
