{
 "cells": [
  {
   "cell_type": "code",
   "execution_count": 1,
   "id": "fancy-founder",
   "metadata": {},
   "outputs": [],
   "source": [
    "import os\n",
    "\n",
    "import numpy as np\n",
    "import pandas as pd\n",
    "from sklearn.metrics import f1_score\n",
    "\n",
    "import matplotlib.pyplot as plt\n",
    "import seaborn as sns\n",
    "\n",
    "%matplotlib inline"
   ]
  },
  {
   "cell_type": "code",
   "execution_count": 2,
   "id": "delayed-karen",
   "metadata": {},
   "outputs": [],
   "source": [
    "import experiment"
   ]
  },
  {
   "cell_type": "code",
   "execution_count": 5,
   "id": "double-suite",
   "metadata": {},
   "outputs": [
    {
     "data": {
      "text/plain": [
       "['1613070986#EXPE1']"
      ]
     },
     "execution_count": 5,
     "metadata": {},
     "output_type": "execute_result"
    }
   ],
   "source": [
    "runs = experiment.get_all_expe()\n",
    "runs"
   ]
  },
  {
   "cell_type": "code",
   "execution_count": 7,
   "id": "periodic-control",
   "metadata": {},
   "outputs": [
    {
     "data": {
      "text/html": [
       "<div>\n",
       "<style scoped>\n",
       "    .dataframe tbody tr th:only-of-type {\n",
       "        vertical-align: middle;\n",
       "    }\n",
       "\n",
       "    .dataframe tbody tr th {\n",
       "        vertical-align: top;\n",
       "    }\n",
       "\n",
       "    .dataframe thead th {\n",
       "        text-align: right;\n",
       "    }\n",
       "</style>\n",
       "<table border=\"1\" class=\"dataframe\">\n",
       "  <thead>\n",
       "    <tr style=\"text-align: right;\">\n",
       "      <th></th>\n",
       "      <th>pool</th>\n",
       "      <th>dataset</th>\n",
       "      <th>k_init</th>\n",
       "      <th>k_refinement</th>\n",
       "      <th>max_epochs</th>\n",
       "      <th>n_sampling</th>\n",
       "      <th>competitor</th>\n",
       "      <th>f1-score</th>\n",
       "      <th>n_replication</th>\n",
       "    </tr>\n",
       "  </thead>\n",
       "  <tbody>\n",
       "    <tr>\n",
       "      <th>0</th>\n",
       "      <td>Basic</td>\n",
       "      <td>half-moons</td>\n",
       "      <td>0</td>\n",
       "      <td>0</td>\n",
       "      <td>0</td>\n",
       "      <td>20000</td>\n",
       "      <td>P2G-xgb</td>\n",
       "      <td>0.914193</td>\n",
       "      <td>0</td>\n",
       "    </tr>\n",
       "    <tr>\n",
       "      <th>1</th>\n",
       "      <td>Basic</td>\n",
       "      <td>half-moons</td>\n",
       "      <td>0</td>\n",
       "      <td>0</td>\n",
       "      <td>1</td>\n",
       "      <td>20000</td>\n",
       "      <td>P2G-xgb</td>\n",
       "      <td>0.914193</td>\n",
       "      <td>0</td>\n",
       "    </tr>\n",
       "    <tr>\n",
       "      <th>2</th>\n",
       "      <td>Basic</td>\n",
       "      <td>half-moons</td>\n",
       "      <td>0</td>\n",
       "      <td>1</td>\n",
       "      <td>0</td>\n",
       "      <td>20000</td>\n",
       "      <td>P2G-xgb</td>\n",
       "      <td>0.914193</td>\n",
       "      <td>0</td>\n",
       "    </tr>\n",
       "    <tr>\n",
       "      <th>3</th>\n",
       "      <td>Basic</td>\n",
       "      <td>half-moons</td>\n",
       "      <td>0</td>\n",
       "      <td>1</td>\n",
       "      <td>1</td>\n",
       "      <td>20000</td>\n",
       "      <td>P2G-xgb</td>\n",
       "      <td>0.914193</td>\n",
       "      <td>0</td>\n",
       "    </tr>\n",
       "    <tr>\n",
       "      <th>4</th>\n",
       "      <td>Basic</td>\n",
       "      <td>half-moons</td>\n",
       "      <td>1</td>\n",
       "      <td>0</td>\n",
       "      <td>0</td>\n",
       "      <td>20000</td>\n",
       "      <td>P2G-xgb</td>\n",
       "      <td>0.914193</td>\n",
       "      <td>0</td>\n",
       "    </tr>\n",
       "  </tbody>\n",
       "</table>\n",
       "</div>"
      ],
      "text/plain": [
       "    pool     dataset  k_init  k_refinement  max_epochs  n_sampling competitor  \\\n",
       "0  Basic  half-moons       0             0           0       20000    P2G-xgb   \n",
       "1  Basic  half-moons       0             0           1       20000    P2G-xgb   \n",
       "2  Basic  half-moons       0             1           0       20000    P2G-xgb   \n",
       "3  Basic  half-moons       0             1           1       20000    P2G-xgb   \n",
       "4  Basic  half-moons       1             0           0       20000    P2G-xgb   \n",
       "\n",
       "   f1-score  n_replication  \n",
       "0  0.914193              0  \n",
       "1  0.914193              0  \n",
       "2  0.914193              0  \n",
       "3  0.914193              0  \n",
       "4  0.914193              0  "
      ]
     },
     "execution_count": 7,
     "metadata": {},
     "output_type": "execute_result"
    }
   ],
   "source": [
    "run = runs[0]\n",
    "df = experiment.get_expe_results(run)\n",
    "df.head()"
   ]
  },
  {
   "cell_type": "code",
   "execution_count": 8,
   "id": "former-canvas",
   "metadata": {},
   "outputs": [
    {
     "data": {
      "image/png": "[encoded data removed]",
      "text/plain": [
       "<Figure size 432x288 with 1 Axes>"
      ]
     },
     "metadata": {
      "needs_background": "light"
     },
     "output_type": "display_data"
    }
   ],
   "source": [
    "import matplotlib.pyplot as plt\n",
    "import seaborn as sns\n",
    "\n",
    "for d in df.dataset.unique():\n",
    "\n",
    "    tmp = df[df.dataset==d][df.pool==\"Basic\"]\n",
    "\n",
    "    tmp = tmp.groupby(['pool','dataset','k_init','k_refinement','max_epochs','n_sampling','n_replication','competitor']).mean()\n",
    "    tmp = tmp.reset_index()\n",
    "    \n",
    "    plt.figure()\n",
    "    ax = sns.lineplot(x=\"k_init\", y=\"f1-score\", hue=\"competitor\", data=tmp)\n",
    "    ax.set_title(d)"
   ]
  },
  {
   "cell_type": "code",
   "execution_count": null,
   "id": "thermal-pendant",
   "metadata": {},
   "outputs": [],
   "source": []
  }
 ],
 "metadata": {
  "kernelspec": {
   "display_name": "Python 3",
   "language": "python",
   "name": "python3"
  },
  "language_info": {
   "codemirror_mode": {
    "name": "ipython",
    "version": 3
   },
   "file_extension": ".py",
   "mimetype": "text/x-python",
   "name": "python",
   "nbconvert_exporter": "python",
   "pygments_lexer": "ipython3",
   "version": "3.9.1"
  }
 },
 "nbformat": 4,
 "nbformat_minor": 5
}
