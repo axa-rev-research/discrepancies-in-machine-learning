{
 "cells": [
  {
   "cell_type": "code",
   "execution_count": 1,
   "id": "wound-joyce",
   "metadata": {},
   "outputs": [],
   "source": [
    "import warnings\n",
    "warnings.filterwarnings('ignore')\n",
    "\n",
    "import numpy as np\n",
    "import pandas as pd\n",
    "\n",
    "import time\n",
    "from multiprocessing import Pool\n",
    "from pathlib import Path\n",
    "import pathlib, pickle\n",
    "\n",
    "from sklearn.metrics import f1_score, precision_recall_fscore_support\n",
    "from sklearn.tree import DecisionTreeClassifier\n",
    "from sklearn.ensemble import RandomForestClassifier\n",
    "import xgboost as xgb\n",
    "\n",
    "from sklearn.model_selection import StratifiedKFold\n",
    "\n",
    "import sys, os\n",
    "# add folder path where discrepancies folder is\n",
    "#_PATH = '/Users/a435vv/OneDrive - AXA/Projects/BlackboxesDiscrepancies/discrepancies-in-machine-learning/'\n",
    "#sys.path.insert(0, _PATH) \n",
    "sys.path.append(os.path.dirname(sys.path[0]))\n",
    "\n",
    "from discrepancies import datasets, pool, pool2graph, evaluation"
   ]
  },
  {
   "cell_type": "code",
   "execution_count": 3,
   "id": "american-magic",
   "metadata": {},
   "outputs": [
    {
     "data": {
      "text/plain": [
       "<discrepancies.pool2graph.pool2graph at 0x7efd401f3a00>"
      ]
     },
     "execution_count": 3,
     "metadata": {},
     "output_type": "execute_result"
    }
   ],
   "source": [
    "_DATASET = 'boston'\n",
    "_K_INIT = 25\n",
    "_K_REFINEMENT = 0\n",
    "_MAX_EPOCHS = 5\n",
    "\n",
    "X_train, X_test, y_train, y_test, scaler, feature_names, target_names = datasets.get_dataset(dataset=_DATASET, n_samples=1000, noise=0.3)\n",
    "\n",
    "pool1 = pool.AutoSklearnPool(max_delta_accuracies=0.05, time_left_for_this_task=30, n_jobs=14)\n",
    "pool1 = pool1.fit(X_train, y_train)\n",
    "\n",
    "p2g = pool2graph.pool2graph(X_train,\n",
    "                            y_train,\n",
    "                            pool1,\n",
    "                            k_init=_K_INIT,\n",
    "                            k_refinement=_K_REFINEMENT)\n",
    "\n",
    "p2g.fit(max_epochs=_MAX_EPOCHS)\n"
   ]
  },
  {
   "cell_type": "code",
   "execution_count": 35,
   "id": "announced-stupid",
   "metadata": {},
   "outputs": [],
   "source": [
    "from yellowbrick.classifier import PrecisionRecallCurve, ClassificationReport\n",
    "\n",
    "def plot_PRC(model, X_train, y_train, X_test, y_test):\n",
    "    # Create the visualizer, fit, score, and show it\n",
    "    viz = ClassificationReport(model)\n",
    "    viz.fit(X_train, y_train)\n",
    "    viz.score(X_test, y_test)\n",
    "    viz.show()"
   ]
  },
  {
   "cell_type": "code",
   "execution_count": 66,
   "id": "exotic-supervision",
   "metadata": {},
   "outputs": [],
   "source": [
    "#X_mc, kde_score = evaluation.random_sampling_kde(X_train, n=20000)\n",
    "#X_mc = pd.DataFrame(X_mc, columns=X_train.columns)\n",
    "#y_mc_pool_discr = p2g.pool.predict_discrepancies(X_mc)\n",
    "\n",
    "\n",
    "X_mc = np.random.uniform(low=X_train.min(), high=X_train.max(), size=(20000,X_train.shape[1]))\n",
    "y_mc_pool_discr = p2g.pool.predict_discrepancies(X_mc)"
   ]
  },
  {
   "cell_type": "code",
   "execution_count": 70,
   "id": "alleged-cherry",
   "metadata": {},
   "outputs": [],
   "source": [
    "X_mc = pd.DataFrame(X_mc, columns=X_train.columns)"
   ]
  },
  {
   "cell_type": "code",
   "execution_count": 67,
   "id": "bronze-flour",
   "metadata": {},
   "outputs": [
    {
     "data": {
      "text/plain": [
       "<AxesSubplot:>"
      ]
     },
     "execution_count": 67,
     "metadata": {},
     "output_type": "execute_result"
    },
    {
     "data": {
      "image/png": "[encoded data removed]",
      "text/plain": [
       "<Figure size 576x396 with 1 Axes>"
      ]
     },
     "metadata": {},
     "output_type": "display_data"
    }
   ],
   "source": [
    "y_mc_pool_discr.hist()"
   ]
  },
  {
   "cell_type": "code",
   "execution_count": null,
   "id": "dynamic-moore",
   "metadata": {},
   "outputs": [],
   "source": []
  },
  {
   "cell_type": "code",
   "execution_count": 73,
   "id": "emotional-loading",
   "metadata": {},
   "outputs": [],
   "source": [
    "components = p2g.get_discrepancies_components()"
   ]
  },
  {
   "cell_type": "code",
   "execution_count": 76,
   "id": "impressed-instruction",
   "metadata": {},
   "outputs": [
    {
     "data": {
      "text/plain": [
       "array([   1,    2,    3, ..., 1137, 1138, 1139])"
      ]
     },
     "execution_count": 76,
     "metadata": {},
     "output_type": "execute_result"
    }
   ],
   "source": [
    "components.unique()"
   ]
  },
  {
   "cell_type": "code",
   "execution_count": 77,
   "id": "threaded-scheduling",
   "metadata": {},
   "outputs": [
    {
     "data": {
      "text/plain": [
       "1139"
      ]
     },
     "execution_count": 77,
     "metadata": {},
     "output_type": "execute_result"
    }
   ],
   "source": [
    "components.nunique()"
   ]
  },
  {
   "cell_type": "code",
   "execution_count": 80,
   "id": "honey-papua",
   "metadata": {},
   "outputs": [
    {
     "data": {
      "text/plain": [
       "(21260,)"
      ]
     },
     "execution_count": 80,
     "metadata": {},
     "output_type": "execute_result"
    }
   ],
   "source": [
    "components.shape"
   ]
  },
  {
   "cell_type": "code",
   "execution_count": 82,
   "id": "entertaining-chart",
   "metadata": {},
   "outputs": [
    {
     "data": {
      "text/plain": [
       "(16815,)"
      ]
     },
     "execution_count": 82,
     "metadata": {},
     "output_type": "execute_result"
    }
   ],
   "source": [
    "components[components==1].shape"
   ]
  },
  {
   "cell_type": "code",
   "execution_count": 42,
   "id": "thirty-string",
   "metadata": {},
   "outputs": [
    {
     "name": "stdout",
     "output_type": "stream",
     "text": [
      "0.8174327840416306\n",
      "0.848613169595596\n",
      "0.8617768595041322\n"
     ]
    }
   ],
   "source": [
    "X_discr, y_discr = p2g.get_discrepancies_dataset()\n",
    "\n",
    "xgbc_p2g = xgb.XGBClassifier(n_jobs=1, verbosity=0).fit(X_discr, y_discr)\n",
    "tmp = f1_score(y_mc_pool_discr, xgbc_p2g.predict(X_mc))\n",
    "print(tmp)\n",
    "\n",
    "####\n",
    "\n",
    "X_samples, kde_score = evaluation.random_sampling_kde(X_train, n=len(X_discr))\n",
    "X_samples = pd.DataFrame(X_samples, columns=X_train.columns)\n",
    "y_samples_pool_discr = p2g.pool.predict_discrepancies(X_samples)\n",
    "\n",
    "xgbc_rs = xgb.XGBClassifier(n_jobs=1, verbosity=0).fit(X_samples, y_samples_pool_discr)\n",
    "tmp = f1_score(y_mc_pool_discr, xgbc_rs.predict(X_mc))\n",
    "print(tmp)"
   ]
  },
  {
   "cell_type": "code",
   "execution_count": 55,
   "id": "focal-frost",
   "metadata": {},
   "outputs": [
    {
     "name": "stdout",
     "output_type": "stream",
     "text": [
      "0.40285204991087337\n"
     ]
    }
   ],
   "source": [
    "X_discr_sub = X_discr.sample(frac=0.95)\n",
    "tmp = X_samples[y_samples_pool_discr==0].sample(n=X_discr.shape[0]-X_discr_sub.shape[0])\n",
    "X_tmp = pd.concat((X_discr_sub,tmp), axis=0)\n",
    "\n",
    "tmp = y_samples_pool_discr.iloc[tmp.index]\n",
    "y_tmp = pd.concat((y_discr.loc[X_discr_sub.index],tmp), axis=0)\n",
    "\n",
    "xgbc_p2g_imp = xgb.XGBClassifier(n_jobs=1, verbosity=0).fit(X_tmp, y_tmp)\n",
    "tmp = f1_score(y_mc_pool_discr, xgbc_p2g_imp.predict(X_mc))\n",
    "print(tmp)"
   ]
  },
  {
   "cell_type": "code",
   "execution_count": 71,
   "id": "identified-milwaukee",
   "metadata": {},
   "outputs": [
    {
     "data": {
      "image/png": "[encoded data removed]",
      "text/plain": [
       "<Figure size 576x396 with 2 Axes>"
      ]
     },
     "metadata": {},
     "output_type": "display_data"
    },
    {
     "data": {
      "image/png": "[encoded data removed]",
      "text/plain": [
       "<Figure size 576x396 with 2 Axes>"
      ]
     },
     "metadata": {},
     "output_type": "display_data"
    },
    {
     "data": {
      "image/png": "[encoded data removed]",
      "text/plain": [
       "<Figure size 576x396 with 2 Axes>"
      ]
     },
     "metadata": {},
     "output_type": "display_data"
    }
   ],
   "source": [
    "plot_PRC(xgbc_p2g, X_samples, y_discr, X_mc, y_mc_pool_discr)\n",
    "plot_PRC(xgbc_p2g_imp, X_tmp, y_tmp, X_mc, y_mc_pool_discr)\n",
    "plot_PRC(xgbc_rs, X_discr, y_samples_pool_discr, X_mc, y_mc_pool_discr)"
   ]
  },
  {
   "cell_type": "code",
   "execution_count": 43,
   "id": "complex-muscle",
   "metadata": {},
   "outputs": [
    {
     "data": {
      "text/plain": [
       "<AxesSubplot:>"
      ]
     },
     "execution_count": 43,
     "metadata": {},
     "output_type": "execute_result"
    },
    {
     "data": {
      "image/png": "[encoded data removed]",
      "text/plain": [
       "<Figure size 576x396 with 1 Axes>"
      ]
     },
     "metadata": {},
     "output_type": "display_data"
    }
   ],
   "source": [
    "y_discr.hist()"
   ]
  },
  {
   "cell_type": "code",
   "execution_count": 44,
   "id": "documented-bennett",
   "metadata": {},
   "outputs": [
    {
     "data": {
      "text/plain": [
       "<AxesSubplot:>"
      ]
     },
     "execution_count": 44,
     "metadata": {},
     "output_type": "execute_result"
    },
    {
     "data": {
      "image/png": "[encoded data removed]",
      "text/plain": [
       "<Figure size 576x396 with 1 Axes>"
      ]
     },
     "metadata": {},
     "output_type": "display_data"
    }
   ],
   "source": [
    "y_tmp.hist()"
   ]
  },
  {
   "cell_type": "code",
   "execution_count": 45,
   "id": "proprietary-incident",
   "metadata": {},
   "outputs": [
    {
     "data": {
      "text/plain": [
       "<AxesSubplot:>"
      ]
     },
     "execution_count": 45,
     "metadata": {},
     "output_type": "execute_result"
    },
    {
     "data": {
      "image/png": "[encoded data removed]",
      "text/plain": [
       "<Figure size 576x396 with 1 Axes>"
      ]
     },
     "metadata": {},
     "output_type": "display_data"
    }
   ],
   "source": [
    "y_samples_pool_discr.hist()"
   ]
  },
  {
   "cell_type": "code",
   "execution_count": null,
   "id": "stretch-jackson",
   "metadata": {},
   "outputs": [],
   "source": []
  },
  {
   "cell_type": "code",
   "execution_count": null,
   "id": "senior-ticket",
   "metadata": {},
   "outputs": [],
   "source": []
  },
  {
   "cell_type": "code",
   "execution_count": null,
   "id": "decimal-estonia",
   "metadata": {},
   "outputs": [],
   "source": []
  },
  {
   "cell_type": "code",
   "execution_count": null,
   "id": "monthly-reduction",
   "metadata": {},
   "outputs": [],
   "source": []
  },
  {
   "cell_type": "code",
   "execution_count": null,
   "id": "virgin-princeton",
   "metadata": {},
   "outputs": [],
   "source": [
    "import experiment\n",
    "\n",
    "test_fidelity(p2g, run)"
   ]
  },
  {
   "cell_type": "code",
   "execution_count": null,
   "id": "deluxe-zoning",
   "metadata": {},
   "outputs": [],
   "source": []
  },
  {
   "cell_type": "code",
   "execution_count": null,
   "id": "continent-mother",
   "metadata": {},
   "outputs": [],
   "source": []
  },
  {
   "cell_type": "code",
   "execution_count": null,
   "id": "fixed-replica",
   "metadata": {},
   "outputs": [],
   "source": []
  },
  {
   "cell_type": "code",
   "execution_count": 6,
   "id": "surrounded-cleaning",
   "metadata": {},
   "outputs": [],
   "source": [
    "_DATASET = 'boston'\n",
    "_K_INIT = 25\n",
    "_K_REFINEMENT = 0\n",
    "_MAX_EPOCHS = 5\n",
    "\n",
    "X_train, X_test, y_train, y_test, scaler, feature_names, target_names = datasets.get_dataset(dataset=_DATASET, n_samples=1000, noise=0.3)\n",
    "pool1 = pool.AutoSklearnPool(max_delta_accuracies=0.05, time_left_for_this_task=30, n_jobs=14)\n",
    "pool1 = pool1.fit(X_train, y_train)"
   ]
  },
  {
   "cell_type": "code",
   "execution_count": 15,
   "id": "failing-ordinance",
   "metadata": {},
   "outputs": [],
   "source": [
    "X_samples, kde_score = evaluation.random_sampling_kde(X_train, n=10000)\n",
    "X_samples = pd.DataFrame(X_samples, columns=X_train.columns)\n",
    "y_samples = pool1.predict(X_samples).iloc[:,0]"
   ]
  },
  {
   "cell_type": "code",
   "execution_count": 16,
   "id": "unlike-tuition",
   "metadata": {},
   "outputs": [
    {
     "data": {
      "text/plain": [
       "<discrepancies.pool2graph.pool2graph at 0x7f59b66ca400>"
      ]
     },
     "execution_count": 16,
     "metadata": {},
     "output_type": "execute_result"
    }
   ],
   "source": [
    "p2g = pool2graph.pool2graph(X_samples,\n",
    "                            y_samples,\n",
    "                            pool1,\n",
    "                            k_init=_K_INIT,\n",
    "                            k_refinement=_K_REFINEMENT)\n",
    "\n",
    "p2g.fit(max_epochs=2)"
   ]
  },
  {
   "cell_type": "code",
   "execution_count": 23,
   "id": "logical-condition",
   "metadata": {},
   "outputs": [],
   "source": [
    "X_mc = np.random.uniform(low=X_train.min(), high=X_train.max(), size=(20000,X_train.shape[1]))\n",
    "y_mc_pool_discr = p2g.pool.predict_discrepancies(X_mc)\n",
    "\n",
    "X_mc = pd.DataFrame(X_mc, columns=X_train.columns)"
   ]
  },
  {
   "cell_type": "code",
   "execution_count": 24,
   "id": "smoking-football",
   "metadata": {},
   "outputs": [
    {
     "name": "stdout",
     "output_type": "stream",
     "text": [
      "0.5251299826689775\n",
      "0.4751232631107127\n"
     ]
    }
   ],
   "source": [
    "X_discr, y_discr = p2g.get_discrepancies_dataset()\n",
    "\n",
    "xgbc_p2g = xgb.XGBClassifier(n_jobs=1, verbosity=0).fit(X_discr, y_discr)\n",
    "tmp = f1_score(y_mc_pool_discr, xgbc_p2g.predict(X_mc))\n",
    "print(tmp)\n",
    "\n",
    "####\n",
    "\n",
    "X_samples, kde_score = evaluation.random_sampling_kde(X_train, n=len(X_discr))\n",
    "X_samples = pd.DataFrame(X_samples, columns=X_train.columns)\n",
    "y_samples_pool_discr = p2g.pool.predict_discrepancies(X_samples)\n",
    "\n",
    "xgbc_rs = xgb.XGBClassifier(n_jobs=1, verbosity=0).fit(X_samples, y_samples_pool_discr)\n",
    "tmp = f1_score(y_mc_pool_discr, xgbc_rs.predict(X_mc))\n",
    "print(tmp)"
   ]
  },
  {
   "cell_type": "code",
   "execution_count": null,
   "id": "unsigned-concern",
   "metadata": {},
   "outputs": [],
   "source": []
  }
 ],
 "metadata": {
  "kernelspec": {
   "display_name": "Python 3",
   "language": "python",
   "name": "python3"
  },
  "language_info": {
   "codemirror_mode": {
    "name": "ipython",
    "version": 3
   },
   "file_extension": ".py",
   "mimetype": "text/x-python",
   "name": "python",
   "nbconvert_exporter": "python",
   "pygments_lexer": "ipython3",
   "version": "3.9.1"
  }
 },
 "nbformat": 4,
 "nbformat_minor": 5
}
