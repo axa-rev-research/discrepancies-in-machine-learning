{
 "cells": [
  {
   "cell_type": "code",
   "execution_count": 1,
   "id": "continent-entertainment",
   "metadata": {},
   "outputs": [
    {
     "ename": "ValueError",
     "evalue": "numpy.ndarray size changed, may indicate binary incompatibility. Expected 88 from C header, got 80 from PyObject",
     "output_type": "error",
     "traceback": [
      "\u001b[0;31m---------------------------------------------------------------------------\u001b[0m",
      "\u001b[0;31mValueError\u001b[0m                                Traceback (most recent call last)",
      "\u001b[0;32m<ipython-input-1-f05732657d5f>\u001b[0m in \u001b[0;36m<module>\u001b[0;34m\u001b[0m\n\u001b[1;32m     17\u001b[0m \u001b[0msys\u001b[0m\u001b[0;34m.\u001b[0m\u001b[0mpath\u001b[0m\u001b[0;34m.\u001b[0m\u001b[0mappend\u001b[0m\u001b[0;34m(\u001b[0m\u001b[0mos\u001b[0m\u001b[0;34m.\u001b[0m\u001b[0mpath\u001b[0m\u001b[0;34m.\u001b[0m\u001b[0mdirname\u001b[0m\u001b[0;34m(\u001b[0m\u001b[0msys\u001b[0m\u001b[0;34m.\u001b[0m\u001b[0mpath\u001b[0m\u001b[0;34m[\u001b[0m\u001b[0;36m0\u001b[0m\u001b[0;34m]\u001b[0m\u001b[0;34m)\u001b[0m\u001b[0;34m)\u001b[0m\u001b[0;34m\u001b[0m\u001b[0;34m\u001b[0m\u001b[0m\n\u001b[1;32m     18\u001b[0m \u001b[0;34m\u001b[0m\u001b[0m\n\u001b[0;32m---> 19\u001b[0;31m \u001b[0;32mfrom\u001b[0m \u001b[0mdiscrepancies\u001b[0m \u001b[0;32mimport\u001b[0m \u001b[0mdatasets\u001b[0m\u001b[0;34m,\u001b[0m \u001b[0mpool\u001b[0m\u001b[0;34m,\u001b[0m \u001b[0mpool2graph\u001b[0m\u001b[0;34m,\u001b[0m \u001b[0melephant_evaluation\u001b[0m\u001b[0;34m,\u001b[0m \u001b[0mdiscrepancies_intervals\u001b[0m\u001b[0;34m,\u001b[0m \u001b[0mDNN_pool\u001b[0m\u001b[0;34m,\u001b[0m \u001b[0mfair_helpers\u001b[0m\u001b[0;34m\u001b[0m\u001b[0;34m\u001b[0m\u001b[0m\n\u001b[0m\u001b[1;32m     20\u001b[0m \u001b[0;34m\u001b[0m\u001b[0m\n",
      "\u001b[0;32m~/Documents/research/articles/discrepancy/discrepancies-in-machine-learning/discrepancies/pool.py\u001b[0m in \u001b[0;36m<module>\u001b[0;34m\u001b[0m\n\u001b[1;32m      5\u001b[0m \u001b[0;31m#from autosklearn.classification import AutoSklearnClassifier\u001b[0m\u001b[0;34m\u001b[0m\u001b[0;34m\u001b[0m\u001b[0;34m\u001b[0m\u001b[0m\n\u001b[1;32m      6\u001b[0m \u001b[0;34m\u001b[0m\u001b[0m\n\u001b[0;32m----> 7\u001b[0;31m \u001b[0;32mfrom\u001b[0m \u001b[0mautogluon\u001b[0m \u001b[0;32mimport\u001b[0m \u001b[0mTabularPrediction\u001b[0m \u001b[0;32mas\u001b[0m \u001b[0mtask\u001b[0m\u001b[0;34m\u001b[0m\u001b[0;34m\u001b[0m\u001b[0m\n\u001b[0m\u001b[1;32m      8\u001b[0m \u001b[0;34m\u001b[0m\u001b[0m\n\u001b[1;32m      9\u001b[0m \u001b[0;32mfrom\u001b[0m \u001b[0msklearn\u001b[0m\u001b[0;34m.\u001b[0m\u001b[0mbase\u001b[0m \u001b[0;32mimport\u001b[0m \u001b[0mBaseEstimator\u001b[0m\u001b[0;34m,\u001b[0m \u001b[0mClassifierMixin\u001b[0m\u001b[0;34m\u001b[0m\u001b[0;34m\u001b[0m\u001b[0m\n",
      "\u001b[0;32m~/opt/anaconda3/envs/python_env/lib/python3.8/site-packages/autogluon/__init__.py\u001b[0m in \u001b[0;36m<module>\u001b[0;34m\u001b[0m\n\u001b[1;32m     18\u001b[0m \u001b[0mtry_import_mxnet\u001b[0m\u001b[0;34m(\u001b[0m\u001b[0;34m)\u001b[0m\u001b[0;34m\u001b[0m\u001b[0;34m\u001b[0m\u001b[0m\n\u001b[1;32m     19\u001b[0m \u001b[0;34m\u001b[0m\u001b[0m\n\u001b[0;32m---> 20\u001b[0;31m \u001b[0;32mfrom\u001b[0m \u001b[0;34m.\u001b[0m \u001b[0;32mimport\u001b[0m \u001b[0mscheduler\u001b[0m\u001b[0;34m,\u001b[0m \u001b[0msearcher\u001b[0m\u001b[0;34m,\u001b[0m \u001b[0mutils\u001b[0m\u001b[0;34m\u001b[0m\u001b[0;34m\u001b[0m\u001b[0m\n\u001b[0m\u001b[1;32m     21\u001b[0m \u001b[0;32mfrom\u001b[0m \u001b[0;34m.\u001b[0m\u001b[0mscheduler\u001b[0m \u001b[0;32mimport\u001b[0m \u001b[0mget_cpu_count\u001b[0m\u001b[0;34m,\u001b[0m \u001b[0mget_gpu_count\u001b[0m\u001b[0;34m\u001b[0m\u001b[0;34m\u001b[0m\u001b[0m\n\u001b[1;32m     22\u001b[0m \u001b[0;34m\u001b[0m\u001b[0m\n",
      "\u001b[0;32m~/opt/anaconda3/envs/python_env/lib/python3.8/site-packages/autogluon/scheduler/__init__.py\u001b[0m in \u001b[0;36m<module>\u001b[0;34m\u001b[0m\n\u001b[1;32m      3\u001b[0m \u001b[0;34m\u001b[0m\u001b[0m\n\u001b[1;32m      4\u001b[0m \u001b[0;31m# schedulers\u001b[0m\u001b[0;34m\u001b[0m\u001b[0;34m\u001b[0m\u001b[0;34m\u001b[0m\u001b[0m\n\u001b[0;32m----> 5\u001b[0;31m \u001b[0;32mfrom\u001b[0m \u001b[0;34m.\u001b[0m\u001b[0mscheduler\u001b[0m \u001b[0;32mimport\u001b[0m \u001b[0;34m*\u001b[0m\u001b[0;34m\u001b[0m\u001b[0;34m\u001b[0m\u001b[0m\n\u001b[0m\u001b[1;32m      6\u001b[0m \u001b[0;32mfrom\u001b[0m \u001b[0;34m.\u001b[0m\u001b[0mfifo\u001b[0m \u001b[0;32mimport\u001b[0m \u001b[0;34m*\u001b[0m\u001b[0;34m\u001b[0m\u001b[0;34m\u001b[0m\u001b[0m\n\u001b[1;32m      7\u001b[0m \u001b[0;32mfrom\u001b[0m \u001b[0;34m.\u001b[0m\u001b[0mhyperband\u001b[0m \u001b[0;32mimport\u001b[0m \u001b[0;34m*\u001b[0m\u001b[0;34m\u001b[0m\u001b[0;34m\u001b[0m\u001b[0m\n",
      "\u001b[0;32m~/opt/anaconda3/envs/python_env/lib/python3.8/site-packages/autogluon/scheduler/scheduler.py\u001b[0m in \u001b[0;36m<module>\u001b[0;34m\u001b[0m\n\u001b[1;32m     11\u001b[0m \u001b[0;32mfrom\u001b[0m \u001b[0;34m.\u001b[0m\u001b[0mremote\u001b[0m \u001b[0;32mimport\u001b[0m \u001b[0mRemoteManager\u001b[0m\u001b[0;34m\u001b[0m\u001b[0;34m\u001b[0m\u001b[0m\n\u001b[1;32m     12\u001b[0m \u001b[0;32mfrom\u001b[0m \u001b[0;34m.\u001b[0m\u001b[0mresource\u001b[0m \u001b[0;32mimport\u001b[0m \u001b[0mDistributedResourceManager\u001b[0m\u001b[0;34m\u001b[0m\u001b[0;34m\u001b[0m\u001b[0m\n\u001b[0;32m---> 13\u001b[0;31m \u001b[0;32mfrom\u001b[0m \u001b[0;34m.\u001b[0m\u001b[0;34m.\u001b[0m\u001b[0mcore\u001b[0m \u001b[0;32mimport\u001b[0m \u001b[0mTask\u001b[0m\u001b[0;34m\u001b[0m\u001b[0;34m\u001b[0m\u001b[0m\n\u001b[0m\u001b[1;32m     14\u001b[0m \u001b[0;32mfrom\u001b[0m \u001b[0;34m.\u001b[0m\u001b[0mreporter\u001b[0m \u001b[0;32mimport\u001b[0m \u001b[0;34m*\u001b[0m\u001b[0;34m\u001b[0m\u001b[0;34m\u001b[0m\u001b[0m\n\u001b[1;32m     15\u001b[0m \u001b[0;32mfrom\u001b[0m \u001b[0;34m.\u001b[0m\u001b[0;34m.\u001b[0m\u001b[0mutils\u001b[0m \u001b[0;32mimport\u001b[0m \u001b[0mAutoGluonWarning\u001b[0m\u001b[0;34m,\u001b[0m \u001b[0mAutoGluonEarlyStop\u001b[0m\u001b[0;34m,\u001b[0m \u001b[0mCustomProcess\u001b[0m\u001b[0;34m\u001b[0m\u001b[0;34m\u001b[0m\u001b[0m\n",
      "\u001b[0;32m~/opt/anaconda3/envs/python_env/lib/python3.8/site-packages/autogluon/core/__init__.py\u001b[0m in \u001b[0;36m<module>\u001b[0;34m\u001b[0m\n\u001b[0;32m----> 1\u001b[0;31m \u001b[0;32mfrom\u001b[0m \u001b[0;34m.\u001b[0m\u001b[0mspace\u001b[0m \u001b[0;32mimport\u001b[0m \u001b[0;34m*\u001b[0m\u001b[0;34m\u001b[0m\u001b[0;34m\u001b[0m\u001b[0m\n\u001b[0m\u001b[1;32m      2\u001b[0m \u001b[0;32mfrom\u001b[0m \u001b[0;34m.\u001b[0m\u001b[0mtask\u001b[0m \u001b[0;32mimport\u001b[0m \u001b[0;34m*\u001b[0m\u001b[0;34m\u001b[0m\u001b[0;34m\u001b[0m\u001b[0m\n\u001b[1;32m      3\u001b[0m \u001b[0;32mfrom\u001b[0m \u001b[0;34m.\u001b[0m\u001b[0mdecorator\u001b[0m \u001b[0;32mimport\u001b[0m \u001b[0;34m*\u001b[0m\u001b[0;34m\u001b[0m\u001b[0;34m\u001b[0m\u001b[0m\n\u001b[1;32m      4\u001b[0m \u001b[0;34m\u001b[0m\u001b[0m\n\u001b[1;32m      5\u001b[0m \u001b[0;32mfrom\u001b[0m \u001b[0;34m.\u001b[0m \u001b[0;32mimport\u001b[0m \u001b[0moptimizer\u001b[0m\u001b[0;34m\u001b[0m\u001b[0;34m\u001b[0m\u001b[0m\n",
      "\u001b[0;32m~/opt/anaconda3/envs/python_env/lib/python3.8/site-packages/autogluon/core/space.py\u001b[0m in \u001b[0;36m<module>\u001b[0;34m\u001b[0m\n\u001b[1;32m      1\u001b[0m \u001b[0;32mimport\u001b[0m \u001b[0mcopy\u001b[0m\u001b[0;34m\u001b[0m\u001b[0;34m\u001b[0m\u001b[0m\n\u001b[1;32m      2\u001b[0m \u001b[0;32mfrom\u001b[0m \u001b[0mcollections\u001b[0m \u001b[0;32mimport\u001b[0m \u001b[0mOrderedDict\u001b[0m\u001b[0;34m\u001b[0m\u001b[0;34m\u001b[0m\u001b[0m\n\u001b[0;32m----> 3\u001b[0;31m \u001b[0;32mimport\u001b[0m \u001b[0mConfigSpace\u001b[0m \u001b[0;32mas\u001b[0m \u001b[0mCS\u001b[0m\u001b[0;34m\u001b[0m\u001b[0;34m\u001b[0m\u001b[0m\n\u001b[0m\u001b[1;32m      4\u001b[0m \u001b[0;32mimport\u001b[0m \u001b[0mConfigSpace\u001b[0m\u001b[0;34m.\u001b[0m\u001b[0mhyperparameters\u001b[0m \u001b[0;32mas\u001b[0m \u001b[0mCSH\u001b[0m\u001b[0;34m\u001b[0m\u001b[0;34m\u001b[0m\u001b[0m\n\u001b[1;32m      5\u001b[0m \u001b[0;32mfrom\u001b[0m \u001b[0;34m.\u001b[0m\u001b[0;34m.\u001b[0m\u001b[0mutils\u001b[0m \u001b[0;32mimport\u001b[0m \u001b[0mDeprecationHelper\u001b[0m\u001b[0;34m,\u001b[0m \u001b[0mEasyDict\u001b[0m\u001b[0;34m,\u001b[0m \u001b[0mclassproperty\u001b[0m\u001b[0;34m\u001b[0m\u001b[0;34m\u001b[0m\u001b[0m\n",
      "\u001b[0;32m~/opt/anaconda3/envs/python_env/lib/python3.8/site-packages/ConfigSpace/__init__.py\u001b[0m in \u001b[0;36m<module>\u001b[0;34m\u001b[0m\n\u001b[1;32m     35\u001b[0m ]\n\u001b[1;32m     36\u001b[0m \u001b[0;34m\u001b[0m\u001b[0m\n\u001b[0;32m---> 37\u001b[0;31m \u001b[0;32mfrom\u001b[0m \u001b[0mConfigSpace\u001b[0m\u001b[0;34m.\u001b[0m\u001b[0mconfiguration_space\u001b[0m \u001b[0;32mimport\u001b[0m \u001b[0mConfiguration\u001b[0m\u001b[0;34m,\u001b[0m\u001b[0;31m \u001b[0m\u001b[0;31m\\\u001b[0m\u001b[0;34m\u001b[0m\u001b[0;34m\u001b[0m\u001b[0m\n\u001b[0m\u001b[1;32m     38\u001b[0m     \u001b[0mConfigurationSpace\u001b[0m\u001b[0;34m\u001b[0m\u001b[0;34m\u001b[0m\u001b[0m\n\u001b[1;32m     39\u001b[0m \u001b[0;32mfrom\u001b[0m \u001b[0mConfigSpace\u001b[0m\u001b[0;34m.\u001b[0m\u001b[0mhyperparameters\u001b[0m \u001b[0;32mimport\u001b[0m \u001b[0mCategoricalHyperparameter\u001b[0m\u001b[0;34m,\u001b[0m\u001b[0;31m \u001b[0m\u001b[0;31m\\\u001b[0m\u001b[0;34m\u001b[0m\u001b[0;34m\u001b[0m\u001b[0m\n",
      "\u001b[0;32mConfigSpace/configuration_space.pyx\u001b[0m in \u001b[0;36minit ConfigSpace.configuration_space\u001b[0;34m()\u001b[0m\n",
      "\u001b[0;32m__init__.pxd\u001b[0m in \u001b[0;36minit ConfigSpace.hyperparameters\u001b[0;34m()\u001b[0m\n",
      "\u001b[0;31mValueError\u001b[0m: numpy.ndarray size changed, may indicate binary incompatibility. Expected 88 from C header, got 80 from PyObject"
     ]
    }
   ],
   "source": [
    "import numpy as np\n",
    "import generative_model, generative_model_global\n",
    "import seaborn as sns\n",
    "import pandas as pd\n",
    "from matplotlib import pyplot as plt\n",
    "import copy\n",
    "from tqdm.notebook import tqdm\n",
    "\n",
    "from torch.utils.data import TensorDataset\n",
    "from torch.utils.data import DataLoader\n",
    "import torch\n",
    "import torch.nn as nn\n",
    "import torch.nn.functional as F\n",
    "import torch.optim as optim\n",
    "\n",
    "import sys, os\n",
    "sys.path.append(os.path.dirname(sys.path[0]))\n",
    "\n",
    "from discrepancies import datasets, pool, pool2graph, elephant_evaluation, discrepancies_intervals, DNN_pool, fair_helpers\n",
    "\n"
   ]
  },
  {
   "cell_type": "code",
   "execution_count": 3,
   "id": "considerable-poison",
   "metadata": {},
   "outputs": [],
   "source": [
    "import dill\n",
    "#dill.dump_session('notebook_env.db')\n",
    "#dill.load_session('notebook_env.db')"
   ]
  },
  {
   "cell_type": "markdown",
   "id": "partial-eagle",
   "metadata": {},
   "source": [
    "# Example of Fair classifier (with DNN)"
   ]
  },
  {
   "cell_type": "code",
   "execution_count": null,
   "id": "skilled-romance",
   "metadata": {},
   "outputs": [],
   "source": [
    "\n",
    "\n",
    "X_train, X_test, y_train, y_test, scaler, feature_names, target_names = datasets.get_dataset(dataset='boston')\n",
    "sensitive_name = 'B'\n",
    "\n",
    "Z_train, Z_test = X_train[sensitive_name], X_test[sensitive_name]\n",
    "del X_train[sensitive_name]\n",
    "del X_test[sensitive_name]\n",
    "feature_names = [f for f in feature_names if f != sensitive_name]\n",
    "\n",
    "print(feature_names)"
   ]
  },
  {
   "cell_type": "markdown",
   "id": "accomplished-exploration",
   "metadata": {},
   "source": [
    "### Training one Clf: example"
   ]
  },
  {
   "cell_type": "code",
   "execution_count": 5,
   "id": "aerial-isaac",
   "metadata": {},
   "outputs": [
    {
     "name": "stderr",
     "output_type": "stream",
     "text": [
      "100%|██████████| 200/200 [00:05<00:00, 38.98it/s]\n"
     ]
    },
    {
     "data": {
      "image/png": "[encoded data removed]",
      "text/plain": [
       "<Figure size 432x288 with 1 Axes>"
      ]
     },
     "metadata": {
      "needs_background": "light"
     },
     "output_type": "display_data"
    },
    {
     "name": "stdout",
     "output_type": "stream",
     "text": [
      "Clf accuracy on test 0.8922155688622755\n"
     ]
    }
   ],
   "source": [
    "clf = DNN_pool.Classifier(n_features=X_train.shape[1],\n",
    "                n_hlayers=10,\n",
    "                n_hidden=10)\n",
    "clf.fit(X_train, y_train, n_epochs=200, plot=True)\n",
    "\n",
    "\n",
    "print(\"Clf accuracy on test\", (clf.predict(X_test) == y_test).mean())"
   ]
  },
  {
   "cell_type": "markdown",
   "id": "interesting-matthew",
   "metadata": {},
   "source": [
    "### Training a fair classifier using clf\n",
    "\n",
    "Not clear if clf should be trained alone, if clf and adv should be pretrained, or none of the above."
   ]
  },
  {
   "cell_type": "code",
   "execution_count": 4,
   "id": "fatal-physiology",
   "metadata": {
    "scrolled": false
   },
   "outputs": [
    {
     "name": "stderr",
     "output_type": "stream",
     "text": [
      "100%|██████████| 100/100 [00:01<00:00, 73.12it/s]\n"
     ]
    },
    {
     "data": {
      "image/png": "[encoded data removed]",
      "text/plain": [
       "<Figure size 432x288 with 1 Axes>"
      ]
     },
     "metadata": {
      "needs_background": "light"
     },
     "output_type": "display_data"
    },
    {
     "name": "stderr",
     "output_type": "stream",
     "text": [
      "100%|██████████| 100/100 [00:02<00:00, 42.76it/s]\n"
     ]
    },
    {
     "data": {
      "image/png": "[encoded data removed]",
      "text/plain": [
       "<Figure size 432x288 with 1 Axes>"
      ]
     },
     "metadata": {
      "needs_background": "light"
     },
     "output_type": "display_data"
    },
    {
     "name": "stdout",
     "output_type": "stream",
     "text": [
      "Adversarial MSE 1.0932346664796289\n",
      "Clf accuracy fair 0.8922155688622755\n"
     ]
    }
   ],
   "source": [
    "clf = DNN_pool.Classifier(n_features=X_train.shape[1],\n",
    "                n_hlayers=3,\n",
    "                n_hidden=20)\n",
    "clf.fit(X_train, y_train, n_epochs=100, plot=True)\n",
    "\n",
    "# fair._pretrain_both(X_train, Z_train, y_train)\n",
    "\n",
    "\n",
    "\n",
    "fair = DNN_pool.FairZhang(clf, lambda_=1.0)\n",
    "fair.fit(X_train, Z_train, y_train, plot=True, n_epochs=100)\n",
    "print(\"Adversarial MSE\", (((fair.predict_sensitive_adv(X_test).flatten() - Z_test))**2).mean())\n",
    "print(\"Clf accuracy fair\", (fair.clf.predict(X_test) == y_test).mean())\n"
   ]
  },
  {
   "cell_type": "markdown",
   "id": "productive-immunology",
   "metadata": {},
   "source": [
    "### Comparing a fair and a biased classifier: sandbox"
   ]
  },
  {
   "cell_type": "code",
   "execution_count": 46,
   "id": "editorial-minority",
   "metadata": {},
   "outputs": [
    {
     "name": "stderr",
     "output_type": "stream",
     "text": [
      "100%|██████████| 100/100 [00:01<00:00, 64.19it/s]\n",
      "100%|██████████| 100/100 [00:02<00:00, 42.05it/s]\n"
     ]
    },
    {
     "name": "stdout",
     "output_type": "stream",
     "text": [
      "Adversarial MSE 1.0848691709424065\n",
      "Clf accuracy fair 0.8802395209580839\n",
      "Clf accuracy biased 0.9041916167664671\n"
     ]
    }
   ],
   "source": [
    "clf_biased = DNN_pool.Classifier(n_features=X_train.shape[1],\n",
    "                n_hlayers=5,\n",
    "                n_hidden=30)\n",
    "clf_biased.fit(X_train, y_train, n_epochs=100, plot=False)\n",
    "\n",
    "clf_dummy = DNN_pool.Classifier(n_features=X_train.shape[1], n_hlayers=5, n_hidden=30)\n",
    "clf_fair = DNN_pool.FairZhang(clf_dummy, lambda_=1.0)\n",
    "clf_fair.pretrain_both(X_train, Z_train, y_train)\n",
    "clf_fair.fit(X_train, Z_train, y_train, plot=False, n_epochs=100)\n",
    "print(\"Adversarial MSE\", (((clf_fair.predict_sensitive_adv(X_test).flatten() - Z_test))**2).mean())\n",
    "print(\"Clf accuracy fair\", (clf_fair.clf.predict(X_test) == y_test).mean())\n",
    "print(\"Clf accuracy biased\", (clf_biased.predict(X_test) == y_test).mean())\n"
   ]
  },
  {
   "cell_type": "markdown",
   "id": "mysterious-crime",
   "metadata": {},
   "source": [
    "# Discrepancy analysis with p2g"
   ]
  },
  {
   "cell_type": "code",
   "execution_count": 61,
   "id": "retained-health",
   "metadata": {},
   "outputs": [
    {
     "name": "stderr",
     "output_type": "stream",
     "text": [
      "100%|██████████| 100/100 [00:01<00:00, 61.93it/s]\n",
      "100%|██████████| 100/100 [00:02<00:00, 42.04it/s]\n",
      "### EPOCH #1\n",
      "### EPOCH #2\n",
      "### EPOCH #3\n",
      "### EPOCH #4\n",
      "### EPOCH #5\n"
     ]
    },
    {
     "name": "stdout",
     "output_type": "stream",
     "text": [
      "CPU times: user 5.63 s, sys: 33 ms, total: 5.67 s\n",
      "Wall time: 5.67 s\n"
     ]
    },
    {
     "data": {
      "text/plain": [
       "<discrepancies.pool2graph.pool2graph at 0x7ff15970b970>"
      ]
     },
     "execution_count": 61,
     "metadata": {},
     "output_type": "execute_result"
    }
   ],
   "source": [
    "%%time\n",
    "\n",
    "pool1 = DNN_pool.ZhangPool()\n",
    "pool1.fit(X_train, Z_train, y_train, n_epochs=100)\n",
    "\n",
    "p2g = pool2graph.pool2graph(X_train, y_train, pool1, k_init=20)\n",
    "p2g.fit(max_epochs=5)\n",
    "\n"
   ]
  },
  {
   "cell_type": "code",
   "execution_count": 62,
   "id": "japanese-biology",
   "metadata": {},
   "outputs": [
    {
     "data": {
      "text/html": [
       "<div>\n",
       "<style scoped>\n",
       "    .dataframe tbody tr th:only-of-type {\n",
       "        vertical-align: middle;\n",
       "    }\n",
       "\n",
       "    .dataframe tbody tr th {\n",
       "        vertical-align: top;\n",
       "    }\n",
       "\n",
       "    .dataframe thead th {\n",
       "        text-align: right;\n",
       "    }\n",
       "</style>\n",
       "<table border=\"1\" class=\"dataframe\">\n",
       "  <thead>\n",
       "    <tr style=\"text-align: right;\">\n",
       "      <th></th>\n",
       "      <th>fair 0</th>\n",
       "      <th>fair 1</th>\n",
       "    </tr>\n",
       "  </thead>\n",
       "  <tbody>\n",
       "    <tr>\n",
       "      <th>0</th>\n",
       "      <td>45</td>\n",
       "      <td>17</td>\n",
       "    </tr>\n",
       "    <tr>\n",
       "      <th>1</th>\n",
       "      <td>2</td>\n",
       "      <td>103</td>\n",
       "    </tr>\n",
       "  </tbody>\n",
       "</table>\n",
       "</div>"
      ],
      "text/plain": [
       "   fair 0  fair 1\n",
       "0      45      17\n",
       "1       2     103"
      ]
     },
     "execution_count": 62,
     "metadata": {},
     "output_type": "execute_result"
    }
   ],
   "source": [
    "from sklearn.metrics import confusion_matrix\n",
    "\n",
    "\n",
    "pd.DataFrame(confusion_matrix(pool1.predict(X_test).iloc[:, 0], pool1.predict(X_test).iloc[:, 1]), columns=['fair 0', 'fair 1'])\n",
    "\n"
   ]
  },
  {
   "cell_type": "code",
   "execution_count": 63,
   "id": "interstate-while",
   "metadata": {},
   "outputs": [
    {
     "data": {
      "text/plain": [
       "3002"
      ]
     },
     "execution_count": 63,
     "metadata": {},
     "output_type": "execute_result"
    }
   ],
   "source": [
    "intervals = discrepancies_intervals.get_discrepancies_intervals(p2g.G)\n",
    "len(intervals)"
   ]
  },
  {
   "cell_type": "code",
   "execution_count": 64,
   "id": "unlikely-windsor",
   "metadata": {},
   "outputs": [],
   "source": [
    "global_interval_coord = []\n",
    "for di in intervals:\n",
    "    interval_coord = np.array((di.border_features.iloc[0] - di.border_features.iloc[1]).abs())\n",
    "    global_interval_coord.append(interval_coord)\n",
    "global_interval_coord = np.array(global_interval_coord)\n",
    "global_interval_coord = pd.DataFrame(global_interval_coord, columns = X_train.columns)"
   ]
  },
  {
   "cell_type": "code",
   "execution_count": 66,
   "id": "worse-calcium",
   "metadata": {},
   "outputs": [
    {
     "data": {
      "image/png": "[encoded data removed]",
      "text/plain": [
       "<Figure size 432x288 with 1 Axes>"
      ]
     },
     "metadata": {
      "needs_background": "light"
     },
     "output_type": "display_data"
    }
   ],
   "source": [
    "sns.set_style()\n",
    "\n",
    "\n",
    "ax = sns.barplot(data=global_interval_coord, ci=95, palette=\"Set2\")\n",
    "ax.set_xticklabels(X_train.columns,rotation=30)\n",
    "\n",
    "plt.tight_layout()"
   ]
  },
  {
   "cell_type": "code",
   "execution_count": 74,
   "id": "indian-creativity",
   "metadata": {},
   "outputs": [
    {
     "name": "stdout",
     "output_type": "stream",
     "text": [
      "         CRIM   ZN  INDUS  CHAS  NOX   RM  AGE  DIS  RAD  TAX  PTRATIO  LSTAT\n",
      "cluster                                                                      \n",
      "0         117  117    117   117  117  117  117  117  117  117      117    117\n",
      "1         241  241    241   241  241  241  241  241  241  241      241    241\n",
      "2         120  120    120   120  120  120  120  120  120  120      120    120\n",
      "3         116  116    116   116  116  116  116  116  116  116      116    116\n",
      "4         215  215    215   215  215  215  215  215  215  215      215    215\n"
     ]
    },
    {
     "data": {
      "text/plain": [
       "<seaborn.axisgrid.FacetGrid at 0x7ff147e2a850>"
      ]
     },
     "execution_count": 74,
     "metadata": {},
     "output_type": "execute_result"
    },
    {
     "data": {
      "image/png": "[encoded data removed]",
      "text/plain": [
       "<Figure size 1440x720 with 5 Axes>"
      ]
     },
     "metadata": {
      "needs_background": "light"
     },
     "output_type": "display_data"
    }
   ],
   "source": [
    "from sklearn.cluster import KMeans\n",
    "\n",
    "oneborder = np.array([di.border_features.iloc[0] for di in intervals])\n",
    "coord_intervals = []\n",
    "for di in intervals:\n",
    "    a, b = di.border_features.iloc[0], di.border_features.iloc[1]\n",
    "    if a[0] > 0:\n",
    "        interval_coord = a - b\n",
    "    else:\n",
    "        interval_coord = a - b\n",
    "    coord_intervals.append(interval_coord)\n",
    "coord_intervals = np.array(coord_intervals)\n",
    "coord_intervals = pd.DataFrame(coord_intervals, columns=X_train.columns)\n",
    "\n",
    "nodes = p2g.get_nodes_attributes(p2g.get_nodes(discrepancies=True))[0]\n",
    "\n",
    "clusters_nodes = KMeans(n_clusters=5, n_jobs=-1).fit_predict(nodes)\n",
    "\n",
    "clusters = clusters_nodes.copy()\n",
    "data = nodes.copy()\n",
    "\n",
    "\n",
    "data[\"cluster\"] = clusters\n",
    "print(data.groupby('cluster').count())\n",
    "\n",
    "sns.catplot(data=data, col=\"cluster\", kind=\"box\", col_wrap=4)"
   ]
  },
  {
   "cell_type": "code",
   "execution_count": 73,
   "id": "moral-relations",
   "metadata": {},
   "outputs": [
    {
     "data": {
      "image/png": "[encoded data removed]",
      "text/plain": [
       "<Figure size 432x288 with 1 Axes>"
      ]
     },
     "metadata": {
      "needs_background": "light"
     },
     "output_type": "display_data"
    }
   ],
   "source": [
    "from sklearn.manifold import TSNE\n",
    "try :\n",
    "    del data[\"cluster\"]\n",
    "except KeyError:\n",
    "    pass\n",
    "tsne = TSNE(perplexity=50, n_jobs=-1).fit_transform(data)\n",
    "tsne = pd.DataFrame(tsne, columns=[\"Dim 0\", \"Dim 1\"])\n",
    "tsne[\"cluster\"] = clusters\n",
    "sns.scatterplot(x=\"Dim 0\", y=\"Dim 1\", hue=\"cluster\", data=tsne)\n",
    "plt.title(\"t-SNE vizualisation of discrepancy nodes\")\n",
    "plt.tight_layout()\n",
    "#plt.savefig(\"./../../results/discussion_tsne_boston.pdf\")"
   ]
  },
  {
   "cell_type": "markdown",
   "id": "reliable-matthew",
   "metadata": {},
   "source": [
    "### Observations \n",
    "#### Boston\n",
    "- On a des clusters différents, des zones différentes de l'espace où le débiaisage se fait.\n",
    "    - est-ce vraiment du au débiaisage? ou est-ce une zone d'incertitude que j'aurais eu sur des modèles différents quelconques? \n",
    "        - Est-ce une vraie question ?\n",
    "        - En attendant: en comparant par rapport à l'autre notebook (mis dans le papier): certains clusters semblent semblables, d'autres non.\n",
    "    - ce sont des zones où débiaiser à fait changer la prédiction\n",
    "        - sans doute des variables corrélées donc?\n",
    "        - ou bien, comme disait Vincent, celles qui dépendant causalement\n",
    "    - \n",
    "    "
   ]
  },
  {
   "cell_type": "markdown",
   "id": "infrared-connection",
   "metadata": {},
   "source": [
    "# Next steps\n",
    "\n",
    "- Use AIF360.... \n",
    "- \n"
   ]
  },
  {
   "cell_type": "code",
   "execution_count": 3,
   "id": "mexican-regard",
   "metadata": {},
   "outputs": [
    {
     "name": "stdout",
     "output_type": "stream",
     "text": [
      "\u001b[31mERROR: Could not find a version that satisfies the requirement libomp\u001b[0m\r\n",
      "\u001b[31mERROR: No matching distribution found for libomp\u001b[0m\r\n"
     ]
    }
   ],
   "source": []
  },
  {
   "cell_type": "code",
   "execution_count": 11,
   "id": "german-piece",
   "metadata": {},
   "outputs": [
    {
     "data": {
      "text/markdown": [
       "#### Training Dataset shape"
      ],
      "text/plain": [
       "<IPython.core.display.Markdown object>"
      ]
     },
     "metadata": {},
     "output_type": "display_data"
    },
    {
     "name": "stdout",
     "output_type": "stream",
     "text": [
      "(34189, 7)\n"
     ]
    },
    {
     "data": {
      "text/markdown": [
       "#### Favorable and unfavorable labels"
      ],
      "text/plain": [
       "<IPython.core.display.Markdown object>"
      ]
     },
     "metadata": {},
     "output_type": "display_data"
    },
    {
     "name": "stdout",
     "output_type": "stream",
     "text": [
      "1.0 0.0\n"
     ]
    },
    {
     "data": {
      "text/markdown": [
       "#### Protected attribute names"
      ],
      "text/plain": [
       "<IPython.core.display.Markdown object>"
      ]
     },
     "metadata": {},
     "output_type": "display_data"
    },
    {
     "name": "stdout",
     "output_type": "stream",
     "text": [
      "['race', 'sex']\n"
     ]
    },
    {
     "data": {
      "text/markdown": [
       "#### Privileged and unprivileged protected attribute values"
      ],
      "text/plain": [
       "<IPython.core.display.Markdown object>"
      ]
     },
     "metadata": {},
     "output_type": "display_data"
    },
    {
     "name": "stdout",
     "output_type": "stream",
     "text": [
      "[array([1.]), array([1.])] [array([0.]), array([0.])]\n"
     ]
    },
    {
     "data": {
      "text/markdown": [
       "#### Dataset feature names"
      ],
      "text/plain": [
       "<IPython.core.display.Markdown object>"
      ]
     },
     "metadata": {},
     "output_type": "display_data"
    },
    {
     "name": "stdout",
     "output_type": "stream",
     "text": [
      "['age', 'education-num', 'race', 'sex', 'capital-gain', 'capital-loss', 'hours-per-week']\n"
     ]
    }
   ],
   "source": [
    "import sys\n",
    "sys.path.append(\"../\")\n",
    "from aif360.datasets import BinaryLabelDataset\n",
    "from aif360.datasets import AdultDataset, GermanDataset, CompasDataset\n",
    "from aif360.metrics import BinaryLabelDatasetMetric\n",
    "from aif360.metrics import ClassificationMetric\n",
    "from aif360.metrics.utils import compute_boolean_conditioning_vector\n",
    "\n",
    "from aif360.algorithms.preprocessing.optim_preproc_helpers.data_preproc_functions import load_preproc_data_adult, load_preproc_data_compas, load_preproc_data_german\n",
    "\n",
    "from aif360.algorithms.inprocessing.adversarial_debiasing import AdversarialDebiasing\n",
    "\n",
    "from sklearn.linear_model import LogisticRegression\n",
    "from sklearn.preprocessing import StandardScaler, MaxAbsScaler\n",
    "from sklearn.metrics import accuracy_score\n",
    "\n",
    "from IPython.display import Markdown, display\n",
    "import matplotlib.pyplot as plt\n",
    "\n",
    "import tensorflow.compat.v1 as tf\n",
    "tf.disable_eager_execution()\n",
    "\n",
    "\n",
    "dataset_orig = AdultDataset(protected_attribute_names=['race', 'sex'],\n",
    "                 privileged_classes=[['White'], ['Male']],\n",
    "                 categorical_features=[],#['workclass', 'education','marital-status', 'occupation', 'relationship', 'native-country'],\n",
    "                 #features_to_drop=['fnlwgt'],\n",
    "                features_to_keep=['age', 'education-num', 'capital-gain', 'capital-loss', 'hours-per-week']) #load_preproc_data_adult()\n",
    "dataset_orig_train, dataset_orig_test = dataset_orig.split([0.7], shuffle=True)\n",
    "\n",
    "\n",
    "privileged_groups = [{'sex': 1}]\n",
    "unprivileged_groups = [{'sex': 0}]\n",
    "\n",
    "# print out some labels, names, etc.\n",
    "display(Markdown(\"#### Training Dataset shape\"))\n",
    "print(dataset_orig_train.features.shape)\n",
    "display(Markdown(\"#### Favorable and unfavorable labels\"))\n",
    "print(dataset_orig_train.favorable_label, dataset_orig_train.unfavorable_label)\n",
    "display(Markdown(\"#### Protected attribute names\"))\n",
    "print(dataset_orig_train.protected_attribute_names)\n",
    "display(Markdown(\"#### Privileged and unprivileged protected attribute values\"))\n",
    "print(dataset_orig_train.privileged_protected_attributes, \n",
    "      dataset_orig_train.unprivileged_protected_attributes)\n",
    "display(Markdown(\"#### Dataset feature names\"))\n",
    "print(dataset_orig_train.feature_names)\n"
   ]
  },
  {
   "cell_type": "code",
   "execution_count": 12,
   "id": "supreme-stroke",
   "metadata": {},
   "outputs": [
    {
     "data": {
      "text/markdown": [
       "#### Original training dataset"
      ],
      "text/plain": [
       "<IPython.core.display.Markdown object>"
      ]
     },
     "metadata": {},
     "output_type": "display_data"
    },
    {
     "name": "stdout",
     "output_type": "stream",
     "text": [
      "Train set: Difference in mean outcomes between unprivileged and privileged groups = -0.190870\n",
      "Test set: Difference in mean outcomes between unprivileged and privileged groups = -0.203012\n"
     ]
    }
   ],
   "source": [
    "# Metric for the original dataset\n",
    "metric_orig_train = BinaryLabelDatasetMetric(dataset_orig_train, \n",
    "                                             unprivileged_groups=unprivileged_groups,\n",
    "                                             privileged_groups=privileged_groups)\n",
    "display(Markdown(\"#### Original training dataset\"))\n",
    "print(\"Train set: Difference in mean outcomes between unprivileged and privileged groups = %f\" % metric_orig_train.mean_difference())\n",
    "metric_orig_test = BinaryLabelDatasetMetric(dataset_orig_test, \n",
    "                                             unprivileged_groups=unprivileged_groups,\n",
    "                                             privileged_groups=privileged_groups)\n",
    "print(\"Test set: Difference in mean outcomes between unprivileged and privileged groups = %f\" % metric_orig_test.mean_difference())"
   ]
  },
  {
   "cell_type": "code",
   "execution_count": 6,
   "id": "conditional-footwear",
   "metadata": {},
   "outputs": [
    {
     "data": {
      "text/markdown": [
       "#### Scaled dataset - Verify that the scaling does not affect the group label statistics"
      ],
      "text/plain": [
       "<IPython.core.display.Markdown object>"
      ]
     },
     "metadata": {},
     "output_type": "display_data"
    },
    {
     "name": "stdout",
     "output_type": "stream",
     "text": [
      "Train set: Difference in mean outcomes between unprivileged and privileged groups = -0.198505\n",
      "Test set: Difference in mean outcomes between unprivileged and privileged groups = -0.185202\n"
     ]
    }
   ],
   "source": [
    "min_max_scaler = MaxAbsScaler()\n",
    "dataset_orig_train.features = min_max_scaler.fit_transform(dataset_orig_train.features)\n",
    "dataset_orig_test.features = min_max_scaler.transform(dataset_orig_test.features)\n",
    "metric_scaled_train = BinaryLabelDatasetMetric(dataset_orig_train, \n",
    "                             unprivileged_groups=unprivileged_groups,\n",
    "                             privileged_groups=privileged_groups)\n",
    "display(Markdown(\"#### Scaled dataset - Verify that the scaling does not affect the group label statistics\"))\n",
    "print(\"Train set: Difference in mean outcomes between unprivileged and privileged groups = %f\" % metric_scaled_train.mean_difference())\n",
    "metric_scaled_test = BinaryLabelDatasetMetric(dataset_orig_test, \n",
    "                             unprivileged_groups=unprivileged_groups,\n",
    "                             privileged_groups=privileged_groups)\n",
    "print(\"Test set: Difference in mean outcomes between unprivileged and privileged groups = %f\" % metric_scaled_test.mean_difference())"
   ]
  },
  {
   "cell_type": "code",
   "execution_count": 7,
   "id": "democratic-thing",
   "metadata": {},
   "outputs": [],
   "source": [
    "sess = tf.Session()\n",
    "\n",
    "plain_model = AdversarialDebiasing(privileged_groups = privileged_groups,\n",
    "                          unprivileged_groups = unprivileged_groups,\n",
    "                          scope_name='plain_classifier',\n",
    "                          debias=False, sess=sess, num_epochs=10)\n"
   ]
  },
  {
   "cell_type": "code",
   "execution_count": 8,
   "id": "aging-furniture",
   "metadata": {},
   "outputs": [
    {
     "name": "stdout",
     "output_type": "stream",
     "text": [
      "WARNING:tensorflow:From /Users/b076rg/opt/anaconda3/envs/python_env/lib/python3.8/site-packages/tensorflow/python/util/dispatch.py:201: calling dropout (from tensorflow.python.ops.nn_ops) with keep_prob is deprecated and will be removed in a future version.\n",
      "Instructions for updating:\n",
      "Please use `rate` instead of `keep_prob`. Rate should be set to `rate = 1 - keep_prob`.\n"
     ]
    },
    {
     "name": "stderr",
     "output_type": "stream",
     "text": [
      "WARNING:tensorflow:From /Users/b076rg/opt/anaconda3/envs/python_env/lib/python3.8/site-packages/tensorflow/python/util/dispatch.py:201: calling dropout (from tensorflow.python.ops.nn_ops) with keep_prob is deprecated and will be removed in a future version.\n",
      "Instructions for updating:\n",
      "Please use `rate` instead of `keep_prob`. Rate should be set to `rate = 1 - keep_prob`.\n"
     ]
    },
    {
     "name": "stdout",
     "output_type": "stream",
     "text": [
      "epoch 0; iter: 0; batch classifier loss: 0.672794\n",
      "epoch 0; iter: 200; batch classifier loss: 0.526219\n",
      "epoch 1; iter: 0; batch classifier loss: 0.413254\n",
      "epoch 1; iter: 200; batch classifier loss: 0.420474\n",
      "epoch 2; iter: 0; batch classifier loss: 0.359139\n",
      "epoch 2; iter: 200; batch classifier loss: 0.368674\n",
      "epoch 3; iter: 0; batch classifier loss: 0.414643\n",
      "epoch 3; iter: 200; batch classifier loss: 0.368432\n",
      "epoch 4; iter: 0; batch classifier loss: 0.343872\n",
      "epoch 4; iter: 200; batch classifier loss: 0.403548\n",
      "epoch 5; iter: 0; batch classifier loss: 0.451820\n",
      "epoch 5; iter: 200; batch classifier loss: 0.419313\n",
      "epoch 6; iter: 0; batch classifier loss: 0.428334\n",
      "epoch 6; iter: 200; batch classifier loss: 0.397298\n",
      "epoch 7; iter: 0; batch classifier loss: 0.376857\n",
      "epoch 7; iter: 200; batch classifier loss: 0.321462\n",
      "epoch 8; iter: 0; batch classifier loss: 0.380082\n",
      "epoch 8; iter: 200; batch classifier loss: 0.400459\n",
      "epoch 9; iter: 0; batch classifier loss: 0.306238\n",
      "epoch 9; iter: 200; batch classifier loss: 0.448996\n"
     ]
    },
    {
     "data": {
      "text/plain": [
       "<aif360.algorithms.inprocessing.adversarial_debiasing.AdversarialDebiasing at 0x7fe03116cf70>"
      ]
     },
     "execution_count": 8,
     "metadata": {},
     "output_type": "execute_result"
    }
   ],
   "source": [
    "plain_model.fit(dataset_orig_train)\n"
   ]
  },
  {
   "cell_type": "code",
   "execution_count": 9,
   "id": "informal-brush",
   "metadata": {},
   "outputs": [],
   "source": [
    "# Apply the plain model to test data\n",
    "dataset_nodebiasing_train = plain_model.predict(dataset_orig_train)\n",
    "dataset_nodebiasing_test = plain_model.predict(dataset_orig_test)"
   ]
  },
  {
   "cell_type": "code",
   "execution_count": 10,
   "id": "behavioral-violation",
   "metadata": {},
   "outputs": [
    {
     "data": {
      "text/markdown": [
       "#### Plain model - without debiasing - dataset metrics"
      ],
      "text/plain": [
       "<IPython.core.display.Markdown object>"
      ]
     },
     "metadata": {},
     "output_type": "display_data"
    },
    {
     "name": "stdout",
     "output_type": "stream",
     "text": [
      "Train set: Difference in mean outcomes between unprivileged and privileged groups = -0.207171\n",
      "Test set: Difference in mean outcomes between unprivileged and privileged groups = -0.206114\n"
     ]
    },
    {
     "data": {
      "text/markdown": [
       "#### Plain model - without debiasing - classification metrics"
      ],
      "text/plain": [
       "<IPython.core.display.Markdown object>"
      ]
     },
     "metadata": {},
     "output_type": "display_data"
    },
    {
     "name": "stdout",
     "output_type": "stream",
     "text": [
      "Test set: Classification accuracy = 0.828909\n",
      "Test set: Balanced classification accuracy = 0.710969\n",
      "Test set: Disparate impact = 0.114568\n",
      "Test set: Equal opportunity difference = -0.345371\n",
      "Test set: Average odds difference = -0.221007\n",
      "Test set: Theil_index = 0.148905\n"
     ]
    }
   ],
   "source": [
    "\n",
    "# Metrics for the dataset from plain model (without debiasing)\n",
    "display(Markdown(\"#### Plain model - without debiasing - dataset metrics\"))\n",
    "metric_dataset_nodebiasing_train = BinaryLabelDatasetMetric(dataset_nodebiasing_train, \n",
    "                                             unprivileged_groups=unprivileged_groups,\n",
    "                                             privileged_groups=privileged_groups)\n",
    "\n",
    "print(\"Train set: Difference in mean outcomes between unprivileged and privileged groups = %f\" % metric_dataset_nodebiasing_train.mean_difference())\n",
    "\n",
    "metric_dataset_nodebiasing_test = BinaryLabelDatasetMetric(dataset_nodebiasing_test, \n",
    "                                             unprivileged_groups=unprivileged_groups,\n",
    "                                             privileged_groups=privileged_groups)\n",
    "\n",
    "print(\"Test set: Difference in mean outcomes between unprivileged and privileged groups = %f\" % metric_dataset_nodebiasing_test.mean_difference())\n",
    "\n",
    "display(Markdown(\"#### Plain model - without debiasing - classification metrics\"))\n",
    "classified_metric_nodebiasing_test = ClassificationMetric(dataset_orig_test, \n",
    "                                                 dataset_nodebiasing_test,\n",
    "                                                 unprivileged_groups=unprivileged_groups,\n",
    "                                                 privileged_groups=privileged_groups)\n",
    "print(\"Test set: Classification accuracy = %f\" % classified_metric_nodebiasing_test.accuracy())\n",
    "TPR = classified_metric_nodebiasing_test.true_positive_rate()\n",
    "TNR = classified_metric_nodebiasing_test.true_negative_rate()\n",
    "bal_acc_nodebiasing_test = 0.5*(TPR+TNR)\n",
    "print(\"Test set: Balanced classification accuracy = %f\" % bal_acc_nodebiasing_test)\n",
    "print(\"Test set: Disparate impact = %f\" % classified_metric_nodebiasing_test.disparate_impact())\n",
    "print(\"Test set: Equal opportunity difference = %f\" % classified_metric_nodebiasing_test.equal_opportunity_difference())\n",
    "print(\"Test set: Average odds difference = %f\" % classified_metric_nodebiasing_test.average_odds_difference())\n",
    "print(\"Test set: Theil_index = %f\" % classified_metric_nodebiasing_test.theil_index())"
   ]
  },
  {
   "cell_type": "code",
   "execution_count": 10,
   "id": "banner-officer",
   "metadata": {},
   "outputs": [],
   "source": [
    "sess.close()\n",
    "tf.reset_default_graph()\n",
    "sess = tf.Session()\n",
    "\n",
    "# Learn parameters with debias set to True\n",
    "debiased_model = AdversarialDebiasing(privileged_groups = privileged_groups,\n",
    "                          unprivileged_groups = unprivileged_groups,\n",
    "                          scope_name='debiased_classifier',\n",
    "                          debias=True,\n",
    "                          sess=sess)"
   ]
  },
  {
   "cell_type": "code",
   "execution_count": 11,
   "id": "abstract-ukraine",
   "metadata": {},
   "outputs": [
    {
     "name": "stdout",
     "output_type": "stream",
     "text": [
      "epoch 0; iter: 0; batch classifier loss: 0.691258; batch adversarial loss: 0.755124\n",
      "epoch 0; iter: 200; batch classifier loss: 0.482546; batch adversarial loss: 0.718431\n",
      "epoch 1; iter: 0; batch classifier loss: 0.454456; batch adversarial loss: 0.696670\n",
      "epoch 1; iter: 200; batch classifier loss: 0.377524; batch adversarial loss: 0.650724\n",
      "epoch 2; iter: 0; batch classifier loss: 0.504816; batch adversarial loss: 0.626104\n",
      "epoch 2; iter: 200; batch classifier loss: 0.421572; batch adversarial loss: 0.608568\n",
      "epoch 3; iter: 0; batch classifier loss: 0.409763; batch adversarial loss: 0.617464\n",
      "epoch 3; iter: 200; batch classifier loss: 0.402537; batch adversarial loss: 0.602858\n",
      "epoch 4; iter: 0; batch classifier loss: 0.346228; batch adversarial loss: 0.610729\n",
      "epoch 4; iter: 200; batch classifier loss: 0.464465; batch adversarial loss: 0.643725\n",
      "epoch 5; iter: 0; batch classifier loss: 0.403853; batch adversarial loss: 0.654964\n",
      "epoch 5; iter: 200; batch classifier loss: 0.567213; batch adversarial loss: 0.640203\n",
      "epoch 6; iter: 0; batch classifier loss: 0.471506; batch adversarial loss: 0.594636\n",
      "epoch 6; iter: 200; batch classifier loss: 0.424376; batch adversarial loss: 0.681591\n",
      "epoch 7; iter: 0; batch classifier loss: 0.546582; batch adversarial loss: 0.639539\n",
      "epoch 7; iter: 200; batch classifier loss: 0.531458; batch adversarial loss: 0.689390\n",
      "epoch 8; iter: 0; batch classifier loss: 0.444407; batch adversarial loss: 0.667002\n",
      "epoch 8; iter: 200; batch classifier loss: 0.401837; batch adversarial loss: 0.655031\n",
      "epoch 9; iter: 0; batch classifier loss: 0.409204; batch adversarial loss: 0.630965\n",
      "epoch 9; iter: 200; batch classifier loss: 0.495341; batch adversarial loss: 0.631203\n",
      "epoch 10; iter: 0; batch classifier loss: 0.445095; batch adversarial loss: 0.663464\n",
      "epoch 10; iter: 200; batch classifier loss: 0.449937; batch adversarial loss: 0.634817\n",
      "epoch 11; iter: 0; batch classifier loss: 0.458657; batch adversarial loss: 0.595965\n",
      "epoch 11; iter: 200; batch classifier loss: 0.500022; batch adversarial loss: 0.613692\n",
      "epoch 12; iter: 0; batch classifier loss: 0.457823; batch adversarial loss: 0.577802\n",
      "epoch 12; iter: 200; batch classifier loss: 0.388658; batch adversarial loss: 0.584774\n",
      "epoch 13; iter: 0; batch classifier loss: 0.362877; batch adversarial loss: 0.612289\n",
      "epoch 13; iter: 200; batch classifier loss: 0.450578; batch adversarial loss: 0.672378\n",
      "epoch 14; iter: 0; batch classifier loss: 0.489252; batch adversarial loss: 0.638681\n",
      "epoch 14; iter: 200; batch classifier loss: 0.461137; batch adversarial loss: 0.666846\n",
      "epoch 15; iter: 0; batch classifier loss: 0.395238; batch adversarial loss: 0.648514\n",
      "epoch 15; iter: 200; batch classifier loss: 0.411412; batch adversarial loss: 0.581317\n",
      "epoch 16; iter: 0; batch classifier loss: 0.522815; batch adversarial loss: 0.631925\n",
      "epoch 16; iter: 200; batch classifier loss: 0.398463; batch adversarial loss: 0.603704\n",
      "epoch 17; iter: 0; batch classifier loss: 0.442357; batch adversarial loss: 0.596688\n",
      "epoch 17; iter: 200; batch classifier loss: 0.458205; batch adversarial loss: 0.558435\n",
      "epoch 18; iter: 0; batch classifier loss: 0.393082; batch adversarial loss: 0.653529\n",
      "epoch 18; iter: 200; batch classifier loss: 0.440670; batch adversarial loss: 0.571647\n",
      "epoch 19; iter: 0; batch classifier loss: 0.404992; batch adversarial loss: 0.577053\n",
      "epoch 19; iter: 200; batch classifier loss: 0.466356; batch adversarial loss: 0.560175\n",
      "epoch 20; iter: 0; batch classifier loss: 0.455725; batch adversarial loss: 0.619016\n",
      "epoch 20; iter: 200; batch classifier loss: 0.484079; batch adversarial loss: 0.571980\n",
      "epoch 21; iter: 0; batch classifier loss: 0.376124; batch adversarial loss: 0.607593\n",
      "epoch 21; iter: 200; batch classifier loss: 0.401547; batch adversarial loss: 0.639276\n",
      "epoch 22; iter: 0; batch classifier loss: 0.378646; batch adversarial loss: 0.553217\n",
      "epoch 22; iter: 200; batch classifier loss: 0.364678; batch adversarial loss: 0.649885\n",
      "epoch 23; iter: 0; batch classifier loss: 0.316310; batch adversarial loss: 0.621792\n",
      "epoch 23; iter: 200; batch classifier loss: 0.472379; batch adversarial loss: 0.583574\n",
      "epoch 24; iter: 0; batch classifier loss: 0.435724; batch adversarial loss: 0.641138\n",
      "epoch 24; iter: 200; batch classifier loss: 0.459961; batch adversarial loss: 0.586328\n",
      "epoch 25; iter: 0; batch classifier loss: 0.385019; batch adversarial loss: 0.595156\n",
      "epoch 25; iter: 200; batch classifier loss: 0.465297; batch adversarial loss: 0.663500\n",
      "epoch 26; iter: 0; batch classifier loss: 0.434045; batch adversarial loss: 0.588371\n",
      "epoch 26; iter: 200; batch classifier loss: 0.464092; batch adversarial loss: 0.609578\n",
      "epoch 27; iter: 0; batch classifier loss: 0.392892; batch adversarial loss: 0.636294\n",
      "epoch 27; iter: 200; batch classifier loss: 0.406107; batch adversarial loss: 0.544938\n",
      "epoch 28; iter: 0; batch classifier loss: 0.456225; batch adversarial loss: 0.689105\n",
      "epoch 28; iter: 200; batch classifier loss: 0.374816; batch adversarial loss: 0.629557\n",
      "epoch 29; iter: 0; batch classifier loss: 0.414196; batch adversarial loss: 0.607460\n",
      "epoch 29; iter: 200; batch classifier loss: 0.458212; batch adversarial loss: 0.614938\n",
      "epoch 30; iter: 0; batch classifier loss: 0.356631; batch adversarial loss: 0.566198\n",
      "epoch 30; iter: 200; batch classifier loss: 0.338610; batch adversarial loss: 0.630443\n",
      "epoch 31; iter: 0; batch classifier loss: 0.347805; batch adversarial loss: 0.632043\n",
      "epoch 31; iter: 200; batch classifier loss: 0.413016; batch adversarial loss: 0.589305\n",
      "epoch 32; iter: 0; batch classifier loss: 0.349047; batch adversarial loss: 0.587541\n",
      "epoch 32; iter: 200; batch classifier loss: 0.473225; batch adversarial loss: 0.689363\n",
      "epoch 33; iter: 0; batch classifier loss: 0.426531; batch adversarial loss: 0.640338\n",
      "epoch 33; iter: 200; batch classifier loss: 0.433578; batch adversarial loss: 0.641162\n",
      "epoch 34; iter: 0; batch classifier loss: 0.324642; batch adversarial loss: 0.594412\n",
      "epoch 34; iter: 200; batch classifier loss: 0.405677; batch adversarial loss: 0.558708\n",
      "epoch 35; iter: 0; batch classifier loss: 0.409895; batch adversarial loss: 0.617568\n",
      "epoch 35; iter: 200; batch classifier loss: 0.507187; batch adversarial loss: 0.586107\n",
      "epoch 36; iter: 0; batch classifier loss: 0.456605; batch adversarial loss: 0.582002\n",
      "epoch 36; iter: 200; batch classifier loss: 0.471719; batch adversarial loss: 0.622890\n",
      "epoch 37; iter: 0; batch classifier loss: 0.360843; batch adversarial loss: 0.648725\n",
      "epoch 37; iter: 200; batch classifier loss: 0.434083; batch adversarial loss: 0.532022\n",
      "epoch 38; iter: 0; batch classifier loss: 0.531437; batch adversarial loss: 0.668184\n",
      "epoch 38; iter: 200; batch classifier loss: 0.369444; batch adversarial loss: 0.598912\n",
      "epoch 39; iter: 0; batch classifier loss: 0.425820; batch adversarial loss: 0.626394\n",
      "epoch 39; iter: 200; batch classifier loss: 0.470598; batch adversarial loss: 0.636040\n",
      "epoch 40; iter: 0; batch classifier loss: 0.427869; batch adversarial loss: 0.614814\n",
      "epoch 40; iter: 200; batch classifier loss: 0.346152; batch adversarial loss: 0.658770\n",
      "epoch 41; iter: 0; batch classifier loss: 0.365938; batch adversarial loss: 0.680766\n",
      "epoch 41; iter: 200; batch classifier loss: 0.536847; batch adversarial loss: 0.594366\n",
      "epoch 42; iter: 0; batch classifier loss: 0.453771; batch adversarial loss: 0.652680\n",
      "epoch 42; iter: 200; batch classifier loss: 0.477051; batch adversarial loss: 0.635912\n",
      "epoch 43; iter: 0; batch classifier loss: 0.401771; batch adversarial loss: 0.582283\n",
      "epoch 43; iter: 200; batch classifier loss: 0.446133; batch adversarial loss: 0.617434\n",
      "epoch 44; iter: 0; batch classifier loss: 0.423638; batch adversarial loss: 0.604713\n",
      "epoch 44; iter: 200; batch classifier loss: 0.414261; batch adversarial loss: 0.625154\n",
      "epoch 45; iter: 0; batch classifier loss: 0.388595; batch adversarial loss: 0.537506\n",
      "epoch 45; iter: 200; batch classifier loss: 0.553649; batch adversarial loss: 0.602976\n",
      "epoch 46; iter: 0; batch classifier loss: 0.430152; batch adversarial loss: 0.583075\n",
      "epoch 46; iter: 200; batch classifier loss: 0.414730; batch adversarial loss: 0.607084\n",
      "epoch 47; iter: 0; batch classifier loss: 0.525385; batch adversarial loss: 0.587691\n",
      "epoch 47; iter: 200; batch classifier loss: 0.555739; batch adversarial loss: 0.634085\n",
      "epoch 48; iter: 0; batch classifier loss: 0.389252; batch adversarial loss: 0.622709\n"
     ]
    },
    {
     "name": "stdout",
     "output_type": "stream",
     "text": [
      "epoch 48; iter: 200; batch classifier loss: 0.469139; batch adversarial loss: 0.619790\n",
      "epoch 49; iter: 0; batch classifier loss: 0.365841; batch adversarial loss: 0.601287\n",
      "epoch 49; iter: 200; batch classifier loss: 0.497392; batch adversarial loss: 0.581676\n"
     ]
    },
    {
     "data": {
      "text/plain": [
       "<aif360.algorithms.inprocessing.adversarial_debiasing.AdversarialDebiasing at 0x7f842b4abf40>"
      ]
     },
     "execution_count": 11,
     "metadata": {},
     "output_type": "execute_result"
    }
   ],
   "source": [
    "debiased_model.fit(dataset_orig_train)"
   ]
  },
  {
   "cell_type": "code",
   "execution_count": 12,
   "id": "taken-mobile",
   "metadata": {},
   "outputs": [],
   "source": [
    "# Apply the plain model to test data\n",
    "dataset_debiasing_train = debiased_model.predict(dataset_orig_train)\n",
    "dataset_debiasing_test = debiased_model.predict(dataset_orig_test)"
   ]
  },
  {
   "cell_type": "code",
   "execution_count": 13,
   "id": "decimal-layout",
   "metadata": {},
   "outputs": [
    {
     "data": {
      "text/markdown": [
       "#### Plain model - without debiasing - dataset metrics"
      ],
      "text/plain": [
       "<IPython.core.display.Markdown object>"
      ]
     },
     "metadata": {},
     "output_type": "display_data"
    },
    {
     "name": "stdout",
     "output_type": "stream",
     "text": [
      "Train set: Difference in mean outcomes between unprivileged and privileged groups = -0.207394\n",
      "Test set: Difference in mean outcomes between unprivileged and privileged groups = -0.210834\n"
     ]
    },
    {
     "data": {
      "text/markdown": [
       "#### Model - with debiasing - dataset metrics"
      ],
      "text/plain": [
       "<IPython.core.display.Markdown object>"
      ]
     },
     "metadata": {},
     "output_type": "display_data"
    },
    {
     "name": "stdout",
     "output_type": "stream",
     "text": [
      "Train set: Difference in mean outcomes between unprivileged and privileged groups = -0.085854\n",
      "Test set: Difference in mean outcomes between unprivileged and privileged groups = -0.086214\n"
     ]
    },
    {
     "data": {
      "text/markdown": [
       "#### Plain model - without debiasing - classification metrics"
      ],
      "text/plain": [
       "<IPython.core.display.Markdown object>"
      ]
     },
     "metadata": {},
     "output_type": "display_data"
    },
    {
     "name": "stdout",
     "output_type": "stream",
     "text": [
      "Test set: Classification accuracy = 0.799973\n",
      "Test set: Balanced classification accuracy = 0.656463\n",
      "Test set: Disparate impact = 0.000000\n",
      "Test set: Equal opportunity difference = -0.443967\n",
      "Test set: Average odds difference = -0.275091\n",
      "Test set: Theil_index = 0.183378\n"
     ]
    },
    {
     "data": {
      "text/markdown": [
       "#### Model - with debiasing - classification metrics"
      ],
      "text/plain": [
       "<IPython.core.display.Markdown object>"
      ]
     },
     "metadata": {},
     "output_type": "display_data"
    },
    {
     "name": "stdout",
     "output_type": "stream",
     "text": [
      "Test set: Classification accuracy = 0.789053\n",
      "Test set: Balanced classification accuracy = 0.667677\n",
      "Test set: Disparate impact = 0.582567\n",
      "Test set: Equal opportunity difference = -0.031110\n",
      "Test set: Average odds difference = -0.024534\n",
      "Test set: Theil_index = 0.175421\n"
     ]
    }
   ],
   "source": [
    "# Metrics for the dataset from plain model (without debiasing)\n",
    "display(Markdown(\"#### Plain model - without debiasing - dataset metrics\"))\n",
    "print(\"Train set: Difference in mean outcomes between unprivileged and privileged groups = %f\" % metric_dataset_nodebiasing_train.mean_difference())\n",
    "print(\"Test set: Difference in mean outcomes between unprivileged and privileged groups = %f\" % metric_dataset_nodebiasing_test.mean_difference())\n",
    "\n",
    "# Metrics for the dataset from model with debiasing\n",
    "display(Markdown(\"#### Model - with debiasing - dataset metrics\"))\n",
    "metric_dataset_debiasing_train = BinaryLabelDatasetMetric(dataset_debiasing_train, \n",
    "                                             unprivileged_groups=unprivileged_groups,\n",
    "                                             privileged_groups=privileged_groups)\n",
    "\n",
    "print(\"Train set: Difference in mean outcomes between unprivileged and privileged groups = %f\" % metric_dataset_debiasing_train.mean_difference())\n",
    "\n",
    "metric_dataset_debiasing_test = BinaryLabelDatasetMetric(dataset_debiasing_test, \n",
    "                                             unprivileged_groups=unprivileged_groups,\n",
    "                                             privileged_groups=privileged_groups)\n",
    "\n",
    "print(\"Test set: Difference in mean outcomes between unprivileged and privileged groups = %f\" % metric_dataset_debiasing_test.mean_difference())\n",
    "\n",
    "\n",
    "\n",
    "display(Markdown(\"#### Plain model - without debiasing - classification metrics\"))\n",
    "print(\"Test set: Classification accuracy = %f\" % classified_metric_nodebiasing_test.accuracy())\n",
    "TPR = classified_metric_nodebiasing_test.true_positive_rate()\n",
    "TNR = classified_metric_nodebiasing_test.true_negative_rate()\n",
    "bal_acc_nodebiasing_test = 0.5*(TPR+TNR)\n",
    "print(\"Test set: Balanced classification accuracy = %f\" % bal_acc_nodebiasing_test)\n",
    "print(\"Test set: Disparate impact = %f\" % classified_metric_nodebiasing_test.disparate_impact())\n",
    "print(\"Test set: Equal opportunity difference = %f\" % classified_metric_nodebiasing_test.equal_opportunity_difference())\n",
    "print(\"Test set: Average odds difference = %f\" % classified_metric_nodebiasing_test.average_odds_difference())\n",
    "print(\"Test set: Theil_index = %f\" % classified_metric_nodebiasing_test.theil_index())\n",
    "\n",
    "\n",
    "\n",
    "display(Markdown(\"#### Model - with debiasing - classification metrics\"))\n",
    "classified_metric_debiasing_test = ClassificationMetric(dataset_orig_test, \n",
    "                                                 dataset_debiasing_test,\n",
    "                                                 unprivileged_groups=unprivileged_groups,\n",
    "                                                 privileged_groups=privileged_groups)\n",
    "print(\"Test set: Classification accuracy = %f\" % classified_metric_debiasing_test.accuracy())\n",
    "TPR = classified_metric_debiasing_test.true_positive_rate()\n",
    "TNR = classified_metric_debiasing_test.true_negative_rate()\n",
    "bal_acc_debiasing_test = 0.5*(TPR+TNR)\n",
    "print(\"Test set: Balanced classification accuracy = %f\" % bal_acc_debiasing_test)\n",
    "print(\"Test set: Disparate impact = %f\" % classified_metric_debiasing_test.disparate_impact())\n",
    "print(\"Test set: Equal opportunity difference = %f\" % classified_metric_debiasing_test.equal_opportunity_difference())\n",
    "print(\"Test set: Average odds difference = %f\" % classified_metric_debiasing_test.average_odds_difference())\n",
    "print(\"Test set: Theil_index = %f\" % classified_metric_debiasing_test.theil_index())"
   ]
  },
  {
   "cell_type": "code",
   "execution_count": 22,
   "id": "charged-petroleum",
   "metadata": {},
   "outputs": [
    {
     "data": {
      "text/plain": [
       "(48842, 18)"
      ]
     },
     "execution_count": 22,
     "metadata": {},
     "output_type": "execute_result"
    }
   ],
   "source": [
    "dataset_orig.features.shape"
   ]
  },
  {
   "cell_type": "code",
   "execution_count": null,
   "id": "limiting-commitment",
   "metadata": {},
   "outputs": [],
   "source": []
  },
  {
   "cell_type": "code",
   "execution_count": null,
   "id": "first-nutrition",
   "metadata": {},
   "outputs": [],
   "source": []
  },
  {
   "cell_type": "code",
   "execution_count": null,
   "id": "advised-placement",
   "metadata": {},
   "outputs": [],
   "source": []
  },
  {
   "cell_type": "code",
   "execution_count": null,
   "id": "approved-spread",
   "metadata": {
    "scrolled": true
   },
   "outputs": [],
   "source": [
    "\n",
    "generator = {'model': generative_model.DiscGen(n_touchpoints=len(model_pool),\n",
    "                            n_features=X_train.shape[1],\n",
    "                            n_hlayers=5,\n",
    "                            n_hidden=50,\n",
    "                            p_dropout=0.0)}\n",
    "generator['optimizer'] = optim.Adam(generator['model'].parameters())\n",
    "generator['loss_parameters'] = {\n",
    "                    'k_align': 10.0,\n",
    "                    'k_disc': 10.0}\n",
    "\n",
    "N_EPOCHS_G = 40\n",
    "generative_model.train_generator(generator, model_pool, train_loader, N_EPOCHS_G, plot=True)\n"
   ]
  },
  {
   "cell_type": "code",
   "execution_count": null,
   "id": "dietary-disorder",
   "metadata": {},
   "outputs": [],
   "source": []
  },
  {
   "cell_type": "code",
   "execution_count": null,
   "id": "eight-tissue",
   "metadata": {},
   "outputs": [],
   "source": [
    "#X_test_disc\n",
    "y_test_discr = []\n",
    "a = 0\n",
    "for x, _ in test_loader:\n",
    "    pred = np.array([model['model'](x).detach().numpy() for model in model_pool]).reshape(2, -1)\n",
    "    pred = (pred >= 0.5).astype('int').mean(axis=0)\n",
    "    y_disc = ((pred < 1.0) * (pred > 0.0)).astype('int')\n",
    "    y_test_discr.extend(y_disc)\n",
    "    a += _.sum()\n",
    "y_test_discr = torch.Tensor(y_test_discr).reshape(-1, 1)\n",
    "\n",
    "discr_boys = X_test[torch.where(y_test_discr == 1)[0], :]\n",
    "their_friends = generator['model'](torch.Tensor(discr_boys))\n",
    "\n",
    "# comment analyser ça ? Est ce que le local est vriament ce qu'on veut ici ? \n",
    "# On sait quels TP sont pour quel modèle."
   ]
  },
  {
   "cell_type": "markdown",
   "id": "royal-making",
   "metadata": {},
   "source": [
    "## Generative global"
   ]
  },
  {
   "cell_type": "code",
   "execution_count": null,
   "id": "ready-capture",
   "metadata": {},
   "outputs": [],
   "source": []
  },
  {
   "cell_type": "code",
   "execution_count": null,
   "id": "executive-domestic",
   "metadata": {},
   "outputs": [],
   "source": []
  },
  {
   "cell_type": "code",
   "execution_count": null,
   "id": "prompt-brazilian",
   "metadata": {},
   "outputs": [],
   "source": []
  },
  {
   "cell_type": "code",
   "execution_count": null,
   "id": "broke-toilet",
   "metadata": {},
   "outputs": [],
   "source": []
  },
  {
   "cell_type": "code",
   "execution_count": null,
   "id": "induced-custody",
   "metadata": {},
   "outputs": [],
   "source": [
    "########################\n",
    "# Dans notebook\n",
    "generator = {'model': generative_model_global.GlobalDiscGen(#n_touchpoints=len(model_pool),\n",
    "                            n_features=X_train.shape[1],\n",
    "                            n_hlayers=5,\n",
    "                            n_hidden=50,\n",
    "                            p_dropout=0.0)}\n",
    "generator['optimizer'] = optim.Adam(generator['model'].parameters())\n",
    "generator['loss_parameters'] = {\n",
    "                    'k_align': 10.0,\n",
    "                    'k_disc': 10.0}\n",
    "\n",
    "N_EPOCHS_G = 40\n",
    "generative_model_global.train_generator(generator, model_pool, train_loader, N_EPOCHS_G, plot=True)"
   ]
  },
  {
   "cell_type": "code",
   "execution_count": null,
   "id": "professional-blink",
   "metadata": {},
   "outputs": [],
   "source": [
    "\n",
    "\n"
   ]
  },
  {
   "cell_type": "code",
   "execution_count": null,
   "id": "driven-ontario",
   "metadata": {},
   "outputs": [],
   "source": [
    "#evaluation\n",
    "\n",
    "## sampling kde\n",
    "## labellisation avec la pool; 1 si disc, 0 sinon\n",
    "## on vérifie qu'on génère uniquement dans la zone disc."
   ]
  },
  {
   "cell_type": "code",
   "execution_count": null,
   "id": "dominican-turning",
   "metadata": {},
   "outputs": [],
   "source": []
  }
 ],
 "metadata": {
  "kernelspec": {
   "display_name": "Python 3",
   "language": "python",
   "name": "python3"
  },
  "language_info": {
   "codemirror_mode": {
    "name": "ipython",
    "version": 3
   },
   "file_extension": ".py",
   "mimetype": "text/x-python",
   "name": "python",
   "nbconvert_exporter": "python",
   "pygments_lexer": "ipython3",
   "version": "3.8.5"
  }
 },
 "nbformat": 4,
 "nbformat_minor": 5
}
