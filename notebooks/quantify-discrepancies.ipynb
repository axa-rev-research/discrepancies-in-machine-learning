{
 "cells": [
  {
   "cell_type": "code",
   "execution_count": 68,
   "metadata": {},
   "outputs": [
    {
     "name": "stdout",
     "output_type": "stream",
     "text": [
      "/opt/conda/lib/python3.7/site-packages/secretstorage/dhcrypto.py:16: CryptographyDeprecationWarning: int_from_bytes is deprecated, use int.from_bytes instead\n",
      "  from cryptography.utils import int_from_bytes\n",
      "/opt/conda/lib/python3.7/site-packages/secretstorage/util.py:25: CryptographyDeprecationWarning: int_from_bytes is deprecated, use int.from_bytes instead\n",
      "  from cryptography.utils import int_from_bytes\n",
      "Requirement already satisfied: xgboost in /opt/conda/lib/python3.7/site-packages (1.5.1)\n",
      "Requirement already satisfied: numpy in /opt/conda/lib/python3.7/site-packages (from xgboost) (1.20.3)\n",
      "Requirement already satisfied: scipy in /opt/conda/lib/python3.7/site-packages (from xgboost) (1.4.1)\n",
      "\u001b[33mWARNING: Running pip as the 'root' user can result in broken permissions and conflicting behaviour with the system package manager. It is recommended to use a virtual environment instead: https://pip.pypa.io/warnings/venv\u001b[0m\n",
      "Note: you may need to restart the kernel to use updated packages.\n",
      "Collecting package metadata (current_repodata.json): done\n",
      "Solving environment: done\n",
      "\n",
      "## Package Plan ##\n",
      "\n",
      "  environment location: /opt/conda\n",
      "\n",
      "  added / updated specs:\n",
      "    - seaborn\n",
      "\n",
      "\n",
      "The following packages will be downloaded:\n",
      "\n",
      "    package                    |            build\n",
      "    ---------------------------|-----------------\n",
      "    ca-certificates-2021.10.26 |       h06a4308_2         115 KB\n",
      "    certifi-2021.10.8          |   py37h06a4308_0         151 KB\n",
      "    conda-4.11.0               |   py37h06a4308_0        14.4 MB\n",
      "    seaborn-0.11.2             |     pyhd3eb1b0_0         218 KB\n",
      "    ------------------------------------------------------------\n",
      "                                           Total:        14.9 MB\n",
      "\n",
      "The following packages will be UPDATED:\n",
      "\n",
      "  ca-certificates    conda-forge::ca-certificates-2021.10.~ --> pkgs/main::ca-certificates-2021.10.26-h06a4308_2\n",
      "  seaborn                                       0.10.0-py_0 --> 0.11.2-pyhd3eb1b0_0\n",
      "\n",
      "The following packages will be SUPERSEDED by a higher-priority channel:\n",
      "\n",
      "  certifi            conda-forge::certifi-2021.10.8-py37h8~ --> pkgs/main::certifi-2021.10.8-py37h06a4308_0\n",
      "  conda              conda-forge::conda-4.11.0-py37h89c186~ --> pkgs/main::conda-4.11.0-py37h06a4308_0\n",
      "\n",
      "\n",
      "\n",
      "Downloading and Extracting Packages\n",
      "conda-4.11.0         | 14.4 MB   | ##################################### | 100% \n",
      "certifi-2021.10.8    | 151 KB    | ##################################### | 100% \n",
      "ca-certificates-2021 | 115 KB    | ##################################### | 100% \n",
      "seaborn-0.11.2       | 218 KB    | ##################################### | 100% \n",
      "Preparing transaction: done\n",
      "Verifying transaction: done\n",
      "Executing transaction: done\n",
      "\n",
      "Note: you may need to restart the kernel to use updated packages.\n"
     ]
    }
   ],
   "source": [
    "%pip install xgboost\n",
    "%conda install seaborn"
   ]
  },
  {
   "cell_type": "code",
   "execution_count": 1,
   "metadata": {},
   "outputs": [],
   "source": [
    "import numpy as np\n",
    "import pandas as pd\n",
    "import seaborn as sns\n",
    "import networkx as nx\n",
    "\n",
    "from sklearn.metrics import f1_score, plot_precision_recall_curve, plot_roc_curve, plot_confusion_matrix\n",
    "\n",
    "import sys; sys.path.insert(0, '..') # add parent folder path where discrepancies folder is\n",
    "\n",
    "from discrepancies import datasets, pool, discrepancies_intervals, DIG\n",
    "\n",
    "RANDOM_STATE = 42\n",
    "\n",
    "import matplotlib.pyplot as plt\n",
    "import matplotlib as mpl\n",
    "\n",
    "%matplotlib inline"
   ]
  },
  {
   "cell_type": "code",
   "execution_count": 2,
   "metadata": {},
   "outputs": [],
   "source": [
    "X_train, X_test, y_train, y_test, scaler, feature_names, target_names, cat_names = datasets.get_dataset(dataset='half-moons',\n",
    "                n_samples=1000,\n",
    "                test_size=0.33,\n",
    "                standardize=True,\n",
    "                noise=0.3)"
   ]
  },
  {
   "cell_type": "code",
   "execution_count": 3,
   "metadata": {},
   "outputs": [
    {
     "name": "stdout",
     "output_type": "stream",
     "text": [
      "[12:51:39] WARNING: ../src/learner.cc:1115: Starting in XGBoost 1.3.0, the default evaluation metric used with the objective 'binary:logistic' was changed from 'error' to 'logloss'. Explicitly set eval_metric if you'd like to restore the old behavior.\n",
      "Accuracies (F1):  {'SVMrbf': 0.8917197452229298, 'RF200': 0.9171974522292994, 'XGB': 0.9009584664536742, 'LR': 0.8500000000000001, 'GB': 0.8987341772151898}\n",
      "Discrepancies on train: 0.15970149253731344\n",
      "Discrepancies on test: 0.18181818181818182\n"
     ]
    },
    {
     "data": {
      "image/png": "[encoded data removed]",
      "text/plain": [
       "<Figure size 432x288 with 1 Axes>"
      ]
     },
     "metadata": {
      "needs_background": "light"
     },
     "output_type": "display_data"
    }
   ],
   "source": [
    "pool1 = pool.BasicPool(models=[\"SVMrbf\", \"RF200\", \"LR\", \"XGB\", \"GB\"])\n",
    "pool1 = pool1.fit(X_train.values, y_train)\n",
    "\n",
    "preds = pool1.predict(X_test)\n",
    "\n",
    "print(\"Accuracies (F1): \", {c: f1_score(y_test, preds[c]) for c in preds.columns})\n",
    "print(\"Discrepancies on train:\", pool1.predict_discrepancies(X_train).mean())\n",
    "print(\"Discrepancies on test:\", pool1.predict_discrepancies(X_test).mean())\n",
    "\n",
    "classifiers = [v for k, v in pool1.models.items()]#[pool1.models[\"SVMrbf\"], pool1.models[\"RF200\"]]\n",
    "ax = plt.gca()\n",
    "for i in classifiers:\n",
    "    plot_roc_curve(i, X_test, y_test, ax=ax)"
   ]
  },
  {
   "cell_type": "code",
   "execution_count": 4,
   "metadata": {},
   "outputs": [],
   "source": [
    "def normalize(x):\n",
    "    return ((x-X_test.min())/(X_test.max()-X_test.min()))\n",
    "\n",
    "def get_discrepancy_intervals_from_x(G, x, k=10):\n",
    "\n",
    "    # Get all discrepancy intervals from the graph\n",
    "    intervals = discrepancies_intervals.get_discrepancies_intervals(G)\n",
    "\n",
    "    # Compute distances between x and every discrepancy interval\n",
    "    dists = []\n",
    "    for di in intervals:\n",
    "        dists.append( di.get_min_dist_to_point(x) )\n",
    "\n",
    "    # Retrieve borders of the k closest intervals - and the points from the train at the origin of the intervals\n",
    "    borders, train = {}, {}\n",
    "    i = 0\n",
    "    for di in np.array(intervals)[np.argsort(dists)][:k]:\n",
    "        df = di.border_features\n",
    "        df = pd.DataFrame(df)\n",
    "        borders[i] = df \n",
    "\n",
    "        df = [G.nodes(data=True)[di.X_train_nodes[i]]['features'] for i in [0,1]]\n",
    "        df = pd.DataFrame(df)\n",
    "        train[i] = df\n",
    "        i += 1\n",
    "\n",
    "    return borders, train"
   ]
  },
  {
   "cell_type": "code",
   "execution_count": 5,
   "metadata": {},
   "outputs": [
    {
     "name": "stderr",
     "output_type": "stream",
     "text": [
      "INFO:root:### EPOCH #1\n",
      "INFO:numexpr.utils:NumExpr defaulting to 2 threads.\n",
      "INFO:root:### EPOCH #2\n",
      "INFO:root:### EPOCH #3\n",
      "INFO:root:### EPOCH #4\n",
      "INFO:root:### EPOCH #5\n"
     ]
    },
    {
     "name": "stdout",
     "output_type": "stream",
     "text": [
      "7819\n",
      "CPU times: user 23.2 s, sys: 507 ms, total: 23.7 s\n",
      "Wall time: 23.8 s\n"
     ]
    }
   ],
   "source": [
    "%%time \n",
    "dig = DIG.Digger(X_train, y_train, pool1, k_init=10, categorical_names=cat_names)\n",
    "\n",
    "dig.fit(max_epochs=5)\n",
    "intervals = discrepancies_intervals.get_discrepancies_intervals(dig.G)\n",
    "\n",
    "print(len(intervals))"
   ]
  },
  {
   "cell_type": "code",
   "execution_count": 31,
   "metadata": {},
   "outputs": [],
   "source": [
    "x = X_train.iloc[0]\n",
    "k = 10\n",
    "\n",
    "borders, train = get_discrepancy_intervals_from_x(dig.G, x, k=k)\n",
    "\n",
    "fi = {}\n",
    "for interval in range(k):\n",
    "    fi[interval] = borders[interval].iloc[1,:]\n",
    "    fi[-(k+1)] = borders[interval].iloc[0,:]\n",
    "fi = pd.DataFrame(fi).T"
   ]
  },
  {
   "cell_type": "code",
   "execution_count": 15,
   "metadata": {},
   "outputs": [
    {
     "data": {
      "text/plain": [
       "<Figure size 640x480 with 0 Axes>"
      ]
     },
     "metadata": {},
     "output_type": "display_data"
    },
    {
     "data": {
      "image/png": "[encoded data removed]",
      "text/plain": [
       "<Figure size 800x500 with 1 Axes>"
      ]
     },
     "metadata": {},
     "output_type": "display_data"
    }
   ],
   "source": [
    "mpl.style.use('default')\n",
    "plt.viridis()\n",
    "\n",
    "fig, ax = plt.subplots(figsize=(8,5))\n",
    "plt.bar(x=range(len(x)), height=normalize(fi.max())-normalize(fi.min()), bottom=normalize(fi.min())-normalize(x))\n",
    "\n",
    "plt.hlines(0, 0, 12, color='r')\n",
    "\n",
    "for i in range(len(x)):\n",
    "    y1 = normalize(fi.max()).iloc[i] - normalize(x).iloc[i]\n",
    "    ax.text(i-0.45, y1+0.03, str(fi.max().round(2).iloc[i]))\n",
    "\n",
    "for i in range(len(x)):\n",
    "    y2 = normalize(fi.min()).iloc[i] - normalize(x).iloc[i]\n",
    "    ax.text(i-0.45, y2-0.04, str(fi.min().round(2).iloc[i]))\n",
    "\n",
    "for i in range(len(x)):\n",
    "    y2 = -0.35\n",
    "    ax.text(i-0.45, y2-0.04, str(x.round(2).iloc[i]), c='r')\n",
    "\n",
    "gar = ax.set_ylim((-0.4,0.5))\n",
    "gar = ax.set(yticklabels=[])\n",
    "gar = ax.tick_params(left=False)\n",
    "gar = plt.xticks(np.arange(len(x)), list(x.index), rotation=90)"
   ]
  },
  {
   "cell_type": "code",
   "execution_count": 71,
   "metadata": {},
   "outputs": [
    {
     "data": {
      "text/plain": [
       "<matplotlib.collections.LineCollection at 0x7f1783c2e390>"
      ]
     },
     "execution_count": 71,
     "metadata": {},
     "output_type": "execute_result"
    },
    {
     "data": {
      "image/png": "[encoded data removed]",
      "text/plain": [
       "<Figure size 576x360 with 1 Axes>"
      ]
     },
     "metadata": {
      "needs_background": "light"
     },
     "output_type": "display_data"
    }
   ],
   "source": [
    "alphas = [     0.01,  0.05,   0.1] \n",
    "widths = [ '99% CI', '95%', '90%']\n",
    "colors = ['#fee08b','#fc8d59','#d53e4f']\n",
    "\n",
    "fig, ax = plt.subplots(figsize=(8,5))\n",
    "\n",
    "y = [2]\n",
    "xmin = [1]\n",
    "xmax = [4]\n",
    "\n",
    "plt.hlines(y=y, xmin=xmin, xmax=xmax, colors=colors[0], label=widths[0], linewidth=10) "
   ]
  },
  {
   "cell_type": "code",
   "execution_count": 56,
   "metadata": {},
   "outputs": [
    {
     "name": "stdout",
     "output_type": "stream",
     "text": [
      "  variable     value\n",
      "0        0 -0.088472\n",
      "1        0 -0.521629\n",
      "2        0 -0.249882\n",
      "3        0 -0.778465\n",
      "4        0 -0.716224\n"
     ]
    }
   ],
   "source": [
    "tmp = X_train.melt()\n",
    "print(tmp.head())"
   ]
  },
  {
   "cell_type": "code",
   "execution_count": 63,
   "metadata": {},
   "outputs": [
    {
     "data": {
      "text/plain": [
       "0    0.197592\n",
       "1   -0.071948\n",
       "dtype: float64"
      ]
     },
     "execution_count": 63,
     "metadata": {},
     "output_type": "execute_result"
    }
   ],
   "source": [
    "fi.max()"
   ]
  },
  {
   "cell_type": "code",
   "execution_count": 109,
   "metadata": {},
   "outputs": [
    {
     "data": {
      "text/html": [
       "<div>\n",
       "<style scoped>\n",
       "    .dataframe tbody tr th:only-of-type {\n",
       "        vertical-align: middle;\n",
       "    }\n",
       "\n",
       "    .dataframe tbody tr th {\n",
       "        vertical-align: top;\n",
       "    }\n",
       "\n",
       "    .dataframe thead th {\n",
       "        text-align: right;\n",
       "    }\n",
       "</style>\n",
       "<table border=\"1\" class=\"dataframe\">\n",
       "  <thead>\n",
       "    <tr style=\"text-align: right;\">\n",
       "      <th></th>\n",
       "      <th>0</th>\n",
       "      <th>1</th>\n",
       "      <th>0</th>\n",
       "    </tr>\n",
       "  </thead>\n",
       "  <tbody>\n",
       "    <tr>\n",
       "      <th>0</th>\n",
       "      <td>-0.088472</td>\n",
       "      <td>-0.242355</td>\n",
       "      <td>0</td>\n",
       "    </tr>\n",
       "    <tr>\n",
       "      <th>1</th>\n",
       "      <td>-0.521629</td>\n",
       "      <td>-0.350582</td>\n",
       "      <td>0</td>\n",
       "    </tr>\n",
       "    <tr>\n",
       "      <th>2</th>\n",
       "      <td>-0.249882</td>\n",
       "      <td>-0.700834</td>\n",
       "      <td>0</td>\n",
       "    </tr>\n",
       "    <tr>\n",
       "      <th>3</th>\n",
       "      <td>-0.778465</td>\n",
       "      <td>0.206917</td>\n",
       "      <td>1</td>\n",
       "    </tr>\n",
       "    <tr>\n",
       "      <th>4</th>\n",
       "      <td>-0.716224</td>\n",
       "      <td>0.640097</td>\n",
       "      <td>1</td>\n",
       "    </tr>\n",
       "    <tr>\n",
       "      <th>...</th>\n",
       "      <td>...</td>\n",
       "      <td>...</td>\n",
       "      <td>...</td>\n",
       "    </tr>\n",
       "    <tr>\n",
       "      <th>665</th>\n",
       "      <td>-0.582426</td>\n",
       "      <td>0.018725</td>\n",
       "      <td>1</td>\n",
       "    </tr>\n",
       "    <tr>\n",
       "      <th>666</th>\n",
       "      <td>-1.654626</td>\n",
       "      <td>-0.839733</td>\n",
       "      <td>0</td>\n",
       "    </tr>\n",
       "    <tr>\n",
       "      <th>667</th>\n",
       "      <td>-1.552080</td>\n",
       "      <td>0.269331</td>\n",
       "      <td>0</td>\n",
       "    </tr>\n",
       "    <tr>\n",
       "      <th>668</th>\n",
       "      <td>0.793306</td>\n",
       "      <td>0.043463</td>\n",
       "      <td>1</td>\n",
       "    </tr>\n",
       "    <tr>\n",
       "      <th>669</th>\n",
       "      <td>1.584596</td>\n",
       "      <td>-0.106436</td>\n",
       "      <td>0</td>\n",
       "    </tr>\n",
       "  </tbody>\n",
       "</table>\n",
       "<p>670 rows × 3 columns</p>\n",
       "</div>"
      ],
      "text/plain": [
       "            0         1  0\n",
       "0   -0.088472 -0.242355  0\n",
       "1   -0.521629 -0.350582  0\n",
       "2   -0.249882 -0.700834  0\n",
       "3   -0.778465  0.206917  1\n",
       "4   -0.716224  0.640097  1\n",
       "..        ...       ... ..\n",
       "665 -0.582426  0.018725  1\n",
       "666 -1.654626 -0.839733  0\n",
       "667 -1.552080  0.269331  0\n",
       "668  0.793306  0.043463  1\n",
       "669  1.584596 -0.106436  0\n",
       "\n",
       "[670 rows x 3 columns]"
      ]
     },
     "execution_count": 109,
     "metadata": {},
     "output_type": "execute_result"
    }
   ],
   "source": [
    "y_discr = dig.pool.predict_discrepancies(X_train)\n",
    "tmp = pd.concat((X_train,y_discr), axis=1)\n",
    "tmp"
   ]
  },
  {
   "cell_type": "code",
   "execution_count": 129,
   "metadata": {},
   "outputs": [
    {
     "data": {
      "text/plain": [
       "<matplotlib.axes._subplots.AxesSubplot at 0x7f177173afd0>"
      ]
     },
     "execution_count": 129,
     "metadata": {},
     "output_type": "execute_result"
    },
    {
     "data": {
      "image/png": "[encoded data removed]",
      "text/plain": [
       "<Figure size 432x288 with 1 Axes>"
      ]
     },
     "metadata": {
      "needs_background": "light"
     },
     "output_type": "display_data"
    }
   ],
   "source": [
    "alphas = [     0.01,  0.05,   0.1] \n",
    "widths = [ '99% CI', '95%', '90%']\n",
    "colors = ['#d53e4f','#fee08b','#fc8d59']\n",
    "\n",
    "def plot_intervals(x, X, y_discr):\n",
    "    \n",
    "    \n",
    "    y_discr.name = 'discrepancies'\n",
    "    X_melted = pd.concat((X, y_discr), axis=1)\n",
    "    X_melted = X_melted.melt(id_vars=['discrepancies'])\n",
    "    \n",
    "    fig, axs = plt.subplots(nrows=X.shape[1])\n",
    "    \n",
    "    for i in range(X.shape[1]):\n",
    "        \n",
    "        # //!!\\\\ pay attention if data normalization is consistent\n",
    "        \n",
    "        plt.axes(axs[i])\n",
    "        plt.ylabel('variable = '+str(X.columns[i]))\n",
    "        \n",
    "        # if data numerical\n",
    "        data = X_melted[X_melted.variable==X.columns[i]]\n",
    "\n",
    "        sns.rugplot(data=data, x=\"value\", height=.1, hue='discrepancies')\n",
    "        \n",
    "        fib = fi.iloc[:,i]\n",
    "        plt.hlines(y=[0.1], xmin=[fib.min()], xmax=[fib.max()], linewidth=5, colors=colors[0], label=widths[0])\n",
    "        \n",
    "        plt.vlines(x.iloc[i], 0, 0.2, color='r')\n",
    "        \n",
    "#        for j in range(100):\n",
    "#            fic = intervals[j].border_features.iloc[:,i]\n",
    "#            plt.hlines(y=[0.2], xmin=[fic.min()], xmax=[fic.max()], linewidth=5, colors=colors[1], label=widths[0])\n",
    "        \n",
    "        # if data categorical\n",
    "\n",
    "\n",
    "x = X_train.iloc[np.random.choice(X_train.index)]\n",
    "y_discr = dig.pool.predict_discrepancies(X_train)\n",
    "\n",
    "plot_intervals(x, X_train, y_discr)\n",
    "\n",
    "\n",
    "dig.plot_db()"
   ]
  },
  {
   "cell_type": "code",
   "execution_count": null,
   "metadata": {},
   "outputs": [],
   "source": []
  }
 ],
 "metadata": {
  "instance_type": "ml.t3.medium",
  "kernelspec": {
   "display_name": "Python 3 (Data Science)",
   "language": "python",
   "name": "python3__SAGEMAKER_INTERNAL__arn:aws:sagemaker:eu-central-1:936697816551:image/datascience-1.0"
  },
  "language_info": {
   "codemirror_mode": {
    "name": "ipython",
    "version": 3
   },
   "file_extension": ".py",
   "mimetype": "text/x-python",
   "name": "python",
   "nbconvert_exporter": "python",
   "pygments_lexer": "ipython3",
   "version": "3.7.10"
  }
 },
 "nbformat": 4,
 "nbformat_minor": 4
}
