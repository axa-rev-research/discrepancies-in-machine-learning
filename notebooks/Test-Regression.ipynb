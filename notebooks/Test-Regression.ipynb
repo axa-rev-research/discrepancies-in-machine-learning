{
 "cells": [
  {
   "cell_type": "code",
   "execution_count": 1,
   "id": "expensive-chain",
   "metadata": {},
   "outputs": [],
   "source": [
    "import numpy as np\n",
    "import pandas as pd\n",
    "import seaborn as sns\n",
    "import networkx as nx\n",
    "\n",
    "import sys; sys.path.insert(0, '..') # add parent folder path where discrepancies folder is\n",
    "\n",
    "from discrepancies import datasets, pool_reg, pool2graph_reg, evaluation, discrepancies_intervals, pool2graph_cat_FJ2_2\n",
    "\n",
    "RANDOM_STATE = 42\n",
    "\n",
    "import matplotlib.pyplot as plt\n",
    "%matplotlib inline"
   ]
  },
  {
   "cell_type": "markdown",
   "id": "spanish-keyboard",
   "metadata": {},
   "source": [
    "### Reflexions sur comment étendre à la régression\n",
    "\n",
    "##### FACON 1, la plus immédiate\n",
    "\n",
    "- On peut discrétiser la variable continue en buckets. \n",
    "- Ex: '<5, 5-10, >10\n",
    "- On va considérer que tous ceux dans <5 sont de la meme classe et explorer les changements avec les autres\n",
    "- Gros effets de bord évidents\n",
    "\n",
    "##### FACON 2\n",
    "\n",
    "- On peut considérer des seuls personnalisés\n",
    "- considérer que A et B sont à explorer Ssi leur y est au dessus d'un seuil\n",
    "- Au début, on relie chaque obs à ses plus proches voisins qui ont un y assez différents. \n",
    "- On garde la valeur continue en mémoire\n",
    "- Qu'est un intervalle ????\n",
    "\n",
    "Xavier à 20, Thibault à 30. Seuil de 3, on explore. On se retrouve avec une suite de gens entre avec des y entre aussi. Le seuil est à 3, donc l'intervalle est les gens entre 23 et 27. Si ca repasse proche de X ou T, on considère qu'il y a plusieurs segments. \n",
    "\n",
    "- Nécessite probablement de recoder pas mal de conditions, puisque la classe est à considérer segment par segment et pas comme avant classes fixes.\n",
    "- Idée: on regarde plus Classe A == Classe B, mais Classe A - CLasse B.\n"
   ]
  },
  {
   "cell_type": "code",
   "execution_count": 2,
   "id": "innocent-robertson",
   "metadata": {},
   "outputs": [
    {
     "name": "stdout",
     "output_type": "stream",
     "text": [
      "(404, 13) 22.796534653465343\n"
     ]
    }
   ],
   "source": [
    "### Get data and fit a pool of classifiers on it\n",
    "\n",
    "#X_train, X_test, y_train, y_test, scaler, feature_names, target_names, cat_names = datasets.get_dataset(dataset='adult-cat')\n",
    "X_train, X_test, y_train, y_test, scaler, feature_names, target_names, cat_names = datasets.get_dataset(dataset='boston-reg', test_size=0.2)\n",
    "\n",
    "print(X_train.shape, y_train.mean())\n",
    "cont_names = list(set(feature_names) - set(cat_names))"
   ]
  },
  {
   "cell_type": "code",
   "execution_count": 3,
   "id": "featured-julian",
   "metadata": {
    "scrolled": false
   },
   "outputs": [
    {
     "data": {
      "image/png": "[encoded data removed]",
      "text/plain": [
       "<Figure size 432x288 with 1 Axes>"
      ]
     },
     "metadata": {
      "needs_background": "light"
     },
     "output_type": "display_data"
    },
    {
     "name": "stdout",
     "output_type": "stream",
     "text": [
      "{'LR': 0.16866394539378704, 'MLP': 0.1879601358101555}\n"
     ]
    },
    {
     "name": "stderr",
     "output_type": "stream",
     "text": [
      "INFO:root:### EPOCH #1\n",
      "INFO:root:### EPOCH #2\n",
      "INFO:root:### EPOCH #3\n",
      "INFO:root:### EPOCH #4\n",
      "INFO:root:### EPOCH #5\n"
     ]
    },
    {
     "name": "stdout",
     "output_type": "stream",
     "text": [
      "4967\n"
     ]
    }
   ],
   "source": [
    "\n",
    "pool1 = pool_reg.BasicPool()\n",
    "pool1 = pool1.fit(X_train, y_train)\n",
    "\n",
    "sns.kdeplot(data=pool1.predict(X_test))\n",
    "plt.show()\n",
    "\n",
    "\n",
    "preds = pool1.predict(X_test)\n",
    "from sklearn.metrics import mean_absolute_percentage_error#f1_score\n",
    "print({c: mean_absolute_percentage_error(y_test, preds[c]) for c in preds.columns})\n",
    "\n",
    "\n",
    "p2g = pool2graph_reg.pool2graph(X_train, y_train, pool1, \n",
    "                                discrepancy_regression_threshold=5.0, \n",
    "                                different_regression_threshold=5.0,\n",
    "                                k_init=3)\n",
    "#p2g = pool2graph.pool2graph(X_train, y_train, pool1, k_init=3)\n",
    "\n",
    "p2g.fit(max_epochs=5)#5?\n",
    "print(len(p2g.G.nodes))"
   ]
  },
  {
   "cell_type": "code",
   "execution_count": 13,
   "id": "bulgarian-shelter",
   "metadata": {
    "scrolled": true
   },
   "outputs": [
    {
     "name": "stdout",
     "output_type": "stream",
     "text": [
      "582\n"
     ]
    }
   ],
   "source": [
    "from discrepancies import discrepancies_intervals\n",
    "intervals = discrepancies_intervals.get_discrepancies_intervals(p2g.G)\n",
    "print(len(intervals))"
   ]
  },
  {
   "cell_type": "markdown",
   "id": "shaped-genre",
   "metadata": {},
   "source": [
    "# Global analysis of the intervals"
   ]
  },
  {
   "cell_type": "code",
   "execution_count": 14,
   "id": "academic-determination",
   "metadata": {},
   "outputs": [
    {
     "name": "stdout",
     "output_type": "stream",
     "text": [
      "The autoreload extension is already loaded. To reload it, use:\n",
      "  %reload_ext autoreload\n"
     ]
    }
   ],
   "source": [
    "%load_ext autoreload\n",
    "\n",
    "%autoreload 2\n",
    "from discrepancies import analysis_global"
   ]
  },
  {
   "cell_type": "code",
   "execution_count": 18,
   "id": "horizontal-astrology",
   "metadata": {
    "scrolled": true
   },
   "outputs": [
    {
     "name": "stdout",
     "output_type": "stream",
     "text": [
      "Intervals amplitude dataset (self.amplitude_dataset): shape (582, 13)\n",
      "Input data preprocessed (self.X): shape (404, 14)\n",
      "Discrepancy nodes dataset (self.nodes_dataset): shape (2044, 13)\n",
      "Nodes dataset (self.nodes_dataset): shape (4967, 14)\n"
     ]
    }
   ],
   "source": [
    "### we work with that    \n",
    "gda = analysis_global.GlobalDiscrepancyAnalyzer(p2g, pool1, intervals, X_train, cat_names)"
   ]
  },
  {
   "cell_type": "markdown",
   "id": "sharp-button",
   "metadata": {},
   "source": [
    "### Most problematic features\n",
    "\n",
    "For now, we evaluate separately the uncertainty associated to each feature for continuous and categorical features.\n",
    "- For continuous features: Average range of the discrepancy interval along the feature\n",
    "- For categorical features: proportion of intervals generated along the feature, normalized by the exposition in Xtrain --> pas sûr qu'il faille normaliser par ça... car intercalle = 2 pts, X_train= chaque pt\n"
   ]
  },
  {
   "cell_type": "code",
   "execution_count": 16,
   "id": "western-canadian",
   "metadata": {
    "scrolled": false
   },
   "outputs": [
    {
     "data": {
      "image/png": "[encoded data removed]",
      "text/plain": [
       "<Figure size 936x288 with 1 Axes>"
      ]
     },
     "metadata": {
      "needs_background": "light"
     },
     "output_type": "display_data"
    }
   ],
   "source": [
    "import seaborn as sns\n",
    "from matplotlib import pyplot as plt\n",
    "\n",
    "feat_imp = gda.get_global_discrepancy_importances(min_expo=10)\n",
    "#fname = '../../results/feature_importances_adult.pdf'\n",
    "gda.plot_feature_importances(palettes=['mako', 'mako'])#, savefig='')"
   ]
  },
  {
   "cell_type": "code",
   "execution_count": 9,
   "id": "unnecessary-third",
   "metadata": {},
   "outputs": [
    {
     "data": {
      "image/png": "[encoded data removed]",
      "text/plain": [
       "<Figure size 468x288 with 1 Axes>"
      ]
     },
     "metadata": {
      "needs_background": "light"
     },
     "output_type": "display_data"
    }
   ],
   "source": [
    "plt.figure(figsize=(len(feat_imp['continuous_features'])/2,4))\n",
    "plt.xticks(rotation=70, fontsize=10)\n",
    "sns.barplot(data=pd.DataFrame(feat_imp['continuous_features']).T, palette=\"mako\")\n",
    "#plt.title(\" features\")\n",
    "plt.tight_layout()\n",
    "#plt.savefig(\"./../../results/usecase_boston_featimp_cont.pdf\")\n",
    "plt.show()"
   ]
  },
  {
   "cell_type": "markdown",
   "id": "prospective-snapshot",
   "metadata": {},
   "source": [
    "## Important areas of discrepancy"
   ]
  },
  {
   "cell_type": "code",
   "execution_count": 17,
   "id": "minor-digest",
   "metadata": {
    "scrolled": false
   },
   "outputs": [
    {
     "ename": "TypeError",
     "evalue": "__init__() got an unexpected keyword argument 'min_samples_expo'",
     "output_type": "error",
     "traceback": [
      "\u001b[0;31m---------------------------------------------------------------------------\u001b[0m",
      "\u001b[0;31mTypeError\u001b[0m                                 Traceback (most recent call last)",
      "\u001b[0;32m<timed eval>\u001b[0m in \u001b[0;36m<module>\u001b[0;34m\u001b[0m\n",
      "\u001b[0;32m~/Documents/research/articles/discrepancy/discrepancies-in-machine-learning/notebooks/../discrepancies/analysis_global.py\u001b[0m in \u001b[0;36mget_discrepancy_segments\u001b[0;34m(self, X_exposition, y_exposition, min_expo, min_purity, min_purity_expo)\u001b[0m\n\u001b[1;32m    141\u001b[0m         \u001b[0mnode_y\u001b[0m \u001b[0;34m=\u001b[0m \u001b[0mself\u001b[0m\u001b[0;34m.\u001b[0m\u001b[0mpool\u001b[0m\u001b[0;34m.\u001b[0m\u001b[0mpredict_discrepancies\u001b[0m\u001b[0;34m(\u001b[0m\u001b[0mnode_train\u001b[0m\u001b[0;34m)\u001b[0m\u001b[0;34m.\u001b[0m\u001b[0mvalues\u001b[0m\u001b[0;34m\u001b[0m\u001b[0;34m\u001b[0m\u001b[0m\n\u001b[1;32m    142\u001b[0m \u001b[0;34m\u001b[0m\u001b[0m\n\u001b[0;32m--> 143\u001b[0;31m         \u001b[0mdt\u001b[0m \u001b[0;34m=\u001b[0m \u001b[0mDecisionTreeClassifier\u001b[0m\u001b[0;34m(\u001b[0m\u001b[0mmin_samples_expo\u001b[0m\u001b[0;34m=\u001b[0m\u001b[0mmin_expo\u001b[0m\u001b[0;34m)\u001b[0m\u001b[0;34m\u001b[0m\u001b[0;34m\u001b[0m\u001b[0m\n\u001b[0m\u001b[1;32m    144\u001b[0m         \u001b[0mdt\u001b[0m\u001b[0;34m.\u001b[0m\u001b[0mfit\u001b[0m\u001b[0;34m(\u001b[0m\u001b[0mnode_train\u001b[0m\u001b[0;34m,\u001b[0m \u001b[0mnode_y\u001b[0m\u001b[0;34m,\u001b[0m \u001b[0mX_expo\u001b[0m\u001b[0;34m=\u001b[0m\u001b[0mX_exposition\u001b[0m\u001b[0;34m)\u001b[0m\u001b[0;34m\u001b[0m\u001b[0;34m\u001b[0m\u001b[0m\n\u001b[1;32m    145\u001b[0m         \u001b[0mself\u001b[0m\u001b[0;34m.\u001b[0m\u001b[0mcart_discrepancies\u001b[0m \u001b[0;34m=\u001b[0m \u001b[0mdt\u001b[0m\u001b[0;34m\u001b[0m\u001b[0;34m\u001b[0m\u001b[0m\n",
      "\u001b[0;32m~/opt/anaconda3/envs/python_env/lib/python3.9/site-packages/sklearn/utils/validation.py\u001b[0m in \u001b[0;36minner_f\u001b[0;34m(*args, **kwargs)\u001b[0m\n\u001b[1;32m     61\u001b[0m             \u001b[0mextra_args\u001b[0m \u001b[0;34m=\u001b[0m \u001b[0mlen\u001b[0m\u001b[0;34m(\u001b[0m\u001b[0margs\u001b[0m\u001b[0;34m)\u001b[0m \u001b[0;34m-\u001b[0m \u001b[0mlen\u001b[0m\u001b[0;34m(\u001b[0m\u001b[0mall_args\u001b[0m\u001b[0;34m)\u001b[0m\u001b[0;34m\u001b[0m\u001b[0;34m\u001b[0m\u001b[0m\n\u001b[1;32m     62\u001b[0m             \u001b[0;32mif\u001b[0m \u001b[0mextra_args\u001b[0m \u001b[0;34m<=\u001b[0m \u001b[0;36m0\u001b[0m\u001b[0;34m:\u001b[0m\u001b[0;34m\u001b[0m\u001b[0;34m\u001b[0m\u001b[0m\n\u001b[0;32m---> 63\u001b[0;31m                 \u001b[0;32mreturn\u001b[0m \u001b[0mf\u001b[0m\u001b[0;34m(\u001b[0m\u001b[0;34m*\u001b[0m\u001b[0margs\u001b[0m\u001b[0;34m,\u001b[0m \u001b[0;34m**\u001b[0m\u001b[0mkwargs\u001b[0m\u001b[0;34m)\u001b[0m\u001b[0;34m\u001b[0m\u001b[0;34m\u001b[0m\u001b[0m\n\u001b[0m\u001b[1;32m     64\u001b[0m \u001b[0;34m\u001b[0m\u001b[0m\n\u001b[1;32m     65\u001b[0m             \u001b[0;31m# extra_args > 0\u001b[0m\u001b[0;34m\u001b[0m\u001b[0;34m\u001b[0m\u001b[0m\n",
      "\u001b[0;31mTypeError\u001b[0m: __init__() got an unexpected keyword argument 'min_samples_expo'"
     ]
    }
   ],
   "source": [
    "%%time\n",
    "gda.get_discrepancy_segments(X_exposition=X_train, y_exposition=y_train, min_expo=0.04, min_purity=0.5, min_purity_expo=0.0)"
   ]
  },
  {
   "cell_type": "code",
   "execution_count": 11,
   "id": "familiar-absence",
   "metadata": {},
   "outputs": [
    {
     "ename": "ValueError",
     "evalue": "Cannot take a larger sample than population when 'replace=False'",
     "output_type": "error",
     "traceback": [
      "\u001b[0;31m---------------------------------------------------------------------------\u001b[0m",
      "\u001b[0;31mValueError\u001b[0m                                Traceback (most recent call last)",
      "\u001b[0;32m<timed exec>\u001b[0m in \u001b[0;36m<module>\u001b[0;34m\u001b[0m\n",
      "\u001b[0;32m~/opt/anaconda3/envs/python_env/lib/python3.9/site-packages/pandas/core/generic.py\u001b[0m in \u001b[0;36msample\u001b[0;34m(self, n, frac, replace, weights, random_state, axis, ignore_index)\u001b[0m\n\u001b[1;32m   5363\u001b[0m             )\n\u001b[1;32m   5364\u001b[0m \u001b[0;34m\u001b[0m\u001b[0m\n\u001b[0;32m-> 5365\u001b[0;31m         \u001b[0mlocs\u001b[0m \u001b[0;34m=\u001b[0m \u001b[0mrs\u001b[0m\u001b[0;34m.\u001b[0m\u001b[0mchoice\u001b[0m\u001b[0;34m(\u001b[0m\u001b[0maxis_length\u001b[0m\u001b[0;34m,\u001b[0m \u001b[0msize\u001b[0m\u001b[0;34m=\u001b[0m\u001b[0mn\u001b[0m\u001b[0;34m,\u001b[0m \u001b[0mreplace\u001b[0m\u001b[0;34m=\u001b[0m\u001b[0mreplace\u001b[0m\u001b[0;34m,\u001b[0m \u001b[0mp\u001b[0m\u001b[0;34m=\u001b[0m\u001b[0mweights\u001b[0m\u001b[0;34m)\u001b[0m\u001b[0;34m\u001b[0m\u001b[0;34m\u001b[0m\u001b[0m\n\u001b[0m\u001b[1;32m   5366\u001b[0m         \u001b[0mresult\u001b[0m \u001b[0;34m=\u001b[0m \u001b[0mself\u001b[0m\u001b[0;34m.\u001b[0m\u001b[0mtake\u001b[0m\u001b[0;34m(\u001b[0m\u001b[0mlocs\u001b[0m\u001b[0;34m,\u001b[0m \u001b[0maxis\u001b[0m\u001b[0;34m=\u001b[0m\u001b[0maxis\u001b[0m\u001b[0;34m)\u001b[0m\u001b[0;34m\u001b[0m\u001b[0;34m\u001b[0m\u001b[0m\n\u001b[1;32m   5367\u001b[0m         \u001b[0;32mif\u001b[0m \u001b[0mignore_index\u001b[0m\u001b[0;34m:\u001b[0m\u001b[0;34m\u001b[0m\u001b[0;34m\u001b[0m\u001b[0m\n",
      "\u001b[0;32mmtrand.pyx\u001b[0m in \u001b[0;36mnumpy.random.mtrand.RandomState.choice\u001b[0;34m()\u001b[0m\n",
      "\u001b[0;31mValueError\u001b[0m: Cannot take a larger sample than population when 'replace=False'"
     ]
    }
   ],
   "source": [
    "%%time\n",
    "\n",
    "LEAVES_SEGMENTS = (42, 51)\n",
    "\n",
    "data = gda.disc_nodes_dataset.sample(n=30000)\n",
    "leaves_data = gda.segments_tree.apply(data)\n",
    "leaves_data_rearr = np.array([ld if ld in LEAVES_SEGMENTS else -1 for ld in leaves_data])\n",
    "\n",
    "colors = list(sns.color_palette(\"Set2\", n_colors=len(set(leaves_data))))\n",
    "\n",
    "from sklearn.manifold import TSNE\n",
    "tsne = TSNE(perplexity=40, n_jobs=-1).fit_transform(data)\n",
    "tsne = pd.DataFrame(tsne, columns=[\"Dim 0\", \"Dim 1\"])\n",
    "tsne['leaf'] = leaves_data_rearr\n",
    "#tsne[\"cluster\"] = clusters\n",
    "sns.scatterplot(x=\"Dim 0\", y=\"Dim 1\", data=tsne, hue=\"leaf\", palette=\"Set2\", alpha=0.7)#, c=[colors[i] for i in leaves_data_rearr.values])\n",
    "plt.title(\"t-SNE vizualisation of discrepancy nodes\")\n",
    "#plt.legend()\n",
    "plt.tight_layout()\n",
    "#plt.savefig(\"./../../results/discussion_tsne_boston.pdf\")"
   ]
  },
  {
   "cell_type": "code",
   "execution_count": 12,
   "id": "olympic-commons",
   "metadata": {},
   "outputs": [
    {
     "ename": "NameError",
     "evalue": "name 'tsne' is not defined",
     "output_type": "error",
     "traceback": [
      "\u001b[0;31m---------------------------------------------------------------------------\u001b[0m",
      "\u001b[0;31mNameError\u001b[0m                                 Traceback (most recent call last)",
      "\u001b[0;32m/var/folders/yk/z4rr9hd95kl7lwp6502rfxcm0000gn/T/ipykernel_87197/819449051.py\u001b[0m in \u001b[0;36m<module>\u001b[0;34m\u001b[0m\n\u001b[0;32m----> 1\u001b[0;31m \u001b[0msns\u001b[0m\u001b[0;34m.\u001b[0m\u001b[0mscatterplot\u001b[0m\u001b[0;34m(\u001b[0m\u001b[0mx\u001b[0m\u001b[0;34m=\u001b[0m\u001b[0;34m\"Dim 0\"\u001b[0m\u001b[0;34m,\u001b[0m \u001b[0my\u001b[0m\u001b[0;34m=\u001b[0m\u001b[0;34m\"Dim 1\"\u001b[0m\u001b[0;34m,\u001b[0m \u001b[0mdata\u001b[0m\u001b[0;34m=\u001b[0m\u001b[0mtsne\u001b[0m\u001b[0;34m,\u001b[0m \u001b[0mhue\u001b[0m\u001b[0;34m=\u001b[0m\u001b[0;34m\"leaf\"\u001b[0m\u001b[0;34m,\u001b[0m \u001b[0mpalette\u001b[0m\u001b[0;34m=\u001b[0m\u001b[0;34m\"Set2\"\u001b[0m\u001b[0;34m,\u001b[0m \u001b[0malpha\u001b[0m\u001b[0;34m=\u001b[0m\u001b[0;36m0.1\u001b[0m\u001b[0;34m)\u001b[0m\u001b[0;31m#, c=[colors[i] for i in leaves_data_rearr.values])\u001b[0m\u001b[0;34m\u001b[0m\u001b[0;34m\u001b[0m\u001b[0m\n\u001b[0m",
      "\u001b[0;31mNameError\u001b[0m: name 'tsne' is not defined"
     ]
    }
   ],
   "source": [
    "sns.scatterplot(x=\"Dim 0\", y=\"Dim 1\", data=tsne, hue=\"leaf\", palette=\"Set2\", alpha=0.1)#, c=[colors[i] for i in leaves_data_rearr.values])"
   ]
  },
  {
   "cell_type": "code",
   "execution_count": null,
   "id": "external-surprise",
   "metadata": {},
   "outputs": [],
   "source": [
    "gda.disc_nodes_dataset.shape"
   ]
  },
  {
   "cell_type": "markdown",
   "id": "separate-diagram",
   "metadata": {},
   "source": [
    "# TODO\n",
    "- Categorical: quand on génère les faux jumeaux, garder en mémoire les couples des modalités: blond-brun, et le changement associé?\n",
    "- TSNE: couleurs \n",
    "- relative size: devrait être nombre de noeuds de discrepancy dans la feuille sur le nombre de noeuds de discrepancy"
   ]
  }
 ],
 "metadata": {
  "kernelspec": {
   "display_name": "Python 3 (ipykernel)",
   "language": "python",
   "name": "python3"
  },
  "language_info": {
   "codemirror_mode": {
    "name": "ipython",
    "version": 3
   },
   "file_extension": ".py",
   "mimetype": "text/x-python",
   "name": "python",
   "nbconvert_exporter": "python",
   "pygments_lexer": "ipython3",
   "version": "3.9.7"
  }
 },
 "nbformat": 4,
 "nbformat_minor": 5
}
