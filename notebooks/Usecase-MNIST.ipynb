{
 "cells": [
  {
   "cell_type": "code",
   "execution_count": 1,
   "id": "68a43820",
   "metadata": {},
   "outputs": [],
   "source": [
    "import numpy as np\n",
    "import pandas as pd\n",
    "import seaborn as sns\n",
    "import networkx as nx\n",
    "\n",
    "import sys; sys.path.insert(0, '..') # add parent folder path where discrepancies folder is\n",
    "\n",
    "from discrepancies import datasets, pool, pool2graph, evaluation, discrepancies_intervals, pool2graph_cat_FJ2_2\n",
    "\n",
    "RANDOM_STATE = 42\n",
    "\n",
    "import matplotlib.pyplot as plt\n",
    "%matplotlib inline"
   ]
  },
  {
   "cell_type": "code",
   "execution_count": 2,
   "id": "a16313e6",
   "metadata": {},
   "outputs": [],
   "source": [
    "from sklearn.datasets import fetch_openml\n",
    "data = fetch_openml(data_id=554, return_X_y=False)\n",
    "X = data.data\n",
    "y = data.target\n",
    "idx = np.random.choice(range(X.shape[0]), 10000)\n",
    "X = X.iloc[idx, :]\n",
    "y = y.iloc[idx]\n",
    "\n",
    "idx0, idx1 = np.where(y == '0'), np.where(y == '8')\n",
    "idx = list(idx0[0])\n",
    "idx.extend(list(idx1[0]))\n",
    "X = X.iloc[idx, :]\n",
    "y = y.iloc[idx]\n",
    "y = (y== '8').astype('int')\n",
    "#y = pd.get_dummies(y)\n",
    "\n",
    "\n",
    "from sklearn.model_selection import train_test_split\n",
    "X_train, X_test, y_train, y_test = train_test_split(X, y, test_size=0.3)"
   ]
  },
  {
   "cell_type": "code",
   "execution_count": 22,
   "id": "27452be9",
   "metadata": {},
   "outputs": [
    {
     "data": {
      "text/plain": [
       "(1369, 784)"
      ]
     },
     "execution_count": 22,
     "metadata": {},
     "output_type": "execute_result"
    }
   ],
   "source": [
    "X_train.shape"
   ]
  },
  {
   "cell_type": "code",
   "execution_count": 3,
   "id": "76f11855",
   "metadata": {},
   "outputs": [
    {
     "name": "stdout",
     "output_type": "stream",
     "text": [
      "Accuracies (F1):  {'RF100': 0.9812925170068028, 'RF200': 0.9880952380952381}\n",
      "Discrepancies on train: 0.009495982468955442\n",
      "Discrepancies on test: 0.006802721088435374\n"
     ]
    }
   ],
   "source": [
    "pool1 = pool.BasicPool(models=[\"RF200\", \"RF100\"])\n",
    "pool1 = pool1.fit(X_train.values, y_train)\n",
    "\n",
    "preds = pool1.predict(X_test)\n",
    "from sklearn.metrics import accuracy_score\n",
    "\n",
    "print(\"Accuracies (F1): \", {c: accuracy_score(y_test, preds[c]) for c in preds.columns})\n",
    "print(\"Discrepancies on train:\", pool1.predict_discrepancies(X_train).mean())\n",
    "print(\"Discrepancies on test:\", pool1.predict_discrepancies(X_test).mean())\n"
   ]
  },
  {
   "cell_type": "markdown",
   "id": "a1e9a8af",
   "metadata": {},
   "source": [
    "Ce truc ne sert à rien: si je fais rien de l'espace latent, le réseau n'apprend rien (il apprend la fonction identité, logique).Il faudrait peut être un VAE plutôt."
   ]
  },
  {
   "cell_type": "code",
   "execution_count": 10,
   "id": "dcc2c8a1",
   "metadata": {},
   "outputs": [],
   "source": [
    "from tqdm.notebook import tqdm\n",
    "from sklearn.datasets import fetch_openml\n",
    "from sklearn.model_selection import train_test_split\n",
    "from torch.utils.data import TensorDataset\n",
    "from torch.utils.data import DataLoader\n",
    "from sklearn.datasets import make_moons\n",
    "import torch\n",
    "import torch.nn as nn\n",
    "import torch.nn.functional as F\n",
    "import torch.optim as optim\n",
    "\n",
    "\n",
    "dataset_train = TensorDataset(torch.Tensor(X_train.values),torch.Tensor(y_train.values))\n",
    "dataset_test = TensorDataset(torch.Tensor(X_test.values),torch.Tensor(y_test.values))\n",
    "train_loader = DataLoader(dataset_train, batch_size=30000, shuffle=False, drop_last=False)\n",
    "test_loader = DataLoader(dataset_test, batch_size=30000, shuffle=False, drop_last=False)\n",
    "\n",
    "def to_img(x):\n",
    "    x = 0.5 * (x + 1)\n",
    "    x = x.clamp(0, 1)\n",
    "    x = x.view(x.size(0), 1, 28, 28)\n",
    "    return x\n",
    "\n",
    "class Autoencoder(nn.Module):\n",
    "    \n",
    "    def __init__(self):\n",
    "        super(Autoencoder, self).__init__()\n",
    "        \n",
    "        self.enc1 = nn.Linear(X_train.shape[1], 512)\n",
    "        self.enc2 = nn.Linear(512, 256)\n",
    "        self.enc3 = nn.Linear(256, 128)\n",
    "        self.enc4 = nn.Linear(128, 5 * 2)\n",
    "        \n",
    "        self.dec1 = nn.Linear(5, 128)\n",
    "        self.dec2 = nn.Linear(128, 256)\n",
    "        self.dec3 = nn.Linear(256, 512)\n",
    "        self.dec4 = nn.Linear(512, X_train.shape[1])\n",
    "        \n",
    "    def encode(self, x):\n",
    "        h1 = torch.relu(self.enc1(x))\n",
    "        h2 = torch.relu(self.enc2(h1))\n",
    "        h3 = torch.relu(self.enc3(h2))\n",
    "        h4 = torch.sigmoid(self.enc4(h3))\n",
    "        return h4\n",
    "    \n",
    "    def decode(self, x):\n",
    "        h1 = torch.relu(self.dec1(x))\n",
    "        h2 = torch.relu(self.dec2(h1))\n",
    "        h3 = torch.relu(self.dec3(h2))\n",
    "        h4 = torch.sigmoid(self.dec4(h3))\n",
    "        return h4\n",
    "        \n",
    "    def forward(self, x):\n",
    "        Z = self.encode(x)\n",
    "        Xhat = self.decode(Z)\n",
    "        return Xhat, Z\n",
    "\n",
    "\n",
    "\n",
    "class autoencoder(nn.Module):\n",
    "    def __init__(self):\n",
    "        super(autoencoder, self).__init__()\n",
    "        self.encoder = nn.Sequential(\n",
    "            nn.Linear(28 * 28, 128),\n",
    "            nn.ReLU(True),\n",
    "            nn.Linear(128, 64),\n",
    "            nn.ReLU(True), nn.Linear(64, 12), nn.ReLU(True), nn.Linear(12, 3))\n",
    "        self.decoder = nn.Sequential(\n",
    "            nn.Linear(3, 12),\n",
    "            nn.ReLU(True),\n",
    "            nn.Linear(12, 64),\n",
    "            nn.ReLU(True),\n",
    "            nn.Linear(64, 128),\n",
    "            nn.ReLU(True), nn.Linear(128, 28 * 28), nn.Tanh())\n",
    "\n",
    "    def forward(self, x):\n",
    "        z = self.encoder(x)\n",
    "        x = self.decoder(z)\n",
    "        return x, z\n",
    "    \n",
    "    \n",
    "    \n",
    "    \n",
    "def fit(model, dataloader):\n",
    "    model.train()\n",
    "    running_loss = 0.0\n",
    "    for i, data in enumerate(dataloader):#tqdm(, total=int(X_train.shape[0]/dataloader.batch_size)):\n",
    "        x, y = data\n",
    "        xhat, z = model(x)\n",
    "        optimizer.zero_grad()\n",
    "        loss = criterion(xhat, x)\n",
    "        loss.backward()\n",
    "        running_loss += loss.item()\n",
    "        optimizer.step()\n",
    "    train_loss = running_loss/len(dataloader.dataset)\n",
    "    return train_loss\n",
    "\n",
    "\n"
   ]
  },
  {
   "cell_type": "code",
   "execution_count": 11,
   "id": "1b7027b0",
   "metadata": {
    "scrolled": true
   },
   "outputs": [
    {
     "data": {
      "text/plain": [
       "[<matplotlib.lines.Line2D at 0x7fb13e31f190>]"
      ]
     },
     "execution_count": 11,
     "metadata": {},
     "output_type": "execute_result"
    },
    {
     "data": {
      "image/png": "[encoded data removed]",
      "text/plain": [
       "<Figure size 432x288 with 1 Axes>"
      ]
     },
     "metadata": {
      "needs_background": "light"
     },
     "output_type": "display_data"
    }
   ],
   "source": [
    "\n",
    "modelf = Autoencoder().cpu()\n",
    "criterion = nn.MSELoss(reduction='sum')\n",
    "optimizer = optim.Adam(modelf.parameters(), lr=0.01)\n",
    "\n",
    "N_EPOCHS = 50\n",
    "\n",
    "train_loss = []\n",
    "for epoch in range(N_EPOCHS):\n",
    "    #print(f\"Epoch {epoch+1} of {N_EPOCHS}\")\n",
    "    train_epoch_loss = fit(modelf, train_loader)\n",
    "    #val_epoch_loss = validate(model, val_loader)\n",
    "    train_loss.append(train_epoch_loss)\n",
    "    \n",
    "    \n",
    "plt.plot(train_loss)\n",
    "\n"
   ]
  },
  {
   "cell_type": "code",
   "execution_count": 23,
   "id": "a393740e",
   "metadata": {},
   "outputs": [
    {
     "data": {
      "image/png": "[encoded data removed]",
      "text/plain": [
       "<Figure size 432x288 with 1 Axes>"
      ]
     },
     "metadata": {
      "needs_background": "light"
     },
     "output_type": "display_data"
    }
   ],
   "source": [
    "modelf.eval()\n",
    "for x, y in train_loader:\n",
    "    xhat, z = modelf(x)\n",
    "    plt.imshow(to_img(xhat.cpu().data).detach().numpy()[1300].reshape(28, 28))\n",
    "    break\n",
    "#Z_dataset = pd.DataFrame(z.detach().numpy())\n",
    "    "
   ]
  },
  {
   "cell_type": "code",
   "execution_count": 195,
   "id": "f8f134e2",
   "metadata": {},
   "outputs": [
    {
     "name": "stdout",
     "output_type": "stream",
     "text": [
      "tensor([1346., 1346., 1346., 1346., 1346., 1346., 1346.,    0., 1346., 1346.],\n",
      "       grad_fn=<SumBackward1>)\n"
     ]
    },
    {
     "data": {
      "text/plain": [
       "array([0])"
      ]
     },
     "execution_count": 195,
     "metadata": {},
     "output_type": "execute_result"
    }
   ],
   "source": [
    "modelf.eval()\n",
    "for x, y in train_loader:\n",
    "    xhat, z = modelf(x)\n",
    "Z_dataset = pd.DataFrame(z.detach().numpy())\n",
    "    \n",
    "img1_z = z[0]\n",
    "img1_x = x[0]\n",
    "img1_y = y[0]\n",
    "\n",
    "from sklearn.metrics import pairwise_distances_argmin\n",
    "pairwise_distances_argmin(img1_z.detach().numpy().reshape(1, -1),  Z_dataset.values[np.where(y_train!=int(y[0].detach().numpy()))[0], :])\n"
   ]
  },
  {
   "cell_type": "code",
   "execution_count": 190,
   "id": "803fcd60",
   "metadata": {},
   "outputs": [
    {
     "data": {
      "text/plain": [
       "array([[1., 1., 1., ..., 0., 1., 1.],\n",
       "       [1., 1., 1., ..., 0., 1., 1.],\n",
       "       [1., 1., 1., ..., 0., 1., 1.],\n",
       "       ...,\n",
       "       [1., 1., 1., ..., 0., 1., 1.],\n",
       "       [1., 1., 1., ..., 0., 1., 1.],\n",
       "       [1., 1., 1., ..., 0., 1., 1.]], dtype=float32)"
      ]
     },
     "execution_count": 190,
     "metadata": {},
     "output_type": "execute_result"
    }
   ],
   "source": [
    "Z_dataset.values[np.where(y_train!=int(y[0].detach().numpy()))[0], :]"
   ]
  },
  {
   "cell_type": "code",
   "execution_count": 167,
   "id": "6379d384",
   "metadata": {},
   "outputs": [
    {
     "data": {
      "image/png": "[encoded data removed]",
      "text/plain": [
       "<Figure size 432x288 with 1 Axes>"
      ]
     },
     "metadata": {
      "needs_background": "light"
     },
     "output_type": "display_data"
    },
    {
     "data": {
      "text/plain": [
       "<matplotlib.image.AxesImage at 0x7f837c5bd7f0>"
      ]
     },
     "execution_count": 167,
     "metadata": {},
     "output_type": "execute_result"
    },
    {
     "data": {
      "image/png": "[encoded data removed]",
      "text/plain": [
       "<Figure size 432x288 with 1 Axes>"
      ]
     },
     "metadata": {
      "needs_background": "light"
     },
     "output_type": "display_data"
    }
   ],
   "source": [
    "plt.imshow(img1_x.reshape(28,28))\n",
    "plt.show()\n",
    "plt.imshow(x.detach().numpy()[np.where(y_train==0)[0][0], :].reshape(28,28))\n"
   ]
  },
  {
   "cell_type": "code",
   "execution_count": 319,
   "id": "59e17e35",
   "metadata": {},
   "outputs": [
    {
     "name": "stderr",
     "output_type": "stream",
     "text": [
      "INFO:root:### EPOCH #1\n",
      "INFO:root:### EPOCH #2\n",
      "INFO:root:### EPOCH #3\n",
      "INFO:root:### EPOCH #4\n",
      "INFO:root:### EPOCH #5\n"
     ]
    },
    {
     "name": "stdout",
     "output_type": "stream",
     "text": [
      "118060\n",
      "CPU times: user 1min 39s, sys: 6.74 s, total: 1min 46s\n",
      "Wall time: 1min 12s\n"
     ]
    }
   ],
   "source": [
    "%%time \n",
    "p2g = pool2graph_cat_FJ2_2.pool2graph(Z_dataset, y_train, pool1, k_init=10, categorical_names=cat_names)\n",
    "#p2g = pool2graph.pool2graph(X_train, y_train, pool1, k_init=3)\n",
    "\n",
    "p2g.fit(max_epochs=5)#5?\n",
    "print(len(p2g.G.nodes))"
   ]
  },
  {
   "cell_type": "code",
   "execution_count": 320,
   "id": "86df1128",
   "metadata": {
    "scrolled": true
   },
   "outputs": [
    {
     "name": "stdout",
     "output_type": "stream",
     "text": [
      "15647\n"
     ]
    }
   ],
   "source": [
    "from discrepancies import discrepancies_intervals\n",
    "intervals = discrepancies_intervals.get_discrepancies_intervals(p2g.G)\n",
    "print(len(intervals))"
   ]
  },
  {
   "cell_type": "code",
   "execution_count": null,
   "id": "827dfb2a",
   "metadata": {},
   "outputs": [],
   "source": []
  },
  {
   "cell_type": "markdown",
   "id": "dcc4066e",
   "metadata": {},
   "source": [
    "# Start2"
   ]
  },
  {
   "cell_type": "code",
   "execution_count": null,
   "id": "3297fe82",
   "metadata": {},
   "outputs": [],
   "source": [
    "from torchvision import transforms\n",
    "from torchvision.datasets import MNIST\n",
    "from torchvision.utils import save_image\n",
    "from torch.autograd import Variable\n",
    "from tqdm.notebook import tqdm\n",
    "from sklearn.datasets import fetch_openml\n",
    "from sklearn.model_selection import train_test_split\n",
    "from torch.utils.data import TensorDataset\n",
    "from torch.utils.data import DataLoader\n",
    "from sklearn.datasets import make_moons\n",
    "import torch\n",
    "import torch.nn as nn\n",
    "import torch.nn.functional as F\n",
    "import torch.optim as optim\n",
    "\n",
    "\n",
    "def to_img(x):\n",
    "    x = 0.5 * (x + 1)\n",
    "    x = x.clamp(0, 1)\n",
    "    x = x.view(x.size(0), 1, 28, 28)\n",
    "    return x\n",
    "\n",
    "\n",
    "num_epochs = 50\n",
    "batch_size = 128\n",
    "learning_rate = 1e-3\n",
    "\n",
    "img_transform = transforms.Compose([\n",
    "    transforms.ToTensor(),\n",
    "    transforms.Normalize([0.5], [0.5])\n",
    "])\n",
    "\n",
    "dataset = MNIST('./data', transform=img_transform, download=False)\n",
    "dataloader = DataLoader(dataset, batch_size=batch_size, shuffle=True)"
   ]
  },
  {
   "cell_type": "code",
   "execution_count": 352,
   "id": "e87815c6",
   "metadata": {},
   "outputs": [],
   "source": [
    "train_data_np = to_img(dataset.train_data).numpy().reshape(60000, -1)\n",
    "train_labels_np = dataset.train_labels.numpy()\n",
    "\n",
    "test_data_np = to_img(dataset.test_data).numpy().reshape(60000, -1)\n",
    "test_labels_np = dataset.test_labels.numpy()\n"
   ]
  },
  {
   "cell_type": "code",
   "execution_count": 353,
   "id": "aee03d70",
   "metadata": {},
   "outputs": [
    {
     "name": "stdout",
     "output_type": "stream",
     "text": [
      "[19:10:04] WARNING: /Users/travis/build/dmlc/xgboost/src/learner.cc:1095: Starting in XGBoost 1.3.0, the default evaluation metric used with the objective 'multi:softprob' was changed from 'merror' to 'mlogloss'. Explicitly set eval_metric if you'd like to restore the old behavior.\n",
      "Accuracies (F1):  {'RF200': 0.9473833333333334, 'XGB': 1.0}\n",
      "Discrepancies on train: 0.052616666666666666\n",
      "Discrepancies on test: 0.052616666666666666\n",
      "CPU times: user 1h 45min 9s, sys: 44.2 s, total: 1h 45min 53s\n",
      "Wall time: 11min 4s\n"
     ]
    }
   ],
   "source": [
    "%%time\n",
    "\n",
    "pool1 = pool.BasicPool(models=[\"RF200\", \"XGB\"])\n",
    "pool1 = pool1.fit(train_data_np, train_labels_np)\n",
    "\n",
    "preds = pool1.predict(test_data_np)\n",
    "\n",
    "from sklearn.metrics import accuracy_score\n",
    "\n",
    "print(\"Accuracies (F1): \", {c: accuracy_score(test_labels_np, preds[c]) for c in preds.columns})\n",
    "print(\"Discrepancies on train:\", pool1.predict_discrepancies(train_data_np).mean())\n",
    "print(\"Discrepancies on test:\", pool1.predict_discrepancies(test_data_np).mean())\n"
   ]
  },
  {
   "cell_type": "code",
   "execution_count": 89,
   "id": "e666f91d",
   "metadata": {},
   "outputs": [
    {
     "name": "stdout",
     "output_type": "stream",
     "text": [
      "Accuracies (F1):  {'RF100': 0.7440333333333333, 'RF200': 0.9655666666666667}\n",
      "Discrepancies on train: 0.23645\n",
      "Discrepancies on test: 0.23645\n"
     ]
    }
   ],
   "source": [
    "preds = pool1.predict(test_data_np)\n",
    "\n",
    "from sklearn.metrics import accuracy_score\n",
    "\n",
    "print(\"Accuracies (F1): \", {c: accuracy_score(test_labels_np, preds[c]) for c in preds.columns})\n",
    "print(\"Discrepancies on train:\", pool1.predict_discrepancies(train_data_np).mean())\n",
    "print(\"Discrepancies on test:\", pool1.predict_discrepancies(test_data_np).mean())\n"
   ]
  },
  {
   "cell_type": "code",
   "execution_count": null,
   "id": "bb3c72a9",
   "metadata": {},
   "outputs": [],
   "source": []
  },
  {
   "cell_type": "code",
   "execution_count": null,
   "id": "fab35bfc",
   "metadata": {},
   "outputs": [],
   "source": []
  },
  {
   "cell_type": "code",
   "execution_count": 17,
   "id": "fd58be08",
   "metadata": {},
   "outputs": [
    {
     "name": "stdout",
     "output_type": "stream",
     "text": [
      "epoch [1/50], loss:116.9248\n",
      "epoch [2/50], loss:56.5764\n",
      "epoch [3/50], loss:51.6694\n",
      "epoch [4/50], loss:49.3925\n",
      "epoch [5/50], loss:47.8860\n",
      "epoch [6/50], loss:46.7349\n",
      "epoch [7/50], loss:45.8715\n",
      "epoch [8/50], loss:45.1100\n",
      "epoch [9/50], loss:44.5041\n",
      "epoch [10/50], loss:44.0765\n",
      "epoch [11/50], loss:43.6306\n",
      "epoch [12/50], loss:43.2183\n",
      "epoch [13/50], loss:42.8654\n",
      "epoch [14/50], loss:42.5805\n",
      "epoch [15/50], loss:42.3275\n",
      "epoch [16/50], loss:42.0588\n",
      "epoch [17/50], loss:41.8160\n",
      "epoch [18/50], loss:41.6358\n",
      "epoch [19/50], loss:41.4494\n",
      "epoch [20/50], loss:41.2653\n",
      "epoch [21/50], loss:41.1275\n",
      "epoch [22/50], loss:40.9879\n",
      "epoch [23/50], loss:40.8135\n",
      "epoch [24/50], loss:40.6867\n",
      "epoch [25/50], loss:40.5835\n",
      "epoch [26/50], loss:40.4658\n",
      "epoch [27/50], loss:40.3639\n",
      "epoch [28/50], loss:40.2411\n",
      "epoch [29/50], loss:40.1617\n",
      "epoch [30/50], loss:40.0713\n",
      "epoch [31/50], loss:39.9916\n",
      "epoch [32/50], loss:39.8651\n",
      "epoch [33/50], loss:39.7667\n",
      "epoch [34/50], loss:39.7032\n",
      "epoch [35/50], loss:39.6178\n",
      "epoch [36/50], loss:39.6185\n",
      "epoch [37/50], loss:39.5101\n",
      "epoch [38/50], loss:39.4892\n",
      "epoch [39/50], loss:39.4015\n",
      "epoch [40/50], loss:39.3568\n",
      "epoch [41/50], loss:39.2823\n",
      "epoch [42/50], loss:39.2034\n",
      "epoch [43/50], loss:39.1219\n",
      "epoch [44/50], loss:39.1018\n",
      "epoch [45/50], loss:39.0753\n",
      "epoch [46/50], loss:39.0144\n",
      "epoch [47/50], loss:38.9882\n",
      "epoch [48/50], loss:38.9070\n",
      "epoch [49/50], loss:38.8813\n",
      "epoch [50/50], loss:38.7931\n"
     ]
    }
   ],
   "source": [
    "\n",
    "N_LATENT = 5\n",
    "\n",
    "class autoencoder_fc(nn.Module):\n",
    "    def __init__(self):\n",
    "        super(autoencoder_fc, self).__init__()\n",
    "        self.encoder = nn.Sequential(\n",
    "            nn.Linear(28 * 28, 128),\n",
    "            nn.ReLU(True),\n",
    "            nn.Linear(128, 64),\n",
    "            nn.ReLU(True), nn.Linear(64, 12), nn.ReLU(True), nn.Linear(12, N_LATENT))\n",
    "        self.decoder = nn.Sequential(\n",
    "            nn.Linear(N_LATENT, 12),\n",
    "            nn.ReLU(True),\n",
    "            nn.Linear(12, 64),\n",
    "            nn.ReLU(True),\n",
    "            nn.Linear(64, 128),\n",
    "            nn.ReLU(True), nn.Linear(128, 28 * 28), nn.Tanh())\n",
    "        \n",
    "    def forward(self, x):\n",
    "        z = self.encoder(x)\n",
    "        x = self.decoder(z)\n",
    "        return x, z\n",
    "\n",
    "class autoencoder_conv(nn.Module):\n",
    "    def __init__(self):\n",
    "        super(autoencoder_conv, self).__init__()\n",
    "        \n",
    "        ### Convolutional section\n",
    "        self.encoder_cnn = nn.Sequential(\n",
    "            nn.Conv2d(1, 8, 3, stride=2, padding=1),\n",
    "            nn.ReLU(True),\n",
    "            nn.Conv2d(8, 16, 3, stride=2, padding=1),\n",
    "            nn.BatchNorm2d(16),\n",
    "            nn.ReLU(True),\n",
    "            nn.Conv2d(16, 32, 3, stride=2, padding=0),\n",
    "            nn.ReLU(True)\n",
    "        )\n",
    "        \n",
    "        ### Flatten layer\n",
    "        self.flatten = nn.Flatten(start_dim=1)\n",
    "        ### Linear section\n",
    "        self.encoder_lin = nn.Sequential(\n",
    "            nn.Linear(3 * 3 * 32, 128),\n",
    "            nn.ReLU(True),\n",
    "            nn.Linear(128, N_LATENT)\n",
    "        )\n",
    "        self.decoder_lin = nn.Sequential(\n",
    "            nn.Linear(N_LATENT, 128),\n",
    "            nn.ReLU(True),\n",
    "            nn.Linear(128, 3 * 3 * 32),\n",
    "            nn.ReLU(True)\n",
    "        )\n",
    "\n",
    "        self.unflatten = nn.Unflatten(dim=1, \n",
    "        unflattened_size=(32, 3, 3))\n",
    "\n",
    "        self.decoder_conv = nn.Sequential(\n",
    "            nn.ConvTranspose2d(32, 16, 3, \n",
    "            stride=2, output_padding=0),\n",
    "            nn.BatchNorm2d(16),\n",
    "            nn.ReLU(True),\n",
    "            nn.ConvTranspose2d(16, 8, 3, stride=2, \n",
    "            padding=1, output_padding=1),\n",
    "            nn.BatchNorm2d(8),\n",
    "            nn.ReLU(True),\n",
    "            nn.ConvTranspose2d(8, 1, 3, stride=2, \n",
    "            padding=1, output_padding=1),\n",
    "            nn.Tanh()\n",
    "        )\n",
    "        \n",
    "    def encoder(self, x):\n",
    "        x = self.encoder_cnn(x)\n",
    "        x = self.flatten(x)\n",
    "        x = self.encoder_lin(x)\n",
    "        return x\n",
    "    \n",
    "    def decoder(self, x):\n",
    "        x = self.decoder_lin(x)\n",
    "        x = self.unflatten(x)\n",
    "        x = self.decoder_conv(x)\n",
    "        #x = nn.Tanh(x) ### pq sigmoid?\n",
    "        return x\n",
    "\n",
    "    def forward(self, x):\n",
    "        z = self.encoder(x)\n",
    "        x = self.decoder(z)\n",
    "        return x, z\n",
    "\n",
    "\n",
    "model = autoencoder_conv()#.cuda()\n",
    "criterion = nn.MSELoss()\n",
    "optimizer = torch.optim.Adam(\n",
    "    model.parameters(), lr=learning_rate, weight_decay=1e-5)\n",
    "\n",
    "for epoch in range(num_epochs):\n",
    "    loss = 0\n",
    "    for data in dataloader:\n",
    "        img, _ = data\n",
    "        #img = img.view(img.size(0), -1)\n",
    "        img = Variable(img)#.cuda()\n",
    "        # ===================forward=====================\n",
    "        output, _ = model(img)\n",
    "        loss_b = criterion(output, img)\n",
    "        loss += loss_b\n",
    "        # ===================backward====================\n",
    "        optimizer.zero_grad()\n",
    "        loss_b.backward()\n",
    "        optimizer.step()\n",
    "    # ===================log========================\n",
    "    print('epoch [{}/{}], loss:{:.4f}'\n",
    "          .format(epoch + 1, num_epochs, loss.item()))\n",
    "    if epoch % 10 == 0:\n",
    "        pic = to_img(output.cpu().data)\n",
    "        save_image(pic, './mlp_img/image_{}.png'.format(epoch))\n"
   ]
  },
  {
   "cell_type": "code",
   "execution_count": null,
   "id": "c0673d6b",
   "metadata": {},
   "outputs": [],
   "source": []
  },
  {
   "cell_type": "code",
   "execution_count": 493,
   "id": "cfb1d8a7",
   "metadata": {
    "scrolled": true
   },
   "outputs": [
    {
     "name": "stdout",
     "output_type": "stream",
     "text": [
      "torch.Size([1, 1, 28, 28])\n"
     ]
    },
    {
     "data": {
      "image/png": "[encoded data removed]",
      "text/plain": [
       "<Figure size 432x288 with 4 Axes>"
      ]
     },
     "metadata": {},
     "output_type": "display_data"
    },
    {
     "name": "stdout",
     "output_type": "stream",
     "text": [
      "> \u001b[0;32m/var/folders/yk/z4rr9hd95kl7lwp6502rfxcm0000gn/T/ipykernel_68777/55493213.py\u001b[0m(12)\u001b[0;36m<module>\u001b[0;34m()\u001b[0m\n",
      "\u001b[0;32m     10 \u001b[0;31m\u001b[0;34m\u001b[0m\u001b[0m\n",
      "\u001b[0m\u001b[0;32m     11 \u001b[0;31m\u001b[0;34m\u001b[0m\u001b[0m\n",
      "\u001b[0m\u001b[0;32m---> 12 \u001b[0;31m\u001b[0;32mfor\u001b[0m \u001b[0mdata\u001b[0m \u001b[0;32min\u001b[0m \u001b[0mdataloader\u001b[0m\u001b[0;34m:\u001b[0m\u001b[0;34m\u001b[0m\u001b[0;34m\u001b[0m\u001b[0m\n",
      "\u001b[0m\u001b[0;32m     13 \u001b[0;31m        \u001b[0mimg\u001b[0m\u001b[0;34m,\u001b[0m \u001b[0my\u001b[0m \u001b[0;34m=\u001b[0m \u001b[0mdata\u001b[0m\u001b[0;34m\u001b[0m\u001b[0;34m\u001b[0m\u001b[0m\n",
      "\u001b[0m\u001b[0;32m     14 \u001b[0;31m        \u001b[0;31m#img = img.view(img.size(0), -1) # à décommenter si FC. Commenter si conv\u001b[0m\u001b[0;34m\u001b[0m\u001b[0;34m\u001b[0m\u001b[0m\n",
      "\u001b[0m\n",
      "ipdb> c\n",
      "torch.Size([1, 1, 28, 28])\n"
     ]
    },
    {
     "data": {
      "image/png": "[encoded data removed]",
      "text/plain": [
       "<Figure size 432x288 with 4 Axes>"
      ]
     },
     "metadata": {},
     "output_type": "display_data"
    },
    {
     "name": "stdout",
     "output_type": "stream",
     "text": [
      "> \u001b[0;32m/var/folders/yk/z4rr9hd95kl7lwp6502rfxcm0000gn/T/ipykernel_68777/55493213.py\u001b[0m(12)\u001b[0;36m<module>\u001b[0;34m()\u001b[0m\n",
      "\u001b[0;32m     10 \u001b[0;31m\u001b[0;34m\u001b[0m\u001b[0m\n",
      "\u001b[0m\u001b[0;32m     11 \u001b[0;31m\u001b[0;34m\u001b[0m\u001b[0m\n",
      "\u001b[0m\u001b[0;32m---> 12 \u001b[0;31m\u001b[0;32mfor\u001b[0m \u001b[0mdata\u001b[0m \u001b[0;32min\u001b[0m \u001b[0mdataloader\u001b[0m\u001b[0;34m:\u001b[0m\u001b[0;34m\u001b[0m\u001b[0;34m\u001b[0m\u001b[0m\n",
      "\u001b[0m\u001b[0;32m     13 \u001b[0;31m        \u001b[0mimg\u001b[0m\u001b[0;34m,\u001b[0m \u001b[0my\u001b[0m \u001b[0;34m=\u001b[0m \u001b[0mdata\u001b[0m\u001b[0;34m\u001b[0m\u001b[0;34m\u001b[0m\u001b[0m\n",
      "\u001b[0m\u001b[0;32m     14 \u001b[0;31m        \u001b[0;31m#img = img.view(img.size(0), -1) # à décommenter si FC. Commenter si conv\u001b[0m\u001b[0;34m\u001b[0m\u001b[0;34m\u001b[0m\u001b[0m\n",
      "\u001b[0m\n",
      "ipdb> q\n"
     ]
    },
    {
     "ename": "BdbQuit",
     "evalue": "",
     "output_type": "error",
     "traceback": [
      "\u001b[0;31m---------------------------------------------------------------------------\u001b[0m",
      "\u001b[0;31mBdbQuit\u001b[0m                                   Traceback (most recent call last)",
      "\u001b[0;32m/var/folders/yk/z4rr9hd95kl7lwp6502rfxcm0000gn/T/ipykernel_68777/55493213.py\u001b[0m in \u001b[0;36m<module>\u001b[0;34m\u001b[0m\n\u001b[1;32m     10\u001b[0m \u001b[0;34m\u001b[0m\u001b[0m\n\u001b[1;32m     11\u001b[0m \u001b[0;34m\u001b[0m\u001b[0m\n\u001b[0;32m---> 12\u001b[0;31m \u001b[0;32mfor\u001b[0m \u001b[0mdata\u001b[0m \u001b[0;32min\u001b[0m \u001b[0mdataloader\u001b[0m\u001b[0;34m:\u001b[0m\u001b[0;34m\u001b[0m\u001b[0;34m\u001b[0m\u001b[0m\n\u001b[0m\u001b[1;32m     13\u001b[0m         \u001b[0mimg\u001b[0m\u001b[0;34m,\u001b[0m \u001b[0my\u001b[0m \u001b[0;34m=\u001b[0m \u001b[0mdata\u001b[0m\u001b[0;34m\u001b[0m\u001b[0;34m\u001b[0m\u001b[0m\n\u001b[1;32m     14\u001b[0m         \u001b[0;31m#img = img.view(img.size(0), -1) # à décommenter si FC. Commenter si conv\u001b[0m\u001b[0;34m\u001b[0m\u001b[0;34m\u001b[0m\u001b[0m\n",
      "\u001b[0;32m/var/folders/yk/z4rr9hd95kl7lwp6502rfxcm0000gn/T/ipykernel_68777/55493213.py\u001b[0m in \u001b[0;36m<module>\u001b[0;34m\u001b[0m\n\u001b[1;32m     10\u001b[0m \u001b[0;34m\u001b[0m\u001b[0m\n\u001b[1;32m     11\u001b[0m \u001b[0;34m\u001b[0m\u001b[0m\n\u001b[0;32m---> 12\u001b[0;31m \u001b[0;32mfor\u001b[0m \u001b[0mdata\u001b[0m \u001b[0;32min\u001b[0m \u001b[0mdataloader\u001b[0m\u001b[0;34m:\u001b[0m\u001b[0;34m\u001b[0m\u001b[0;34m\u001b[0m\u001b[0m\n\u001b[0m\u001b[1;32m     13\u001b[0m         \u001b[0mimg\u001b[0m\u001b[0;34m,\u001b[0m \u001b[0my\u001b[0m \u001b[0;34m=\u001b[0m \u001b[0mdata\u001b[0m\u001b[0;34m\u001b[0m\u001b[0;34m\u001b[0m\u001b[0m\n\u001b[1;32m     14\u001b[0m         \u001b[0;31m#img = img.view(img.size(0), -1) # à décommenter si FC. Commenter si conv\u001b[0m\u001b[0;34m\u001b[0m\u001b[0;34m\u001b[0m\u001b[0m\n",
      "\u001b[0;32m~/opt/anaconda3/envs/python_env/lib/python3.9/bdb.py\u001b[0m in \u001b[0;36mtrace_dispatch\u001b[0;34m(self, frame, event, arg)\u001b[0m\n\u001b[1;32m     86\u001b[0m             \u001b[0;32mreturn\u001b[0m \u001b[0;31m# None\u001b[0m\u001b[0;34m\u001b[0m\u001b[0;34m\u001b[0m\u001b[0m\n\u001b[1;32m     87\u001b[0m         \u001b[0;32mif\u001b[0m \u001b[0mevent\u001b[0m \u001b[0;34m==\u001b[0m \u001b[0;34m'line'\u001b[0m\u001b[0;34m:\u001b[0m\u001b[0;34m\u001b[0m\u001b[0;34m\u001b[0m\u001b[0m\n\u001b[0;32m---> 88\u001b[0;31m             \u001b[0;32mreturn\u001b[0m \u001b[0mself\u001b[0m\u001b[0;34m.\u001b[0m\u001b[0mdispatch_line\u001b[0m\u001b[0;34m(\u001b[0m\u001b[0mframe\u001b[0m\u001b[0;34m)\u001b[0m\u001b[0;34m\u001b[0m\u001b[0;34m\u001b[0m\u001b[0m\n\u001b[0m\u001b[1;32m     89\u001b[0m         \u001b[0;32mif\u001b[0m \u001b[0mevent\u001b[0m \u001b[0;34m==\u001b[0m \u001b[0;34m'call'\u001b[0m\u001b[0;34m:\u001b[0m\u001b[0;34m\u001b[0m\u001b[0;34m\u001b[0m\u001b[0m\n\u001b[1;32m     90\u001b[0m             \u001b[0;32mreturn\u001b[0m \u001b[0mself\u001b[0m\u001b[0;34m.\u001b[0m\u001b[0mdispatch_call\u001b[0m\u001b[0;34m(\u001b[0m\u001b[0mframe\u001b[0m\u001b[0;34m,\u001b[0m \u001b[0marg\u001b[0m\u001b[0;34m)\u001b[0m\u001b[0;34m\u001b[0m\u001b[0;34m\u001b[0m\u001b[0m\n",
      "\u001b[0;32m~/opt/anaconda3/envs/python_env/lib/python3.9/bdb.py\u001b[0m in \u001b[0;36mdispatch_line\u001b[0;34m(self, frame)\u001b[0m\n\u001b[1;32m    111\u001b[0m         \u001b[0;32mif\u001b[0m \u001b[0mself\u001b[0m\u001b[0;34m.\u001b[0m\u001b[0mstop_here\u001b[0m\u001b[0;34m(\u001b[0m\u001b[0mframe\u001b[0m\u001b[0;34m)\u001b[0m \u001b[0;32mor\u001b[0m \u001b[0mself\u001b[0m\u001b[0;34m.\u001b[0m\u001b[0mbreak_here\u001b[0m\u001b[0;34m(\u001b[0m\u001b[0mframe\u001b[0m\u001b[0;34m)\u001b[0m\u001b[0;34m:\u001b[0m\u001b[0;34m\u001b[0m\u001b[0;34m\u001b[0m\u001b[0m\n\u001b[1;32m    112\u001b[0m             \u001b[0mself\u001b[0m\u001b[0;34m.\u001b[0m\u001b[0muser_line\u001b[0m\u001b[0;34m(\u001b[0m\u001b[0mframe\u001b[0m\u001b[0;34m)\u001b[0m\u001b[0;34m\u001b[0m\u001b[0;34m\u001b[0m\u001b[0m\n\u001b[0;32m--> 113\u001b[0;31m             \u001b[0;32mif\u001b[0m \u001b[0mself\u001b[0m\u001b[0;34m.\u001b[0m\u001b[0mquitting\u001b[0m\u001b[0;34m:\u001b[0m \u001b[0;32mraise\u001b[0m \u001b[0mBdbQuit\u001b[0m\u001b[0;34m\u001b[0m\u001b[0;34m\u001b[0m\u001b[0m\n\u001b[0m\u001b[1;32m    114\u001b[0m         \u001b[0;32mreturn\u001b[0m \u001b[0mself\u001b[0m\u001b[0;34m.\u001b[0m\u001b[0mtrace_dispatch\u001b[0m\u001b[0;34m\u001b[0m\u001b[0;34m\u001b[0m\u001b[0m\n\u001b[1;32m    115\u001b[0m \u001b[0;34m\u001b[0m\u001b[0m\n",
      "\u001b[0;31mBdbQuit\u001b[0m: "
     ]
    }
   ],
   "source": [
    "from sklearn.metrics import pairwise_distances_argmin\n",
    "\n",
    "def get_img_and_info(idx):\n",
    "    img = to_img(img.cpu().data).detach().numpy()[idx]\n",
    "    \n",
    "def get_preds(img):\n",
    "    return {\"preds_clf\":pool1.predict(img.flatten().reshape(1, -1)),\n",
    "           \"disc\": pool1.predict_discrepancies(img.flatten().reshape(1, -1))}\n",
    "\n",
    "    \n",
    "    \n",
    "for data in dataloader:\n",
    "        img, y = data\n",
    "        #img = img.view(img.size(0), -1) # à décommenter si FC. Commenter si conv\n",
    "        img = Variable(img)#.cuda()\n",
    "        # ===================forward=====================\n",
    "        output, latent = model(img)\n",
    "        idxA = 0\n",
    "        imgA = to_img(img.cpu().data).detach().numpy()[idxA]\n",
    "        predsA = get_preds(imgA)\n",
    "        ZA = latent[idxA]\n",
    "        #imgZA = to_img(output.cpu().data).detach().numpy()[idxA]\n",
    "        print(to_img(model.decoder(ZA.reshape(1, -1))).shape)\n",
    "        imgZA = to_img(model.decoder(ZA.reshape(1, -1))).detach().numpy()\n",
    "        yA = y[idxA]\n",
    "        predsZA = get_preds(imgZA)\n",
    "        \n",
    "        while (predsA[\"disc\"].values[0] == 1) or (predsZA[\"disc\"].values[0] == 1) or (predsA[\"preds_clf\"].values.mean() != yA):\n",
    "            idxA += 1\n",
    "            imgA = to_img(img.cpu().data).detach().numpy()[idxA]\n",
    "            predsA = get_preds(imgA)\n",
    "            ZA = latent[idxA]\n",
    "            #imgZA = to_img(output.cpu().data).detach().numpy()[idxA]\n",
    "            imgZA = to_img(model.decoder(ZA.reshape(1, -1))).detach().numpy()\n",
    "            yA = y[idxA]\n",
    "            predsZA = get_preds(imgZA)\n",
    "            \n",
    "        \n",
    "        conditions = np.where((y != yA))# * (pool1.predict_discrepancies(to_img(img).detach().numpy()aze == 0.0)))\n",
    "        otherclasses = latent[conditions]\n",
    "        idxB = pairwise_distances_argmin(ZA.flatten().reshape(1, -1).detach().numpy(), otherclasses.detach().numpy())\n",
    "        imgB = to_img(img.cpu().data[conditions]).detach().numpy()[idxB]\n",
    "        ZB = otherclasses[idxB]\n",
    "        yB = y[conditions][idxB]\n",
    "        #imgZB = to_img(output.cpu().data).detach().numpy()[conditions][idxB]\n",
    "        imgZB = to_img(model.decoder(ZB.reshape(1, -1))).detach().numpy()\n",
    "        \n",
    "        \n",
    "        \n",
    "        _, (ax1, ax2, ax3, ax4) = plt.subplots(1, 4)\n",
    "        ax1.imshow(imgA.reshape(28, 28))\n",
    "        ax1.set_title(str(predsA['preds_clf'].values[0]))\n",
    "        ax2.imshow(imgZA.reshape(28, 28))\n",
    "        ax2.set_title(str(pool1.predict(imgZA.flatten().reshape(1, -1)).values[0]))\n",
    "        ax3.imshow(imgB.reshape(28, 28))\n",
    "        ax3.set_title(str(pool1.predict(imgB.flatten().reshape(1, -1)).values[0]))\n",
    "        ax4.imshow(imgZB.reshape(28, 28))\n",
    "        ax4.set_title(str(pool1.predict(imgZB.flatten().reshape(1, -1)).values[0]))\n",
    "        plt.show()\n",
    "        import pdb;pdb.set_trace()"
   ]
  },
  {
   "cell_type": "code",
   "execution_count": 495,
   "id": "f0f508c7",
   "metadata": {},
   "outputs": [
    {
     "name": "stdout",
     "output_type": "stream",
     "text": [
      "6 new images\n"
     ]
    },
    {
     "data": {
      "image/png": "[encoded data removed]",
      "text/plain": [
       "<Figure size 1332x216 with 6 Axes>"
      ]
     },
     "metadata": {},
     "output_type": "display_data"
    }
   ],
   "source": [
    "import seaborn as sns\n",
    "import matplotlib.patches as patches\n",
    "#sns.set_palette('mako')\n",
    "sns.set_style(\"white\")\n",
    "N_SEGMENT = 5\n",
    "#_alphas = np.random.random(N_SEGMENT)\n",
    "_alphas = np.array((range(0, N_SEGMENT+1)))/N_SEGMENT\n",
    "#_alphas.sort()\n",
    "new_imgs= []\n",
    "new_preds = []\n",
    "discrs = []\n",
    "for alpha in _alphas:\n",
    "    newZ = (1-alpha) * ZA + alpha *ZB\n",
    "    new_img = to_img(model.decoder(newZ))\n",
    "    new_pred = get_preds(new_img.detach().numpy())\n",
    "    \n",
    "    #if (alpha == 0.0) or (alpha == 1.0) or (new_pred[\"disc\"].values == 1):\n",
    "    new_imgs.append(new_img)\n",
    "    new_preds.append(new_pred[\"preds_clf\"].values[0])\n",
    "    discrs.append(new_pred[\"disc\"].values)\n",
    "\n",
    "    \n",
    "print(\"%i new images\"%len(new_imgs))\n",
    "fig, ax = plt.subplots(1, len(new_imgs), sharex=True, sharey=True)\n",
    "fig.set_size_inches(18.5, 3)\n",
    "\n",
    "for idx in range(len(new_imgs)):\n",
    "    \n",
    "    ax[idx].tick_params(labelbottom=False, labelleft=False)\n",
    "    ax[idx].imshow(new_imgs[idx].detach().numpy().reshape(28, 28), cmap=plt.get_cmap('gray'))\n",
    "    ax[idx].set_title('Predictions: %i, %i'%(new_preds[idx][0], new_preds[idx][1]), fontsize=20)\n",
    "    if discrs[idx] == True:\n",
    "        rect = patches.Rectangle((-0.5 , -0.5),28, 28, fill=False, color='red', linewidth=10)\n",
    "        ax[idx].add_patch(rect)\n",
    "plt.tight_layout()\n",
    "\n",
    "plt.savefig('../../results/illustration_MNIST6_19_g.pdf')"
   ]
  },
  {
   "cell_type": "code",
   "execution_count": null,
   "id": "31754ee5",
   "metadata": {},
   "outputs": [],
   "source": []
  },
  {
   "cell_type": "code",
   "execution_count": 307,
   "id": "eaa2d557",
   "metadata": {},
   "outputs": [
    {
     "data": {
      "text/plain": [
       "{'preds_clf':    RF100  RF200\n",
       " 0      7      7,\n",
       " 'disc': 0    0\n",
       " dtype: int64}"
      ]
     },
     "execution_count": 307,
     "metadata": {},
     "output_type": "execute_result"
    }
   ],
   "source": [
    "get_preds(model.decoder(ZA.reshape(1, -1)).detach().numpy())"
   ]
  },
  {
   "cell_type": "code",
   "execution_count": 329,
   "id": "ca294ff3",
   "metadata": {},
   "outputs": [
    {
     "data": {
      "text/plain": [
       "<matplotlib.image.AxesImage at 0x7ff9be77ee20>"
      ]
     },
     "execution_count": 329,
     "metadata": {},
     "output_type": "execute_result"
    },
    {
     "data": {
      "image/png": "[encoded data removed]",
      "text/plain": [
       "<Figure size 432x288 with 1 Axes>"
      ]
     },
     "metadata": {},
     "output_type": "display_data"
    }
   ],
   "source": [
    "plt.imshow(model.decoder(ZA.reshape(1, -1)).detach().numpy()[0, 0] )"
   ]
  },
  {
   "cell_type": "code",
   "execution_count": 396,
   "id": "3e15cb00",
   "metadata": {},
   "outputs": [
    {
     "data": {
      "text/plain": [
       "(array([643.,  21.,  10.,  12.,   9.,  10.,   8.,  17.,  21.,  33.]),\n",
       " array([7.5995922e-06, 9.6636117e-02, 1.9326463e-01, 2.8989315e-01,\n",
       "        3.8652167e-01, 4.8315018e-01, 5.7977873e-01, 6.7640722e-01,\n",
       "        7.7303576e-01, 8.6966425e-01, 9.6629280e-01], dtype=float32),\n",
       " <BarContainer object of 10 artists>)"
      ]
     },
     "execution_count": 396,
     "metadata": {},
     "output_type": "execute_result"
    },
    {
     "data": {
      "image/png": "[encoded data removed]",
      "text/plain": [
       "<Figure size 432x288 with 1 Axes>"
      ]
     },
     "metadata": {},
     "output_type": "display_data"
    }
   ],
   "source": [
    "plt.hist(to_img(model.decoder(ZA.reshape(1, -1))).detach().numpy()[0, 0].flatten())"
   ]
  },
  {
   "cell_type": "code",
   "execution_count": 393,
   "id": "1d302dcf",
   "metadata": {},
   "outputs": [
    {
     "data": {
      "text/plain": [
       "(array([576.,  24.,  25.,  13.,  13.,  16.,  13.,  21.,  28.,  55.]),\n",
       " array([1.7285347e-06, 9.7409733e-02, 1.9481774e-01, 2.9222575e-01,\n",
       "        3.8963374e-01, 4.8704174e-01, 5.8444977e-01, 6.8185776e-01,\n",
       "        7.7926576e-01, 8.7667376e-01, 9.7408175e-01], dtype=float32),\n",
       " <BarContainer object of 10 artists>)"
      ]
     },
     "execution_count": 393,
     "metadata": {},
     "output_type": "execute_result"
    },
    {
     "data": {
      "image/png": "[encoded data removed]",
      "text/plain": [
       "<Figure size 432x288 with 1 Axes>"
      ]
     },
     "metadata": {},
     "output_type": "display_data"
    }
   ],
   "source": [
    "plt.hist(imgZA.flatten())"
   ]
  }
 ],
 "metadata": {
  "kernelspec": {
   "display_name": "Python 3 (ipykernel)",
   "language": "python",
   "name": "python3"
  },
  "language_info": {
   "codemirror_mode": {
    "name": "ipython",
    "version": 3
   },
   "file_extension": ".py",
   "mimetype": "text/x-python",
   "name": "python",
   "nbconvert_exporter": "python",
   "pygments_lexer": "ipython3",
   "version": "3.9.7"
  }
 },
 "nbformat": 4,
 "nbformat_minor": 5
}
