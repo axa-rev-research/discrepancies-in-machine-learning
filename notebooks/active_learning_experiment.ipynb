{
 "cells": [
  {
   "cell_type": "code",
   "execution_count": 4,
   "id": "contemporary-sport",
   "metadata": {},
   "outputs": [],
   "source": [
    "%load_ext autoreload\n",
    "%autoreload 2\n",
    "\n",
    "import warnings\n",
    "warnings.filterwarnings('ignore', category=DeprecationWarning)"
   ]
  },
  {
   "cell_type": "code",
   "execution_count": 1,
   "id": "emotional-diagnosis",
   "metadata": {},
   "outputs": [],
   "source": [
    "import sys; sys.path.insert(0, '..') \n",
    "from discrepancies import active_learning\n",
    "\n"
   ]
  },
  {
   "cell_type": "code",
   "execution_count": 2,
   "id": "polyphonic-newark",
   "metadata": {},
   "outputs": [
    {
     "name": "stdout",
     "output_type": "stream",
     "text": [
      "Dataset sizes (500, 19) (3600, 19) (900, 19)\n",
      "Class balance 0.146\n"
     ]
    },
    {
     "name": "stderr",
     "output_type": "stream",
     "text": [
      "../discrepancies/pool2graph.py:178: FutureWarning: Support for multi-dimensional indexing (e.g. `obj[:, None]`) is deprecated and will be removed in a future version.  Convert to a numpy array before indexing instead.\n",
      "  _indices = nodes_features.index[_indices]\n",
      "  0%|          | 0/3 [00:00<?, ?it/s]INFO:root:### EPOCH #0 - Sum of distances =920.13963416608\n",
      "\n",
      " 33%|███▎      | 1/3 [00:00<00:00,  4.55it/s]INFO:root:### EPOCH #1 - Sum of distances =680.0741574194396\n",
      "\n",
      " 67%|██████▋   | 2/3 [00:00<00:00,  3.94it/s]INFO:root:### EPOCH #2 - Sum of distances =531.3348873747249\n",
      "\n",
      "100%|██████████| 3/3 [00:00<00:00,  3.18it/s]\n",
      "../discrepancies/pool2graph.py:463: VisibleDeprecationWarning: Creating an ndarray from ragged nested sequences (which is a list-or-tuple of lists-or-tuples-or ndarrays with different lengths or shapes) is deprecated. If you meant to do this, you must specify 'dtype=object' when creating the ndarray.\n",
      "  components = np.array(components)[order]\n"
     ]
    },
    {
     "name": "stdout",
     "output_type": "stream",
     "text": [
      "Graph size (1552, 19)\n",
      "Dataset sizes (500, 19) (3600, 19) (900, 19)\n",
      "Class balance 0.144\n"
     ]
    },
    {
     "name": "stderr",
     "output_type": "stream",
     "text": [
      "../discrepancies/pool2graph.py:178: FutureWarning: Support for multi-dimensional indexing (e.g. `obj[:, None]`) is deprecated and will be removed in a future version.  Convert to a numpy array before indexing instead.\n",
      "  _indices = nodes_features.index[_indices]\n",
      "  0%|          | 0/3 [00:00<?, ?it/s]INFO:root:### EPOCH #0 - Sum of distances =914.1534356426791\n",
      "\n",
      " 33%|███▎      | 1/3 [00:00<00:00,  5.23it/s]INFO:root:### EPOCH #1 - Sum of distances =727.4870703884736\n",
      "\n",
      " 67%|██████▋   | 2/3 [00:00<00:00,  3.60it/s]INFO:root:### EPOCH #2 - Sum of distances =570.9156015122871\n",
      "\n",
      "100%|██████████| 3/3 [00:00<00:00,  3.16it/s]\n",
      "../discrepancies/pool2graph.py:463: VisibleDeprecationWarning: Creating an ndarray from ragged nested sequences (which is a list-or-tuple of lists-or-tuples-or ndarrays with different lengths or shapes) is deprecated. If you meant to do this, you must specify 'dtype=object' when creating the ndarray.\n",
      "  components = np.array(components)[order]\n"
     ]
    },
    {
     "name": "stdout",
     "output_type": "stream",
     "text": [
      "Graph size (1586, 19)\n",
      "Dataset sizes (500, 19) (3600, 19) (900, 19)\n",
      "Class balance 0.14\n"
     ]
    },
    {
     "name": "stderr",
     "output_type": "stream",
     "text": [
      "../discrepancies/pool2graph.py:178: FutureWarning: Support for multi-dimensional indexing (e.g. `obj[:, None]`) is deprecated and will be removed in a future version.  Convert to a numpy array before indexing instead.\n",
      "  _indices = nodes_features.index[_indices]\n",
      "  0%|          | 0/3 [00:00<?, ?it/s]INFO:root:### EPOCH #0 - Sum of distances =871.6640759184148\n",
      "\n",
      " 33%|███▎      | 1/3 [00:00<00:00,  4.80it/s]INFO:root:### EPOCH #1 - Sum of distances =569.7312575185917\n",
      "\n",
      " 67%|██████▋   | 2/3 [00:00<00:00,  4.18it/s]INFO:root:### EPOCH #2 - Sum of distances =440.9270951764324\n",
      "\n",
      "100%|██████████| 3/3 [00:00<00:00,  3.51it/s]\n",
      "../discrepancies/pool2graph.py:463: VisibleDeprecationWarning: Creating an ndarray from ragged nested sequences (which is a list-or-tuple of lists-or-tuples-or ndarrays with different lengths or shapes) is deprecated. If you meant to do this, you must specify 'dtype=object' when creating the ndarray.\n",
      "  components = np.array(components)[order]\n"
     ]
    },
    {
     "name": "stdout",
     "output_type": "stream",
     "text": [
      "Graph size (1508, 19)\n",
      "Dataset sizes (500, 19) (3600, 19) (900, 19)\n",
      "Class balance 0.152\n"
     ]
    },
    {
     "name": "stderr",
     "output_type": "stream",
     "text": [
      "../discrepancies/pool2graph.py:178: FutureWarning: Support for multi-dimensional indexing (e.g. `obj[:, None]`) is deprecated and will be removed in a future version.  Convert to a numpy array before indexing instead.\n",
      "  _indices = nodes_features.index[_indices]\n",
      "  0%|          | 0/3 [00:00<?, ?it/s]INFO:root:### EPOCH #0 - Sum of distances =1023.437528377385\n",
      "\n",
      " 33%|███▎      | 1/3 [00:00<00:00,  4.30it/s]INFO:root:### EPOCH #1 - Sum of distances =770.4874784875865\n",
      "\n",
      " 67%|██████▋   | 2/3 [00:00<00:00,  3.50it/s]INFO:root:### EPOCH #2 - Sum of distances =625.5108111429803\n",
      "\n",
      "100%|██████████| 3/3 [00:01<00:00,  2.84it/s]\n",
      "../discrepancies/pool2graph.py:463: VisibleDeprecationWarning: Creating an ndarray from ragged nested sequences (which is a list-or-tuple of lists-or-tuples-or ndarrays with different lengths or shapes) is deprecated. If you meant to do this, you must specify 'dtype=object' when creating the ndarray.\n",
      "  components = np.array(components)[order]\n"
     ]
    },
    {
     "name": "stdout",
     "output_type": "stream",
     "text": [
      "Graph size (1881, 19)\n",
      "Dataset sizes (500, 19) (3600, 19) (900, 19)\n",
      "Class balance 0.17\n"
     ]
    },
    {
     "name": "stderr",
     "output_type": "stream",
     "text": [
      "../discrepancies/pool2graph.py:178: FutureWarning: Support for multi-dimensional indexing (e.g. `obj[:, None]`) is deprecated and will be removed in a future version.  Convert to a numpy array before indexing instead.\n",
      "  _indices = nodes_features.index[_indices]\n",
      "  0%|          | 0/3 [00:00<?, ?it/s]INFO:root:### EPOCH #0 - Sum of distances =1129.003488517425\n",
      "\n",
      " 33%|███▎      | 1/3 [00:00<00:00,  3.83it/s]INFO:root:### EPOCH #1 - Sum of distances =898.8219647029065\n",
      "\n",
      " 67%|██████▋   | 2/3 [00:00<00:00,  2.89it/s]INFO:root:### EPOCH #2 - Sum of distances =774.991550983791\n",
      "\n",
      "100%|██████████| 3/3 [00:01<00:00,  2.39it/s]\n",
      "../discrepancies/pool2graph.py:463: VisibleDeprecationWarning: Creating an ndarray from ragged nested sequences (which is a list-or-tuple of lists-or-tuples-or ndarrays with different lengths or shapes) is deprecated. If you meant to do this, you must specify 'dtype=object' when creating the ndarray.\n",
      "  components = np.array(components)[order]\n"
     ]
    },
    {
     "name": "stdout",
     "output_type": "stream",
     "text": [
      "Graph size (2105, 19)\n",
      "Dataset sizes (500, 19) (3600, 19) (900, 19)\n",
      "Class balance 0.156\n"
     ]
    },
    {
     "name": "stderr",
     "output_type": "stream",
     "text": [
      "../discrepancies/pool2graph.py:178: FutureWarning: Support for multi-dimensional indexing (e.g. `obj[:, None]`) is deprecated and will be removed in a future version.  Convert to a numpy array before indexing instead.\n",
      "  _indices = nodes_features.index[_indices]\n",
      "  0%|          | 0/3 [00:00<?, ?it/s]INFO:root:### EPOCH #0 - Sum of distances =1099.4537639056314\n",
      "\n",
      " 33%|███▎      | 1/3 [00:00<00:00,  2.62it/s]INFO:root:### EPOCH #1 - Sum of distances =832.0532941839696\n",
      "\n",
      " 67%|██████▋   | 2/3 [00:00<00:00,  2.36it/s]INFO:root:### EPOCH #2 - Sum of distances =704.0038672996267\n",
      "\n",
      "100%|██████████| 3/3 [00:01<00:00,  2.18it/s]\n",
      "../discrepancies/pool2graph.py:463: VisibleDeprecationWarning: Creating an ndarray from ragged nested sequences (which is a list-or-tuple of lists-or-tuples-or ndarrays with different lengths or shapes) is deprecated. If you meant to do this, you must specify 'dtype=object' when creating the ndarray.\n",
      "  components = np.array(components)[order]\n"
     ]
    },
    {
     "name": "stdout",
     "output_type": "stream",
     "text": [
      "Graph size (1918, 19)\n",
      "Dataset sizes (500, 19) (3600, 19) (900, 19)\n",
      "Class balance 0.162\n"
     ]
    },
    {
     "name": "stderr",
     "output_type": "stream",
     "text": [
      "../discrepancies/pool2graph.py:178: FutureWarning: Support for multi-dimensional indexing (e.g. `obj[:, None]`) is deprecated and will be removed in a future version.  Convert to a numpy array before indexing instead.\n",
      "  _indices = nodes_features.index[_indices]\n",
      "  0%|          | 0/3 [00:00<?, ?it/s]INFO:root:### EPOCH #0 - Sum of distances =1040.4459114206143\n",
      "\n",
      " 33%|███▎      | 1/3 [00:00<00:00,  4.41it/s]INFO:root:### EPOCH #1 - Sum of distances =797.50323182474\n",
      "\n",
      " 67%|██████▋   | 2/3 [00:00<00:00,  3.53it/s]INFO:root:### EPOCH #2 - Sum of distances =677.6013969402136\n",
      "\n",
      "100%|██████████| 3/3 [00:01<00:00,  2.85it/s]\n",
      "../discrepancies/pool2graph.py:463: VisibleDeprecationWarning: Creating an ndarray from ragged nested sequences (which is a list-or-tuple of lists-or-tuples-or ndarrays with different lengths or shapes) is deprecated. If you meant to do this, you must specify 'dtype=object' when creating the ndarray.\n",
      "  components = np.array(components)[order]\n"
     ]
    },
    {
     "name": "stdout",
     "output_type": "stream",
     "text": [
      "Graph size (1932, 19)\n",
      "Dataset sizes (500, 19) (3600, 19) (900, 19)\n",
      "Class balance 0.164\n"
     ]
    },
    {
     "name": "stderr",
     "output_type": "stream",
     "text": [
      "../discrepancies/pool2graph.py:178: FutureWarning: Support for multi-dimensional indexing (e.g. `obj[:, None]`) is deprecated and will be removed in a future version.  Convert to a numpy array before indexing instead.\n",
      "  _indices = nodes_features.index[_indices]\n",
      "  0%|          | 0/3 [00:00<?, ?it/s]INFO:root:### EPOCH #0 - Sum of distances =1018.2981905243632\n",
      "\n",
      " 33%|███▎      | 1/3 [00:00<00:00,  5.01it/s]INFO:root:### EPOCH #1 - Sum of distances =819.306652111634\n",
      "\n",
      " 67%|██████▋   | 2/3 [00:00<00:00,  3.73it/s]INFO:root:### EPOCH #2 - Sum of distances =645.6736146077174\n",
      "\n",
      "100%|██████████| 3/3 [00:00<00:00,  3.20it/s]\n",
      "../discrepancies/pool2graph.py:463: VisibleDeprecationWarning: Creating an ndarray from ragged nested sequences (which is a list-or-tuple of lists-or-tuples-or ndarrays with different lengths or shapes) is deprecated. If you meant to do this, you must specify 'dtype=object' when creating the ndarray.\n",
      "  components = np.array(components)[order]\n"
     ]
    },
    {
     "name": "stdout",
     "output_type": "stream",
     "text": [
      "Graph size (1705, 19)\n",
      "Dataset sizes (500, 19) (3600, 19) (900, 19)\n",
      "Class balance 0.134\n"
     ]
    },
    {
     "name": "stderr",
     "output_type": "stream",
     "text": [
      "../discrepancies/pool2graph.py:178: FutureWarning: Support for multi-dimensional indexing (e.g. `obj[:, None]`) is deprecated and will be removed in a future version.  Convert to a numpy array before indexing instead.\n",
      "  _indices = nodes_features.index[_indices]\n",
      "  0%|          | 0/3 [00:00<?, ?it/s]INFO:root:### EPOCH #0 - Sum of distances =821.8027555312705\n",
      "\n",
      " 33%|███▎      | 1/3 [00:00<00:00,  4.24it/s]INFO:root:### EPOCH #1 - Sum of distances =638.5309973546357\n",
      "\n",
      " 67%|██████▋   | 2/3 [00:00<00:00,  4.03it/s]INFO:root:### EPOCH #2 - Sum of distances =533.1257628140246\n",
      "\n",
      "100%|██████████| 3/3 [00:00<00:00,  3.42it/s]\n",
      "../discrepancies/pool2graph.py:463: VisibleDeprecationWarning: Creating an ndarray from ragged nested sequences (which is a list-or-tuple of lists-or-tuples-or ndarrays with different lengths or shapes) is deprecated. If you meant to do this, you must specify 'dtype=object' when creating the ndarray.\n",
      "  components = np.array(components)[order]\n"
     ]
    },
    {
     "name": "stdout",
     "output_type": "stream",
     "text": [
      "Graph size (1495, 19)\n",
      "Dataset sizes (500, 19) (3600, 19) (900, 19)\n",
      "Class balance 0.126\n"
     ]
    },
    {
     "name": "stderr",
     "output_type": "stream",
     "text": [
      "../discrepancies/pool2graph.py:178: FutureWarning: Support for multi-dimensional indexing (e.g. `obj[:, None]`) is deprecated and will be removed in a future version.  Convert to a numpy array before indexing instead.\n",
      "  _indices = nodes_features.index[_indices]\n",
      "  0%|          | 0/3 [00:00<?, ?it/s]INFO:root:### EPOCH #0 - Sum of distances =742.9038182118034\n",
      "\n",
      " 33%|███▎      | 1/3 [00:00<00:00,  4.06it/s]INFO:root:### EPOCH #1 - Sum of distances =541.0725656893198\n",
      "\n",
      " 67%|██████▋   | 2/3 [00:00<00:00,  3.60it/s]INFO:root:### EPOCH #2 - Sum of distances =466.7680214459095\n",
      "\n",
      "100%|██████████| 3/3 [00:01<00:00,  2.72it/s]\n",
      "../discrepancies/pool2graph.py:463: VisibleDeprecationWarning: Creating an ndarray from ragged nested sequences (which is a list-or-tuple of lists-or-tuples-or ndarrays with different lengths or shapes) is deprecated. If you meant to do this, you must specify 'dtype=object' when creating the ndarray.\n",
      "  components = np.array(components)[order]\n"
     ]
    },
    {
     "name": "stdout",
     "output_type": "stream",
     "text": [
      "Graph size (1454, 19)\n"
     ]
    },
    {
     "data": {
      "image/png": "[encoded data removed]",
      "text/plain": [
       "<Figure size 576x360 with 1 Axes>"
      ]
     },
     "metadata": {
      "needs_background": "light"
     },
     "output_type": "display_data"
    }
   ],
   "source": [
    "graph_params = {'k_init': 3, \n",
    "               'k_refinement': 0,\n",
    "               'max_epochs': 3,\n",
    "               'stop_criterion': 0.0}\n",
    "\n",
    "split_params = {'train_split': 0.1,\n",
    "               'pool_split':0.8}\n",
    "\n",
    "dataset = 'churn'\n",
    "\n",
    "al = active_learning.ActiveLearningExperiment(dataset, split_params, graph_params)\n",
    "al.run_experiment(it=3)\n",
    "al.plot_results(show=True, save=False, step=5)\n",
    "\n",
    "\n"
   ]
  },
  {
   "cell_type": "code",
   "execution_count": null,
   "id": "funny-education",
   "metadata": {},
   "outputs": [],
   "source": []
  }
 ],
 "metadata": {
  "kernelspec": {
   "display_name": "Python 3",
   "language": "python",
   "name": "python3"
  },
  "language_info": {
   "codemirror_mode": {
    "name": "ipython",
    "version": 3
   },
   "file_extension": ".py",
   "mimetype": "text/x-python",
   "name": "python",
   "nbconvert_exporter": "python",
   "pygments_lexer": "ipython3",
   "version": "3.8.5"
  }
 },
 "nbformat": 4,
 "nbformat_minor": 5
}
