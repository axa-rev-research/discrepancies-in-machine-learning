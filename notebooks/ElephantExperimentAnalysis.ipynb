{
 "cells": [
  {
   "cell_type": "code",
   "execution_count": 8,
   "id": "conditional-remains",
   "metadata": {},
   "outputs": [
    {
     "name": "stdout",
     "output_type": "stream",
     "text": [
      "The autoreload extension is already loaded. To reload it, use:\n",
      "  %reload_ext autoreload\n"
     ]
    }
   ],
   "source": [
    "%load_ext autoreload\n",
    "%autoreload 2\n",
    "\n",
    "import os\n",
    "\n",
    "import numpy as np\n",
    "import pandas as pd\n",
    "from sklearn.metrics import f1_score\n",
    "\n",
    "import matplotlib.pyplot as plt\n",
    "import seaborn as sns\n",
    "\n",
    "\n",
    "%matplotlib inline"
   ]
  },
  {
   "cell_type": "code",
   "execution_count": 9,
   "id": "fossil-regular",
   "metadata": {},
   "outputs": [],
   "source": [
    "import elephant_experiment_analysis as ea"
   ]
  },
  {
   "cell_type": "code",
   "execution_count": 46,
   "id": "entitled-language",
   "metadata": {},
   "outputs": [
    {
     "data": {
      "text/plain": [
       "['1629982489#EXPE3', '1629982520#EXPE3', '1629992281#EXPE3']"
      ]
     },
     "execution_count": 46,
     "metadata": {},
     "output_type": "execute_result"
    }
   ],
   "source": [
    "runs = ea.get_all_expe()\n",
    "runs"
   ]
  },
  {
   "cell_type": "code",
   "execution_count": 56,
   "id": "unknown-terrace",
   "metadata": {
    "scrolled": true
   },
   "outputs": [
    {
     "name": "stdout",
     "output_type": "stream",
     "text": [
      "          dataset   pool  k_init  k_refinement  max_epochs  k_neighbors  \\\n",
      "0   breast-cancer  Basic      10             0           0            3   \n",
      "1   breast-cancer  Basic      10             0           0            5   \n",
      "2   breast-cancer  Basic      10             0           1            3   \n",
      "3   breast-cancer  Basic      10             0           1            5   \n",
      "4   breast-cancer  Basic      10             0           2            3   \n",
      "..            ...    ...     ...           ...         ...          ...   \n",
      "91  breast-cancer  Basic     300             0          13            5   \n",
      "92  breast-cancer  Basic     300             0          14            3   \n",
      "93  breast-cancer  Basic     300             0          14            5   \n",
      "94  breast-cancer  Basic     300             0          15            3   \n",
      "95  breast-cancer  Basic     300             0          15            5   \n",
      "\n",
      "    n_sampling                                      run_suffix  \n",
      "0           -1    D$breast-cancer_P$Basic_KI$10_KR$0_ME$0_KN$3  \n",
      "1           -1    D$breast-cancer_P$Basic_KI$10_KR$0_ME$0_KN$5  \n",
      "2           -1    D$breast-cancer_P$Basic_KI$10_KR$0_ME$1_KN$3  \n",
      "3           -1    D$breast-cancer_P$Basic_KI$10_KR$0_ME$1_KN$5  \n",
      "4           -1    D$breast-cancer_P$Basic_KI$10_KR$0_ME$2_KN$3  \n",
      "..         ...                                             ...  \n",
      "91          -1  D$breast-cancer_P$Basic_KI$300_KR$0_ME$13_KN$5  \n",
      "92          -1  D$breast-cancer_P$Basic_KI$300_KR$0_ME$14_KN$3  \n",
      "93          -1  D$breast-cancer_P$Basic_KI$300_KR$0_ME$14_KN$5  \n",
      "94          -1  D$breast-cancer_P$Basic_KI$300_KR$0_ME$15_KN$3  \n",
      "95          -1  D$breast-cancer_P$Basic_KI$300_KR$0_ME$15_KN$5  \n",
      "\n",
      "[96 rows x 8 columns]\n",
      "Couldn't open results for D$breast-cancer_P$Basic_KI$10_KR$0_ME$11_KN$5\n",
      "Couldn't open results for D$breast-cancer_P$Basic_KI$10_KR$0_ME$12_KN$3\n",
      "Couldn't open results for D$breast-cancer_P$Basic_KI$10_KR$0_ME$12_KN$5\n",
      "Couldn't open results for D$breast-cancer_P$Basic_KI$10_KR$0_ME$13_KN$3\n",
      "Couldn't open results for D$breast-cancer_P$Basic_KI$10_KR$0_ME$13_KN$5\n",
      "Couldn't open results for D$breast-cancer_P$Basic_KI$10_KR$0_ME$14_KN$3\n",
      "Couldn't open results for D$breast-cancer_P$Basic_KI$10_KR$0_ME$14_KN$5\n",
      "Couldn't open results for D$breast-cancer_P$Basic_KI$10_KR$0_ME$15_KN$3\n",
      "Couldn't open results for D$breast-cancer_P$Basic_KI$10_KR$0_ME$15_KN$5\n",
      "Couldn't open results for D$breast-cancer_P$Basic_KI$100_KR$0_ME$7_KN$5\n",
      "Couldn't open results for D$breast-cancer_P$Basic_KI$100_KR$0_ME$8_KN$3\n",
      "Couldn't open results for D$breast-cancer_P$Basic_KI$100_KR$0_ME$8_KN$5\n",
      "Couldn't open results for D$breast-cancer_P$Basic_KI$100_KR$0_ME$9_KN$3\n",
      "Couldn't open results for D$breast-cancer_P$Basic_KI$100_KR$0_ME$9_KN$5\n",
      "Couldn't open results for D$breast-cancer_P$Basic_KI$100_KR$0_ME$10_KN$3\n",
      "Couldn't open results for D$breast-cancer_P$Basic_KI$100_KR$0_ME$10_KN$5\n",
      "Couldn't open results for D$breast-cancer_P$Basic_KI$100_KR$0_ME$11_KN$3\n",
      "Couldn't open results for D$breast-cancer_P$Basic_KI$100_KR$0_ME$11_KN$5\n",
      "Couldn't open results for D$breast-cancer_P$Basic_KI$100_KR$0_ME$12_KN$3\n",
      "Couldn't open results for D$breast-cancer_P$Basic_KI$100_KR$0_ME$12_KN$5\n",
      "Couldn't open results for D$breast-cancer_P$Basic_KI$100_KR$0_ME$13_KN$3\n",
      "Couldn't open results for D$breast-cancer_P$Basic_KI$100_KR$0_ME$13_KN$5\n",
      "Couldn't open results for D$breast-cancer_P$Basic_KI$100_KR$0_ME$14_KN$3\n",
      "Couldn't open results for D$breast-cancer_P$Basic_KI$100_KR$0_ME$14_KN$5\n",
      "Couldn't open results for D$breast-cancer_P$Basic_KI$100_KR$0_ME$15_KN$3\n",
      "Couldn't open results for D$breast-cancer_P$Basic_KI$100_KR$0_ME$15_KN$5\n",
      "Couldn't open results for D$breast-cancer_P$Basic_KI$300_KR$0_ME$0_KN$3\n",
      "Couldn't open results for D$breast-cancer_P$Basic_KI$300_KR$0_ME$0_KN$5\n",
      "Couldn't open results for D$breast-cancer_P$Basic_KI$300_KR$0_ME$1_KN$3\n",
      "Couldn't open results for D$breast-cancer_P$Basic_KI$300_KR$0_ME$1_KN$5\n",
      "Couldn't open results for D$breast-cancer_P$Basic_KI$300_KR$0_ME$2_KN$3\n",
      "Couldn't open results for D$breast-cancer_P$Basic_KI$300_KR$0_ME$2_KN$5\n",
      "Couldn't open results for D$breast-cancer_P$Basic_KI$300_KR$0_ME$3_KN$3\n",
      "Couldn't open results for D$breast-cancer_P$Basic_KI$300_KR$0_ME$3_KN$5\n",
      "Couldn't open results for D$breast-cancer_P$Basic_KI$300_KR$0_ME$4_KN$3\n",
      "Couldn't open results for D$breast-cancer_P$Basic_KI$300_KR$0_ME$4_KN$5\n",
      "Couldn't open results for D$breast-cancer_P$Basic_KI$300_KR$0_ME$5_KN$3\n",
      "Couldn't open results for D$breast-cancer_P$Basic_KI$300_KR$0_ME$5_KN$5\n",
      "Couldn't open results for D$breast-cancer_P$Basic_KI$300_KR$0_ME$6_KN$3\n",
      "Couldn't open results for D$breast-cancer_P$Basic_KI$300_KR$0_ME$6_KN$5\n",
      "Couldn't open results for D$breast-cancer_P$Basic_KI$300_KR$0_ME$7_KN$3\n",
      "Couldn't open results for D$breast-cancer_P$Basic_KI$300_KR$0_ME$7_KN$5\n",
      "Couldn't open results for D$breast-cancer_P$Basic_KI$300_KR$0_ME$8_KN$3\n",
      "Couldn't open results for D$breast-cancer_P$Basic_KI$300_KR$0_ME$8_KN$5\n",
      "Couldn't open results for D$breast-cancer_P$Basic_KI$300_KR$0_ME$9_KN$3\n",
      "Couldn't open results for D$breast-cancer_P$Basic_KI$300_KR$0_ME$9_KN$5\n",
      "Couldn't open results for D$breast-cancer_P$Basic_KI$300_KR$0_ME$10_KN$3\n",
      "Couldn't open results for D$breast-cancer_P$Basic_KI$300_KR$0_ME$10_KN$5\n",
      "Couldn't open results for D$breast-cancer_P$Basic_KI$300_KR$0_ME$11_KN$3\n",
      "Couldn't open results for D$breast-cancer_P$Basic_KI$300_KR$0_ME$11_KN$5\n",
      "Couldn't open results for D$breast-cancer_P$Basic_KI$300_KR$0_ME$12_KN$3\n",
      "Couldn't open results for D$breast-cancer_P$Basic_KI$300_KR$0_ME$12_KN$5\n",
      "Couldn't open results for D$breast-cancer_P$Basic_KI$300_KR$0_ME$13_KN$3\n",
      "Couldn't open results for D$breast-cancer_P$Basic_KI$300_KR$0_ME$13_KN$5\n",
      "Couldn't open results for D$breast-cancer_P$Basic_KI$300_KR$0_ME$14_KN$3\n",
      "Couldn't open results for D$breast-cancer_P$Basic_KI$300_KR$0_ME$14_KN$5\n",
      "Couldn't open results for D$breast-cancer_P$Basic_KI$300_KR$0_ME$15_KN$3\n",
      "Couldn't open results for D$breast-cancer_P$Basic_KI$300_KR$0_ME$15_KN$5\n"
     ]
    },
    {
     "data": {
      "text/html": [
       "<div>\n",
       "<style scoped>\n",
       "    .dataframe tbody tr th:only-of-type {\n",
       "        vertical-align: middle;\n",
       "    }\n",
       "\n",
       "    .dataframe tbody tr th {\n",
       "        vertical-align: top;\n",
       "    }\n",
       "\n",
       "    .dataframe thead th {\n",
       "        text-align: right;\n",
       "    }\n",
       "</style>\n",
       "<table border=\"1\" class=\"dataframe\">\n",
       "  <thead>\n",
       "    <tr style=\"text-align: right;\">\n",
       "      <th></th>\n",
       "      <th>pool</th>\n",
       "      <th>dataset</th>\n",
       "      <th>k_init</th>\n",
       "      <th>k_refinement</th>\n",
       "      <th>max_epochs</th>\n",
       "      <th>k_neighbors</th>\n",
       "      <th>n_sampling</th>\n",
       "      <th>competitor</th>\n",
       "      <th>f1_score</th>\n",
       "      <th>n_replication</th>\n",
       "    </tr>\n",
       "  </thead>\n",
       "  <tbody>\n",
       "    <tr>\n",
       "      <th>0</th>\n",
       "      <td>Basic</td>\n",
       "      <td>breast-cancer</td>\n",
       "      <td>10</td>\n",
       "      <td>0</td>\n",
       "      <td>0</td>\n",
       "      <td>3</td>\n",
       "      <td>-1</td>\n",
       "      <td>scores</td>\n",
       "      <td>0.266667</td>\n",
       "      <td>0</td>\n",
       "    </tr>\n",
       "    <tr>\n",
       "      <th>1</th>\n",
       "      <td>Basic</td>\n",
       "      <td>breast-cancer</td>\n",
       "      <td>10</td>\n",
       "      <td>0</td>\n",
       "      <td>0</td>\n",
       "      <td>5</td>\n",
       "      <td>-1</td>\n",
       "      <td>scores</td>\n",
       "      <td>0.000000</td>\n",
       "      <td>0</td>\n",
       "    </tr>\n",
       "    <tr>\n",
       "      <th>2</th>\n",
       "      <td>Basic</td>\n",
       "      <td>breast-cancer</td>\n",
       "      <td>10</td>\n",
       "      <td>0</td>\n",
       "      <td>1</td>\n",
       "      <td>3</td>\n",
       "      <td>-1</td>\n",
       "      <td>scores</td>\n",
       "      <td>0.375000</td>\n",
       "      <td>0</td>\n",
       "    </tr>\n",
       "    <tr>\n",
       "      <th>3</th>\n",
       "      <td>Basic</td>\n",
       "      <td>breast-cancer</td>\n",
       "      <td>10</td>\n",
       "      <td>0</td>\n",
       "      <td>1</td>\n",
       "      <td>5</td>\n",
       "      <td>-1</td>\n",
       "      <td>scores</td>\n",
       "      <td>0.142857</td>\n",
       "      <td>0</td>\n",
       "    </tr>\n",
       "    <tr>\n",
       "      <th>4</th>\n",
       "      <td>Basic</td>\n",
       "      <td>breast-cancer</td>\n",
       "      <td>10</td>\n",
       "      <td>0</td>\n",
       "      <td>2</td>\n",
       "      <td>3</td>\n",
       "      <td>-1</td>\n",
       "      <td>scores</td>\n",
       "      <td>0.142857</td>\n",
       "      <td>0</td>\n",
       "    </tr>\n",
       "    <tr>\n",
       "      <th>...</th>\n",
       "      <td>...</td>\n",
       "      <td>...</td>\n",
       "      <td>...</td>\n",
       "      <td>...</td>\n",
       "      <td>...</td>\n",
       "      <td>...</td>\n",
       "      <td>...</td>\n",
       "      <td>...</td>\n",
       "      <td>...</td>\n",
       "      <td>...</td>\n",
       "    </tr>\n",
       "    <tr>\n",
       "      <th>91</th>\n",
       "      <td>Basic</td>\n",
       "      <td>breast-cancer</td>\n",
       "      <td>300</td>\n",
       "      <td>0</td>\n",
       "      <td>13</td>\n",
       "      <td>5</td>\n",
       "      <td>-1</td>\n",
       "      <td>scores</td>\n",
       "      <td>NaN</td>\n",
       "      <td>0</td>\n",
       "    </tr>\n",
       "    <tr>\n",
       "      <th>92</th>\n",
       "      <td>Basic</td>\n",
       "      <td>breast-cancer</td>\n",
       "      <td>300</td>\n",
       "      <td>0</td>\n",
       "      <td>14</td>\n",
       "      <td>3</td>\n",
       "      <td>-1</td>\n",
       "      <td>scores</td>\n",
       "      <td>NaN</td>\n",
       "      <td>0</td>\n",
       "    </tr>\n",
       "    <tr>\n",
       "      <th>93</th>\n",
       "      <td>Basic</td>\n",
       "      <td>breast-cancer</td>\n",
       "      <td>300</td>\n",
       "      <td>0</td>\n",
       "      <td>14</td>\n",
       "      <td>5</td>\n",
       "      <td>-1</td>\n",
       "      <td>scores</td>\n",
       "      <td>NaN</td>\n",
       "      <td>0</td>\n",
       "    </tr>\n",
       "    <tr>\n",
       "      <th>94</th>\n",
       "      <td>Basic</td>\n",
       "      <td>breast-cancer</td>\n",
       "      <td>300</td>\n",
       "      <td>0</td>\n",
       "      <td>15</td>\n",
       "      <td>3</td>\n",
       "      <td>-1</td>\n",
       "      <td>scores</td>\n",
       "      <td>NaN</td>\n",
       "      <td>0</td>\n",
       "    </tr>\n",
       "    <tr>\n",
       "      <th>95</th>\n",
       "      <td>Basic</td>\n",
       "      <td>breast-cancer</td>\n",
       "      <td>300</td>\n",
       "      <td>0</td>\n",
       "      <td>15</td>\n",
       "      <td>5</td>\n",
       "      <td>-1</td>\n",
       "      <td>scores</td>\n",
       "      <td>NaN</td>\n",
       "      <td>0</td>\n",
       "    </tr>\n",
       "  </tbody>\n",
       "</table>\n",
       "<p>96 rows × 10 columns</p>\n",
       "</div>"
      ],
      "text/plain": [
       "     pool        dataset  k_init  k_refinement  max_epochs  k_neighbors  \\\n",
       "0   Basic  breast-cancer      10             0           0            3   \n",
       "1   Basic  breast-cancer      10             0           0            5   \n",
       "2   Basic  breast-cancer      10             0           1            3   \n",
       "3   Basic  breast-cancer      10             0           1            5   \n",
       "4   Basic  breast-cancer      10             0           2            3   \n",
       "..    ...            ...     ...           ...         ...          ...   \n",
       "91  Basic  breast-cancer     300             0          13            5   \n",
       "92  Basic  breast-cancer     300             0          14            3   \n",
       "93  Basic  breast-cancer     300             0          14            5   \n",
       "94  Basic  breast-cancer     300             0          15            3   \n",
       "95  Basic  breast-cancer     300             0          15            5   \n",
       "\n",
       "    n_sampling competitor  f1_score  n_replication  \n",
       "0           -1     scores  0.266667              0  \n",
       "1           -1     scores  0.000000              0  \n",
       "2           -1     scores  0.375000              0  \n",
       "3           -1     scores  0.142857              0  \n",
       "4           -1     scores  0.142857              0  \n",
       "..         ...        ...       ...            ...  \n",
       "91          -1     scores       NaN              0  \n",
       "92          -1     scores       NaN              0  \n",
       "93          -1     scores       NaN              0  \n",
       "94          -1     scores       NaN              0  \n",
       "95          -1     scores       NaN              0  \n",
       "\n",
       "[96 rows x 10 columns]"
      ]
     },
     "execution_count": 56,
     "metadata": {},
     "output_type": "execute_result"
    }
   ],
   "source": [
    "run = '1629992281#EXPE3'\n",
    "df = ea.get_expe_results(run)\n",
    "df"
   ]
  },
  {
   "cell_type": "code",
   "execution_count": 57,
   "id": "indirect-breakdown",
   "metadata": {},
   "outputs": [
    {
     "data": {
      "text/plain": [
       "array([0])"
      ]
     },
     "execution_count": 57,
     "metadata": {},
     "output_type": "execute_result"
    }
   ],
   "source": [
    "df.n_replication.unique()"
   ]
  },
  {
   "cell_type": "markdown",
   "id": "nervous-frontier",
   "metadata": {},
   "source": []
  },
  {
   "cell_type": "code",
   "execution_count": 58,
   "id": "mechanical-chicago",
   "metadata": {},
   "outputs": [
    {
     "name": "stdout",
     "output_type": "stream",
     "text": [
      "breast-cancer\n"
     ]
    },
    {
     "data": {
      "image/png": "[encoded data removed]",
      "text/plain": [
       "<Figure size 432x288 with 1 Axes>"
      ]
     },
     "metadata": {
      "needs_background": "light"
     },
     "output_type": "display_data"
    }
   ],
   "source": [
    "dfas = df.copy()\n",
    "#dfas = df[df.pool==\"AutoGluon\"]\n",
    "#dfas = dfas[dfas.n_replication==4]\n",
    "dfas = dfas[dfas.k_neighbors==5]\n",
    "dfas = dfas[dfas.k_init>1]\n",
    "#dfas = dfas[dfas.dataset=='boston']\n",
    "\n",
    "#dfas = dfas[dfas.competitor.isin(['P2G-xgb', 'RandomSampling-xgb'])]\n",
    "#dfas.shape\n",
    "\n",
    "for d in df.dataset.unique():\n",
    "    print(d)\n",
    "    tmp = dfas[dfas.dataset==d]\n",
    "    \n",
    "    #tmp = tmp.groupby(['pool','dataset','k_init','k_refinement','max_epochs','n_sampling','competitor']).mean()\n",
    "    #tmp = tmp.reset_index()\n",
    "    plt.figure()\n",
    "    tmp.rename(columns={'k_init':'k', 'max_epochs':'n_epochs'}, inplace=True)\n",
    "\n",
    "    ax = sns.lineplot(x=\"n_epochs\", y=\"f1_score\", data=tmp, hue=\"k\")\n",
    "    #sns.scatterplot(x=\"max_epochs\", y=\"average score\", data=tmp)\n",
    "    #ax.set_ylim((0.0, 1.0))\n",
    "    #ax.set_title(d)\n",
    "    \n",
    "    plt.tight_layout()\n",
    "    #plt.savefig('../../results/elephant_breastcancer.pdf')\n",
    "    plt.show()"
   ]
  },
  {
   "cell_type": "markdown",
   "id": "textile-thinking",
   "metadata": {},
   "source": []
  },
  {
   "cell_type": "markdown",
   "id": "valuable-release",
   "metadata": {},
   "source": [
    "## Compare with KDE"
   ]
  },
  {
   "cell_type": "code",
   "execution_count": 35,
   "id": "binary-exhaust",
   "metadata": {},
   "outputs": [
    {
     "name": "stdout",
     "output_type": "stream",
     "text": [
      "CPU times: user 72 µs, sys: 355 µs, total: 427 µs\n",
      "Wall time: 287 µs\n"
     ]
    }
   ],
   "source": [
    "%%time\n",
    "import sys; sys.path.insert(0, '..') # add parent folder path where discrepancies folder is\n",
    "\n",
    "from discrepancies import datasets, pool, pool2graph, evaluation, discrepancies_intervals\n",
    "from sklearn.metrics import recall_score, f1_score\n",
    "from sklearn.ensemble import RandomForestClassifier\n",
    "from sklearn.neighbors import KernelDensity, KNeighborsClassifier\n",
    "from discrepancies import pool\n",
    "import pandas as pd\n",
    "\n",
    "\n",
    "\n",
    "def run_fidelity_experiment_oneit(dataset, k_init, max_epochs, k_neighbors=1):\n",
    "    X_train, X_test, y_train, y_test, _, _, _, _ = datasets.get_dataset(dataset=dataset, n_samples=500, noise=0.3)\n",
    "    pool1 = pool.BasicPool()#max_delta_accuracies=0.05)\n",
    "    pool1 = pool1.fit(X_train, y_train)\n",
    "#    print('F1 on Xtest', pool1.predict(X_test).apply(lambda x: f1_score(y_test, x)))\n",
    "#    print('Discrepancy percentage', pool1.predict_discrepancies(X_train).mean())\n",
    "\n",
    "\n",
    "    p2g = pool2graph.pool2graph(X_train, y_train, pool1, k_init=k_init)\n",
    "    p2g.fit(max_epochs=max_epochs)\n",
    "\n",
    "    discr_pred = p2g.predict_discrepancies_from_graph(X_test, method='knn', k_neighbors=k_neighbors)\n",
    "    discr_true = pool1.predict_discrepancies(X_test)\n",
    "    f1_dig_knn = f1_score(discr_true, discr_pred)\n",
    "    \n",
    "    discr_pred = p2g.predict_discrepancies_from_graph(X_test, method='rf', k_neighbors=k_neighbors)\n",
    "    discr_true = pool1.predict_discrepancies(X_test)\n",
    "    f1_dig_rf = f1_score(discr_true, discr_pred)\n",
    "#    print('F1', f1_dig)\n",
    "    \n",
    "    n_instances = len(p2g.G.nodes)\n",
    "    kde = KernelDensity().fit(X_train)\n",
    "    kde_train = pd.DataFrame(kde.sample(n_samples=n_instances), columns=X_train.columns)\n",
    "    kde_labels = pool1.predict_discrepancies(kde_train)\n",
    "    kde_preds_rf = RandomForestClassifier(n_estimators=200).fit(kde_train, kde_labels).predict(X_test)\n",
    "    kde_preds_knn = KNeighborsClassifier(n_neighbors=k_neighbors).fit(kde_train, kde_labels).predict(X_test)\n",
    "    f1_kde_knn = f1_score(discr_true, kde_preds_knn)\n",
    "    f1_kde_rf = f1_score(discr_true, kde_preds_rf)\n",
    "#    print('F1 KDE %s'%prediction_method, f1_kde)\n",
    "    return {'f1_dig_knn':f1_dig_knn, 'f1_dig_rf':f1_dig_rf, 'f1_kde_knn': f1_kde_knn, 'f1_kde_rf': f1_kde_rf, \n",
    "            'k_init':k_init, 'max_epochs':max_epochs, 'n_instance':n_instances}\n",
    "\n",
    "def run_fidelity_experiment(n_iteration, dataset, k_init, max_epochs, k_neighbors):\n",
    "    results = []\n",
    "    for it in range(n_iteration):\n",
    "        results.append(run_fidelity_experiment_oneit(dataset, k_init, max_epochs, k_neighbors))\n",
    "    results = pd.DataFrame(results)\n",
    "    return results.mean(), results.std()\n",
    "\n",
    "def run_several_exp(dataset, k_init_list, max_epochs_list, k_neighbors_list):\n",
    "    for k_init in k_init_list:\n",
    "        "
   ]
  },
  {
   "cell_type": "code",
   "execution_count": 38,
   "id": "removed-interest",
   "metadata": {},
   "outputs": [
    {
     "name": "stdout",
     "output_type": "stream",
     "text": [
      "[15:42:06] WARNING: /Users/travis/build/dmlc/xgboost/src/learner.cc:1095: Starting in XGBoost 1.3.0, the default evaluation metric used with the objective 'binary:logistic' was changed from 'error' to 'logloss'. Explicitly set eval_metric if you'd like to restore the old behavior.\n"
     ]
    },
    {
     "name": "stderr",
     "output_type": "stream",
     "text": [
      "INFO:root:### EPOCH #1\n",
      "INFO:root:### EPOCH #2\n",
      "INFO:root:### EPOCH #3\n",
      "INFO:root:### EPOCH #4\n",
      "INFO:root:### EPOCH #5\n"
     ]
    },
    {
     "name": "stdout",
     "output_type": "stream",
     "text": [
      "knn\n",
      "rf!\n"
     ]
    },
    {
     "data": {
      "text/plain": [
       "(f1_dig_knn    0.489796\n",
       " f1_dig_rf     0.727273\n",
       " f1_kde_knn    0.390244\n",
       " f1_kde_rf     0.588235\n",
       " dtype: float64,\n",
       " f1_dig_knn   NaN\n",
       " f1_dig_rf    NaN\n",
       " f1_kde_knn   NaN\n",
       " f1_kde_rf    NaN\n",
       " dtype: float64)"
      ]
     },
     "execution_count": 38,
     "metadata": {},
     "output_type": "execute_result"
    }
   ],
   "source": [
    "DATASET = 'boston'\n",
    "K_INIT = 100\n",
    "MAX_EPOCHS= 5\n",
    "#PREDICTION_METHOD = 'knn' #choose between 'knn' and 'rf'... KNN in paper\n",
    "K_NEIGHBORS = 3\n",
    "N_ITERATION = 1\n",
    "\n",
    "\n",
    "run_fidelity_experiment(N_ITERATION, DATASET, K_INIT, MAX_EPOCHS, K_NEIGHBORS)\n"
   ]
  },
  {
   "cell_type": "code",
   "execution_count": null,
   "id": "neutral-likelihood",
   "metadata": {},
   "outputs": [],
   "source": []
  },
  {
   "cell_type": "code",
   "execution_count": null,
   "id": "genuine-sense",
   "metadata": {},
   "outputs": [],
   "source": []
  },
  {
   "cell_type": "code",
   "execution_count": null,
   "id": "sublime-shadow",
   "metadata": {},
   "outputs": [],
   "source": []
  },
  {
   "cell_type": "markdown",
   "id": "mexican-marks",
   "metadata": {},
   "source": []
  }
 ],
 "metadata": {
  "kernelspec": {
   "display_name": "Python 3",
   "language": "python",
   "name": "python3"
  },
  "language_info": {
   "codemirror_mode": {
    "name": "ipython",
    "version": 3
   },
   "file_extension": ".py",
   "mimetype": "text/x-python",
   "name": "python",
   "nbconvert_exporter": "python",
   "pygments_lexer": "ipython3",
   "version": "3.8.5"
  }
 },
 "nbformat": 4,
 "nbformat_minor": 5
}
