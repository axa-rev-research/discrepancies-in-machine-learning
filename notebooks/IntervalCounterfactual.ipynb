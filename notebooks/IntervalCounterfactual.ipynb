{
 "cells": [
  {
   "cell_type": "code",
   "execution_count": 1,
   "metadata": {},
   "outputs": [],
   "source": [
    "import numpy as np\n",
    "import pandas as pd\n",
    "\n",
    "import matplotlib.pyplot as plt\n",
    "%matplotlib inline\n",
    "\n",
    "import networkx as nx\n",
    "\n",
    "import sys; sys.path.insert(0, '..') # add parent folder path where discrepancies folder is\n",
    "\n",
    "from discrepancies import datasets, pool, pool2graph, evaluation, discrepancies_intervals\n",
    "\n",
    "RANDOM_STATE = 42\n",
    "\n",
    "import matplotlib.pyplot as plt\n",
    "%matplotlib inline"
   ]
  },
  {
   "cell_type": "code",
   "execution_count": 2,
   "metadata": {},
   "outputs": [
    {
     "name": "stderr",
     "output_type": "stream",
     "text": [
      "Warning: Exception caused LightGBMClassifier to fail during training... Skipping this model.\n",
      "Traceback (most recent call last):\n",
      "  File \"/Users/b076rg/opt/anaconda3/envs/python_env/lib/python3.8/site-packages/autogluon/utils/try_import.py\", line 22, in try_import_lightgbm\n",
      "    import lightgbm\n",
      "  File \"/Users/b076rg/opt/anaconda3/envs/python_env/lib/python3.8/site-packages/lightgbm/__init__.py\", line 8, in <module>\n",
      "    from .basic import Booster, Dataset\n",
      "  File \"/Users/b076rg/opt/anaconda3/envs/python_env/lib/python3.8/site-packages/lightgbm/basic.py\", line 43, in <module>\n",
      "    _LIB = _load_lib()\n",
      "  File \"/Users/b076rg/opt/anaconda3/envs/python_env/lib/python3.8/site-packages/lightgbm/basic.py\", line 34, in _load_lib\n",
      "    lib = ctypes.cdll.LoadLibrary(lib_path[0])\n",
      "  File \"/Users/b076rg/opt/anaconda3/envs/python_env/lib/python3.8/ctypes/__init__.py\", line 459, in LoadLibrary\n",
      "    return self._dlltype(name)\n",
      "  File \"/Users/b076rg/opt/anaconda3/envs/python_env/lib/python3.8/ctypes/__init__.py\", line 381, in __init__\n",
      "    self._handle = _dlopen(self._name, mode)\n",
      "OSError: dlopen(/Users/b076rg/opt/anaconda3/envs/python_env/lib/python3.8/site-packages/lightgbm/lib_lightgbm.so, 6): Library not loaded: /usr/local/opt/libomp/lib/libomp.dylib\n",
      "  Referenced from: /Users/b076rg/opt/anaconda3/envs/python_env/lib/python3.8/site-packages/lightgbm/lib_lightgbm.so\n",
      "  Reason: image not found\n",
      "\n",
      "During handling of the above exception, another exception occurred:\n",
      "\n",
      "Traceback (most recent call last):\n",
      "  File \"/Users/b076rg/opt/anaconda3/envs/python_env/lib/python3.8/site-packages/autogluon/utils/tabular/ml/trainer/abstract_trainer.py\", line 856, in _train_and_save\n",
      "    model = self._train_single(X_train, y_train, model, X_val, y_val, **model_fit_kwargs)\n",
      "  File \"/Users/b076rg/opt/anaconda3/envs/python_env/lib/python3.8/site-packages/autogluon/utils/tabular/ml/trainer/abstract_trainer.py\", line 827, in _train_single\n",
      "    model.fit(X_train=X_train, y_train=y_train, X_val=X_val, y_val=y_val, **model_fit_kwargs)\n",
      "  File \"/Users/b076rg/opt/anaconda3/envs/python_env/lib/python3.8/site-packages/autogluon/utils/tabular/ml/models/abstract/abstract_model.py\", line 233, in fit\n",
      "    self._fit(**kwargs)\n",
      "  File \"/Users/b076rg/opt/anaconda3/envs/python_env/lib/python3.8/site-packages/autogluon/utils/tabular/ml/models/lgb/lgb_model.py\", line 73, in _fit\n",
      "    dataset_train, dataset_val = self.generate_datasets(X_train=X_train, y_train=y_train, params=params, X_val=X_val, y_val=y_val, dataset_train=dataset_train, dataset_val=dataset_val)\n",
      "  File \"/Users/b076rg/opt/anaconda3/envs/python_env/lib/python3.8/site-packages/autogluon/utils/tabular/ml/models/lgb/lgb_model.py\", line 245, in generate_datasets\n",
      "    dataset_train = construct_dataset(x=X_train, y=y_train, location=f'{self.path}datasets{os.path.sep}train', params=data_params, save=save, weight=W_train)\n",
      "  File \"/Users/b076rg/opt/anaconda3/envs/python_env/lib/python3.8/site-packages/autogluon/utils/tabular/ml/models/lgb/lgb_utils.py\", line 81, in construct_dataset\n",
      "    try_import_lightgbm()\n",
      "  File \"/Users/b076rg/opt/anaconda3/envs/python_env/lib/python3.8/site-packages/autogluon/utils/try_import.py\", line 24, in try_import_lightgbm\n",
      "    raise ImportError(\"Import lightgbm failed. If you are using Mac OSX, \"\n",
      "ImportError: Import lightgbm failed. If you are using Mac OSX, Please try 'brew install libomp'. Detailed info: dlopen(/Users/b076rg/opt/anaconda3/envs/python_env/lib/python3.8/site-packages/lightgbm/lib_lightgbm.so, 6): Library not loaded: /usr/local/opt/libomp/lib/libomp.dylib\n",
      "  Referenced from: /Users/b076rg/opt/anaconda3/envs/python_env/lib/python3.8/site-packages/lightgbm/lib_lightgbm.so\n",
      "  Reason: image not found\n",
      "Warning: Exception caused LightGBMClassifierXT to fail during training... Skipping this model.\n",
      "Traceback (most recent call last):\n",
      "  File \"/Users/b076rg/opt/anaconda3/envs/python_env/lib/python3.8/site-packages/autogluon/utils/try_import.py\", line 22, in try_import_lightgbm\n",
      "    import lightgbm\n",
      "  File \"/Users/b076rg/opt/anaconda3/envs/python_env/lib/python3.8/site-packages/lightgbm/__init__.py\", line 8, in <module>\n",
      "    from .basic import Booster, Dataset\n",
      "  File \"/Users/b076rg/opt/anaconda3/envs/python_env/lib/python3.8/site-packages/lightgbm/basic.py\", line 43, in <module>\n",
      "    _LIB = _load_lib()\n",
      "  File \"/Users/b076rg/opt/anaconda3/envs/python_env/lib/python3.8/site-packages/lightgbm/basic.py\", line 34, in _load_lib\n",
      "    lib = ctypes.cdll.LoadLibrary(lib_path[0])\n",
      "  File \"/Users/b076rg/opt/anaconda3/envs/python_env/lib/python3.8/ctypes/__init__.py\", line 459, in LoadLibrary\n",
      "    return self._dlltype(name)\n",
      "  File \"/Users/b076rg/opt/anaconda3/envs/python_env/lib/python3.8/ctypes/__init__.py\", line 381, in __init__\n",
      "    self._handle = _dlopen(self._name, mode)\n",
      "OSError: dlopen(/Users/b076rg/opt/anaconda3/envs/python_env/lib/python3.8/site-packages/lightgbm/lib_lightgbm.so, 6): Library not loaded: /usr/local/opt/libomp/lib/libomp.dylib\n",
      "  Referenced from: /Users/b076rg/opt/anaconda3/envs/python_env/lib/python3.8/site-packages/lightgbm/lib_lightgbm.so\n",
      "  Reason: image not found\n",
      "\n",
      "During handling of the above exception, another exception occurred:\n",
      "\n",
      "Traceback (most recent call last):\n",
      "  File \"/Users/b076rg/opt/anaconda3/envs/python_env/lib/python3.8/site-packages/autogluon/utils/tabular/ml/trainer/abstract_trainer.py\", line 856, in _train_and_save\n",
      "    model = self._train_single(X_train, y_train, model, X_val, y_val, **model_fit_kwargs)\n",
      "  File \"/Users/b076rg/opt/anaconda3/envs/python_env/lib/python3.8/site-packages/autogluon/utils/tabular/ml/trainer/abstract_trainer.py\", line 827, in _train_single\n",
      "    model.fit(X_train=X_train, y_train=y_train, X_val=X_val, y_val=y_val, **model_fit_kwargs)\n",
      "  File \"/Users/b076rg/opt/anaconda3/envs/python_env/lib/python3.8/site-packages/autogluon/utils/tabular/ml/models/abstract/abstract_model.py\", line 233, in fit\n",
      "    self._fit(**kwargs)\n",
      "  File \"/Users/b076rg/opt/anaconda3/envs/python_env/lib/python3.8/site-packages/autogluon/utils/tabular/ml/models/lgb/lgb_model.py\", line 73, in _fit\n",
      "    dataset_train, dataset_val = self.generate_datasets(X_train=X_train, y_train=y_train, params=params, X_val=X_val, y_val=y_val, dataset_train=dataset_train, dataset_val=dataset_val)\n",
      "  File \"/Users/b076rg/opt/anaconda3/envs/python_env/lib/python3.8/site-packages/autogluon/utils/tabular/ml/models/lgb/lgb_model.py\", line 245, in generate_datasets\n",
      "    dataset_train = construct_dataset(x=X_train, y=y_train, location=f'{self.path}datasets{os.path.sep}train', params=data_params, save=save, weight=W_train)\n",
      "  File \"/Users/b076rg/opt/anaconda3/envs/python_env/lib/python3.8/site-packages/autogluon/utils/tabular/ml/models/lgb/lgb_utils.py\", line 81, in construct_dataset\n",
      "    try_import_lightgbm()\n",
      "  File \"/Users/b076rg/opt/anaconda3/envs/python_env/lib/python3.8/site-packages/autogluon/utils/try_import.py\", line 24, in try_import_lightgbm\n",
      "    raise ImportError(\"Import lightgbm failed. If you are using Mac OSX, \"\n",
      "ImportError: Import lightgbm failed. If you are using Mac OSX, Please try 'brew install libomp'. Detailed info: dlopen(/Users/b076rg/opt/anaconda3/envs/python_env/lib/python3.8/site-packages/lightgbm/lib_lightgbm.so, 6): Library not loaded: /usr/local/opt/libomp/lib/libomp.dylib\n",
      "  Referenced from: /Users/b076rg/opt/anaconda3/envs/python_env/lib/python3.8/site-packages/lightgbm/lib_lightgbm.so\n",
      "  Reason: image not found\n"
     ]
    }
   ],
   "source": [
    "# Get data and fit a pool of classifiers on it\n",
    "\n",
    "#X_train, X_test, y_train, y_test, scaler, feature_names, target_names = datasets.get_dataset(n_samples=1000, noise=0.3)\n",
    "X_train, X_test, y_train, y_test, scaler, feature_names, target_names = datasets.get_dataset(dataset='breast-cancer')\n",
    "\n",
    "#pool1 = pool.AutoSklearnPool(max_delta_accuracies=0.05, time_left_for_this_task=30, n_jobs=14)\n",
    "#pool1 = pool.BasicPool()\n",
    "pool1 = pool.AutogluonPool()\n",
    "pool1 = pool1.fit(X_train, y_train, './' )"
   ]
  },
  {
   "cell_type": "code",
   "execution_count": null,
   "metadata": {},
   "outputs": [],
   "source": []
  },
  {
   "cell_type": "code",
   "execution_count": 3,
   "metadata": {},
   "outputs": [
    {
     "data": {
      "text/plain": [
       "{'pool_predictions': RandomForestClassifierGini    0\n",
       " RandomForestClassifierEntr    0\n",
       " ExtraTreesClassifierGini      0\n",
       " ExtraTreesClassifierEntr      0\n",
       " KNeighborsClassifierUnif      0\n",
       " KNeighborsClassifierDist      0\n",
       " CatboostClassifier            0\n",
       " NeuralNetClassifier           1\n",
       " weighted_ensemble_k0_l1       0\n",
       " Name: 0, dtype: int64,\n",
       " 'features': mean radius               -0.046435\n",
       " mean texture               0.085538\n",
       " mean perimeter            -0.047949\n",
       " mean area                 -0.039152\n",
       " mean smoothness           -0.207069\n",
       " mean compactness          -0.229367\n",
       " mean concavity            -0.155921\n",
       " mean concave points       -0.096816\n",
       " mean symmetry              0.006543\n",
       " mean fractal dimension    -0.333277\n",
       " radius error               1.544271\n",
       " texture error             -0.240502\n",
       " perimeter error            1.393938\n",
       " area error                 1.238174\n",
       " smoothness error          -0.027604\n",
       " compactness error         -0.198793\n",
       " concavity error           -0.313717\n",
       " concave points error       0.082724\n",
       " symmetry error            -0.024689\n",
       " fractal dimension error   -0.136699\n",
       " worst radius               0.440043\n",
       " worst texture             -0.204963\n",
       " worst perimeter            0.431124\n",
       " worst area                 0.485952\n",
       " worst smoothness          -0.409268\n",
       " worst compactness         -0.184286\n",
       " worst concavity           -0.289376\n",
       " worst concave points       0.010856\n",
       " worst symmetry            -0.426865\n",
       " worst fractal dimension   -0.199942\n",
       " Name: -1, dtype: float64,\n",
       " 'discrepancies': 1,\n",
       " 'y_true': None,\n",
       " 'ground_truth': False,\n",
       " 'Xtrain_index': -1}"
      ]
     },
     "execution_count": 3,
     "metadata": {},
     "output_type": "execute_result"
    }
   ],
   "source": [
    "p2g = pool2graph.pool2graph(X_train, y_train, pool1, k_init=10)\n",
    "p2g.fit(max_epochs=3)\n",
    "\n",
    "p2g.G.nodes(data=True)[-1]"
   ]
  },
  {
   "cell_type": "markdown",
   "metadata": {},
   "source": [
    "## TEST of discrepancies intervals machinery on a dumb example"
   ]
  },
  {
   "cell_type": "code",
   "execution_count": 4,
   "metadata": {},
   "outputs": [
    {
     "name": "stdout",
     "output_type": "stream",
     "text": [
      "[2, -119, -281, -164, -282, -83, -283, -163, -280, -120, -279, -165, -284, 214.0]\n",
      "[1 1 1 1 0 2 2 2 2 0 0 0 3 0]\n",
      "Discrepancies interval mask: [ True  True  True  True False False False False False False False False\n",
      " False False]\n",
      "Discrepancies interval borders: [True, False, False, False, True, False, False, False, False, False, False, False, False, False]\n",
      "Discrepancies interval border features:       mean radius  mean texture  mean perimeter  mean area  mean smoothness  \\\n",
      " 2       1.403358     -0.151449        1.347999   1.346734         0.671504   \n",
      "-282    -0.500368      0.756412       -0.514620  -0.521671         0.288035   \n",
      "\n",
      "      mean compactness  mean concavity  mean concave points  mean symmetry  \\\n",
      " 2            0.446346        0.548645             1.076488       0.414308   \n",
      "-282         -0.344567       -0.731987            -0.575179       0.672621   \n",
      "\n",
      "      mean fractal dimension  ...  worst radius  worst texture  \\\n",
      " 2                 -0.420762  ...      2.023321       0.428535   \n",
      "-282               -0.145909  ...     -0.469390       0.328335   \n",
      "\n",
      "      worst perimeter  worst area  worst smoothness  worst compactness  \\\n",
      " 2           1.866926    2.175532          1.323014           0.675140   \n",
      "-282        -0.509126   -0.500349         -0.258663          -0.676929   \n",
      "\n",
      "      worst concavity  worst concave points  worst symmetry  \\\n",
      " 2           0.591964              1.463535        1.025874   \n",
      "-282        -0.859520             -0.712439       -0.237962   \n",
      "\n",
      "      worst fractal dimension  \n",
      " 2                  -0.033698  \n",
      "-282                -0.427926  \n",
      "\n",
      "[2 rows x 30 columns]\n",
      "Discrepancies interval mask: [False False False False False  True  True  True  True False False False\n",
      " False False]\n",
      "Discrepancies interval borders: [False, False, False, False, True, False, False, False, False, True, False, False, False, False]\n",
      "Discrepancies interval border features:       mean radius  mean texture  mean perimeter  mean area  mean smoothness  \\\n",
      "-282    -0.500368      0.756412       -0.514620  -0.521671         0.288035   \n",
      "-120    -0.433326      1.575844       -0.401611  -0.464669         0.442800   \n",
      "\n",
      "      mean compactness  mean concavity  mean concave points  mean symmetry  \\\n",
      "-282         -0.344567       -0.731987            -0.575179       0.672621   \n",
      "-120          0.192518        0.050027            -0.053993       0.814693   \n",
      "\n",
      "      mean fractal dimension  ...  worst radius  worst texture  \\\n",
      "-282               -0.145909  ...     -0.469390       0.328335   \n",
      "-120                0.562233  ...     -0.377829       1.463664   \n",
      "\n",
      "      worst perimeter  worst area  worst smoothness  worst compactness  \\\n",
      "-282        -0.509126   -0.500349         -0.258663          -0.676929   \n",
      "-120        -0.353884   -0.408369          0.020507           0.309852   \n",
      "\n",
      "      worst concavity  worst concave points  worst symmetry  \\\n",
      "-282        -0.859520             -0.712439       -0.237962   \n",
      "-120        -0.002425             -0.172223        0.799032   \n",
      "\n",
      "      worst fractal dimension  \n",
      "-282                -0.427926  \n",
      "-120                 0.214110  \n",
      "\n",
      "[2 rows x 30 columns]\n",
      "Discrepancies interval mask: [False False False False False False False False False False False False\n",
      "  True False]\n",
      "Discrepancies interval borders: [False, False, False, False, False, False, False, False, False, False, False, True, False, True]\n",
      "Discrepancies interval border features:       mean radius  mean texture  mean perimeter  mean area  mean smoothness  \\\n",
      "-165    -0.382345      1.095386       -0.299171  -0.427309         1.354536   \n",
      " 214    -0.806249     -0.241056       -0.748362  -0.748165        -0.008448   \n",
      "\n",
      "      mean compactness  mean concavity  mean concave points  mean symmetry  \\\n",
      "-165          0.963199        0.638929             0.558247       1.413426   \n",
      " 214          0.558642        0.833751            -0.531190       0.919863   \n",
      "\n",
      "      mean fractal dimension  ...  worst radius  worst texture  \\\n",
      "-165                1.054420  ...     -0.272895       1.160578   \n",
      " 214                1.932365  ...     -0.766705       0.398724   \n",
      "\n",
      "      worst perimeter  worst area  worst smoothness  worst compactness  \\\n",
      "-165        -0.196406   -0.330467          0.842461           1.120299   \n",
      " 214        -0.606805   -0.712724          0.125952           1.563366   \n",
      "\n",
      "      worst concavity  worst concave points  worst symmetry  \\\n",
      "-165         0.674044              0.621760        1.577172   \n",
      " 214         2.377642              0.117619        0.663875   \n",
      "\n",
      "      worst fractal dimension  \n",
      "-165                 0.777272  \n",
      " 214                 2.614878  \n",
      "\n",
      "[2 rows x 30 columns]\n"
     ]
    },
    {
     "data": {
      "text/plain": [
       "8.342445351685404"
      ]
     },
     "execution_count": 4,
     "metadata": {},
     "output_type": "execute_result"
    }
   ],
   "source": [
    "path = [2,-119,-281,-164,-282,-83,-283,-163,-280,-120,-279,-165,-284,214.0]\n",
    "\n",
    "discrepancies = discrepancies_intervals.get_path_discrepancies(path, p2g.G)\n",
    "print(path)\n",
    "print(discrepancies)\n",
    "\n",
    "for d in np.unique(discrepancies):\n",
    "    if d>0:\n",
    "        discrepancies_mask = discrepancies==d\n",
    "        di = discrepancies_intervals.DiscrepancyInterval((path[0],path[-1]), discrepancies_mask, path, p2g.G)\n",
    "        \n",
    "        print(f'Discrepancies interval mask: {di.discrepancies_interval_mask}')\n",
    "        print(f'Discrepancies interval borders: {di.border_discrepancies}')\n",
    "        print(f'Discrepancies interval border features: {di.border_features}')\n",
    "\n",
    "x = X_train.loc[23]\n",
    "di.get_min_dist_to_point(x)"
   ]
  },
  {
   "cell_type": "markdown",
   "metadata": {},
   "source": [
    "## Get all discrepancies interval for the case"
   ]
  },
  {
   "cell_type": "code",
   "execution_count": 5,
   "metadata": {
    "tags": []
   },
   "outputs": [],
   "source": [
    "intervals = discrepancies_intervals.get_discrepancies_intervals(p2g.G)"
   ]
  },
  {
   "cell_type": "markdown",
   "metadata": {},
   "source": [
    "## Plot discrepancies interval for an arbitrary point"
   ]
  },
  {
   "cell_type": "code",
   "execution_count": 6,
   "metadata": {
    "scrolled": false
   },
   "outputs": [
    {
     "ename": "ValueError",
     "evalue": "Shape of passed values is (1591695, 2), indices imply (1591695, 30)",
     "output_type": "error",
     "traceback": [
      "\u001b[0;31m---------------------------------------------------------------------------\u001b[0m",
      "\u001b[0;31mAttributeError\u001b[0m                            Traceback (most recent call last)",
      "\u001b[0;32m~/Documents/research/articles/discrepancy/discrepancies-in-machine-learning/discrepancies/pool2graph.py\u001b[0m in \u001b[0;36mplot_db\u001b[0;34m(self)\u001b[0m\n\u001b[1;32m    601\u001b[0m         \u001b[0;32mtry\u001b[0m\u001b[0;34m:\u001b[0m\u001b[0;34m\u001b[0m\u001b[0;34m\u001b[0m\u001b[0m\n\u001b[0;32m--> 602\u001b[0;31m             \u001b[0mself\u001b[0m\u001b[0;34m.\u001b[0m\u001b[0mX_mesh\u001b[0m\u001b[0;34m\u001b[0m\u001b[0;34m\u001b[0m\u001b[0m\n\u001b[0m\u001b[1;32m    603\u001b[0m         \u001b[0;32mexcept\u001b[0m\u001b[0;34m:\u001b[0m\u001b[0;34m\u001b[0m\u001b[0;34m\u001b[0m\u001b[0m\n",
      "\u001b[0;31mAttributeError\u001b[0m: 'pool2graph' object has no attribute 'X_mesh'",
      "\nDuring handling of the above exception, another exception occurred:\n",
      "\u001b[0;31mValueError\u001b[0m                                Traceback (most recent call last)",
      "\u001b[0;32m~/opt/anaconda3/envs/python_env/lib/python3.8/site-packages/pandas/core/internals/managers.py\u001b[0m in \u001b[0;36mcreate_block_manager_from_blocks\u001b[0;34m(blocks, axes)\u001b[0m\n\u001b[1;32m   1674\u001b[0m                 blocks = [\n\u001b[0;32m-> 1675\u001b[0;31m                     make_block(\n\u001b[0m\u001b[1;32m   1676\u001b[0m                         \u001b[0mvalues\u001b[0m\u001b[0;34m=\u001b[0m\u001b[0mblocks\u001b[0m\u001b[0;34m[\u001b[0m\u001b[0;36m0\u001b[0m\u001b[0;34m]\u001b[0m\u001b[0;34m,\u001b[0m \u001b[0mplacement\u001b[0m\u001b[0;34m=\u001b[0m\u001b[0mslice\u001b[0m\u001b[0;34m(\u001b[0m\u001b[0;36m0\u001b[0m\u001b[0;34m,\u001b[0m \u001b[0mlen\u001b[0m\u001b[0;34m(\u001b[0m\u001b[0maxes\u001b[0m\u001b[0;34m[\u001b[0m\u001b[0;36m0\u001b[0m\u001b[0;34m]\u001b[0m\u001b[0;34m)\u001b[0m\u001b[0;34m)\u001b[0m\u001b[0;34m,\u001b[0m \u001b[0mndim\u001b[0m\u001b[0;34m=\u001b[0m\u001b[0;36m2\u001b[0m\u001b[0;34m\u001b[0m\u001b[0;34m\u001b[0m\u001b[0m\n",
      "\u001b[0;32m~/opt/anaconda3/envs/python_env/lib/python3.8/site-packages/pandas/core/internals/blocks.py\u001b[0m in \u001b[0;36mmake_block\u001b[0;34m(values, placement, klass, ndim, dtype)\u001b[0m\n\u001b[1;32m   2731\u001b[0m \u001b[0;34m\u001b[0m\u001b[0m\n\u001b[0;32m-> 2732\u001b[0;31m     \u001b[0;32mreturn\u001b[0m \u001b[0mklass\u001b[0m\u001b[0;34m(\u001b[0m\u001b[0mvalues\u001b[0m\u001b[0;34m,\u001b[0m \u001b[0mndim\u001b[0m\u001b[0;34m=\u001b[0m\u001b[0mndim\u001b[0m\u001b[0;34m,\u001b[0m \u001b[0mplacement\u001b[0m\u001b[0;34m=\u001b[0m\u001b[0mplacement\u001b[0m\u001b[0;34m)\u001b[0m\u001b[0;34m\u001b[0m\u001b[0;34m\u001b[0m\u001b[0m\n\u001b[0m\u001b[1;32m   2733\u001b[0m \u001b[0;34m\u001b[0m\u001b[0m\n",
      "\u001b[0;32m~/opt/anaconda3/envs/python_env/lib/python3.8/site-packages/pandas/core/internals/blocks.py\u001b[0m in \u001b[0;36m__init__\u001b[0;34m(self, values, placement, ndim)\u001b[0m\n\u001b[1;32m    141\u001b[0m         \u001b[0;32mif\u001b[0m \u001b[0mself\u001b[0m\u001b[0;34m.\u001b[0m\u001b[0m_validate_ndim\u001b[0m \u001b[0;32mand\u001b[0m \u001b[0mself\u001b[0m\u001b[0;34m.\u001b[0m\u001b[0mndim\u001b[0m \u001b[0;32mand\u001b[0m \u001b[0mlen\u001b[0m\u001b[0;34m(\u001b[0m\u001b[0mself\u001b[0m\u001b[0;34m.\u001b[0m\u001b[0mmgr_locs\u001b[0m\u001b[0;34m)\u001b[0m \u001b[0;34m!=\u001b[0m \u001b[0mlen\u001b[0m\u001b[0;34m(\u001b[0m\u001b[0mself\u001b[0m\u001b[0;34m.\u001b[0m\u001b[0mvalues\u001b[0m\u001b[0;34m)\u001b[0m\u001b[0;34m:\u001b[0m\u001b[0;34m\u001b[0m\u001b[0;34m\u001b[0m\u001b[0m\n\u001b[0;32m--> 142\u001b[0;31m             raise ValueError(\n\u001b[0m\u001b[1;32m    143\u001b[0m                 \u001b[0;34mf\"Wrong number of items passed {len(self.values)}, \"\u001b[0m\u001b[0;34m\u001b[0m\u001b[0;34m\u001b[0m\u001b[0m\n",
      "\u001b[0;31mValueError\u001b[0m: Wrong number of items passed 2, placement implies 30",
      "\nDuring handling of the above exception, another exception occurred:\n",
      "\u001b[0;31mValueError\u001b[0m                                Traceback (most recent call last)",
      "\u001b[0;32m<ipython-input-6-e07bf32c9399>\u001b[0m in \u001b[0;36m<module>\u001b[0;34m\u001b[0m\n\u001b[1;32m      7\u001b[0m \u001b[0;34m\u001b[0m\u001b[0m\n\u001b[1;32m      8\u001b[0m \u001b[0max\u001b[0m \u001b[0;34m=\u001b[0m \u001b[0mplt\u001b[0m\u001b[0;34m.\u001b[0m\u001b[0msubplot\u001b[0m\u001b[0;34m(\u001b[0m\u001b[0;34m)\u001b[0m\u001b[0;34m\u001b[0m\u001b[0;34m\u001b[0m\u001b[0m\n\u001b[0;32m----> 9\u001b[0;31m \u001b[0mp2g\u001b[0m\u001b[0;34m.\u001b[0m\u001b[0mplot_db\u001b[0m\u001b[0;34m(\u001b[0m\u001b[0;34m)\u001b[0m\u001b[0;34m\u001b[0m\u001b[0;34m\u001b[0m\u001b[0m\n\u001b[0m\u001b[1;32m     10\u001b[0m \u001b[0;34m\u001b[0m\u001b[0m\n\u001b[1;32m     11\u001b[0m \u001b[0mX_train\u001b[0m\u001b[0;34m.\u001b[0m\u001b[0mplot\u001b[0m\u001b[0;34m(\u001b[0m\u001b[0mkind\u001b[0m\u001b[0;34m=\u001b[0m\u001b[0;34m'scatter'\u001b[0m\u001b[0;34m,\u001b[0m \u001b[0mx\u001b[0m\u001b[0;34m=\u001b[0m\u001b[0;36m0\u001b[0m\u001b[0;34m,\u001b[0m \u001b[0my\u001b[0m\u001b[0;34m=\u001b[0m\u001b[0;36m1\u001b[0m\u001b[0;34m,\u001b[0m \u001b[0max\u001b[0m\u001b[0;34m=\u001b[0m\u001b[0max\u001b[0m\u001b[0;34m,\u001b[0m \u001b[0mmarker\u001b[0m\u001b[0;34m=\u001b[0m\u001b[0;34m'x'\u001b[0m\u001b[0;34m)\u001b[0m\u001b[0;34m\u001b[0m\u001b[0;34m\u001b[0m\u001b[0m\n",
      "\u001b[0;32m~/Documents/research/articles/discrepancy/discrepancies-in-machine-learning/discrepancies/pool2graph.py\u001b[0m in \u001b[0;36mplot_db\u001b[0;34m(self)\u001b[0m\n\u001b[1;32m    621\u001b[0m             \u001b[0;32mfor\u001b[0m \u001b[0mclf_name\u001b[0m \u001b[0;32min\u001b[0m \u001b[0mself\u001b[0m\u001b[0;34m.\u001b[0m\u001b[0mpool\u001b[0m\u001b[0;34m.\u001b[0m\u001b[0mmodels\u001b[0m\u001b[0;34m:\u001b[0m\u001b[0;34m\u001b[0m\u001b[0;34m\u001b[0m\u001b[0m\n\u001b[1;32m    622\u001b[0m                 \u001b[0;31m#clf = self.pool.models[clf_name]\u001b[0m\u001b[0;34m\u001b[0m\u001b[0;34m\u001b[0m\u001b[0;34m\u001b[0m\u001b[0m\n\u001b[0;32m--> 623\u001b[0;31m                 \u001b[0mself\u001b[0m\u001b[0;34m.\u001b[0m\u001b[0mX_mesh_preds\u001b[0m\u001b[0;34m[\u001b[0m\u001b[0mclf_name\u001b[0m\u001b[0;34m]\u001b[0m \u001b[0;34m=\u001b[0m \u001b[0mself\u001b[0m\u001b[0;34m.\u001b[0m\u001b[0mpool\u001b[0m\u001b[0;34m.\u001b[0m\u001b[0mpredict\u001b[0m\u001b[0;34m(\u001b[0m\u001b[0mself\u001b[0m\u001b[0;34m.\u001b[0m\u001b[0mX_mesh\u001b[0m\u001b[0;34m)\u001b[0m\u001b[0;34m[\u001b[0m\u001b[0mclf_name\u001b[0m\u001b[0;34m]\u001b[0m\u001b[0;34m\u001b[0m\u001b[0;34m\u001b[0m\u001b[0m\n\u001b[0m\u001b[1;32m    624\u001b[0m                 \u001b[0mself\u001b[0m\u001b[0;34m.\u001b[0m\u001b[0mX_mesh_preds\u001b[0m\u001b[0;34m[\u001b[0m\u001b[0mclf_name\u001b[0m\u001b[0;34m]\u001b[0m \u001b[0;34m=\u001b[0m \u001b[0mself\u001b[0m\u001b[0;34m.\u001b[0m\u001b[0mX_mesh_preds\u001b[0m\u001b[0;34m[\u001b[0m\u001b[0mclf_name\u001b[0m\u001b[0;34m]\u001b[0m\u001b[0;34m.\u001b[0m\u001b[0mreshape\u001b[0m\u001b[0;34m(\u001b[0m\u001b[0;34m(\u001b[0m\u001b[0mself\u001b[0m\u001b[0;34m.\u001b[0m\u001b[0mxx\u001b[0m\u001b[0;34m.\u001b[0m\u001b[0mshape\u001b[0m\u001b[0;34m[\u001b[0m\u001b[0;36m0\u001b[0m\u001b[0;34m]\u001b[0m\u001b[0;34m,\u001b[0m \u001b[0mself\u001b[0m\u001b[0;34m.\u001b[0m\u001b[0myy\u001b[0m\u001b[0;34m.\u001b[0m\u001b[0mshape\u001b[0m\u001b[0;34m[\u001b[0m\u001b[0;36m1\u001b[0m\u001b[0;34m]\u001b[0m\u001b[0;34m)\u001b[0m\u001b[0;34m)\u001b[0m\u001b[0;34m\u001b[0m\u001b[0;34m\u001b[0m\u001b[0m\n\u001b[1;32m    625\u001b[0m \u001b[0;34m\u001b[0m\u001b[0m\n",
      "\u001b[0;32m~/Documents/research/articles/discrepancy/discrepancies-in-machine-learning/discrepancies/pool.py\u001b[0m in \u001b[0;36mpredict\u001b[0;34m(self, X, mode, models_to_include)\u001b[0m\n\u001b[1;32m    227\u001b[0m \u001b[0;34m\u001b[0m\u001b[0m\n\u001b[1;32m    228\u001b[0m         \u001b[0;32mif\u001b[0m \u001b[0;32mnot\u001b[0m \u001b[0;34m(\u001b[0m\u001b[0misinstance\u001b[0m\u001b[0;34m(\u001b[0m\u001b[0mX\u001b[0m\u001b[0;34m,\u001b[0m\u001b[0mpd\u001b[0m\u001b[0;34m.\u001b[0m\u001b[0mDataFrame\u001b[0m\u001b[0;34m)\u001b[0m \u001b[0;32mor\u001b[0m \u001b[0misinstance\u001b[0m\u001b[0;34m(\u001b[0m\u001b[0mX\u001b[0m\u001b[0;34m,\u001b[0m\u001b[0mtask\u001b[0m\u001b[0;34m.\u001b[0m\u001b[0mDataset\u001b[0m\u001b[0;34m)\u001b[0m\u001b[0;34m)\u001b[0m\u001b[0;34m:\u001b[0m\u001b[0;34m\u001b[0m\u001b[0;34m\u001b[0m\u001b[0m\n\u001b[0;32m--> 229\u001b[0;31m             \u001b[0mX\u001b[0m \u001b[0;34m=\u001b[0m \u001b[0mpd\u001b[0m\u001b[0;34m.\u001b[0m\u001b[0mDataFrame\u001b[0m\u001b[0;34m(\u001b[0m\u001b[0mX\u001b[0m\u001b[0;34m,\u001b[0m \u001b[0mcolumns\u001b[0m\u001b[0;34m=\u001b[0m\u001b[0mself\u001b[0m\u001b[0;34m.\u001b[0m\u001b[0mX_columns\u001b[0m\u001b[0;34m)\u001b[0m\u001b[0;34m\u001b[0m\u001b[0;34m\u001b[0m\u001b[0m\n\u001b[0m\u001b[1;32m    230\u001b[0m \u001b[0;34m\u001b[0m\u001b[0m\n\u001b[1;32m    231\u001b[0m         \u001b[0;32mif\u001b[0m \u001b[0mmode\u001b[0m \u001b[0;34m==\u001b[0m \u001b[0;34m'classification'\u001b[0m\u001b[0;34m:\u001b[0m\u001b[0;34m\u001b[0m\u001b[0;34m\u001b[0m\u001b[0m\n",
      "\u001b[0;32m~/opt/anaconda3/envs/python_env/lib/python3.8/site-packages/pandas/core/frame.py\u001b[0m in \u001b[0;36m__init__\u001b[0;34m(self, data, index, columns, dtype, copy)\u001b[0m\n\u001b[1;32m    556\u001b[0m                 \u001b[0mmgr\u001b[0m \u001b[0;34m=\u001b[0m \u001b[0minit_dict\u001b[0m\u001b[0;34m(\u001b[0m\u001b[0;34m{\u001b[0m\u001b[0mdata\u001b[0m\u001b[0;34m.\u001b[0m\u001b[0mname\u001b[0m\u001b[0;34m:\u001b[0m \u001b[0mdata\u001b[0m\u001b[0;34m}\u001b[0m\u001b[0;34m,\u001b[0m \u001b[0mindex\u001b[0m\u001b[0;34m,\u001b[0m \u001b[0mcolumns\u001b[0m\u001b[0;34m,\u001b[0m \u001b[0mdtype\u001b[0m\u001b[0;34m=\u001b[0m\u001b[0mdtype\u001b[0m\u001b[0;34m)\u001b[0m\u001b[0;34m\u001b[0m\u001b[0;34m\u001b[0m\u001b[0m\n\u001b[1;32m    557\u001b[0m             \u001b[0;32melse\u001b[0m\u001b[0;34m:\u001b[0m\u001b[0;34m\u001b[0m\u001b[0;34m\u001b[0m\u001b[0m\n\u001b[0;32m--> 558\u001b[0;31m                 \u001b[0mmgr\u001b[0m \u001b[0;34m=\u001b[0m \u001b[0minit_ndarray\u001b[0m\u001b[0;34m(\u001b[0m\u001b[0mdata\u001b[0m\u001b[0;34m,\u001b[0m \u001b[0mindex\u001b[0m\u001b[0;34m,\u001b[0m \u001b[0mcolumns\u001b[0m\u001b[0;34m,\u001b[0m \u001b[0mdtype\u001b[0m\u001b[0;34m=\u001b[0m\u001b[0mdtype\u001b[0m\u001b[0;34m,\u001b[0m \u001b[0mcopy\u001b[0m\u001b[0;34m=\u001b[0m\u001b[0mcopy\u001b[0m\u001b[0;34m)\u001b[0m\u001b[0;34m\u001b[0m\u001b[0;34m\u001b[0m\u001b[0m\n\u001b[0m\u001b[1;32m    559\u001b[0m \u001b[0;34m\u001b[0m\u001b[0m\n\u001b[1;32m    560\u001b[0m         \u001b[0;31m# For data is list-like, or Iterable (will consume into list)\u001b[0m\u001b[0;34m\u001b[0m\u001b[0;34m\u001b[0m\u001b[0;34m\u001b[0m\u001b[0m\n",
      "\u001b[0;32m~/opt/anaconda3/envs/python_env/lib/python3.8/site-packages/pandas/core/internals/construction.py\u001b[0m in \u001b[0;36minit_ndarray\u001b[0;34m(values, index, columns, dtype, copy)\u001b[0m\n\u001b[1;32m    236\u001b[0m         \u001b[0mblock_values\u001b[0m \u001b[0;34m=\u001b[0m \u001b[0;34m[\u001b[0m\u001b[0mvalues\u001b[0m\u001b[0;34m]\u001b[0m\u001b[0;34m\u001b[0m\u001b[0;34m\u001b[0m\u001b[0m\n\u001b[1;32m    237\u001b[0m \u001b[0;34m\u001b[0m\u001b[0m\n\u001b[0;32m--> 238\u001b[0;31m     \u001b[0;32mreturn\u001b[0m \u001b[0mcreate_block_manager_from_blocks\u001b[0m\u001b[0;34m(\u001b[0m\u001b[0mblock_values\u001b[0m\u001b[0;34m,\u001b[0m \u001b[0;34m[\u001b[0m\u001b[0mcolumns\u001b[0m\u001b[0;34m,\u001b[0m \u001b[0mindex\u001b[0m\u001b[0;34m]\u001b[0m\u001b[0;34m)\u001b[0m\u001b[0;34m\u001b[0m\u001b[0;34m\u001b[0m\u001b[0m\n\u001b[0m\u001b[1;32m    239\u001b[0m \u001b[0;34m\u001b[0m\u001b[0m\n\u001b[1;32m    240\u001b[0m \u001b[0;34m\u001b[0m\u001b[0m\n",
      "\u001b[0;32m~/opt/anaconda3/envs/python_env/lib/python3.8/site-packages/pandas/core/internals/managers.py\u001b[0m in \u001b[0;36mcreate_block_manager_from_blocks\u001b[0;34m(blocks, axes)\u001b[0m\n\u001b[1;32m   1685\u001b[0m         \u001b[0mblocks\u001b[0m \u001b[0;34m=\u001b[0m \u001b[0;34m[\u001b[0m\u001b[0mgetattr\u001b[0m\u001b[0;34m(\u001b[0m\u001b[0mb\u001b[0m\u001b[0;34m,\u001b[0m \u001b[0;34m\"values\"\u001b[0m\u001b[0;34m,\u001b[0m \u001b[0mb\u001b[0m\u001b[0;34m)\u001b[0m \u001b[0;32mfor\u001b[0m \u001b[0mb\u001b[0m \u001b[0;32min\u001b[0m \u001b[0mblocks\u001b[0m\u001b[0;34m]\u001b[0m\u001b[0;34m\u001b[0m\u001b[0;34m\u001b[0m\u001b[0m\n\u001b[1;32m   1686\u001b[0m         \u001b[0mtot_items\u001b[0m \u001b[0;34m=\u001b[0m \u001b[0msum\u001b[0m\u001b[0;34m(\u001b[0m\u001b[0mb\u001b[0m\u001b[0;34m.\u001b[0m\u001b[0mshape\u001b[0m\u001b[0;34m[\u001b[0m\u001b[0;36m0\u001b[0m\u001b[0;34m]\u001b[0m \u001b[0;32mfor\u001b[0m \u001b[0mb\u001b[0m \u001b[0;32min\u001b[0m \u001b[0mblocks\u001b[0m\u001b[0;34m)\u001b[0m\u001b[0;34m\u001b[0m\u001b[0;34m\u001b[0m\u001b[0m\n\u001b[0;32m-> 1687\u001b[0;31m         \u001b[0;32mraise\u001b[0m \u001b[0mconstruction_error\u001b[0m\u001b[0;34m(\u001b[0m\u001b[0mtot_items\u001b[0m\u001b[0;34m,\u001b[0m \u001b[0mblocks\u001b[0m\u001b[0;34m[\u001b[0m\u001b[0;36m0\u001b[0m\u001b[0;34m]\u001b[0m\u001b[0;34m.\u001b[0m\u001b[0mshape\u001b[0m\u001b[0;34m[\u001b[0m\u001b[0;36m1\u001b[0m\u001b[0;34m:\u001b[0m\u001b[0;34m]\u001b[0m\u001b[0;34m,\u001b[0m \u001b[0maxes\u001b[0m\u001b[0;34m,\u001b[0m \u001b[0me\u001b[0m\u001b[0;34m)\u001b[0m\u001b[0;34m\u001b[0m\u001b[0;34m\u001b[0m\u001b[0m\n\u001b[0m\u001b[1;32m   1688\u001b[0m \u001b[0;34m\u001b[0m\u001b[0m\n\u001b[1;32m   1689\u001b[0m \u001b[0;34m\u001b[0m\u001b[0m\n",
      "\u001b[0;31mValueError\u001b[0m: Shape of passed values is (1591695, 2), indices imply (1591695, 30)"
     ]
    },
    {
     "data": {
      "image/png": "[encoded data removed]",
      "text/plain": [
       "<Figure size 432x288 with 1 Axes>"
      ]
     },
     "metadata": {
      "needs_background": "light"
     },
     "output_type": "display_data"
    }
   ],
   "source": [
    "x = X_test.loc[[20]]\n",
    "k = 10\n",
    "\n",
    "dists = []\n",
    "for di in intervals:\n",
    "    dists.append( di.get_min_dist_to_point(x) )\n",
    "\n",
    "ax = plt.subplot()\n",
    "p2g.plot_db()\n",
    "\n",
    "X_train.plot(kind='scatter', x=0, y=1, ax=ax, marker='x')\n",
    "x.plot(kind='scatter', x=0, y=1, ax=ax, c='r')\n",
    "\n",
    "for di in np.array(intervals)[np.argsort(dists)][:k]:\n",
    "    #print(di.border_features)\n",
    "    #print(di.border_bounds_discrepancies)\n",
    "\n",
    "    plt.plot(di.border_features.iloc[:,0], di.border_features.iloc[:,1])\n"
   ]
  }
 ],
 "metadata": {
  "kernelspec": {
   "display_name": "Python 3",
   "language": "python",
   "name": "python3"
  },
  "language_info": {
   "codemirror_mode": {
    "name": "ipython",
    "version": 3
   },
   "file_extension": ".py",
   "mimetype": "text/x-python",
   "name": "python",
   "nbconvert_exporter": "python",
   "pygments_lexer": "ipython3",
   "version": "3.8.5"
  }
 },
 "nbformat": 4,
 "nbformat_minor": 2
}
