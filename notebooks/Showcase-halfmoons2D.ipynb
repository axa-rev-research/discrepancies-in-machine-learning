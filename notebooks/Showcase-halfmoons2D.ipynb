{
 "cells": [
  {
   "cell_type": "markdown",
   "id": "precious-dominican",
   "metadata": {},
   "source": [
    "# Discrepancy study: usecase on halfmoons dataset"
   ]
  },
  {
   "cell_type": "code",
   "execution_count": 2,
   "id": "attempted-texas",
   "metadata": {},
   "outputs": [],
   "source": [
    "import numpy as np\n",
    "import pandas as pd\n",
    "import seaborn as sns\n",
    "import networkx as nx\n",
    "\n",
    "import sys; sys.path.insert(0, '..') # add parent folder path where discrepancies folder is\n",
    "\n",
    "from discrepancies import datasets, pool, pool2graph, evaluation, discrepancies_intervals\n",
    "\n",
    "RANDOM_STATE = 42\n",
    "\n",
    "import matplotlib.pyplot as plt\n",
    "%matplotlib inline"
   ]
  },
  {
   "cell_type": "markdown",
   "id": "unique-collins",
   "metadata": {},
   "source": [
    "# Preparation"
   ]
  },
  {
   "cell_type": "markdown",
   "id": "static-forty",
   "metadata": {},
   "source": [
    "### Load the data, train a pool of classifiers\n",
    "\n",
    "* The dataset is Adult, containing both continuous and categorical variables\n",
    "* We build a pool of classifiers and evaluate their performance"
   ]
  },
  {
   "cell_type": "code",
   "execution_count": 4,
   "id": "instrumental-amplifier",
   "metadata": {},
   "outputs": [
    {
     "name": "stdout",
     "output_type": "stream",
     "text": [
      "(27, 2) 0.48148148148148145\n",
      "{'SVMrbf': 0.9230769230769231, 'LR': 0.8461538461538461}\n"
     ]
    }
   ],
   "source": [
    "# Get data and fit a pool of classifiers on it\n",
    "X_train, X_test, y_train, y_test, scaler, feature_names, target_names, cat_names = datasets.get_dataset(dataset='half-moons', n_samples=30, noise=0.1, test_size=0.1)\n",
    "print(X_train.shape, y_train.mean())\n",
    "\n",
    "pool1 = pool.BasicPool([\"LR\", \"SVMrbf\"]) # TODO: other pool, better one\n",
    "pool1 = pool1.fit(X_train, y_train)\n",
    "\n",
    "preds = pool1.predict(X_train)\n",
    "from sklearn.metrics import f1_score\n",
    "print({c: f1_score(y_train, preds[c]) for c in preds.columns})\n"
   ]
  },
  {
   "cell_type": "code",
   "execution_count": 5,
   "id": "1d380cbf",
   "metadata": {},
   "outputs": [
    {
     "data": {
      "text/plain": [
       "{'SVMrbf': SVC(probability=True), 'LR': LogisticRegression()}"
      ]
     },
     "execution_count": 5,
     "metadata": {},
     "output_type": "execute_result"
    }
   ],
   "source": [
    "pool1.models"
   ]
  },
  {
   "cell_type": "code",
   "execution_count": 6,
   "id": "e9dbffcf",
   "metadata": {},
   "outputs": [
    {
     "data": {
      "image/png": "[encoded data removed]",
      "text/plain": [
       "<Figure size 432x288 with 1 Axes>"
      ]
     },
     "metadata": {},
     "output_type": "display_data"
    }
   ],
   "source": [
    "sns.set_context('notebook')\n",
    "sns.set_style('darkgrid')\n",
    "\n",
    "def plot_classification_contour(X, clf, ax=[0,1]):\n",
    "    ## Inspired by scikit-learn documentation\n",
    "    h = .02  # step size in the mesh\n",
    "    cm = plt.cm.RdBu\n",
    "    x_min, x_max = X[:, ax[0]].min() - .5, X[:, ax[0]].max() + .5\n",
    "    y_min, y_max = X[:, ax[1]].min() - .5, X[:, ax[1]].max() + .5\n",
    "    xx, yy = np.meshgrid(np.arange(x_min, x_max, h), np.arange(y_min, y_max, h))\n",
    "    Z = clf.predict_proba(np.c_[xx.ravel(), yy.ravel()])[:, 1]\n",
    "    Z = Z.reshape(xx.shape)\n",
    "    #plt.sca(ax)\n",
    "    plt.contourf(xx, yy, Z, alpha=.5, cmap=None)\n",
    "    \n",
    "def plot_classification_contourDisc(X, pool, ax=[0,1]):\n",
    "    ## Inspired by scikit-learn documentation\n",
    "    h = .02  # step size in the mesh\n",
    "    cm = plt.cm.RdBu\n",
    "    x_min, x_max = X[:, ax[0]].min() - .5, X[:, ax[0]].max() + .5\n",
    "    y_min, y_max = X[:, ax[1]].min() - .5, X[:, ax[1]].max() + .5\n",
    "    xx, yy = np.meshgrid(np.arange(x_min, x_max, h), np.arange(y_min, y_max, h))\n",
    "    Z = pool.predict_discrepancies(np.c_[xx.ravel(), yy.ravel()])#[:, 1]\n",
    "    Z = Z.values.reshape(xx.shape)\n",
    "    #plt.sca(ax)\n",
    "    plt.contour(xx, yy, Z, alpha=.5, colos=[\"blue\", \"red\"])\n",
    "    \n",
    "\n",
    "margin = 0.2\n",
    "x_min = X_train.iloc[:,0].min() - margin\n",
    "x_max = X_train.iloc[:,0].max() + margin\n",
    "y_min = X_train.iloc[:,1].min() - margin\n",
    "y_max = X_train.iloc[:,1].max() + margin\n",
    "x_step = y_step = 0.005\n",
    "\n",
    "x = np.arange(x_min, x_max, x_step)\n",
    "y = np.arange(y_min, y_max, y_step)\n",
    "xx, yy = np.meshgrid(x, y)\n",
    "\n",
    "X_tmp = np.concatenate((xx.reshape(-1,1),yy.reshape(-1,1)), axis=1)\n",
    "X_tmp = pd.DataFrame(X_tmp)\n",
    "X_tmp.columns = ['Feature 1', 'Feature 2']\n",
    "\n",
    "colors = ['blue',  'green', 'green', 'red', 'purple', 'brown', 'pink', 'gray', 'olive', 'cyan']\n",
    "\n",
    "plt.figure(figsize=(6,4))\n",
    "\n",
    "sns.scatterplot(x=X_train[y_train==0].iloc[:,0], y=X_train[y_train==0].iloc[:,1])\n",
    "sns.scatterplot(x=X_train[y_train==1].iloc[:,0], y=X_train[y_train==1].iloc[:,1])\n",
    "\n",
    "plots = []\n",
    "i = 0\n",
    "for mn, m in pool1.models.items():\n",
    "    preds = m.predict(X_tmp)\n",
    "    preds = preds.reshape((xx.shape[0], yy.shape[1]))\n",
    "    tmp = plt.contour(xx, yy, preds, colors=colors[i])\n",
    "    plots.append(tmp)\n",
    "    i += 1\n",
    "\n",
    "contours = [p.legend_elements()[0][0] for p in plots]\n",
    "plt.legend(contours, [\"Model 1\", \"Model 2\"], bbox_to_anchor=(0, 1), loc='upper left', ncol=1)\n",
    "plt.tight_layout()\n"
   ]
  },
  {
   "cell_type": "markdown",
   "id": "impressive-transparency",
   "metadata": {},
   "source": [
    "It looks that several of these classifiers have similar performance. How can we choose among them? "
   ]
  },
  {
   "cell_type": "markdown",
   "id": "breathing-starter",
   "metadata": {},
   "source": [
    "We measure that classifiers disagree over 17,5% of test instances. What can we learn about these discrepancies ? "
   ]
  },
  {
   "cell_type": "markdown",
   "id": "supposed-kruger",
   "metadata": {},
   "source": [
    "### Build the graph with DIG\n",
    "\n",
    "* DIG relies on two main parameters: k_init and max_epochs. Essentially, the higher these two are, the better.\n",
    "* Here we select random values that seem good enough"
   ]
  },
  {
   "cell_type": "code",
   "execution_count": 159,
   "id": "featured-julian",
   "metadata": {
    "scrolled": true
   },
   "outputs": [
    {
     "name": "stderr",
     "output_type": "stream",
     "text": [
      "INFO:root:### EPOCH #1\n",
      "INFO:root:### EPOCH #2\n",
      "INFO:root:### EPOCH #3\n",
      "INFO:root:### EPOCH #4\n"
     ]
    },
    {
     "name": "stdout",
     "output_type": "stream",
     "text": [
      "1062\n",
      "1242\n",
      "CPU times: user 420 ms, sys: 8.23 ms, total: 428 ms\n",
      "Wall time: 423 ms\n"
     ]
    }
   ],
   "source": [
    "%%time\n",
    "\n",
    "# build p2g\n",
    "# p2g = pool2graph_cat2.pool2graph(X_train, y_train, pool1, k_init=3, categorical_names=cat_names)\n",
    "p2g = pool2graph.pool2graph(X_train, y_train, pool1, k_init=20)\n",
    "p2g.fit(max_epochs=4)\n",
    "print(len(p2g.G.nodes))\n",
    "print(len(p2g.G.edges))"
   ]
  },
  {
   "cell_type": "code",
   "execution_count": 160,
   "id": "middle-vaccine",
   "metadata": {},
   "outputs": [
    {
     "data": {
      "image/png": "[encoded data removed]",
      "text/plain": [
       "<Figure size 432x288 with 1 Axes>"
      ]
     },
     "metadata": {},
     "output_type": "display_data"
    }
   ],
   "source": [
    "sns.set_context('notebook')\n",
    "sns.set_style('darkgrid')\n",
    "\n",
    "margin = 1.0\n",
    "x_min = X_train.iloc[:,0].min() - margin\n",
    "x_max = X_train.iloc[:,0].max() + margin\n",
    "y_min = X_train.iloc[:,1].min() - margin\n",
    "y_max = X_train.iloc[:,1].max() + margin\n",
    "x_step = y_step = 0.005\n",
    "\n",
    "x = np.arange(x_min, x_max, x_step)\n",
    "y = np.arange(y_min, y_max, y_step)\n",
    "xx, yy = np.meshgrid(x, y)\n",
    "\n",
    "X_tmp = np.concatenate((xx.reshape(-1,1),yy.reshape(-1,1)), axis=1)\n",
    "X_tmp = pd.DataFrame(X_tmp)\n",
    "X_tmp.columns = ['Feature 1', 'Feature 2']\n",
    "\n",
    "colors = ['blue',  'green', 'green', 'red', 'purple', 'brown', 'pink', 'gray', 'olive', 'cyan']\n",
    "\n",
    "plt.figure(figsize=(6,4))\n",
    "\n",
    "sns.scatterplot(x=X_train[y_train==0].iloc[:,0], y=X_train[y_train==0].iloc[:,1])\n",
    "sns.scatterplot(x=X_train[y_train==1].iloc[:,0], y=X_train[y_train==1].iloc[:,1])\n",
    "\n",
    "plots = []\n",
    "i = 0\n",
    "for mn, m in pool1.models.items():\n",
    "    preds = m.predict(X_tmp)\n",
    "    preds = preds.reshape((xx.shape[0], yy.shape[1]))\n",
    "    tmp = plt.contour(xx, yy, preds, colors=colors[i])\n",
    "    plots.append(tmp)\n",
    "    i += 1\n",
    "\n",
    "contours = [p.legend_elements()[0][0] for p in plots]\n",
    "plt.legend(contours, [\"Model 1\", \"Model 2\"], bbox_to_anchor=(0, 1), loc='upper left', ncol=1)\n",
    "\n",
    "\n",
    "lnodes = p2g.get_nodes()\n",
    "nodes = p2g.get_nodes_attributes(lnodes)[0]\n",
    "new_nodes = nodes[nodes.index < 0]\n",
    "disc = pool1.predict_discrepancies(nodes)\n",
    "\n",
    "sns.scatterplot(x=new_nodes.iloc[:, 0], y=new_nodes.iloc[:, 1], color='purple', alpha=1.0, s=30, marker=\"x\")\n",
    "\n",
    "\n",
    "plt.ylim((-2.0, 2.0))\n",
    "plt.xlim((-2.0, 2.0))\n",
    "\n",
    "plt.tight_layout()\n",
    "#plt.savefig(\"../../results2/halfmoons_DIGsampling.pdf\")"
   ]
  },
  {
   "cell_type": "code",
   "execution_count": 161,
   "id": "streaming-reservation",
   "metadata": {},
   "outputs": [
    {
     "name": "stdout",
     "output_type": "stream",
     "text": [
      "-10.989844453467306\n"
     ]
    },
    {
     "data": {
      "image/png": "[encoded data removed]",
      "text/plain": [
       "<Figure size 432x288 with 1 Axes>"
      ]
     },
     "metadata": {},
     "output_type": "display_data"
    }
   ],
   "source": [
    "# comparaison avec un KDE\n",
    "from sklearn.neighbors import KernelDensity\n",
    "\n",
    "sns.set_context('notebook')\n",
    "sns.set_style('darkgrid')\n",
    "\n",
    "\n",
    "x_min = X_train.iloc[:,0].min() - margin\n",
    "x_max = X_train.iloc[:,0].max() + margin\n",
    "y_min = X_train.iloc[:,1].min() - margin\n",
    "y_max = X_train.iloc[:,1].max() + margin\n",
    "x_step = y_step = 0.005\n",
    "\n",
    "x = np.arange(x_min, x_max, x_step)\n",
    "y = np.arange(y_min, y_max, y_step)\n",
    "xx, yy = np.meshgrid(x, y)\n",
    "\n",
    "X_tmp = np.concatenate((xx.reshape(-1,1),yy.reshape(-1,1)), axis=1)\n",
    "X_tmp = pd.DataFrame(X_tmp)\n",
    "X_tmp.columns = ['Feature 1', 'Feature 2']\n",
    "\n",
    "colors = ['blue',  'green', 'green', 'red', 'purple', 'brown', 'pink', 'gray', 'olive', 'cyan']\n",
    "\n",
    "plt.figure(figsize=(6,4))\n",
    "\n",
    "sns.scatterplot(x=X_train[y_train==0].iloc[:,0], y=X_train[y_train==0].iloc[:,1])\n",
    "sns.scatterplot(x=X_train[y_train==1].iloc[:,0], y=X_train[y_train==1].iloc[:,1])\n",
    "\n",
    "plots = []\n",
    "i = 0\n",
    "for mn, m in pool1.models.items():\n",
    "    preds = m.predict(X_tmp)\n",
    "    preds = preds.reshape((xx.shape[0], yy.shape[1]))\n",
    "    tmp = plt.contour(xx, yy, preds, colors=colors[i])\n",
    "    plots.append(tmp)\n",
    "    i += 1\n",
    "\n",
    "contours = [p.legend_elements()[0][0] for p in plots]\n",
    "plt.legend(contours, [\"Model 1\", \"Model 2\"], bbox_to_anchor=(0, 1), loc='upper left', ncol=1)\n",
    "\n",
    "kde = KernelDensity(bandwidth=0.5).fit(X=X_train.values)\n",
    "print(kde.score(X_test.values))\n",
    "kde_nodes = kde.sample(new_nodes.shape[0])\n",
    "sns.scatterplot(x=kde_nodes[:, 0], y=kde_nodes[:, 1], color='purple', alpha=1.0, s=30,marker=\"x\")\n",
    "\n",
    "plt.ylim((-2.0, 2.0))\n",
    "plt.xlim((-2.0, 2.0))\n",
    "plt.tight_layout()\n",
    "\n",
    "#plt.savefig(\"../../results2/halfmoons_KDEsampling.pdf\")"
   ]
  },
  {
   "cell_type": "code",
   "execution_count": null,
   "id": "703d75d3",
   "metadata": {},
   "outputs": [],
   "source": []
  },
  {
   "cell_type": "markdown",
   "id": "fabulous-wallpaper",
   "metadata": {},
   "source": [
    "# Understanding discrepancies"
   ]
  },
  {
   "cell_type": "code",
   "execution_count": 38,
   "id": "bulgarian-shelter",
   "metadata": {},
   "outputs": [
    {
     "ename": "KeyboardInterrupt",
     "evalue": "",
     "output_type": "error",
     "traceback": [
      "\u001b[0;31m---------------------------------------------------------------------------\u001b[0m",
      "\u001b[0;31mKeyboardInterrupt\u001b[0m                         Traceback (most recent call last)",
      "\u001b[0;32m<ipython-input-38-7a001445ce07>\u001b[0m in \u001b[0;36m<module>\u001b[0;34m\u001b[0m\n\u001b[0;32m----> 1\u001b[0;31m \u001b[0mintervals\u001b[0m \u001b[0;34m=\u001b[0m \u001b[0mdiscrepancies_intervals\u001b[0m\u001b[0;34m.\u001b[0m\u001b[0mget_discrepancies_intervals\u001b[0m\u001b[0;34m(\u001b[0m\u001b[0mp2g\u001b[0m\u001b[0;34m.\u001b[0m\u001b[0mG\u001b[0m\u001b[0;34m)\u001b[0m\u001b[0;34m\u001b[0m\u001b[0;34m\u001b[0m\u001b[0m\n\u001b[0m\u001b[1;32m      2\u001b[0m \u001b[0mlen\u001b[0m\u001b[0;34m(\u001b[0m\u001b[0mintervals\u001b[0m\u001b[0;34m)\u001b[0m\u001b[0;34m\u001b[0m\u001b[0;34m\u001b[0m\u001b[0m\n",
      "\u001b[0;32m~/Documents/research/articles/discrepancy/discrepancies-in-machine-learning/discrepancies/discrepancies_intervals.py\u001b[0m in \u001b[0;36mget_discrepancies_intervals\u001b[0;34m(G)\u001b[0m\n\u001b[1;32m    181\u001b[0m \u001b[0;32mdef\u001b[0m \u001b[0mget_discrepancies_intervals\u001b[0m\u001b[0;34m(\u001b[0m\u001b[0mG\u001b[0m\u001b[0;34m)\u001b[0m\u001b[0;34m:\u001b[0m\u001b[0;34m\u001b[0m\u001b[0;34m\u001b[0m\u001b[0m\n\u001b[1;32m    182\u001b[0m \u001b[0;34m\u001b[0m\u001b[0m\n\u001b[0;32m--> 183\u001b[0;31m     \u001b[0mall_paths\u001b[0m \u001b[0;34m=\u001b[0m \u001b[0mget_all_refined_paths\u001b[0m\u001b[0;34m(\u001b[0m\u001b[0mG\u001b[0m\u001b[0;34m)\u001b[0m\u001b[0;34m\u001b[0m\u001b[0;34m\u001b[0m\u001b[0m\n\u001b[0m\u001b[1;32m    184\u001b[0m     \u001b[0mintervals\u001b[0m \u001b[0;34m=\u001b[0m \u001b[0;34m[\u001b[0m\u001b[0;34m]\u001b[0m\u001b[0;34m\u001b[0m\u001b[0;34m\u001b[0m\u001b[0m\n\u001b[1;32m    185\u001b[0m     \u001b[0;31m# For every refined paths\u001b[0m\u001b[0;34m\u001b[0m\u001b[0;34m\u001b[0m\u001b[0;34m\u001b[0m\u001b[0m\n",
      "\u001b[0;32m~/Documents/research/articles/discrepancy/discrepancies-in-machine-learning/discrepancies/discrepancies_intervals.py\u001b[0m in \u001b[0;36mget_all_refined_paths\u001b[0;34m(G)\u001b[0m\n\u001b[1;32m     75\u001b[0m \u001b[0;34m\u001b[0m\u001b[0m\n\u001b[1;32m     76\u001b[0m             \u001b[0;31m# Make sure this refined path (or its reverse) is not already in the all_path_list\u001b[0m\u001b[0;34m\u001b[0m\u001b[0;34m\u001b[0m\u001b[0;34m\u001b[0m\u001b[0m\n\u001b[0;32m---> 77\u001b[0;31m             \u001b[0;32mif\u001b[0m \u001b[0mp\u001b[0m \u001b[0;32mnot\u001b[0m \u001b[0;32min\u001b[0m \u001b[0mall_paths_list\u001b[0m \u001b[0;32mor\u001b[0m \u001b[0mp\u001b[0m\u001b[0;34m[\u001b[0m\u001b[0;34m:\u001b[0m\u001b[0;34m:\u001b[0m\u001b[0;34m-\u001b[0m\u001b[0;36m1\u001b[0m\u001b[0;34m]\u001b[0m \u001b[0;32mnot\u001b[0m \u001b[0;32min\u001b[0m \u001b[0mall_paths_list\u001b[0m\u001b[0;34m:\u001b[0m\u001b[0;34m\u001b[0m\u001b[0;34m\u001b[0m\u001b[0m\n\u001b[0m\u001b[1;32m     78\u001b[0m \u001b[0;34m\u001b[0m\u001b[0m\n\u001b[1;32m     79\u001b[0m                 \u001b[0;31m# Make sure the refined path cross an area of discrepancies or at least its X_train nodes have opposite predictions\u001b[0m\u001b[0;34m\u001b[0m\u001b[0;34m\u001b[0m\u001b[0;34m\u001b[0m\u001b[0m\n",
      "\u001b[0;31mKeyboardInterrupt\u001b[0m: "
     ]
    }
   ],
   "source": [
    "intervals = discrepancies_intervals.get_discrepancies_intervals(p2g.G)\n",
    "len(intervals)"
   ]
  },
  {
   "cell_type": "code",
   "execution_count": null,
   "id": "bridal-dividend",
   "metadata": {},
   "outputs": [],
   "source": [
    "X = X_train.copy().values\n",
    "x_min = X[:,0].min()\n",
    "x_max = X[:,0].max()\n",
    "y_min = X[:,1].min()\n",
    "y_max = X[:,1].max()\n",
    "x_step = y_step = 0.005\n",
    "\n",
    "x = np.arange(x_min, x_max, x_step)\n",
    "y = np.arange(y_min, y_max, y_step)\n",
    "xx, yy = np.meshgrid(x, y)\n",
    "\n",
    "X_tmp = np.concatenate((xx.reshape(-1,1),yy.reshape(-1,1)), axis=1)\n",
    "X_tmp = pd.DataFrame(X_tmp)\n",
    "X_tmp.columns = ['Feature 1', 'Feature 2']\n",
    "\n",
    "#colors = [(round(a[0], 2), round(a[1], 2), round(a[2], 2), 0) for a in list(sns.color_palette())]#['blue', 'orange', 'green', 'red', 'purple', 'brown', 'pink', 'gray', 'olive', 'cyan']\n",
    "colors = ['blue', 'orange', 'green', 'red', 'purple', 'brown', 'pink', 'gray', 'olive', 'cyan']"
   ]
  },
  {
   "cell_type": "markdown",
   "id": "quality-oasis",
   "metadata": {},
   "source": [
    "Age is much more subject to disagreement among classifiers than e.g. captial-gain"
   ]
  },
  {
   "cell_type": "code",
   "execution_count": null,
   "id": "executed-desire",
   "metadata": {},
   "outputs": [],
   "source": [
    "sns.set_context('notebook')\n",
    "sns.set_style('darkgrid')\n",
    "\n",
    "plt.figure(figsize=(8,6))\n",
    "sns.scatterplot(x=X_train.iloc[:, 0], y=X_train.iloc[:, 1], hue=y_train)\n",
    "\n",
    "preds = pool1.predict(X_tmp)\n",
    "plots = []\n",
    "i = 0\n",
    "for p in range(preds.shape[1]):\n",
    "    #preds = pool1.models.predict(X_tmp, model=p)\n",
    "    preds_m = preds.values[:, p]\n",
    "    preds_m = preds_m.reshape((xx.shape[0], yy.shape[1]))\n",
    "    tmp = plt.contour(xx, yy, preds_m, colors=colors[i])\n",
    "    plots.append(tmp)\n",
    "    i += 1\n",
    "\n",
    "\n",
    "contours = [p.legend_elements()[0][0] for p in plots]\n",
    "plt.legend(contours, preds.columns, bbox_to_anchor=(0, 1), loc='upper left', ncol=1)\n",
    "plt.tight_layout()"
   ]
  },
  {
   "cell_type": "code",
   "execution_count": null,
   "id": "federal-benchmark",
   "metadata": {},
   "outputs": [],
   "source": [
    "global_interval_coord = []\n",
    "for di in intervals:\n",
    "    interval_coord = np.array((di.border_features.iloc[0] - di.border_features.iloc[1]).abs())\n",
    "    global_interval_coord.append(interval_coord)\n",
    "global_interval_coord = np.array(global_interval_coord)\n",
    "global_interval_coord = pd.DataFrame(global_interval_coord, columns = X_train.columns)\n"
   ]
  },
  {
   "cell_type": "code",
   "execution_count": 9,
   "id": "ongoing-peace",
   "metadata": {},
   "outputs": [
    {
     "data": {
      "text/plain": [
       "<Figure size 576x432 with 0 Axes>"
      ]
     },
     "metadata": {},
     "output_type": "display_data"
    }
   ],
   "source": [
    "sns.set_context('notebook')\n",
    "sns.set_style('darkgrid')\n",
    "\n",
    "plt.figure(figsize=(8,6))\n",
    "\n",
    "preds = pool1.predict(X_tmp)\n"
   ]
  },
  {
   "cell_type": "code",
   "execution_count": null,
   "id": "atlantic-planner",
   "metadata": {},
   "outputs": [],
   "source": [
    "plots = []\n",
    "i = 0\n",
    "for p in range(preds.shape[1]):\n",
    "    #preds = pool1.models.predict(X_tmp, model=p)\n",
    "    preds_m = preds.values[:, p]\n",
    "    preds_m = preds_m.reshape((xx.shape[0], yy.shape[1]))\n",
    "    tmp = plt.contour(xx, yy, preds_m, colors=colors[i], alpha=0.1)\n",
    "    plots.append(tmp)\n",
    "    i += 1\n",
    "\n",
    "contours = [p.legend_elements()[0][0] for p in plots]\n",
    "plt.legend(contours, preds.columns, bbox_to_anchor=(0, 1), loc='upper left', ncol=1)\n",
    "\n",
    "sns.scatterplot(x=X_train.iloc[:, 0], y=X_train.iloc[:, 1], hue=y_train)\n",
    "\n",
    "\n",
    "#lnodes = p2g.get_nodes()#discrepancies=True)\n",
    "#discnodes = p2g.get_nodes_attributes(lnodes)\n",
    "#sns.scatterplot(discnodes[0].iloc[:, 0], discnodes[0].iloc[:, 1], color='black', alpha=0.2)\n",
    "\n",
    "di = np.array([di.border_features.values for di in intervals]).reshape(386*2, 2)\n",
    "#sns.scatterplot(x=di[:,0], y=di[:,1], color=\"lime\", s=100)\n",
    "\n",
    "for interval in intervals:\n",
    "    di = interval.border_features\n",
    "    plt.plot(di.iloc[:, 0], di.iloc[:, 1], marker =None, color='red')\n",
    "\n",
    "\n",
    "plt.tight_layout()"
   ]
  },
  {
   "cell_type": "code",
   "execution_count": 27,
   "id": "electrical-participant",
   "metadata": {},
   "outputs": [
    {
     "data": {
      "text/plain": [
       "array([[ 1.06847517, -0.03791628],\n",
       "       [ 0.8422042 , -0.07338115],\n",
       "       [ 1.14523738,  0.78854959],\n",
       "       ...,\n",
       "       [-1.01024391, -0.18826775],\n",
       "       [ 1.05383581, -0.0589028 ],\n",
       "       [ 0.8422042 , -0.07338115]])"
      ]
     },
     "execution_count": 27,
     "metadata": {},
     "output_type": "execute_result"
    }
   ],
   "source": []
  },
  {
   "cell_type": "code",
   "execution_count": 28,
   "id": "right-chosen",
   "metadata": {},
   "outputs": [
    {
     "data": {
      "text/plain": [
       "array([[[ 1.06847517, -0.03791628],\n",
       "        [ 0.8422042 , -0.07338115]],\n",
       "\n",
       "       [[ 1.14523738,  0.78854959],\n",
       "        [ 1.27259309,  0.74891253]],\n",
       "\n",
       "       [[ 1.09644178, -0.11350199],\n",
       "        [ 0.8422042 , -0.07338115]],\n",
       "\n",
       "       ...,\n",
       "\n",
       "       [[ 0.23622733,  0.11613948],\n",
       "        [ 0.23758813,  0.0671155 ]],\n",
       "\n",
       "       [[-1.08711261, -0.1721495 ],\n",
       "        [-1.01024391, -0.18826775]],\n",
       "\n",
       "       [[ 1.05383581, -0.0589028 ],\n",
       "        [ 0.8422042 , -0.07338115]]])"
      ]
     },
     "execution_count": 28,
     "metadata": {},
     "output_type": "execute_result"
    }
   ],
   "source": [
    "np.array([di.border_features.values for di in intervals])"
   ]
  },
  {
   "cell_type": "code",
   "execution_count": null,
   "id": "referenced-communications",
   "metadata": {},
   "outputs": [],
   "source": []
  },
  {
   "cell_type": "code",
   "execution_count": null,
   "id": "wicked-hartford",
   "metadata": {},
   "outputs": [],
   "source": []
  },
  {
   "cell_type": "code",
   "execution_count": null,
   "id": "forced-steam",
   "metadata": {},
   "outputs": [],
   "source": []
  },
  {
   "cell_type": "markdown",
   "id": "mediterranean-basement",
   "metadata": {},
   "source": []
  },
  {
   "cell_type": "code",
   "execution_count": null,
   "id": "increasing-revelation",
   "metadata": {},
   "outputs": [],
   "source": [
    "sns.scatterplot(discnodes[0].iloc[:, 0], discnodes[0].iloc[:, 1])"
   ]
  },
  {
   "cell_type": "code",
   "execution_count": null,
   "id": "automated-asthma",
   "metadata": {},
   "outputs": [],
   "source": [
    "pool1.predict_discrepancies(di.border_features)"
   ]
  },
  {
   "cell_type": "code",
   "execution_count": null,
   "id": "horizontal-astrology",
   "metadata": {},
   "outputs": [],
   "source": [
    "global_interval_coord = []\n",
    "for di in intervals:\n",
    "    interval_coord = np.array((di.border_features.iloc[0] - di.border_features.iloc[1]).abs())\n",
    "    global_interval_coord.append(interval_coord)\n",
    "global_interval_coord = np.array(global_interval_coord)\n",
    "global_interval_coord = pd.DataFrame(global_interval_coord, columns = X_train.columns)\n",
    "\n",
    "from matplotlib.pyplot import figure\n",
    "figure(figsize=(8, 6))\n",
    "sns.set_style()\n",
    "ax = sns.barplot(data=global_interval_coord.iloc[:, :5], ci=95, palette=\"Set2\")\n",
    "ax.set_xticklabels(X_train.columns[:5],rotation=30)\n",
    "plt.tight_layout()\n",
    "plt.title(\"Average change among continuous features\")\n",
    "\n"
   ]
  },
  {
   "cell_type": "code",
   "execution_count": null,
   "id": "republican-persian",
   "metadata": {},
   "outputs": [],
   "source": [
    "global_interval_coord = []\n",
    "for di in intervals:\n",
    "    interval_coord = np.array((di.border_features.iloc[0] - di.border_features.iloc[1]).abs())\n",
    "    global_interval_coord.append(interval_coord > 0.0)\n",
    "global_interval_coord = np.array(global_interval_coord)\n",
    "global_interval_coord = pd.DataFrame(global_interval_coord, columns = X_train.columns)\n",
    "\n",
    "\n",
    "from matplotlib.pyplot import figure\n",
    "figure(figsize=(20, 6))\n",
    "sns.set_style()\n",
    "ax = sns.barplot(data=global_interval_coord, ci=95, palette=\"Set2\")\n",
    "ax.set_xticklabels(X_train.columns,rotation=30)\n",
    "plt.tight_layout()\n",
    "plt.title('Average number of intervals implying a change among each feature')\n"
   ]
  },
  {
   "cell_type": "markdown",
   "id": "established-intersection",
   "metadata": {},
   "source": [
    "on a l'impression que les catégorielles interviennent moins mais en fait c'est logique;... on peut pas vraiment les comparer tel quel. (un changement peut être minime mais présent chez les continues). Un biais potentiel aussi: le fait que les modalités ne soient pas également représentées."
   ]
  },
  {
   "cell_type": "code",
   "execution_count": null,
   "id": "north-springer",
   "metadata": {},
   "outputs": [],
   "source": []
  },
  {
   "cell_type": "code",
   "execution_count": null,
   "id": "laden-painting",
   "metadata": {},
   "outputs": [],
   "source": []
  },
  {
   "cell_type": "code",
   "execution_count": null,
   "id": "acquired-soldier",
   "metadata": {},
   "outputs": [],
   "source": []
  },
  {
   "cell_type": "code",
   "execution_count": null,
   "id": "patient-resistance",
   "metadata": {},
   "outputs": [],
   "source": []
  },
  {
   "cell_type": "code",
   "execution_count": null,
   "id": "reduced-wiring",
   "metadata": {},
   "outputs": [],
   "source": []
  },
  {
   "cell_type": "code",
   "execution_count": null,
   "id": "musical-transformation",
   "metadata": {},
   "outputs": [],
   "source": []
  },
  {
   "cell_type": "code",
   "execution_count": null,
   "id": "military-stomach",
   "metadata": {},
   "outputs": [],
   "source": []
  },
  {
   "cell_type": "markdown",
   "id": "desirable-bandwidth",
   "metadata": {},
   "source": [
    "### Position (dans le feature space) des zones de discrepancy\n",
    "\n",
    "Où sont les zones de discrepancy ? Clustering des noeuds pour le comprendre"
   ]
  },
  {
   "cell_type": "code",
   "execution_count": null,
   "id": "former-trustee",
   "metadata": {
    "scrolled": false
   },
   "outputs": [],
   "source": [
    "from sklearn.cluster import KMeans\n",
    "\n",
    "oneborder = np.array([di.border_features.iloc[0] for di in intervals])\n",
    "coord_intervals = []\n",
    "for di in intervals:\n",
    "    a, b = di.border_features.iloc[0], di.border_features.iloc[1]\n",
    "    if a[0] > 0:\n",
    "        interval_coord = a - b\n",
    "    else:\n",
    "        interval_coord = a - b\n",
    "    coord_intervals.append(interval_coord)\n",
    "coord_intervals = np.array(coord_intervals)\n",
    "coord_intervals = pd.DataFrame(coord_intervals, columns=X_train.columns)\n",
    "\n",
    "nodes = p2g.get_nodes_attributes(p2g.get_nodes(discrepancies=True))[0]\n",
    "\n",
    "clusters_nodes = KMeans(n_clusters=15, n_jobs=-1).fit_predict(nodes)\n",
    "\n",
    "\n",
    "clusters = clusters_nodes.copy()\n",
    "data = nodes.copy()\n",
    "data[\"cluster\"] = clusters\n",
    "print(data.groupby(\"cluster\").agg(['mean', 'count']))\n",
    "figure(figsize=(20, 6))\n",
    "sns.catplot(data=data, col=\"cluster\", kind=\"box\", col_wrap=1)"
   ]
  },
  {
   "cell_type": "code",
   "execution_count": null,
   "id": "precious-manitoba",
   "metadata": {},
   "outputs": [],
   "source": []
  },
  {
   "cell_type": "markdown",
   "id": "unsigned-waste",
   "metadata": {},
   "source": []
  },
  {
   "cell_type": "markdown",
   "id": "wicked-forward",
   "metadata": {},
   "source": [
    "### Comparaison avec et sans catégorielles: temps, nombre de noeuds"
   ]
  },
  {
   "cell_type": "code",
   "execution_count": null,
   "id": "parental-marketplace",
   "metadata": {},
   "outputs": [],
   "source": [
    "%%time\n",
    "X_train, X_test, y_train, y_test, scaler, feature_names, target_names, cat_names = datasets.get_dataset(dataset='adult')\n",
    "pool1 = pool.BasicPool()\n",
    "pool1 = pool1.fit(X_train, y_train)\n",
    "\n",
    "preds = pool1.predict(X_test)\n",
    "from sklearn.metrics import f1_score\n",
    "print({c: f1_score(y_test, preds[c]) for c in preds.columns})\n",
    "\n",
    "\n",
    "p2g = pool2graph.pool2graph(X_train, y_train, pool1, k_init=10)\n",
    "p2g.fit(max_epochs=4)\n",
    "print(len(p2g.G.nodes))"
   ]
  },
  {
   "cell_type": "code",
   "execution_count": null,
   "id": "qualified-sarah",
   "metadata": {},
   "outputs": [],
   "source": [
    "%%time\n",
    "X_train, X_test, y_train, y_test, scaler, feature_names, target_names, cat_names = datasets.get_dataset(dataset='adult-cath')\n",
    "pool1 = pool.BasicPool()\n",
    "pool1 = pool1.fit(X_train, y_train)\n",
    "\n",
    "preds = pool1.predict(X_test)\n",
    "from sklearn.metrics import f1_score\n",
    "print({c: f1_score(y_test, preds[c]) for c in preds.columns})\n",
    "\n",
    "\n",
    "p2g = pool2graph_cat.pool2graph(X_train, y_train, pool1, k_init=10, categorical_names=cat_names)\n",
    "p2g.fit(max_epochs=4)\n",
    "print(len(p2g.G.nodes))"
   ]
  },
  {
   "cell_type": "markdown",
   "id": "288f810d",
   "metadata": {},
   "source": [
    "# On s'amuse...\n"
   ]
  },
  {
   "cell_type": "code",
   "execution_count": 234,
   "id": "checked-schema",
   "metadata": {},
   "outputs": [
    {
     "name": "stderr",
     "output_type": "stream",
     "text": [
      "INFO:root:### EPOCH #1\n"
     ]
    },
    {
     "name": "stdout",
     "output_type": "stream",
     "text": [
      "(354, 13) 0.559322033898305\n",
      "{'SVMrbf': 0.9400000000000001, 'LR': 0.9300000000000002}\n"
     ]
    },
    {
     "name": "stderr",
     "output_type": "stream",
     "text": [
      "INFO:root:### EPOCH #2\n",
      "INFO:root:### EPOCH #3\n"
     ]
    },
    {
     "name": "stdout",
     "output_type": "stream",
     "text": [
      "4450\n",
      "0.35294117647058826\n"
     ]
    }
   ],
   "source": [
    "# Get data and fit a pool of classifiers on it\n",
    "X_train, X_test, y_train, y_test, scaler, feature_names, target_names, cat_names = datasets.get_dataset(dataset='boston', n_samples=3000, noise=0.4, test_size=0.3)\n",
    "print(X_train.shape, y_train.mean())\n",
    "\n",
    "pool1 = pool.BasicPool([\"LR\", \"SVMrbf\"]) # TODO: other pool, better one\n",
    "pool1 = pool1.fit(X_train, y_train)\n",
    "\n",
    "preds = pool1.predict(X_test)\n",
    "from sklearn.metrics import f1_score\n",
    "print({c: f1_score(y_test, preds[c]) for c in preds.columns})\n",
    "p2g = pool2graph.pool2graph(X_train, y_train, pool1, k_init=10)\n",
    "p2g.fit(max_epochs=3)\n",
    "\n",
    "lnodes = p2g.get_nodes()\n",
    "nodes = p2g.get_nodes_attributes(lnodes)[0]\n",
    "new_nodes = nodes[nodes.index < 0]\n",
    "n_generated = new_nodes.shape[0]\n",
    "print(n_generated)\n",
    "disc = pool1.predict_discrepancies(nodes)\n",
    "\n",
    "from sklearn.neighbors import KNeighborsClassifier\n",
    "\n",
    "kn = KNeighborsClassifier(n_neighbors=5).fit(nodes, disc)\n",
    "f1  = f1_score(pool1.predict_discrepancies(X_test), kn.predict(X_test))\n",
    "print(f1)"
   ]
  },
  {
   "cell_type": "code",
   "execution_count": 235,
   "id": "1c5160a2",
   "metadata": {},
   "outputs": [
    {
     "data": {
      "text/plain": [
       "Text(0.5, 1.0, 'Boston dataset. K=1 for prediction')"
      ]
     },
     "execution_count": 235,
     "metadata": {},
     "output_type": "execute_result"
    },
    {
     "data": {
      "image/png": "[encoded data removed]",
      "text/plain": [
       "<Figure size 432x288 with 1 Axes>"
      ]
     },
     "metadata": {},
     "output_type": "display_data"
    }
   ],
   "source": [
    "#bleu= K init 1\n",
    "#sns.scatterplot(x=[1/9.0], y=[0.0], color='blue')\n",
    "sns.scatterplot(x=[1/112.0], y=[0.0], color='blue')\n",
    "sns.scatterplot(x=[1/365.0], y=[0.11], color='blue')\n",
    "sns.scatterplot(x=[1/707.0], y=[0.21], color='blue')\n",
    "sns.scatterplot(x=[1/1132.0], y=[0.25], color='blue')\n",
    "\n",
    "#rouge= K init 2\n",
    "#sns.scatterplot(x=[1/16.0], y=[0.0], color='red')\n",
    "sns.scatterplot(x=[1/255.0], y=[0.0], color='red')\n",
    "sns.scatterplot(x=[1/783.0], y=[0.0], color='red')\n",
    "sns.scatterplot(x=[1/1485.0], y=[0.15], color='red')\n",
    "sns.scatterplot(x=[1/2367.0], y=[0.22], color='red')\n",
    "\n",
    "#vert= K init 3\n",
    "#sns.scatterplot(x=[1/23.0], y=[0.0], color='green')\n",
    "sns.scatterplot(x=[1/397.0], y=[0.0], color='green')\n",
    "sns.scatterplot(x=[1/1195.0], y=[0.0], color='green')\n",
    "sns.scatterplot(x=[1/2260.0], y=[0.25], color='green')\n",
    "sns.scatterplot(x=[1/3638.0], y=[0.22], color='green')\n",
    "\n",
    "plt.title('Boston dataset. K=1 for prediction')"
   ]
  },
  {
   "cell_type": "code",
   "execution_count": 244,
   "id": "ebba7a87",
   "metadata": {},
   "outputs": [
    {
     "data": {
      "text/html": [
       "<div>\n",
       "<style scoped>\n",
       "    .dataframe tbody tr th:only-of-type {\n",
       "        vertical-align: middle;\n",
       "    }\n",
       "\n",
       "    .dataframe tbody tr th {\n",
       "        vertical-align: top;\n",
       "    }\n",
       "\n",
       "    .dataframe thead th {\n",
       "        text-align: right;\n",
       "    }\n",
       "</style>\n",
       "<table border=\"1\" class=\"dataframe\">\n",
       "  <thead>\n",
       "    <tr style=\"text-align: right;\">\n",
       "      <th></th>\n",
       "      <th>0</th>\n",
       "    </tr>\n",
       "  </thead>\n",
       "  <tbody>\n",
       "    <tr>\n",
       "      <th>0</th>\n",
       "      <td>1</td>\n",
       "    </tr>\n",
       "    <tr>\n",
       "      <th>1</th>\n",
       "      <td>2</td>\n",
       "    </tr>\n",
       "  </tbody>\n",
       "</table>\n",
       "</div>"
      ],
      "text/plain": [
       "   0\n",
       "0  1\n",
       "1  2"
      ]
     },
     "execution_count": 244,
     "metadata": {},
     "output_type": "execute_result"
    }
   ],
   "source": [
    "pd.DataFrame([1, 2])"
   ]
  }
 ],
 "metadata": {
  "kernelspec": {
   "display_name": "Python 3 (ipykernel)",
   "language": "python",
   "name": "python3"
  },
  "language_info": {
   "codemirror_mode": {
    "name": "ipython",
    "version": 3
   },
   "file_extension": ".py",
   "mimetype": "text/x-python",
   "name": "python",
   "nbconvert_exporter": "python",
   "pygments_lexer": "ipython3",
   "version": "3.9.7"
  }
 },
 "nbformat": 4,
 "nbformat_minor": 5
}
