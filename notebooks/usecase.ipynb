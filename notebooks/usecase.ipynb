{
 "metadata": {
  "language_info": {
   "codemirror_mode": {
    "name": "ipython",
    "version": 3
   },
   "file_extension": ".py",
   "mimetype": "text/x-python",
   "name": "python",
   "nbconvert_exporter": "python",
   "pygments_lexer": "ipython3",
   "version": "3.9.1-final"
  },
  "orig_nbformat": 2,
  "kernelspec": {
   "name": "python3",
   "display_name": "Python 3.9.1 64-bit ('py39': conda)",
   "metadata": {
    "interpreter": {
     "hash": "c31b07e5c801ecdd960d4cec915e71eb5a3758b16324c28df609a438514f843f"
    }
   }
  }
 },
 "nbformat": 4,
 "nbformat_minor": 2,
 "cells": [
  {
   "cell_type": "code",
   "execution_count": 1,
   "metadata": {},
   "outputs": [
    {
     "output_type": "stream",
     "name": "stderr",
     "text": [
      "/home/ubuntu/miniconda3/envs/py39/lib/python3.9/site-packages/pyparsing.py:3190: FutureWarning: Possible set intersection at position 3\n  self.re = re.compile(self.reString)\n"
     ]
    }
   ],
   "source": [
    "import numpy as np\n",
    "import pandas as pd\n",
    "\n",
    "import networkx as nx\n",
    "\n",
    "import sys; sys.path.insert(0, '..') # add parent folder path where discrepancies folder is\n",
    "\n",
    "from discrepancies import datasets, pool, pool2graph, evaluation, discrepancies_intervals\n",
    "\n",
    "RANDOM_STATE = 42\n",
    "\n",
    "import matplotlib.pyplot as plt\n",
    "%matplotlib inline"
   ]
  },
  {
   "cell_type": "code",
   "execution_count": null,
   "metadata": {},
   "outputs": [],
   "source": []
  },
  {
   "cell_type": "code",
   "execution_count": 2,
   "metadata": {},
   "outputs": [],
   "source": [
    "# Get data and fit a pool of classifiers on it\n",
    "\n",
    "#X_train, X_test, y_train, y_test, scaler, feature_names, target_names = datasets.get_dataset(n_samples=1000, noise=0.3)\n",
    "X_train, X_test, y_train, y_test, scaler, feature_names, target_names = datasets.get_dataset(dataset='breast-cancer')\n",
    "\n",
    "pool1 = pool.AutoSklearnPool(max_delta_accuracies=0.05, time_left_for_this_task=30, n_jobs=14)\n",
    "pool1 = pool1.fit(X_train, y_train)"
   ]
  },
  {
   "cell_type": "code",
   "execution_count": 3,
   "metadata": {},
   "outputs": [
    {
     "output_type": "execute_result",
     "data": {
      "text/plain": [
       "{'pool_predictions': autosklearn#1    0\n",
       " autosklearn#2    0\n",
       " autosklearn#3    0\n",
       " autosklearn#4    1\n",
       " autosklearn#5    0\n",
       " autosklearn#6    0\n",
       " autosklearn#7    0\n",
       " Name: 0, dtype: int32,\n",
       " 'features': mean radius                0.519236\n",
       " mean texture               0.115014\n",
       " mean perimeter             0.516081\n",
       " mean area                  0.404222\n",
       " mean smoothness            0.670779\n",
       " mean compactness           0.416336\n",
       " mean concavity             0.228566\n",
       " mean concave points        0.419408\n",
       " mean symmetry              0.189207\n",
       " mean fractal dimension     0.320446\n",
       " radius error               0.496753\n",
       " texture error              0.210918\n",
       " perimeter error            0.273748\n",
       " area error                 0.403587\n",
       " smoothness error          -0.627224\n",
       " compactness error          0.014041\n",
       " concavity error           -0.173049\n",
       " concave points error      -0.449085\n",
       " symmetry error             0.038740\n",
       " fractal dimension error    0.207556\n",
       " worst radius               0.312476\n",
       " worst texture             -0.184260\n",
       " worst perimeter            0.287216\n",
       " worst area                 0.206039\n",
       " worst smoothness          -0.198162\n",
       " worst compactness         -0.217736\n",
       " worst concavity           -0.351328\n",
       " worst concave points      -0.211151\n",
       " worst symmetry            -0.399992\n",
       " worst fractal dimension   -0.064568\n",
       " Name: -1, dtype: float64,\n",
       " 'discrepancies': 1,\n",
       " 'y_true': None,\n",
       " 'ground_truth': False,\n",
       " 'Xtrain_index': -1}"
      ]
     },
     "metadata": {},
     "execution_count": 3
    }
   ],
   "source": [
    "p2g = pool2graph.pool2graph(X_train, y_train, pool1, k_init=10)\n",
    "p2g.fit(max_epochs=10)\n",
    "\n",
    "p2g.G.nodes(data=True)[-1]"
   ]
  },
  {
   "cell_type": "code",
   "execution_count": 5,
   "metadata": {},
   "outputs": [],
   "source": [
    "intervals = discrepancies_intervals.get_discrepancies_intervals(p2g.G)"
   ]
  },
  {
   "cell_type": "code",
   "execution_count": 64,
   "metadata": {},
   "outputs": [],
   "source": [
    "discr = [p2g.pool.predict([x]) for i,x in X_test.iterrows()]"
   ]
  },
  {
   "cell_type": "code",
   "execution_count": 72,
   "metadata": {},
   "outputs": [
    {
     "output_type": "execute_result",
     "data": {
      "text/plain": [
       "array([  8,  13,  20,  36,  44,  53,  77,  82,  91, 105, 108, 112, 120,\n",
       "       138, 148, 150, 164, 173, 181, 186])"
      ]
     },
     "metadata": {},
     "execution_count": 72
    }
   ],
   "source": [
    "tmp = [d.loc[0] for d in discr]\n",
    "np.array(range(len(tmp)))[np.array(tmp)==1]"
   ]
  },
  {
   "cell_type": "code",
   "execution_count": 79,
   "metadata": {},
   "outputs": [],
   "source": [
    "x = X_test.loc[[36]]\n",
    "k = 10\n",
    "\n",
    "dists = []\n",
    "for di in intervals:\n",
    "    dists.append( di.get_min_dist_to_point(x) )\n",
    "\n",
    "borders, train = {}, {}\n",
    "i = 0\n",
    "for di in np.array(intervals)[np.argsort(dists)][:k]:\n",
    "    df = di.border_features\n",
    "    df = pd.DataFrame(df)\n",
    "    borders[i] = df \n",
    "\n",
    "    df = [p2g.G.nodes(data=True)[di.X_train_nodes[i]]['features'] for i in [0,1]]\n",
    "    df = pd.DataFrame(df)\n",
    "    train[i] = df\n",
    "    i += 1\n",
    "    \n"
   ]
  },
  {
   "cell_type": "code",
   "execution_count": 80,
   "metadata": {},
   "outputs": [
    {
     "output_type": "execute_result",
     "data": {
      "text/plain": [
       "   autosklearn#1  autosklearn#2  autosklearn#3  autosklearn#4  autosklearn#5  \\\n",
       "0              0              0              1              1              0   \n",
       "\n",
       "   autosklearn#6  autosklearn#7  \n",
       "0              0              0  "
      ],
      "text/html": "<div>\n<style scoped>\n    .dataframe tbody tr th:only-of-type {\n        vertical-align: middle;\n    }\n\n    .dataframe tbody tr th {\n        vertical-align: top;\n    }\n\n    .dataframe thead th {\n        text-align: right;\n    }\n</style>\n<table border=\"1\" class=\"dataframe\">\n  <thead>\n    <tr style=\"text-align: right;\">\n      <th></th>\n      <th>autosklearn#1</th>\n      <th>autosklearn#2</th>\n      <th>autosklearn#3</th>\n      <th>autosklearn#4</th>\n      <th>autosklearn#5</th>\n      <th>autosklearn#6</th>\n      <th>autosklearn#7</th>\n    </tr>\n  </thead>\n  <tbody>\n    <tr>\n      <th>0</th>\n      <td>0</td>\n      <td>0</td>\n      <td>1</td>\n      <td>1</td>\n      <td>0</td>\n      <td>0</td>\n      <td>0</td>\n    </tr>\n  </tbody>\n</table>\n</div>"
     },
     "metadata": {},
     "execution_count": 80
    }
   ],
   "source": [
    "p2g.pool.predict(x, mode='classification')"
   ]
  },
  {
   "cell_type": "code",
   "execution_count": 84,
   "metadata": {},
   "outputs": [
    {
     "output_type": "execute_result",
     "data": {
      "text/plain": [
       "    mean radius  mean texture  mean perimeter  mean area  mean smoothness  \\\n",
       "36     0.512252      0.949774        0.421161    0.37373        -1.013152   \n",
       "\n",
       "    mean compactness  mean concavity  mean concave points  mean symmetry  \\\n",
       "36         -0.715532       -0.709749            -0.408389      -1.021174   \n",
       "\n",
       "    mean fractal dimension  ...  worst radius  worst texture  worst perimeter  \\\n",
       "36               -0.784477  ...       0.59333       1.379197         0.486003   \n",
       "\n",
       "    worst area  worst smoothness  worst compactness  worst concavity  \\\n",
       "36    0.456846          -0.59142           -0.62697        -0.622919   \n",
       "\n",
       "    worst concave points  worst symmetry  worst fractal dimension  \n",
       "36             -0.222329        0.094793                 0.055796  \n",
       "\n",
       "[1 rows x 30 columns]"
      ],
      "text/html": "<div>\n<style scoped>\n    .dataframe tbody tr th:only-of-type {\n        vertical-align: middle;\n    }\n\n    .dataframe tbody tr th {\n        vertical-align: top;\n    }\n\n    .dataframe thead th {\n        text-align: right;\n    }\n</style>\n<table border=\"1\" class=\"dataframe\">\n  <thead>\n    <tr style=\"text-align: right;\">\n      <th></th>\n      <th>mean radius</th>\n      <th>mean texture</th>\n      <th>mean perimeter</th>\n      <th>mean area</th>\n      <th>mean smoothness</th>\n      <th>mean compactness</th>\n      <th>mean concavity</th>\n      <th>mean concave points</th>\n      <th>mean symmetry</th>\n      <th>mean fractal dimension</th>\n      <th>...</th>\n      <th>worst radius</th>\n      <th>worst texture</th>\n      <th>worst perimeter</th>\n      <th>worst area</th>\n      <th>worst smoothness</th>\n      <th>worst compactness</th>\n      <th>worst concavity</th>\n      <th>worst concave points</th>\n      <th>worst symmetry</th>\n      <th>worst fractal dimension</th>\n    </tr>\n  </thead>\n  <tbody>\n    <tr>\n      <th>36</th>\n      <td>0.512252</td>\n      <td>0.949774</td>\n      <td>0.421161</td>\n      <td>0.37373</td>\n      <td>-1.013152</td>\n      <td>-0.715532</td>\n      <td>-0.709749</td>\n      <td>-0.408389</td>\n      <td>-1.021174</td>\n      <td>-0.784477</td>\n      <td>...</td>\n      <td>0.59333</td>\n      <td>1.379197</td>\n      <td>0.486003</td>\n      <td>0.456846</td>\n      <td>-0.59142</td>\n      <td>-0.62697</td>\n      <td>-0.622919</td>\n      <td>-0.222329</td>\n      <td>0.094793</td>\n      <td>0.055796</td>\n    </tr>\n  </tbody>\n</table>\n<p>1 rows × 30 columns</p>\n</div>"
     },
     "metadata": {},
     "execution_count": 84
    }
   ],
   "source": [
    "x"
   ]
  },
  {
   "cell_type": "code",
   "execution_count": 97,
   "metadata": {},
   "outputs": [],
   "source": [
    "interval = 1\n",
    "cols = []\n",
    "length_interval = []\n",
    "for c in X_test.columns:\n",
    "    if (borders[interval].iloc[0].loc[c] <= x.iloc[0].loc[c] <= borders[interval].iloc[1].loc[c]) or (borders[interval].iloc[0].loc[c] >= x.iloc[0].loc[c] >= borders[interval].iloc[1].loc[c]):\n",
    "        cols.append(c)\n",
    "        tmp = np.abs(borders[interval].iloc[0].loc[c]-borders[interval].iloc[1].loc[c])\n",
    "        length_interval.append(tmp)"
   ]
  },
  {
   "cell_type": "code",
   "execution_count": 96,
   "metadata": {},
   "outputs": [
    {
     "output_type": "execute_result",
     "data": {
      "text/plain": [
       "['mean radius',\n",
       " 'mean perimeter',\n",
       " 'mean area',\n",
       " 'mean smoothness',\n",
       " 'mean compactness',\n",
       " 'mean concave points',\n",
       " 'mean symmetry',\n",
       " 'texture error',\n",
       " 'concave points error',\n",
       " 'worst texture',\n",
       " 'worst smoothness',\n",
       " 'worst concavity',\n",
       " 'worst concave points']"
      ]
     },
     "metadata": {},
     "execution_count": 96
    }
   ],
   "source": [
    "cols"
   ]
  },
  {
   "cell_type": "code",
   "execution_count": 98,
   "metadata": {},
   "outputs": [
    {
     "output_type": "execute_result",
     "data": {
      "text/plain": [
       "[0.522023217858636,\n",
       " 0.536209260594914,\n",
       " 0.5192779028664115,\n",
       " 0.7640847496026049,\n",
       " 0.5901598808513243,\n",
       " 0.8855811593849441,\n",
       " 0.46357951951387677,\n",
       " 0.15347122403280783,\n",
       " 0.3253122253380829,\n",
       " 0.27120356260829204,\n",
       " 0.5482928687282689,\n",
       " 0.8067741801521265,\n",
       " 0.7139580073258093]"
      ]
     },
     "metadata": {},
     "execution_count": 98
    }
   ],
   "source": [
    "length_interval"
   ]
  },
  {
   "source": [
    "## BOSTON"
   ],
   "cell_type": "markdown",
   "metadata": {}
  },
  {
   "cell_type": "code",
   "execution_count": null,
   "metadata": {},
   "outputs": [],
   "source": [
    "# Get data and fit a pool of classifiers on it\n",
    "\n",
    "#X_train, X_test, y_train, y_test, scaler, feature_names, target_names = datasets.get_dataset(n_samples=1000, noise=0.3)\n",
    "X_train, X_test, y_train, y_test, scaler, feature_names, target_names = datasets.get_dataset(dataset='boston')\n",
    "\n",
    "pool2 = pool.AutoSklearnPool(max_delta_accuracies=0.05, time_left_for_this_task=30, n_jobs=14)\n",
    "pool2 = pool1.fit(X_train, y_train)\n",
    "\n",
    "p2g2 = pool2graph.pool2graph(X_train, y_train, pool2, k_init=10)\n",
    "p2g2.fit(max_epochs=10)\n",
    "\n",
    "p2g2.G.nodes(data=True)[-1]"
   ]
  },
  {
   "cell_type": "code",
   "execution_count": 100,
   "metadata": {},
   "outputs": [],
   "source": [
    "discr = [p2g2.pool.predict([x]) for i,x in X_test.iterrows()]"
   ]
  },
  {
   "cell_type": "code",
   "execution_count": 101,
   "metadata": {},
   "outputs": [],
   "source": [
    "intervals = discrepancies_intervals.get_discrepancies_intervals(p2g2.G)"
   ]
  },
  {
   "cell_type": "code",
   "execution_count": 102,
   "metadata": {},
   "outputs": [
    {
     "output_type": "execute_result",
     "data": {
      "text/plain": [
       "array([  0,   8,  15,  23,  26,  30,  33,  44,  55,  58,  71,  73,  74,\n",
       "        82,  94,  96, 101, 104, 113, 122, 123, 131, 135, 142, 145, 152,\n",
       "       154, 157, 160, 163])"
      ]
     },
     "metadata": {},
     "execution_count": 102
    }
   ],
   "source": [
    "tmp = [d.loc[0] for d in discr]\n",
    "np.array(range(len(tmp)))[np.array(tmp)==1]"
   ]
  },
  {
   "cell_type": "code",
   "execution_count": 116,
   "metadata": {},
   "outputs": [
    {
     "output_type": "execute_result",
     "data": {
      "text/plain": [
       "   autosklearn#1  autosklearn#2  autosklearn#3  autosklearn#4  autosklearn#5  \\\n",
       "0              1              0              1              1              1   \n",
       "\n",
       "   autosklearn#6  \n",
       "0              0  "
      ],
      "text/html": "<div>\n<style scoped>\n    .dataframe tbody tr th:only-of-type {\n        vertical-align: middle;\n    }\n\n    .dataframe tbody tr th {\n        vertical-align: top;\n    }\n\n    .dataframe thead th {\n        text-align: right;\n    }\n</style>\n<table border=\"1\" class=\"dataframe\">\n  <thead>\n    <tr style=\"text-align: right;\">\n      <th></th>\n      <th>autosklearn#1</th>\n      <th>autosklearn#2</th>\n      <th>autosklearn#3</th>\n      <th>autosklearn#4</th>\n      <th>autosklearn#5</th>\n      <th>autosklearn#6</th>\n    </tr>\n  </thead>\n  <tbody>\n    <tr>\n      <th>0</th>\n      <td>1</td>\n      <td>0</td>\n      <td>1</td>\n      <td>1</td>\n      <td>1</td>\n      <td>0</td>\n    </tr>\n  </tbody>\n</table>\n</div>"
     },
     "metadata": {},
     "execution_count": 116
    }
   ],
   "source": [
    "x = X_test.loc[[33]]\n",
    "k = 10\n",
    "\n",
    "dists = []\n",
    "for di in intervals:\n",
    "    dists.append( di.get_min_dist_to_point(x) )\n",
    "\n",
    "borders, train = {}, {}\n",
    "i = 0\n",
    "for di in np.array(intervals)[np.argsort(dists)][:k]:\n",
    "    df = di.border_features\n",
    "    df = pd.DataFrame(df)\n",
    "    borders[i] = df \n",
    "\n",
    "    df = [p2g.G.nodes(data=True)[di.X_train_nodes[i]]['features'] for i in [0,1]]\n",
    "    df = pd.DataFrame(df)\n",
    "    train[i] = df\n",
    "    i += 1\n",
    "    \n",
    "p2g.pool.predict(x, mode='classification')\n"
   ]
  },
  {
   "cell_type": "code",
   "execution_count": null,
   "metadata": {},
   "outputs": [],
   "source": [
    "CRIM - per capita crime rate by town\n",
    "ZN - proportion of residential land zoned for lots over 25,000 sq.ft.\n",
    "INDUS - proportion of non-retail business acres per town.\n",
    "CHAS - Charles River dummy variable (1 if tract bounds river; 0 otherwise)\n",
    "NOX - nitric oxides concentration (parts per 10 million)\n",
    "RM - average number of rooms per dwelling\n",
    "AGE - proportion of owner-occupied units built prior to 1940\n",
    "DIS - weighted distances to five Boston employment centres\n",
    "RAD - index of accessibility to radial highways\n",
    "TAX - full-value property-tax rate per $10,000\n",
    "PTRATIO - pupil-teacher ratio by town\n",
    "B - 1000(Bk - 0.63)^2 where Bk is the proportion of blacks by town\n",
    "LSTAT - % lower status of the population\n",
    "MEDV - Median value of owner-occupied homes in $1000's"
   ]
  },
  {
   "cell_type": "code",
   "execution_count": 117,
   "metadata": {},
   "outputs": [
    {
     "output_type": "execute_result",
     "data": {
      "text/plain": [
       "        CRIM        ZN     INDUS      CHAS       NOX        RM       AGE  \\\n",
       "33  0.042574 -0.510601  0.982782 -0.288214  1.808388 -1.341369  0.976698   \n",
       "\n",
       "         DIS       RAD       TAX   PTRATIO         B     LSTAT  \n",
       "33 -0.774669  1.677124  1.546715  0.864421  0.252724 -0.321823  "
      ],
      "text/html": "<div>\n<style scoped>\n    .dataframe tbody tr th:only-of-type {\n        vertical-align: middle;\n    }\n\n    .dataframe tbody tr th {\n        vertical-align: top;\n    }\n\n    .dataframe thead th {\n        text-align: right;\n    }\n</style>\n<table border=\"1\" class=\"dataframe\">\n  <thead>\n    <tr style=\"text-align: right;\">\n      <th></th>\n      <th>CRIM</th>\n      <th>ZN</th>\n      <th>INDUS</th>\n      <th>CHAS</th>\n      <th>NOX</th>\n      <th>RM</th>\n      <th>AGE</th>\n      <th>DIS</th>\n      <th>RAD</th>\n      <th>TAX</th>\n      <th>PTRATIO</th>\n      <th>B</th>\n      <th>LSTAT</th>\n    </tr>\n  </thead>\n  <tbody>\n    <tr>\n      <th>33</th>\n      <td>0.042574</td>\n      <td>-0.510601</td>\n      <td>0.982782</td>\n      <td>-0.288214</td>\n      <td>1.808388</td>\n      <td>-1.341369</td>\n      <td>0.976698</td>\n      <td>-0.774669</td>\n      <td>1.677124</td>\n      <td>1.546715</td>\n      <td>0.864421</td>\n      <td>0.252724</td>\n      <td>-0.321823</td>\n    </tr>\n  </tbody>\n</table>\n</div>"
     },
     "metadata": {},
     "execution_count": 117
    }
   ],
   "source": [
    "x"
   ]
  },
  {
   "cell_type": "code",
   "execution_count": 118,
   "metadata": {},
   "outputs": [
    {
     "output_type": "execute_result",
     "data": {
      "text/plain": [
       "         CRIM        ZN     INDUS      CHAS       NOX       RAD       TAX  \\\n",
       "297  0.321663 -0.510601  0.982782 -0.288214  1.323320  1.677124  1.546715   \n",
       "61   0.201463 -0.510601  0.982782 -0.288214  0.625501  1.677124  1.546715   \n",
       "\n",
       "      PTRATIO         B     LSTAT  \n",
       "297  0.864421  0.400006 -0.307877  \n",
       "61   0.864421  0.193156 -1.288292  "
      ],
      "text/html": "<div>\n<style scoped>\n    .dataframe tbody tr th:only-of-type {\n        vertical-align: middle;\n    }\n\n    .dataframe tbody tr th {\n        vertical-align: top;\n    }\n\n    .dataframe thead th {\n        text-align: right;\n    }\n</style>\n<table border=\"1\" class=\"dataframe\">\n  <thead>\n    <tr style=\"text-align: right;\">\n      <th></th>\n      <th>CRIM</th>\n      <th>ZN</th>\n      <th>INDUS</th>\n      <th>CHAS</th>\n      <th>NOX</th>\n      <th>RAD</th>\n      <th>TAX</th>\n      <th>PTRATIO</th>\n      <th>B</th>\n      <th>LSTAT</th>\n    </tr>\n  </thead>\n  <tbody>\n    <tr>\n      <th>297</th>\n      <td>0.321663</td>\n      <td>-0.510601</td>\n      <td>0.982782</td>\n      <td>-0.288214</td>\n      <td>1.323320</td>\n      <td>1.677124</td>\n      <td>1.546715</td>\n      <td>0.864421</td>\n      <td>0.400006</td>\n      <td>-0.307877</td>\n    </tr>\n    <tr>\n      <th>61</th>\n      <td>0.201463</td>\n      <td>-0.510601</td>\n      <td>0.982782</td>\n      <td>-0.288214</td>\n      <td>0.625501</td>\n      <td>1.677124</td>\n      <td>1.546715</td>\n      <td>0.864421</td>\n      <td>0.193156</td>\n      <td>-1.288292</td>\n    </tr>\n  </tbody>\n</table>\n</div>"
     },
     "metadata": {},
     "execution_count": 118
    }
   ],
   "source": [
    "borders[interval].loc[:,cols]"
   ]
  },
  {
   "cell_type": "code",
   "execution_count": 115,
   "metadata": {},
   "outputs": [
    {
     "output_type": "stream",
     "name": "stdout",
     "text": [
      "0 - 11\n1 - 11\n2 - 12\n3 - 12\n4 - 12\n5 - 12\n6 - 8\n7 - 8\n8 - 10\n9 - 10\n"
     ]
    }
   ],
   "source": [
    "for interval in range(len(borders)):\n",
    "    cols = []\n",
    "    length_interval = []\n",
    "    for c in X_test.columns:\n",
    "        if (borders[interval].iloc[0].loc[c] <= x.iloc[0].loc[c] <= borders[interval].iloc[1].loc[c]) or (borders[interval].iloc[0].loc[c] >= x.iloc[0].loc[c] >= borders[interval].iloc[1].loc[c]):\n",
    "            cols.append(c)\n",
    "            tmp = np.abs(borders[interval].iloc[0].loc[c]-borders[interval].iloc[1].loc[c])\n",
    "            length_interval.append(tmp)\n",
    "\n",
    "    print(f'{interval} - {len(cols)}')"
   ]
  },
  {
   "cell_type": "code",
   "execution_count": 110,
   "metadata": {},
   "outputs": [
    {
     "output_type": "execute_result",
     "data": {
      "text/plain": [
       "['CRIM',\n",
       " 'ZN',\n",
       " 'INDUS',\n",
       " 'CHAS',\n",
       " 'NOX',\n",
       " 'RM',\n",
       " 'RAD',\n",
       " 'TAX',\n",
       " 'PTRATIO',\n",
       " 'B',\n",
       " 'LSTAT']"
      ]
     },
     "metadata": {},
     "execution_count": 110
    }
   ],
   "source": [
    "cols"
   ]
  }
 ]
}