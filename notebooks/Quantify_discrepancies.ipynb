{
 "cells": [
  {
   "cell_type": "code",
   "execution_count": 1,
   "id": "expensive-chain",
   "metadata": {},
   "outputs": [],
   "source": [
    "import numpy as np\n",
    "import pandas as pd\n",
    "import seaborn as sns\n",
    "import networkx as nx\n",
    "\n",
    "import sys; sys.path.insert(0, '..') # add parent folder path where discrepancies folder is\n",
    "\n",
    "from discrepancies import datasets, pool, pool2graph, evaluation, discrepancies_intervals, pool2graph_cat_FJ2_2\n",
    "\n",
    "RANDOM_STATE = 42\n",
    "\n",
    "import matplotlib.pyplot as plt\n",
    "%matplotlib inline"
   ]
  },
  {
   "cell_type": "code",
   "execution_count": 2,
   "id": "innocent-robertson",
   "metadata": {
    "scrolled": false
   },
   "outputs": [
    {
     "name": "stdout",
     "output_type": "stream",
     "text": [
      "===== DATASET churn\n",
      "(2500, 20) (2500, 20)\n",
      "=== ACCURACIES {'RF3': 0.8647798742138365, 'RF4': 0.865814696485623, 'RF5': 0.8344370860927152}\n",
      "=== CONFLICTING PREDICTIONS 0.0184\n",
      "===== DATASET churn\n",
      "(2500, 20) (2500, 20)\n",
      "=== ACCURACIES {'RF3': 0.882800608828006, 'RF4': 0.8878787878787879, 'RF5': 0.8362480127186009}\n",
      "=== CONFLICTING PREDICTIONS 0.0164\n",
      "===== DATASET churn\n",
      "(2500, 20) (2500, 20)\n",
      "=== ACCURACIES {'RF3': 0.8678071539657853, 'RF4': 0.8806201550387596, 'RF5': 0.8276972624798712}\n",
      "=== CONFLICTING PREDICTIONS 0.0188\n",
      "===== DATASET churn\n",
      "(2500, 20) (2500, 20)\n",
      "=== ACCURACIES {'RF3': 0.8345534407027819, 'RF4': 0.8456973293768546, 'RF5': 0.8073394495412843}\n",
      "=== CONFLICTING PREDICTIONS 0.0152\n",
      "===== DATASET churn\n",
      "(2500, 20) (2500, 20)\n",
      "=== ACCURACIES {'RF3': 0.875605815831987, 'RF4': 0.8760064412238326, 'RF5': 0.8109965635738833}\n",
      "=== CONFLICTING PREDICTIONS 0.02\n"
     ]
    }
   ],
   "source": [
    "from sklearn.metrics import f1_score\n",
    "\n",
    "\n",
    "def quantify_one_dataset(dataset_name):\n",
    "    \n",
    "    print('===== DATASET %s'%dataset_name)\n",
    "    \n",
    "    X_train, X_test, y_train, y_test, scaler, feature_names, target_names, cat_names = datasets.get_dataset(dataset=dataset_name, test_size=0.5)    \n",
    "    print(X_train.shape, X_test.shape)\n",
    "    \n",
    "    pool1 = pool.BasicPool2()\n",
    "    pool1 = pool1.fit(X_train, y_train)\n",
    "\n",
    "    preds = pool1.predict(X_test)\n",
    "\n",
    "    print('=== ACCURACIES', {c: f1_score(y_test, preds[c]) for c in preds.columns})\n",
    "    print('=== CONFLICTING PREDICTIONS', pool1.predict_discrepancies(X_test).mean())\n",
    "\n",
    "_DATASETS = ['churn']#['half-moons', 'boston', 'breast-cancer', 'adult-num', 'churn']    \n",
    "for dataset in _DATASETS:\n",
    "    for i in range(5):\n",
    "        quantify_one_dataset(dataset)"
   ]
  },
  {
   "cell_type": "code",
   "execution_count": null,
   "id": "arranged-leisure",
   "metadata": {},
   "outputs": [],
   "source": []
  }
 ],
 "metadata": {
  "kernelspec": {
   "display_name": "Python 3",
   "language": "python",
   "name": "python3"
  },
  "language_info": {
   "codemirror_mode": {
    "name": "ipython",
    "version": 3
   },
   "file_extension": ".py",
   "mimetype": "text/x-python",
   "name": "python",
   "nbconvert_exporter": "python",
   "pygments_lexer": "ipython3",
   "version": "3.8.5"
  }
 },
 "nbformat": 4,
 "nbformat_minor": 5
}
