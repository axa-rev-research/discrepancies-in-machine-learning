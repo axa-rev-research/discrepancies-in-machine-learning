{
 "metadata": {
  "language_info": {
   "codemirror_mode": {
    "name": "ipython",
    "version": 3
   },
   "file_extension": ".py",
   "mimetype": "text/x-python",
   "name": "python",
   "nbconvert_exporter": "python",
   "pygments_lexer": "ipython3",
   "version": "3.8.5-final"
  },
  "orig_nbformat": 2,
  "kernelspec": {
   "name": "Python 3.8.5 64-bit ('autogluon': conda)",
   "display_name": "Python 3.8.5 64-bit ('autogluon': conda)",
   "metadata": {
    "interpreter": {
     "hash": "c759db1f06f62b87ae44b045cf6c28cc78e6eeb2c2a9fd1c95087228b3747101"
    }
   }
  }
 },
 "nbformat": 4,
 "nbformat_minor": 2,
 "cells": [
  {
   "cell_type": "code",
   "execution_count": 1,
   "metadata": {},
   "outputs": [],
   "source": [
    "import pandas as pd\n",
    "import numpy as np"
   ]
  },
  {
   "cell_type": "code",
   "execution_count": 2,
   "metadata": {},
   "outputs": [],
   "source": [
    "tmp1 = np.ones((10,5))\n",
    "tmp2 = np.ones((10,1))\n",
    "\n",
    "tmp1 = pd.DataFrame(tmp1, columns=range(5))\n",
    "tmp2 = pd.DataFrame(tmp2)"
   ]
  },
  {
   "cell_type": "code",
   "execution_count": 14,
   "metadata": {},
   "outputs": [],
   "source": [
    "df = pd.concat((tmp1,tmp2), axis=1)"
   ]
  },
  {
   "cell_type": "code",
   "execution_count": 3,
   "metadata": {},
   "outputs": [],
   "source": [
    "a = range(5)"
   ]
  },
  {
   "cell_type": "code",
   "execution_count": 5,
   "metadata": {},
   "outputs": [
    {
     "output_type": "execute_result",
     "data": {
      "text/plain": [
       "[0, 1, 2, 'class']"
      ]
     },
     "metadata": {},
     "execution_count": 5
    }
   ],
   "source": [
    "[0,1,2]+['class']  "
   ]
  },
  {
   "cell_type": "code",
   "execution_count": null,
   "metadata": {},
   "outputs": [],
   "source": []
  }
 ]
}